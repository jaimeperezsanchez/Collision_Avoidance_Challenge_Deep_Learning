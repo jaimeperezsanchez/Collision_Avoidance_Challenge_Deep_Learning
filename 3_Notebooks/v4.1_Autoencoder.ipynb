{
 "cells": [
  {
   "cell_type": "code",
   "execution_count": null,
   "metadata": {},
   "outputs": [],
   "source": [
    "import pandas as pd\n",
    "pd.set_option('display.max_columns', None)\n",
    "pd.set_option('display.max_rows', 100)\n",
    "import numpy as np\n",
    "import missingno\n",
    "\n",
    "from IPython.display import display\n",
    "\n",
    "import matplotlib.pyplot as plt\n",
    "%matplotlib inline\n",
    "import seaborn as sns\n",
    "import plotly.express as px\n",
    "\n",
    "from sklearn.preprocessing import StandardScaler, MinMaxScaler\n",
    "from sklearn.decomposition import PCA\n",
    "from sklearn.manifold import TSNE\n",
    "from category_encoders import BinaryEncoder\n",
    "\n",
    "import tensorflow\n",
    "from tensorflow.keras import optimizers, Sequential\n",
    "from tensorflow.keras.models import Model\n",
    "from tensorflow.keras.utils import plot_model\n",
    "from tensorflow.keras.layers import Dense, LSTM, RepeatVector, TimeDistributed\n",
    "from tensorflow.keras.callbacks import ModelCheckpoint, TensorBoard"
   ]
  },
  {
   "cell_type": "code",
   "execution_count": 2,
   "metadata": {},
   "outputs": [],
   "source": [
    "df = pd.read_csv(\"train_data.csv\")\n",
    "fill_X = -0.2\n",
    "threshold_train = -29\n",
    "timestep_X = 10 #from 1 to 17 -> lower values give more data\n",
    "timestep_y = 1 #timestep to predict\n",
    "X_scaler = MinMaxScaler() #NO CAMBIAR\n",
    "y_scaler = MinMaxScaler() #NO CAMBIAR"
   ]
  },
  {
   "cell_type": "code",
   "execution_count": 3,
   "metadata": {},
   "outputs": [
    {
     "name": "stdout",
     "output_type": "stream",
     "text": [
      "(26239, 10, 1) (24920, 10, 1)\n"
     ]
    }
   ],
   "source": [
    "#Dropping first the empty column and then rows with NaNs\n",
    "df = df.drop(\"c_rcs_estimate\", axis=1)\n",
    "df = df.dropna(how='any')\n",
    "\n",
    "#Filtering events with len=1 or min_tca > 2 or max_tca < 2\n",
    "def conditions(event):\n",
    "    x = event[\"time_to_tca\"].values\n",
    "    return ((x.min()<2.0) & (x.max()>2.0) & (x.shape[0]>1))\n",
    "df = df.groupby('event_id').filter(conditions)\n",
    "\n",
    "#OHE for c_object_type (5 categories) -> 5 new features\n",
    "#df = pd.get_dummies(df)\n",
    "df = df.drop(\"c_object_type\", axis=1)\n",
    "\n",
    "#Binary encoder for mission_id (19 categories) -> 5 new features\n",
    "#encoder = BinaryEncoder(cols=['mission_id'], drop_invariant=True)\n",
    "#df = encoder.fit_transform(df)\n",
    "df = df.drop(\"mission_id\", axis=1)\n",
    "\n",
    "#Adding feature 'event_length' for counting how many instances each event has\n",
    "df[\"event_length\"] = df.groupby('event_id')['event_id'].transform('value_counts')\n",
    "\n",
    "#Class feature\n",
    "df[\"class\"] = df[\"risk\"] >= threshold_train\n",
    "\n",
    "#Fitting the scaler X\n",
    "X_scaler = X_scaler.fit(df)\n",
    "\n",
    "#Scaling the dataset\n",
    "df = pd.DataFrame(X_scaler.fit_transform(df), columns=df.columns)\n",
    "\n",
    "df = df[[\"event_id\",\"risk\",\"class\"]]\n",
    "def df_to_time_series(df):\n",
    "\n",
    "    #Transforming dataframe into a 3D-array with overlapping windows\n",
    "    data_train = []\n",
    "    data_test = []\n",
    "    timestep = timestep_X + timestep_y\n",
    "    target_feture = list(df.columns).index(\"risk\")\n",
    "    def df_to_3darray(event, data_train, data_test):\n",
    "        event = event.values\n",
    "        if(timestep>=event.shape[0]):\n",
    "            pad_shape = timestep + 1\n",
    "            pad_event = np.zeros((pad_shape,event.shape[1]))\n",
    "            pad_event.fill(fill_X)\n",
    "            pad_event[-event.shape[0]:,:] = event\n",
    "            event = pad_event\n",
    "        for i in range(event.shape[0]-timestep):\n",
    "            if(event[timestep,-1]==False):\n",
    "                data_train.append(event[i:i+timestep_X,:])\n",
    "            elif(event[timestep,-1]==True):\n",
    "                data_test.append(event[i:i+timestep_X,:])\n",
    "            else:\n",
    "                print(\"Unexpected Value\")        \n",
    "        return event\n",
    "\n",
    "    df.groupby(\"event_id\").apply(df_to_3darray,\n",
    "                                 data_train=data_train,\n",
    "                                 data_test=data_test)\n",
    "    data_train = np.array(data_train)\n",
    "    data_test = np.array(data_test)\n",
    "\n",
    "    #Dropping event_id and class to remove noise\n",
    "    data_train = data_train[:,:,1:-1]\n",
    "    data_test = data_test[:,:,1:-1]\n",
    "    \n",
    "    return data_train, data_test\n",
    "\n",
    "X_train, X_test = df_to_time_series(df)\n",
    "\n",
    "print(X_train.shape, X_test.shape)"
   ]
  },
  {
   "cell_type": "code",
   "execution_count": 4,
   "metadata": {},
   "outputs": [
    {
     "name": "stdout",
     "output_type": "stream",
     "text": [
      "Model: \"sequential\"\n",
      "_________________________________________________________________\n",
      "Layer (type)                 Output Shape              Param #   \n",
      "=================================================================\n",
      "lstm (LSTM)                  (None, 10, 32)            4352      \n",
      "_________________________________________________________________\n",
      "lstm_1 (LSTM)                (None, 16)                3136      \n",
      "_________________________________________________________________\n",
      "repeat_vector (RepeatVector) (None, 10, 16)            0         \n",
      "_________________________________________________________________\n",
      "lstm_2 (LSTM)                (None, 10, 16)            2112      \n",
      "_________________________________________________________________\n",
      "lstm_3 (LSTM)                (None, 10, 32)            6272      \n",
      "_________________________________________________________________\n",
      "time_distributed (TimeDistri (None, 10, 1)             33        \n",
      "=================================================================\n",
      "Total params: 15,905\n",
      "Trainable params: 15,905\n",
      "Non-trainable params: 0\n",
      "_________________________________________________________________\n"
     ]
    }
   ],
   "source": [
    "lstm_autoencoder = Sequential()\n",
    "# Encoder\n",
    "lstm_autoencoder.add(LSTM(32, activation='selu', stateful=False, input_shape=(timestep_X, X_train.shape[2]), return_sequences=True))\n",
    "lstm_autoencoder.add(LSTM(16, activation='selu', stateful=False, return_sequences=False))\n",
    "lstm_autoencoder.add(RepeatVector(timestep_X))\n",
    "# Decoder\n",
    "lstm_autoencoder.add(LSTM(16, activation='selu', stateful=False, return_sequences=True))\n",
    "lstm_autoencoder.add(LSTM(32, activation='selu', stateful=False, return_sequences=True))\n",
    "lstm_autoencoder.add(TimeDistributed(Dense(X_train.shape[2])))\n",
    "\n",
    "lstm_autoencoder.summary()"
   ]
  },
  {
   "cell_type": "code",
   "execution_count": 5,
   "metadata": {
    "scrolled": true
   },
   "outputs": [
    {
     "name": "stdout",
     "output_type": "stream",
     "text": [
      "Train on 18367 samples, validate on 7872 samples\n",
      "Epoch 1/30\n",
      "18367/18367 [==============================] - 14s 755us/sample - loss: 0.0413 - val_loss: 0.0224\n",
      "Epoch 2/30\n",
      "18367/18367 [==============================] - 9s 505us/sample - loss: 0.0180 - val_loss: 0.0155\n",
      "Epoch 3/30\n",
      "18367/18367 [==============================] - 9s 503us/sample - loss: 0.0136 - val_loss: 0.0128\n",
      "Epoch 4/30\n",
      "18367/18367 [==============================] - 9s 499us/sample - loss: 0.0118 - val_loss: 0.0115\n",
      "Epoch 5/30\n",
      "18367/18367 [==============================] - 9s 499us/sample - loss: 0.0108 - val_loss: 0.0108\n",
      "Epoch 6/30\n",
      "18367/18367 [==============================] - 9s 510us/sample - loss: 0.0103 - val_loss: 0.0106\n",
      "Epoch 7/30\n",
      "18367/18367 [==============================] - 10s 523us/sample - loss: 0.0099 - val_loss: 0.0102\n",
      "Epoch 8/30\n",
      "18367/18367 [==============================] - 10s 520us/sample - loss: 0.0096 - val_loss: 0.0098\n",
      "Epoch 9/30\n",
      "18367/18367 [==============================] - 9s 510us/sample - loss: 0.0092 - val_loss: 0.0094\n",
      "Epoch 10/30\n",
      "18367/18367 [==============================] - 9s 498us/sample - loss: 0.0089 - val_loss: 0.0091\n",
      "Epoch 11/30\n",
      "18367/18367 [==============================] - 9s 492us/sample - loss: 0.0085 - val_loss: 0.0087\n",
      "Epoch 12/30\n",
      "18367/18367 [==============================] - 10s 520us/sample - loss: 0.0082 - val_loss: 0.0084\n",
      "Epoch 13/30\n",
      "18367/18367 [==============================] - 9s 507us/sample - loss: 0.0078 - val_loss: 0.0079\n",
      "Epoch 14/30\n",
      "18367/18367 [==============================] - 9s 511us/sample - loss: 0.0075 - val_loss: 0.0076\n",
      "Epoch 15/30\n",
      "18367/18367 [==============================] - 9s 502us/sample - loss: 0.0072 - val_loss: 0.0073\n",
      "Epoch 16/30\n",
      "18367/18367 [==============================] - 9s 500us/sample - loss: 0.0069 - val_loss: 0.0070\n",
      "Epoch 17/30\n",
      "18367/18367 [==============================] - 9s 515us/sample - loss: 0.0067 - val_loss: 0.0069\n",
      "Epoch 18/30\n",
      "18367/18367 [==============================] - 9s 512us/sample - loss: 0.0065 - val_loss: 0.0067\n",
      "Epoch 19/30\n",
      "18367/18367 [==============================] - 10s 527us/sample - loss: 0.0064 - val_loss: 0.0066\n",
      "Epoch 20/30\n",
      "18367/18367 [==============================] - 10s 522us/sample - loss: 0.0062 - val_loss: 0.0066\n",
      "Epoch 21/30\n",
      "18367/18367 [==============================] - 10s 521us/sample - loss: 0.0061 - val_loss: 0.0062\n",
      "Epoch 22/30\n",
      "18367/18367 [==============================] - 10s 531us/sample - loss: 0.0059 - val_loss: 0.0062\n",
      "Epoch 23/30\n",
      "18367/18367 [==============================] - 10s 533us/sample - loss: 0.0058 - val_loss: 0.0061\n",
      "Epoch 24/30\n",
      "18367/18367 [==============================] - 10s 529us/sample - loss: 0.0057 - val_loss: 0.0060\n",
      "Epoch 25/30\n",
      "18367/18367 [==============================] - 9s 516us/sample - loss: 0.0056 - val_loss: 0.0059\n",
      "Epoch 26/30\n",
      "18367/18367 [==============================] - 10s 520us/sample - loss: 0.0055 - val_loss: 0.0057\n",
      "Epoch 27/30\n",
      "18367/18367 [==============================] - 10s 521us/sample - loss: 0.0054 - val_loss: 0.0056\n",
      "Epoch 28/30\n",
      "18367/18367 [==============================] - 9s 504us/sample - loss: 0.0053 - val_loss: 0.0055\n",
      "Epoch 29/30\n",
      "18367/18367 [==============================] - 9s 509us/sample - loss: 0.0053 - val_loss: 0.0055\n",
      "Epoch 30/30\n",
      "18367/18367 [==============================] - 10s 519us/sample - loss: 0.0052 - val_loss: 0.0054\n"
     ]
    }
   ],
   "source": [
    "epochs = 30\n",
    "batch = 64\n",
    "lr = 0.0001\n",
    "\n",
    "adam = optimizers.Adam(lr)\n",
    "lstm_autoencoder.compile(loss='mse', optimizer=adam)\n",
    "\n",
    "cp = ModelCheckpoint(filepath=\"lstm_autoencoder_classifier.h5\",\n",
    "                               save_best_only=True,\n",
    "                               verbose=1)\n",
    "\n",
    "lstm_autoencoder_history = lstm_autoencoder.fit(X_train, X_train, \n",
    "                                                epochs=epochs, \n",
    "                                                batch_size=batch, \n",
    "                                                #shuffle=True, #OJO\n",
    "                                                validation_split=0.3,\n",
    "                                                verbose=1).history"
   ]
  },
  {
   "cell_type": "code",
   "execution_count": 6,
   "metadata": {},
   "outputs": [
    {
     "data": {
      "image/png": "[encoded data removed]",
      "text/plain": [
       "<Figure size 432x288 with 1 Axes>"
      ]
     },
     "metadata": {
      "needs_background": "light"
     },
     "output_type": "display_data"
    }
   ],
   "source": [
    "plt.plot(lstm_autoencoder_history['loss'], linewidth=2, label='Train')\n",
    "plt.plot(lstm_autoencoder_history['val_loss'], linewidth=2, label='Valid')\n",
    "plt.legend(loc='upper right')\n",
    "plt.title('Model loss')\n",
    "plt.ylabel('Loss')\n",
    "plt.xlabel('Epoch')\n",
    "plt.show()"
   ]
  },
  {
   "cell_type": "code",
   "execution_count": 7,
   "metadata": {},
   "outputs": [],
   "source": [
    "def predict_and_plot(X):\n",
    "    X_pred = lstm_autoencoder.predict(X, batch_size=batch)\n",
    "\n",
    "    X = X.reshape(X.shape[0]*X.shape[1],X.shape[2])\n",
    "    X_pred = X_pred.reshape(X_pred.shape[0]*X_pred.shape[1],X_pred.shape[2])\n",
    "\n",
    "    #X = X.astype(np.float64)\n",
    "    #X_pred = X_pred.astype(np.float64)\n",
    "    \n",
    "    #X = X_scaler.inverse_transform(X)\n",
    "    #X_pred = X_scaler.inverse_transform(X_pred)\n",
    "    \n",
    "    mse = np.mean(np.power(X-X_pred, 2), axis=1)\n",
    "    print(mse.shape)\n",
    "    df = pd.DataFrame(mse,columns=[\"mse\"])\n",
    "    fig = px.histogram(df,\n",
    "                       x=\"mse\",\n",
    "                       marginal=\"box\",\n",
    "                       nbins=10)\n",
    "    fig.show()\n",
    "    "
   ]
  },
  {
   "cell_type": "code",
   "execution_count": null,
   "metadata": {},
   "outputs": [],
   "source": [
    "predict_and_plot(X_train)"
   ]
  },
  {
   "cell_type": "code",
   "execution_count": null,
   "metadata": {},
   "outputs": [],
   "source": [
    "predict_and_plot(X_test)"
   ]
  }
 ],
 "metadata": {
  "kernelspec": {
   "display_name": "Python 3",
   "language": "python",
   "name": "python3"
  },
  "language_info": {
   "codemirror_mode": {
    "name": "ipython",
    "version": 3
   },
   "file_extension": ".py",
   "mimetype": "text/x-python",
   "name": "python",
   "nbconvert_exporter": "python",
   "pygments_lexer": "ipython3",
   "version": "3.7.4"
  }
 },
 "nbformat": 4,
 "nbformat_minor": 2
}
