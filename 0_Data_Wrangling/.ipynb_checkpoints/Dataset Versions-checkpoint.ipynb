{
 "cells": [
  {
   "cell_type": "code",
   "execution_count": null,
   "metadata": {
    "colab": {
     "base_uri": "https://localhost:8080/",
     "height": 355
    },
    "colab_type": "code",
    "id": "InwCKijYIeg8",
    "outputId": "b7a1bd6a-4520-4f0f-ae0a-33a1cc3c7e49"
   },
   "outputs": [],
   "source": [
    "import pandas as pd\n",
    "pd.set_option('display.max_columns', None)\n",
    "pd.set_option('display.max_rows', 100)\n",
    "import numpy as np\n",
    "import missingno\n",
    "\n",
    "from IPython.display import display\n",
    "\n",
    "import matplotlib.pyplot as plt\n",
    "%matplotlib inline\n",
    "import seaborn as sns\n",
    "import plotly.express as px\n",
    "\n",
    "from sklearn.preprocessing import StandardScaler, MinMaxScaler\n",
    "from sklearn.decomposition import PCA\n",
    "from sklearn.manifold import TSNE\n",
    "from category_encoders import BinaryEncoder"
   ]
  },
  {
   "cell_type": "markdown",
   "metadata": {
    "colab_type": "text",
    "id": "DmQFj3coIehC"
   },
   "source": [
    "# 1. Wrangling for models"
   ]
  },
  {
   "cell_type": "markdown",
   "metadata": {
    "colab_type": "text",
    "id": "WV_ujaY7IehD"
   },
   "source": [
    "## 1.1 Model v1\n",
    "X -> time series from tca_max (tca=7) to tca=2 for each event. \n",
    "(3d array: events, timestep, features)\n",
    "\n",
    "y -> minimum value from tca=2 to tca_min (tca~0) for each event.\n",
    "(1d array)"
   ]
  },
  {
   "cell_type": "markdown",
   "metadata": {
    "colab_type": "text",
    "id": "5gfWvkiuIehE"
   },
   "source": [
    "### Input"
   ]
  },
  {
   "cell_type": "code",
   "execution_count": null,
   "metadata": {
    "colab": {},
    "colab_type": "code",
    "id": "kLueTg-qIehF"
   },
   "outputs": [],
   "source": [
    "df = pd.read_csv(\"train_data.csv\")\n",
    "timestep = 17 #from 1 to 23 (17 with the current NaN strategy)\n",
    "fill_X = -1\n",
    "X_scaler = MinMaxScaler()\n",
    "y_scaler = MinMaxScaler()"
   ]
  },
  {
   "cell_type": "markdown",
   "metadata": {
    "colab_type": "text",
    "id": "2bopHgc3IehI"
   },
   "source": [
    "### Data Processing"
   ]
  },
  {
   "cell_type": "code",
   "execution_count": null,
   "metadata": {
    "colab": {},
    "colab_type": "code",
    "id": "6ReozduuIehJ",
    "outputId": "6c18e800-521a-44e1-ff7d-e001ae45ba0e"
   },
   "outputs": [],
   "source": [
    "#Dropping first the empty column and then rows with NaNs\n",
    "df = df.drop(\"c_rcs_estimate\", axis=1)\n",
    "df = df.dropna(how='any')\n",
    "\n",
    "#Filtering events with len=1 or min_tca > 2 or max_tca < 2\n",
    "def conditions(event):\n",
    "    x = event[\"time_to_tca\"].values\n",
    "    return ((x.min()<2.0) & (x.max()>2.0) & (x.shape[0]>1))\n",
    "df = df.groupby('event_id').filter(conditions)\n",
    "\n",
    "#OHE for c_object_type (5 categories) -> 5 new features\n",
    "df = pd.get_dummies(df)\n",
    "\n",
    "#Binary encoder for mission_id (19 categories) -> 5 new features\n",
    "encoder = BinaryEncoder(cols=['mission_id'], drop_invariant=True)\n",
    "df = encoder.fit_transform(df)\n",
    "\n",
    "#Getting y as 1D-array\n",
    "y = df.groupby([\"event_id\"])[\"risk\"].apply(lambda x: x.iloc[-1]).values.reshape(-1, 1)\n",
    "\n",
    "#Scaling y\n",
    "_ = y_scaler.fit(df[\"risk\"].values.reshape(-1, 1)) #using the whole risk feature to scale the target 'y'\n",
    "y = y_scaler.transform(y)\n",
    "\n",
    "#Getting X as df (dropping rows with tca < 2) \n",
    "df = df.loc[df[\"time_to_tca\"]>2]\n",
    "\n",
    "#Adding feature 'event_length' for counting how many instances each event has\n",
    "df[\"event_length\"] = df.groupby('event_id')['event_id'].transform('value_counts')\n",
    "\n",
    "#Scaling X\n",
    "df = pd.DataFrame(X_scaler.fit_transform(df), columns=df.columns)\n",
    "\n",
    "#Transforming X into a 3D-array\n",
    "events = df[\"event_id\"].nunique() #rows\n",
    "features = len(df.columns) #columns\n",
    "\n",
    "X = np.zeros((events,timestep,features))\n",
    "X.fill(fill_X)\n",
    "\n",
    "i = 0\n",
    "def df_to_3darray(event):\n",
    "    global X, i\n",
    "    #Transforming an event to time series (1,timesteps, columns)\n",
    "    row = event.values.reshape(1,event.shape[0],event.shape[1])\n",
    "    #Condition is needed to slice arrays correctly\n",
    "    #Condition -> is timestep greater than the event's time series length? \n",
    "    if(timestep>=row.shape[1]):\n",
    "        X[i:i+1,-row.shape[1]:,:] = row\n",
    "    else:\n",
    "        X[i:i+1,:,:] = row[:,-timestep:,:]\n",
    "    #index to iterate over X array\n",
    "    i = i + 1\n",
    "    #dataframe remains intact, while X array has been filled.\n",
    "    return event\n",
    "\n",
    "df.groupby(\"event_id\").apply(df_to_3darray)\n",
    "\n",
    "#Dropping event_id to remove noise\n",
    "X = X[:,:,1:]\n",
    "\n",
    "#TODO: Padding with specific values column-wise instead of zeros.\n",
    "#TODO: Separating time dependent and independent feature in 2 X arrays\n",
    "\n",
    "print(X.shape, y.shape)"
   ]
  },
  {
   "cell_type": "markdown",
   "metadata": {
    "colab_type": "text",
    "id": "B-Bz1ziIIehM"
   },
   "source": [
    "### Output"
   ]
  },
  {
   "cell_type": "code",
   "execution_count": null,
   "metadata": {
    "colab": {},
    "colab_type": "code",
    "id": "HmRubG33IehN"
   },
   "outputs": [],
   "source": [
    "X, y, X_scaler, y_scaler, df"
   ]
  },
  {
   "cell_type": "markdown",
   "metadata": {
    "colab_type": "text",
    "id": "WV_ujaY7IehD"
   },
   "source": [
    "## 1.1 Model v2\n",
    "X -> Overlapped windows of size timestep_X\n",
    "\n",
    "y -> Overlapped windows of size timestep_y corresponding to the values after window timestep_X"
   ]
  },
  {
   "cell_type": "markdown",
   "metadata": {
    "colab_type": "text",
    "id": "5gfWvkiuIehE"
   },
   "source": [
    "### Input"
   ]
  },
  {
   "cell_type": "code",
   "execution_count": null,
   "metadata": {
    "colab": {},
    "colab_type": "code",
    "id": "kLueTg-qIehF"
   },
   "outputs": [],
   "source": [
    "df = pd.read_csv(\"train_data.csv\")\n",
    "timestep_X = 3 #from 1 to 17 -> lower values give more data\n",
    "timestep_y = 1 #timestep to predict\n",
    "fill_X = -1\n",
    "X_scaler = MinMaxScaler()\n",
    "y_scaler = MinMaxScaler()"
   ]
  },
  {
   "cell_type": "markdown",
   "metadata": {
    "colab_type": "text",
    "id": "2bopHgc3IehI"
   },
   "source": [
    "### Data Processing"
   ]
  },
  {
   "cell_type": "code",
   "execution_count": null,
   "metadata": {
    "colab": {},
    "colab_type": "code",
    "id": "6ReozduuIehJ",
    "outputId": "6c18e800-521a-44e1-ff7d-e001ae45ba0e"
   },
   "outputs": [],
   "source": [
    "#Dropping first the empty column and then rows with NaNs\n",
    "df = df.drop(\"c_rcs_estimate\", axis=1)\n",
    "df = df.dropna(how='any')\n",
    "\n",
    "#Filtering events with len=1 or min_tca > 2 or max_tca < 2\n",
    "def conditions(event):\n",
    "    x = event[\"time_to_tca\"].values\n",
    "    return ((x.min()<2.0) & (x.max()>2.0))\n",
    "\n",
    "df = df.groupby('event_id').filter(conditions)\n",
    "\n",
    "#OHE for c_object_type (5 categories) -> 5 new features\n",
    "df = pd.get_dummies(df)\n",
    "\n",
    "#Binary encoder for mission_id (19 categories) -> 5 new features\n",
    "encoder = BinaryEncoder(cols=['mission_id'], drop_invariant=True)\n",
    "df = encoder.fit_transform(df)\n",
    "\n",
    "#Adding feature 'event_length' for counting how many instances each event has\n",
    "df[\"event_length\"] = df.groupby('event_id')['event_id'].transform('value_counts')\n",
    "\n",
    "#Scaling data\n",
    "_ = y_scaler.fit(df[\"risk\"].values.reshape(-1, 1)) #for later use for scaling prediction\n",
    "df = pd.DataFrame(X_scaler.fit_transform(df), columns=df.columns)\n",
    "\n",
    "#Transforming dataframe into a 3D-array with overlapping windows\n",
    "data = []\n",
    "timestep = timestep_X + timestep_y\n",
    "def df_to_3darray(event):\n",
    "    global data\n",
    "    event = event.values\n",
    "    if(timestep>=event.shape[0]):\n",
    "        pad_shape = timestep + 1\n",
    "        pad_event = np.zeros((pad_shape,event.shape[1]))\n",
    "        pad_event.fill(fill_X)\n",
    "        pad_event[-event.shape[0]:,:] = event\n",
    "        event = pad_event\n",
    "    for i in range(event.shape[0]-timestep):\n",
    "        data.append(event[i:i+timestep,:])\n",
    "    return event\n",
    "\n",
    "df.groupby(\"event_id\").apply(df_to_3darray)\n",
    "data = np.array(data)\n",
    "\n",
    "#Dividing X and y\n",
    "target_feture = list(df.columns).index(\"risk\")\n",
    "X, y = data[:,:timestep_X,:], data[:,timestep_X:,target_feture]\n",
    "\n",
    "#Dropping event_id to remove noise\n",
    "X = X[:,:,1:]\n",
    "\n",
    "\n",
    "#TODO: Padding with specific values column-wise instead of zeros.\n",
    "#TODO: Separating time dependent and independent feature in 2 X arrays\n",
    "\n",
    "print(X.shape, y.shape)"
   ]
  },
  {
   "cell_type": "markdown",
   "metadata": {
    "colab_type": "text",
    "id": "B-Bz1ziIIehM"
   },
   "source": [
    "### Output"
   ]
  },
  {
   "cell_type": "code",
   "execution_count": null,
   "metadata": {
    "colab": {},
    "colab_type": "code",
    "id": "HmRubG33IehN"
   },
   "outputs": [],
   "source": [
    "X, y, X_scaler, y_scaler, df"
   ]
  },
  {
   "cell_type": "markdown",
   "metadata": {
    "colab_type": "text",
    "id": "2A8V78sLIehQ"
   },
   "source": [
    "# 2. Wrangling for feature selection"
   ]
  },
  {
   "cell_type": "markdown",
   "metadata": {
    "colab_type": "text",
    "id": "uSSusyLlIehQ"
   },
   "source": [
    "## 2.1 Feature Selection v1\n",
    "Description: Emulating Model v1 w/o time series (3D-array)\n",
    "\n",
    "X -> Dataframe with data from tca_max (tca=7) to tca=2. \n",
    "(2d df: instances, features)\n",
    "\n",
    "y -> minimum value from tca=2 to tca_min (tca~0) for each event repeated for all instances of each event.\n",
    "(1d array)"
   ]
  },
  {
   "cell_type": "markdown",
   "metadata": {
    "colab_type": "text",
    "id": "KMLmQIB9IehR"
   },
   "source": [
    "### Input"
   ]
  },
  {
   "cell_type": "code",
   "execution_count": null,
   "metadata": {
    "colab": {},
    "colab_type": "code",
    "id": "N4myLnPDIehS"
   },
   "outputs": [],
   "source": [
    "df = pd.read_csv(\"train_data.csv\")\n",
    "X_scaler = MinMaxScaler()\n",
    "y_scaler = MinMaxScaler()"
   ]
  },
  {
   "cell_type": "markdown",
   "metadata": {
    "colab_type": "text",
    "id": "g7wQffqFIehU"
   },
   "source": [
    "### Data Processing"
   ]
  },
  {
   "cell_type": "code",
   "execution_count": null,
   "metadata": {
    "colab": {},
    "colab_type": "code",
    "id": "pXcfsbzfIehV",
    "outputId": "0d24c04f-f148-452f-9609-7f2dd6cfdda3",
    "scrolled": true
   },
   "outputs": [],
   "source": [
    "#Dropping first the empty column and then rows with NaNs\n",
    "df = df.drop(\"c_rcs_estimate\", axis=1)\n",
    "df = df.dropna(how='any')\n",
    "\n",
    "#Filtering events with len=1 or min_tca > 2 or max_tca < 2\n",
    "def conditions(event):\n",
    "    x = event[\"time_to_tca\"].values\n",
    "    return ((x.min()<2.0) & (x.max()>2.0) & (x.shape[0]>1))\n",
    "\n",
    "df = df.groupby('event_id').filter(conditions)\n",
    "\n",
    "#OHE for c_object_type (5 categories) -> 5 new features\n",
    "df = pd.get_dummies(df)\n",
    "\n",
    "#Binary encoder for mission_id (19 categories) -> 5 new features\n",
    "encoder = BinaryEncoder(cols=['mission_id'], drop_invariant=True)\n",
    "df = encoder.fit_transform(df)\n",
    "\n",
    "#Creating target feature as last risk value of an event\n",
    "df[\"target-risk\"] = df.groupby('event_id')['risk'].transform(lambda x: x.iloc[-1]).values.reshape(-1, 1)\n",
    "\n",
    "#Slicing data (dropping rows with tca < 2) \n",
    "df = df.loc[df[\"time_to_tca\"]>2]\n",
    "\n",
    "#Adding feature 'event_length' for counting how many instances each event has\n",
    "df[\"event_length\"] = df.groupby('event_id')['event_id'].transform('value_counts')\n",
    "\n",
    "#Getting and scaling y\n",
    "_ = y_scaler.fit(df[\"risk\"].values.reshape(-1, 1)) #using the whole risk feature to scale the target 'y'\n",
    "y = y_scaler.transform(df[\"target-risk\"].values.reshape(-1, 1))\n",
    "\n",
    "#Getting and scaling X\n",
    "X = df.drop([\"event_id\",\"target-risk\"], axis=1)\n",
    "X = pd.DataFrame(X_scaler.fit_transform(X), columns=X.columns)\n",
    "\n",
    "print(X.shape, y.shape)"
   ]
  },
  {
   "cell_type": "markdown",
   "metadata": {
    "colab_type": "text",
    "id": "awiHnpUJIehY"
   },
   "source": [
    "### Output"
   ]
  },
  {
   "cell_type": "code",
   "execution_count": null,
   "metadata": {
    "colab": {},
    "colab_type": "code",
    "id": "rkGKsm4qIehZ"
   },
   "outputs": [],
   "source": [
    "X, y, X_scaler, y_scaler"
   ]
  },
  {
   "cell_type": "markdown",
   "metadata": {
    "colab_type": "text",
    "id": "twB8Cnw8Iehb"
   },
   "source": [
    "## 2.2 Feature Selection v2\n",
    "Description: Minimum processing for predicting risk instance-wise instead of event-wise.\n",
    "\n",
    "X -> Raw dataframe processed. (2D - df)\n",
    "\n",
    "y -> Target feature (1d - array)"
   ]
  },
  {
   "cell_type": "markdown",
   "metadata": {
    "colab_type": "text",
    "id": "4FSe29_SIehc"
   },
   "source": [
    "### Input"
   ]
  },
  {
   "cell_type": "code",
   "execution_count": null,
   "metadata": {
    "colab": {},
    "colab_type": "code",
    "id": "YZtQT9GHIehc"
   },
   "outputs": [],
   "source": [
    "df = pd.read_csv(\"train_data.csv\")\n",
    "X_scaler = MinMaxScaler()\n",
    "y_scaler = MinMaxScaler()"
   ]
  },
  {
   "cell_type": "markdown",
   "metadata": {
    "colab_type": "text",
    "id": "RnYwL02jIehf"
   },
   "source": [
    "### Data Processing"
   ]
  },
  {
   "cell_type": "code",
   "execution_count": null,
   "metadata": {
    "colab": {},
    "colab_type": "code",
    "id": "EicvQHrlIehg",
    "outputId": "6dfc16fe-ba91-43be-ab0e-a9be3892f909"
   },
   "outputs": [],
   "source": [
    "#Dropping first the empty column and then rows with NaNs\n",
    "df = df.drop(\"c_rcs_estimate\", axis=1)\n",
    "df = df.dropna(how='any')\n",
    "\n",
    "#OHE for c_object_type (5 categories) -> 5 new features\n",
    "df = pd.get_dummies(df)\n",
    "\n",
    "#Binary encoder for mission_id (19 categories) -> 5 new features\n",
    "encoder = BinaryEncoder(cols=['mission_id'], drop_invariant=True)\n",
    "df = encoder.fit_transform(df)\n",
    "\n",
    "#Adding feature 'event_length' for counting how many instances each event has\n",
    "df[\"event_length\"] = df.groupby('event_id')['event_id'].transform('value_counts')\n",
    "\n",
    "#Getting and scaling y\n",
    "y = df[\"risk\"].values.reshape(-1, 1)\n",
    "y = y_scaler.fit_transform(y)\n",
    "\n",
    "#Getting and Scaling X\n",
    "X = df.drop([\"event_id\",\"risk\"], axis=1)\n",
    "X = pd.DataFrame(X_scaler.fit_transform(X), columns=X.columns)\n",
    "\n",
    "print(X.shape, y.shape)"
   ]
  },
  {
   "cell_type": "markdown",
   "metadata": {
    "colab_type": "text",
    "id": "n0xdRNTiIehi"
   },
   "source": [
    "### Output"
   ]
  },
  {
   "cell_type": "code",
   "execution_count": null,
   "metadata": {
    "colab": {},
    "colab_type": "code",
    "id": "r7IfUDAMIehj"
   },
   "outputs": [],
   "source": [
    "X, y, X_scaler, y_scaler"
   ]
  },
  {
   "cell_type": "markdown",
   "metadata": {
    "colab_type": "text",
    "id": "VI6txnuaIehl"
   },
   "source": [
    "## 2.3 Feature Selection v3.1\n",
    "THIS VERSION DOES NOT SUPPORT FILLING\n",
    "\n",
    "Description: Time series analysis for each feature. Also valid for FFN\n",
    "\n",
    "X ->  dataframe with shifted columns and rows sliced as model version 1\n",
    "\n",
    "y ->  same as model version 1"
   ]
  },
  {
   "cell_type": "markdown",
   "metadata": {
    "colab_type": "text",
    "id": "DHVDpKsjIehm"
   },
   "source": [
    "### Input"
   ]
  },
  {
   "cell_type": "code",
   "execution_count": null,
   "metadata": {
    "colab": {},
    "colab_type": "code",
    "id": "H_UA2EjkIehn"
   },
   "outputs": [],
   "source": [
    "df = pd.read_csv(\"train_data.csv\")\n",
    "features = [\"risk\"] #Array!! Time features that you want to analyze\n",
    "timestep = 17 #from 1 to 23 (17 with the current NaN strategy)\n",
    "X_scaler = MinMaxScaler()\n",
    "y_scaler = MinMaxScaler()"
   ]
  },
  {
   "cell_type": "markdown",
   "metadata": {
    "colab_type": "text",
    "id": "PTubYN45Iehp"
   },
   "source": [
    "### Data Processing"
   ]
  },
  {
   "cell_type": "code",
   "execution_count": null,
   "metadata": {
    "colab": {},
    "colab_type": "code",
    "id": "_L9AKEZ_Iehq",
    "outputId": "f71b2054-44ff-4f87-8500-7c5e426105c5"
   },
   "outputs": [],
   "source": [
    "#Dropping first the empty column and then rows with NaNs\n",
    "df = df.drop(\"c_rcs_estimate\", axis=1)\n",
    "df = df.dropna(how='any')\n",
    "\n",
    "#Filtering events with len=1 or min_tca > 2 or max_tca < 2\n",
    "def conditions(event):\n",
    "    x = event[\"time_to_tca\"].values\n",
    "    return ((x.min()<2.0) & (x.max()>2.0) & (x.shape[0]>1))\n",
    "\n",
    "df = df.groupby('event_id').filter(conditions)\n",
    "\n",
    "#OHE for c_object_type (5 categories) -> 5 new features\n",
    "df = pd.get_dummies(df)\n",
    "\n",
    "#Binary encoder for mission_id (19 categories) -> 5 new features\n",
    "encoder = BinaryEncoder(cols=['mission_id'], drop_invariant=True)\n",
    "df = encoder.fit_transform(df)\n",
    "\n",
    "#Getting y as 1D-array\n",
    "y = df.groupby([\"event_id\"])[\"risk\"].apply(lambda x: x.iloc[-1]).values.reshape(-1, 1)\n",
    "\n",
    "#Scaling y\n",
    "_ = y_scaler.fit(df[\"risk\"].values.reshape(-1, 1)) #using the whole risk feature to scale the target 'y'\n",
    "y = y_scaler.transform(y)\n",
    "\n",
    "#Getting X as df (dropping rows with tca < 2) \n",
    "df = df.loc[df[\"time_to_tca\"]>2]\n",
    "\n",
    "#Adding feature 'event_length' for counting how many instances each event has\n",
    "df[\"event_length\"] = df.groupby('event_id')['event_id'].transform('value_counts')\n",
    "\n",
    "#Scaling X\n",
    "df = pd.DataFrame(X_scaler.fit_transform(df), columns=df.columns)\n",
    "\n",
    "#Shifting features\n",
    "features.append('event_id')\n",
    "X = pd.DataFrame()\n",
    "\n",
    "for feature in features:\n",
    "    for i in range(timestep-1,-1,-1):\n",
    "        X[feature+'_t-'+str(i)] = df[feature].shift(i)\n",
    "    \n",
    "#Getting last row -> getting one row per event\n",
    "X = X.groupby([\"event_id_t-0\"]).apply(lambda x: x.iloc[-1])\n",
    "X = X.reset_index(drop=True)\n",
    "\n",
    "#Deleting rows with more than one event_id\n",
    "for i in range(timestep):\n",
    "    X = X.loc[X[\"event_id_t-0\"]==X[\"event_id_t-\"+str(i)]]\n",
    "\n",
    "#Dropping y values not included in X due to last condition\n",
    "y = np.take(y, X.index)\n",
    "y = y.reshape(-1, 1)\n",
    "\n",
    "#Deleting event_id features\n",
    "event_features = [feature for feature in list(X.columns) if feature.startswith('event_id_t-')]\n",
    "X = X.drop(event_features, axis=1)\n",
    "\n",
    "print(X.shape, y.shape)\n",
    "\n",
    "#TODO: not dropping y values bc of X but filling X with zeros"
   ]
  },
  {
   "cell_type": "markdown",
   "metadata": {
    "colab_type": "text",
    "id": "z_UMxIatIeht"
   },
   "source": [
    "### Output"
   ]
  },
  {
   "cell_type": "code",
   "execution_count": null,
   "metadata": {
    "colab": {},
    "colab_type": "code",
    "id": "DqxDQ4mWIeht"
   },
   "outputs": [],
   "source": [
    "X, y, X_scaler, y_scaler"
   ]
  },
  {
   "cell_type": "markdown",
   "metadata": {
    "colab_type": "text",
    "id": "2qJaOOvQIehw"
   },
   "source": [
    "## 2.4 Feature Selection v3.2\n",
    "THIS VERSION SUPPORTS FILLING\n",
    "\n",
    "Description: Time series analysis for each feature. Also valid for FFN.\n",
    "\n",
    "X ->  dataframe with shifted columns and rows sliced as model version 1\n",
    "\n",
    "y ->  same as model version 1"
   ]
  },
  {
   "cell_type": "markdown",
   "metadata": {
    "colab_type": "text",
    "id": "3wFpbfLdIehx"
   },
   "source": [
    "### Input"
   ]
  },
  {
   "cell_type": "code",
   "execution_count": null,
   "metadata": {
    "colab": {},
    "colab_type": "code",
    "id": "nmd8dYm3Iehx"
   },
   "outputs": [],
   "source": [
    "df = pd.read_csv(\"train_data.csv\")\n",
    "#features_ = [\"risk\"] #Array!! Time features that you want to analyze\n",
    "timestep = 5 #from 1 to 23 (17 with the current NaN strategy)\n",
    "fill_X = 0\n",
    "X_scaler = StandardScaler()\n",
    "y_scaler = StandardScaler()"
   ]
  },
  {
   "cell_type": "markdown",
   "metadata": {
    "colab_type": "text",
    "id": "bjC-fOXkIeh0"
   },
   "source": [
    "### Data Processing"
   ]
  },
  {
   "cell_type": "code",
   "execution_count": null,
   "metadata": {
    "colab": {},
    "colab_type": "code",
    "id": "N4nRUWMKIeh1",
    "outputId": "7e83dc29-feb3-4cd9-8359-e10c2fdcb32b"
   },
   "outputs": [],
   "source": [
    "#Dropping first the empty column and then rows with NaNs\n",
    "df = df.drop(\"c_rcs_estimate\", axis=1)\n",
    "df = df.dropna(how='any')\n",
    "\n",
    "#Filtering events with len=1 or min_tca > 2 or max_tca < 2\n",
    "def conditions(event):\n",
    "    x = event[\"time_to_tca\"].values\n",
    "    return ((x.min()<2.0) & (x.max()>2.0) & (x.shape[0]>1))\n",
    "\n",
    "df = df.groupby('event_id').filter(conditions)\n",
    "\n",
    "#OHE for c_object_type (5 categories) -> 5 new features\n",
    "df = pd.get_dummies(df)\n",
    "\n",
    "#Binary encoder for mission_id (19 categories) -> 5 new features\n",
    "encoder = BinaryEncoder(cols=['mission_id'], drop_invariant=True)\n",
    "df = encoder.fit_transform(df)\n",
    "\n",
    "#Getting y as 1D-array\n",
    "y_original = df.groupby([\"event_id\"])[\"risk\"].apply(lambda x: x.iloc[-1]).values.reshape(-1, 1)\n",
    "\n",
    "#Scaling y\n",
    "_ = y_scaler.fit(df[\"risk\"].values.reshape(-1, 1)) #using the whole risk feature to scale the target 'y'\n",
    "y = y_scaler.transform(y_original)\n",
    "\n",
    "#Getting X as df (dropping rows with tca < 2) \n",
    "df = df.loc[df[\"time_to_tca\"]>2]\n",
    "\n",
    "#Adding feature 'event_length' for counting how many instances each event has\n",
    "df[\"event_length\"] = df.groupby('event_id')['event_id'].transform('value_counts')\n",
    "\n",
    "#Scaling X\n",
    "df = pd.DataFrame(X_scaler.fit_transform(df), columns=df.columns)\n",
    "\n",
    "#Transforming X into a 3D-array\n",
    "events = df[\"event_id\"].nunique() #rows\n",
    "features = len(df.columns) #columns\n",
    "X = np.zeros((events,timestep,features))\n",
    "X.fill(fill_X)\n",
    "i = 0\n",
    "\n",
    "def df_to_3darray(event):\n",
    "    global X, i\n",
    "    #Transforming an event to time series (1,timesteps, columns)\n",
    "    row = event.values.reshape(1,event.shape[0],event.shape[1])\n",
    "    #Condition is needed to slice arrays correctly\n",
    "    #Condition -> is timestep greater than the event's time series length? \n",
    "    if(timestep>=row.shape[1]):\n",
    "        X[i:i+1,-row.shape[1]:,:] = row\n",
    "    else:\n",
    "        X[i:i+1,:,:] = row[:,-timestep:,:]\n",
    "    #index to iterate over X array\n",
    "    i = i + 1\n",
    "    #dataframe remains intact, while X array has been filled.\n",
    "    return event\n",
    "\n",
    "df.groupby(\"event_id\").apply(df_to_3darray)\n",
    "\n",
    "#Dropping event_id to remove noise\n",
    "X = X[:,:,1:]\n",
    "\n",
    "#Reshaping again to 2D array but now events are filled\n",
    "X = X.reshape(X.shape[0], timestep*X.shape[2])\n",
    "\n",
    "#Naming shifted columns\n",
    "shifted_columns = []\n",
    "original_columns = list(df.columns)[1:] #Dropping event_id\n",
    "\n",
    "for i in range(timestep-1,-1,-1):\n",
    "    for column in original_columns: \n",
    "        shifted_columns.append(column+\"_t-\"+str(i))\n",
    "        \n",
    "#Creating df from reshape array and shifted column names\n",
    "X = pd.DataFrame(X, columns=shifted_columns)\n",
    "\n",
    "print(X.shape, y.shape)"
   ]
  },
  {
   "cell_type": "markdown",
   "metadata": {
    "colab_type": "text",
    "id": "rmDIy0jXIeh5"
   },
   "source": [
    "### Output"
   ]
  },
  {
   "cell_type": "code",
   "execution_count": null,
   "metadata": {
    "colab": {},
    "colab_type": "code",
    "id": "Y0oyBZP_Ieh7"
   },
   "outputs": [],
   "source": [
    "X, y, scaler_X, scaler_y"
   ]
  }
 ],
 "metadata": {
  "colab": {
   "collapsed_sections": [
    "WV_ujaY7IehD",
    "uSSusyLlIehQ",
    "twB8Cnw8Iehb",
    "VI6txnuaIehl",
    "PTubYN45Iehp",
    "z_UMxIatIeht",
    "2qJaOOvQIehw"
   ],
   "name": "Dataset Wrangling Versions.ipynb",
   "provenance": []
  },
  "kernelspec": {
   "display_name": "Python 3",
   "language": "python",
   "name": "python3"
  },
  "language_info": {
   "codemirror_mode": {
    "name": "ipython",
    "version": 3
   },
   "file_extension": ".py",
   "mimetype": "text/x-python",
   "name": "python",
   "nbconvert_exporter": "python",
   "pygments_lexer": "ipython3",
   "version": "3.7.4"
  }
 },
 "nbformat": 4,
 "nbformat_minor": 1
}
