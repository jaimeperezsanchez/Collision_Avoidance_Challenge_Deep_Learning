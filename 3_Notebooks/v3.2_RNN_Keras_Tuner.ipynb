{
 "cells": [
  {
   "cell_type": "code",
   "execution_count": 11,
   "metadata": {
    "colab": {
     "base_uri": "https://localhost:8080/",
     "height": 57,
     "resources": {
      "http://localhost:8080/nbextensions/google.colab/files.js": {
       "data": "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",
       "headers": [
        [
         "content-type",
         "application/javascript"
        ]
       ],
       "ok": true,
       "status": 200,
       "status_text": ""
      }
     }
    },
    "colab_type": "code",
    "id": "DFEULKJ2P62x",
    "outputId": "ac45994b-9374-4a8e-d18b-db81107f0829"
   },
   "outputs": [
    {
     "data": {
      "text/html": [
       "\n",
       "     <input type=\"file\" id=\"files-b4b76718-ea00-4da3-b7c5-b41b07f409c1\" name=\"files[]\" multiple disabled />\n",
       "     <output id=\"result-b4b76718-ea00-4da3-b7c5-b41b07f409c1\">\n",
       "      Upload widget is only available when the cell has been executed in the\n",
       "      current browser session. Please rerun this cell to enable.\n",
       "      </output>\n",
       "      <script src=\"/nbextensions/google.colab/files.js\"></script> "
      ],
      "text/plain": [
       "<IPython.core.display.HTML object>"
      ]
     },
     "metadata": {
      "tags": []
     },
     "output_type": "display_data"
    },
    {
     "name": "stdout",
     "output_type": "stream",
     "text": [
      "Saving train_data.csv to train_data (1).csv\n"
     ]
    }
   ],
   "source": [
    "# Importar datos localmente -> es lento y quizá es mejor importar desde drive\n",
    "from google.colab import files\n",
    "uploaded = files.upload()\n",
    "\n",
    "#from google.colab import drive\n",
    "#drive.mount('/content/drive')"
   ]
  },
  {
   "cell_type": "code",
   "execution_count": 71,
   "metadata": {
    "colab": {
     "base_uri": "https://localhost:8080/",
     "height": 819
    },
    "colab_type": "code",
    "id": "chi26xLJaUcG",
    "outputId": "98d642fe-639e-4287-bcd0-595b5299a29e"
   },
   "outputs": [
    {
     "name": "stdout",
     "output_type": "stream",
     "text": [
      "Requirement already satisfied: keras-tuner in /usr/local/lib/python3.6/dist-packages (1.0.0)\n",
      "Requirement already satisfied: psutil in /usr/local/lib/python3.6/dist-packages (from keras-tuner) (5.4.8)\n",
      "Requirement already satisfied: tqdm in /usr/local/lib/python3.6/dist-packages (from keras-tuner) (4.28.1)\n",
      "Requirement already satisfied: scikit-learn in /usr/local/lib/python3.6/dist-packages (from keras-tuner) (0.21.3)\n",
      "Requirement already satisfied: numpy in /usr/local/lib/python3.6/dist-packages (from keras-tuner) (1.17.4)\n",
      "Requirement already satisfied: tensorflow>=2.0.0-beta1 in /usr/local/lib/python3.6/dist-packages (from keras-tuner) (2.1.0rc2)\n",
      "Requirement already satisfied: terminaltables in /usr/local/lib/python3.6/dist-packages (from keras-tuner) (3.1.0)\n",
      "Requirement already satisfied: colorama in /usr/local/lib/python3.6/dist-packages (from keras-tuner) (0.4.3)\n",
      "Requirement already satisfied: tabulate in /usr/local/lib/python3.6/dist-packages (from keras-tuner) (0.8.6)\n",
      "Requirement already satisfied: requests in /usr/local/lib/python3.6/dist-packages (from keras-tuner) (2.21.0)\n",
      "Requirement already satisfied: scipy in /usr/local/lib/python3.6/dist-packages (from keras-tuner) (1.4.1)\n",
      "Requirement already satisfied: joblib>=0.11 in /usr/local/lib/python3.6/dist-packages (from scikit-learn->keras-tuner) (0.14.1)\n",
      "Requirement already satisfied: keras-preprocessing>=1.1.0 in /usr/local/lib/python3.6/dist-packages (from tensorflow>=2.0.0-beta1->keras-tuner) (1.1.0)\n",
      "Requirement already satisfied: absl-py>=0.7.0 in /usr/local/lib/python3.6/dist-packages (from tensorflow>=2.0.0-beta1->keras-tuner) (0.8.1)\n",
      "Requirement already satisfied: wrapt>=1.11.1 in /usr/local/lib/python3.6/dist-packages (from tensorflow>=2.0.0-beta1->keras-tuner) (1.11.2)\n",
      "Requirement already satisfied: astor>=0.6.0 in /usr/local/lib/python3.6/dist-packages (from tensorflow>=2.0.0-beta1->keras-tuner) (0.8.1)\n",
      "Requirement already satisfied: google-pasta>=0.1.6 in /usr/local/lib/python3.6/dist-packages (from tensorflow>=2.0.0-beta1->keras-tuner) (0.1.8)\n",
      "Requirement already satisfied: gast==0.2.2 in /usr/local/lib/python3.6/dist-packages (from tensorflow>=2.0.0-beta1->keras-tuner) (0.2.2)\n",
      "Requirement already satisfied: six>=1.12.0 in /usr/local/lib/python3.6/dist-packages (from tensorflow>=2.0.0-beta1->keras-tuner) (1.12.0)\n",
      "Requirement already satisfied: tensorflow-estimator<2.2.0,>=2.1.0rc0 in /usr/local/lib/python3.6/dist-packages (from tensorflow>=2.0.0-beta1->keras-tuner) (2.1.0)\n",
      "Requirement already satisfied: grpcio>=1.8.6 in /usr/local/lib/python3.6/dist-packages (from tensorflow>=2.0.0-beta1->keras-tuner) (1.15.0)\n",
      "Requirement already satisfied: wheel>=0.26; python_version >= \"3\" in /usr/local/lib/python3.6/dist-packages (from tensorflow>=2.0.0-beta1->keras-tuner) (0.33.6)\n",
      "Requirement already satisfied: opt-einsum>=2.3.2 in /usr/local/lib/python3.6/dist-packages (from tensorflow>=2.0.0-beta1->keras-tuner) (3.1.0)\n",
      "Requirement already satisfied: tensorboard<2.2.0,>=2.1.0 in /usr/local/lib/python3.6/dist-packages (from tensorflow>=2.0.0-beta1->keras-tuner) (2.1.0)\n",
      "Requirement already satisfied: protobuf>=3.8.0 in /usr/local/lib/python3.6/dist-packages (from tensorflow>=2.0.0-beta1->keras-tuner) (3.10.0)\n",
      "Requirement already satisfied: termcolor>=1.1.0 in /usr/local/lib/python3.6/dist-packages (from tensorflow>=2.0.0-beta1->keras-tuner) (1.1.0)\n",
      "Requirement already satisfied: keras-applications>=1.0.8 in /usr/local/lib/python3.6/dist-packages (from tensorflow>=2.0.0-beta1->keras-tuner) (1.0.8)\n",
      "Requirement already satisfied: idna<2.9,>=2.5 in /usr/local/lib/python3.6/dist-packages (from requests->keras-tuner) (2.8)\n",
      "Requirement already satisfied: urllib3<1.25,>=1.21.1 in /usr/local/lib/python3.6/dist-packages (from requests->keras-tuner) (1.24.3)\n",
      "Requirement already satisfied: chardet<3.1.0,>=3.0.2 in /usr/local/lib/python3.6/dist-packages (from requests->keras-tuner) (3.0.4)\n",
      "Requirement already satisfied: certifi>=2017.4.17 in /usr/local/lib/python3.6/dist-packages (from requests->keras-tuner) (2019.11.28)\n",
      "Requirement already satisfied: google-auth-oauthlib<0.5,>=0.4.1 in /usr/local/lib/python3.6/dist-packages (from tensorboard<2.2.0,>=2.1.0->tensorflow>=2.0.0-beta1->keras-tuner) (0.4.1)\n",
      "Requirement already satisfied: setuptools>=41.0.0 in /usr/local/lib/python3.6/dist-packages (from tensorboard<2.2.0,>=2.1.0->tensorflow>=2.0.0-beta1->keras-tuner) (42.0.2)\n",
      "Requirement already satisfied: google-auth<2,>=1.6.3 in /usr/local/lib/python3.6/dist-packages (from tensorboard<2.2.0,>=2.1.0->tensorflow>=2.0.0-beta1->keras-tuner) (1.10.0)\n",
      "Requirement already satisfied: markdown>=2.6.8 in /usr/local/lib/python3.6/dist-packages (from tensorboard<2.2.0,>=2.1.0->tensorflow>=2.0.0-beta1->keras-tuner) (3.1.1)\n",
      "Requirement already satisfied: werkzeug>=0.11.15 in /usr/local/lib/python3.6/dist-packages (from tensorboard<2.2.0,>=2.1.0->tensorflow>=2.0.0-beta1->keras-tuner) (0.16.0)\n",
      "Requirement already satisfied: h5py in /usr/local/lib/python3.6/dist-packages (from keras-applications>=1.0.8->tensorflow>=2.0.0-beta1->keras-tuner) (2.8.0)\n",
      "Requirement already satisfied: requests-oauthlib>=0.7.0 in /usr/local/lib/python3.6/dist-packages (from google-auth-oauthlib<0.5,>=0.4.1->tensorboard<2.2.0,>=2.1.0->tensorflow>=2.0.0-beta1->keras-tuner) (1.3.0)\n",
      "Requirement already satisfied: rsa<4.1,>=3.1.4 in /usr/local/lib/python3.6/dist-packages (from google-auth<2,>=1.6.3->tensorboard<2.2.0,>=2.1.0->tensorflow>=2.0.0-beta1->keras-tuner) (4.0)\n",
      "Requirement already satisfied: cachetools<5.0,>=2.0.0 in /usr/local/lib/python3.6/dist-packages (from google-auth<2,>=1.6.3->tensorboard<2.2.0,>=2.1.0->tensorflow>=2.0.0-beta1->keras-tuner) (4.0.0)\n",
      "Requirement already satisfied: pyasn1-modules>=0.2.1 in /usr/local/lib/python3.6/dist-packages (from google-auth<2,>=1.6.3->tensorboard<2.2.0,>=2.1.0->tensorflow>=2.0.0-beta1->keras-tuner) (0.2.7)\n",
      "Requirement already satisfied: oauthlib>=3.0.0 in /usr/local/lib/python3.6/dist-packages (from requests-oauthlib>=0.7.0->google-auth-oauthlib<0.5,>=0.4.1->tensorboard<2.2.0,>=2.1.0->tensorflow>=2.0.0-beta1->keras-tuner) (3.1.0)\n",
      "Requirement already satisfied: pyasn1>=0.1.3 in /usr/local/lib/python3.6/dist-packages (from rsa<4.1,>=3.1.4->google-auth<2,>=1.6.3->tensorboard<2.2.0,>=2.1.0->tensorflow>=2.0.0-beta1->keras-tuner) (0.4.8)\n"
     ]
    }
   ],
   "source": [
    "!pip install --upgrade tensorflow\n",
    "!pip install keras-tuner"
   ]
  },
  {
   "cell_type": "code",
   "execution_count": 0,
   "metadata": {
    "colab": {},
    "colab_type": "code",
    "id": "J8VMs_dIPv3A"
   },
   "outputs": [],
   "source": [
    "import pandas as pd\n",
    "pd.set_option('display.max_columns', None)\n",
    "pd.set_option('display.max_rows', 100)\n",
    "import numpy as np\n",
    "\n",
    "from IPython.display import display\n",
    "\n",
    "import matplotlib.pyplot as plt\n",
    "%matplotlib inline\n",
    "import seaborn as sns\n",
    "\n",
    "from sklearn.model_selection import train_test_split\n",
    "from sklearn.metrics import mean_squared_error, fbeta_score, confusion_matrix, classification_report\n",
    "from sklearn.preprocessing import StandardScaler, MinMaxScaler\n",
    "\n",
    "import tensorflow.keras\n",
    "from tensorflow.keras import optimizers, Sequential\n",
    "from tensorflow.keras.models import Model\n",
    "from tensorflow.keras.utils import plot_model\n",
    "from tensorflow.keras.layers import Dense, LSTM, RepeatVector, TimeDistributed, Input\n",
    "from tensorflow.keras.callbacks import ModelCheckpoint, TensorBoard\n",
    "\n",
    "import kerastuner\n",
    "from kerastuner.tuners import RandomSearch\n",
    "from kerastuner.engine.hyperparameters import HyperParameters"
   ]
  },
  {
   "cell_type": "code",
   "execution_count": 0,
   "metadata": {
    "colab": {},
    "colab_type": "code",
    "id": "W1JJpQg9Pv3E"
   },
   "outputs": [],
   "source": [
    "timestep = 17 #from 1 to 23 (17 with the current NaN strategy)\n",
    "threshold_for_classification = -30\n",
    "fill_X = -0.25\n",
    "X_scaler = MinMaxScaler()\n",
    "y_scaler = MinMaxScaler()\n",
    "seed = 11\n",
    "\n",
    "#RNN hiperparameter\n",
    "epochs = 20\n",
    "batch = 64\n",
    "val_split = 0.25\n",
    "test_split = 0.25"
   ]
  },
  {
   "cell_type": "code",
   "execution_count": 150,
   "metadata": {
    "colab": {
     "base_uri": "https://localhost:8080/",
     "height": 427
    },
    "colab_type": "code",
    "id": "79BvnCIRQjKV",
    "outputId": "88c20cb6-850f-476c-d973-d9797f119afa"
   },
   "outputs": [
    {
     "data": {
      "text/html": [
       "<div>\n",
       "<style scoped>\n",
       "    .dataframe tbody tr th:only-of-type {\n",
       "        vertical-align: middle;\n",
       "    }\n",
       "\n",
       "    .dataframe tbody tr th {\n",
       "        vertical-align: top;\n",
       "    }\n",
       "\n",
       "    .dataframe thead th {\n",
       "        text-align: right;\n",
       "    }\n",
       "</style>\n",
       "<table border=\"1\" class=\"dataframe\">\n",
       "  <thead>\n",
       "    <tr style=\"text-align: right;\">\n",
       "      <th></th>\n",
       "      <th>event_id</th>\n",
       "      <th>time_to_tca</th>\n",
       "      <th>mission_id</th>\n",
       "      <th>risk</th>\n",
       "      <th>max_risk_estimate</th>\n",
       "      <th>max_risk_scaling</th>\n",
       "      <th>miss_distance</th>\n",
       "      <th>relative_speed</th>\n",
       "      <th>relative_position_r</th>\n",
       "      <th>relative_position_t</th>\n",
       "      <th>relative_position_n</th>\n",
       "      <th>relative_velocity_r</th>\n",
       "      <th>relative_velocity_t</th>\n",
       "      <th>relative_velocity_n</th>\n",
       "      <th>t_time_lastob_start</th>\n",
       "      <th>t_time_lastob_end</th>\n",
       "      <th>t_recommended_od_span</th>\n",
       "      <th>t_actual_od_span</th>\n",
       "      <th>t_obs_available</th>\n",
       "      <th>t_obs_used</th>\n",
       "      <th>t_residuals_accepted</th>\n",
       "      <th>t_weighted_rms</th>\n",
       "      <th>t_rcs_estimate</th>\n",
       "      <th>t_cd_area_over_mass</th>\n",
       "      <th>t_cr_area_over_mass</th>\n",
       "      <th>t_sedr</th>\n",
       "      <th>t_j2k_sma</th>\n",
       "      <th>t_j2k_ecc</th>\n",
       "      <th>t_j2k_inc</th>\n",
       "      <th>t_ct_r</th>\n",
       "      <th>t_cn_r</th>\n",
       "      <th>t_cn_t</th>\n",
       "      <th>t_crdot_r</th>\n",
       "      <th>t_crdot_t</th>\n",
       "      <th>t_crdot_n</th>\n",
       "      <th>t_ctdot_r</th>\n",
       "      <th>t_ctdot_t</th>\n",
       "      <th>t_ctdot_n</th>\n",
       "      <th>t_ctdot_rdot</th>\n",
       "      <th>t_cndot_r</th>\n",
       "      <th>t_cndot_t</th>\n",
       "      <th>t_cndot_n</th>\n",
       "      <th>t_cndot_rdot</th>\n",
       "      <th>t_cndot_tdot</th>\n",
       "      <th>c_object_type</th>\n",
       "      <th>c_time_lastob_start</th>\n",
       "      <th>c_time_lastob_end</th>\n",
       "      <th>c_recommended_od_span</th>\n",
       "      <th>c_actual_od_span</th>\n",
       "      <th>c_obs_available</th>\n",
       "      <th>c_obs_used</th>\n",
       "      <th>c_residuals_accepted</th>\n",
       "      <th>c_weighted_rms</th>\n",
       "      <th>c_rcs_estimate</th>\n",
       "      <th>c_cd_area_over_mass</th>\n",
       "      <th>c_cr_area_over_mass</th>\n",
       "      <th>c_sedr</th>\n",
       "      <th>c_j2k_sma</th>\n",
       "      <th>c_j2k_ecc</th>\n",
       "      <th>c_j2k_inc</th>\n",
       "      <th>c_ct_r</th>\n",
       "      <th>c_cn_r</th>\n",
       "      <th>c_cn_t</th>\n",
       "      <th>c_crdot_r</th>\n",
       "      <th>c_crdot_t</th>\n",
       "      <th>c_crdot_n</th>\n",
       "      <th>c_ctdot_r</th>\n",
       "      <th>c_ctdot_t</th>\n",
       "      <th>c_ctdot_n</th>\n",
       "      <th>c_ctdot_rdot</th>\n",
       "      <th>c_cndot_r</th>\n",
       "      <th>c_cndot_t</th>\n",
       "      <th>c_cndot_n</th>\n",
       "      <th>c_cndot_rdot</th>\n",
       "      <th>c_cndot_tdot</th>\n",
       "      <th>t_span</th>\n",
       "      <th>c_span</th>\n",
       "      <th>t_h_apo</th>\n",
       "      <th>t_h_per</th>\n",
       "      <th>c_h_apo</th>\n",
       "      <th>c_h_per</th>\n",
       "      <th>geocentric_latitude</th>\n",
       "      <th>azimuth</th>\n",
       "      <th>elevation</th>\n",
       "      <th>mahalanobis_distance</th>\n",
       "      <th>t_position_covariance_det</th>\n",
       "      <th>c_position_covariance_det</th>\n",
       "      <th>t_sigma_r</th>\n",
       "      <th>c_sigma_r</th>\n",
       "      <th>t_sigma_t</th>\n",
       "      <th>c_sigma_t</th>\n",
       "      <th>t_sigma_n</th>\n",
       "      <th>c_sigma_n</th>\n",
       "      <th>t_sigma_rdot</th>\n",
       "      <th>c_sigma_rdot</th>\n",
       "      <th>t_sigma_tdot</th>\n",
       "      <th>c_sigma_tdot</th>\n",
       "      <th>t_sigma_ndot</th>\n",
       "      <th>c_sigma_ndot</th>\n",
       "      <th>F10</th>\n",
       "      <th>F3M</th>\n",
       "      <th>SSN</th>\n",
       "      <th>AP</th>\n",
       "    </tr>\n",
       "  </thead>\n",
       "  <tbody>\n",
       "    <tr>\n",
       "      <th>0</th>\n",
       "      <td>0</td>\n",
       "      <td>1.566798</td>\n",
       "      <td>5</td>\n",
       "      <td>-10.204955</td>\n",
       "      <td>-7.834756</td>\n",
       "      <td>8.602101</td>\n",
       "      <td>14923.0</td>\n",
       "      <td>13792.0</td>\n",
       "      <td>453.8</td>\n",
       "      <td>5976.6</td>\n",
       "      <td>-13666.8</td>\n",
       "      <td>-7.2</td>\n",
       "      <td>-12637.0</td>\n",
       "      <td>-5525.9</td>\n",
       "      <td>1.0</td>\n",
       "      <td>0.0</td>\n",
       "      <td>3.78</td>\n",
       "      <td>3.78</td>\n",
       "      <td>459</td>\n",
       "      <td>458</td>\n",
       "      <td>98.9</td>\n",
       "      <td>1.265</td>\n",
       "      <td>0.4020</td>\n",
       "      <td>0.013826</td>\n",
       "      <td>0.007173</td>\n",
       "      <td>0.000051</td>\n",
       "      <td>6996.918867</td>\n",
       "      <td>0.003997</td>\n",
       "      <td>97.806412</td>\n",
       "      <td>-0.397969</td>\n",
       "      <td>0.292258</td>\n",
       "      <td>0.040799</td>\n",
       "      <td>0.394221</td>\n",
       "      <td>-0.999674</td>\n",
       "      <td>-0.038498</td>\n",
       "      <td>-0.981098</td>\n",
       "      <td>0.214612</td>\n",
       "      <td>-0.316493</td>\n",
       "      <td>-0.210247</td>\n",
       "      <td>0.170737</td>\n",
       "      <td>-0.001551</td>\n",
       "      <td>0.531593</td>\n",
       "      <td>0.002117</td>\n",
       "      <td>-0.179278</td>\n",
       "      <td>UNKNOWN</td>\n",
       "      <td>180.0</td>\n",
       "      <td>2.0</td>\n",
       "      <td>15.85</td>\n",
       "      <td>15.85</td>\n",
       "      <td>15.0</td>\n",
       "      <td>15.0</td>\n",
       "      <td>100.0</td>\n",
       "      <td>2.360</td>\n",
       "      <td>NaN</td>\n",
       "      <td>0.348701</td>\n",
       "      <td>0.126607</td>\n",
       "      <td>0.001406</td>\n",
       "      <td>7006.607320</td>\n",
       "      <td>0.003144</td>\n",
       "      <td>74.045735</td>\n",
       "      <td>-0.824859</td>\n",
       "      <td>0.473976</td>\n",
       "      <td>-0.002576</td>\n",
       "      <td>0.825216</td>\n",
       "      <td>-0.999998</td>\n",
       "      <td>0.003565</td>\n",
       "      <td>-0.732954</td>\n",
       "      <td>0.220006</td>\n",
       "      <td>-0.814249</td>\n",
       "      <td>-0.220621</td>\n",
       "      <td>0.249855</td>\n",
       "      <td>0.196620</td>\n",
       "      <td>0.722186</td>\n",
       "      <td>-0.196908</td>\n",
       "      <td>-0.668487</td>\n",
       "      <td>1.0</td>\n",
       "      <td>2.0</td>\n",
       "      <td>646.745439</td>\n",
       "      <td>590.818294</td>\n",
       "      <td>650.497251</td>\n",
       "      <td>606.443389</td>\n",
       "      <td>-73.574095</td>\n",
       "      <td>-23.618769</td>\n",
       "      <td>0.029910</td>\n",
       "      <td>129.430951</td>\n",
       "      <td>7.373471e+05</td>\n",
       "      <td>4.429923e+16</td>\n",
       "      <td>4.057932</td>\n",
       "      <td>266.722309</td>\n",
       "      <td>137.617114</td>\n",
       "      <td>54366.864909</td>\n",
       "      <td>1.781418</td>\n",
       "      <td>46.612573</td>\n",
       "      <td>0.147350</td>\n",
       "      <td>58.272095</td>\n",
       "      <td>0.004092</td>\n",
       "      <td>0.165044</td>\n",
       "      <td>0.002987</td>\n",
       "      <td>0.386462</td>\n",
       "      <td>89.0</td>\n",
       "      <td>83.0</td>\n",
       "      <td>42.0</td>\n",
       "      <td>11.0</td>\n",
       "    </tr>\n",
       "    <tr>\n",
       "      <th>1</th>\n",
       "      <td>0</td>\n",
       "      <td>1.207494</td>\n",
       "      <td>5</td>\n",
       "      <td>-10.355758</td>\n",
       "      <td>-7.848937</td>\n",
       "      <td>8.956374</td>\n",
       "      <td>14544.0</td>\n",
       "      <td>13792.0</td>\n",
       "      <td>474.3</td>\n",
       "      <td>5821.2</td>\n",
       "      <td>-13319.8</td>\n",
       "      <td>-7.0</td>\n",
       "      <td>-12637.0</td>\n",
       "      <td>-5525.9</td>\n",
       "      <td>1.0</td>\n",
       "      <td>0.0</td>\n",
       "      <td>3.79</td>\n",
       "      <td>3.79</td>\n",
       "      <td>456</td>\n",
       "      <td>455</td>\n",
       "      <td>98.5</td>\n",
       "      <td>1.270</td>\n",
       "      <td>0.4020</td>\n",
       "      <td>0.013487</td>\n",
       "      <td>0.009139</td>\n",
       "      <td>0.000060</td>\n",
       "      <td>6996.920255</td>\n",
       "      <td>0.003996</td>\n",
       "      <td>97.806420</td>\n",
       "      <td>-0.073137</td>\n",
       "      <td>0.297366</td>\n",
       "      <td>0.060541</td>\n",
       "      <td>0.069652</td>\n",
       "      <td>-0.998192</td>\n",
       "      <td>-0.052511</td>\n",
       "      <td>-0.994240</td>\n",
       "      <td>-0.029644</td>\n",
       "      <td>-0.302333</td>\n",
       "      <td>0.034030</td>\n",
       "      <td>0.179696</td>\n",
       "      <td>0.001552</td>\n",
       "      <td>0.561142</td>\n",
       "      <td>-0.005165</td>\n",
       "      <td>-0.181036</td>\n",
       "      <td>UNKNOWN</td>\n",
       "      <td>180.0</td>\n",
       "      <td>2.0</td>\n",
       "      <td>15.85</td>\n",
       "      <td>15.85</td>\n",
       "      <td>15.0</td>\n",
       "      <td>15.0</td>\n",
       "      <td>100.0</td>\n",
       "      <td>2.360</td>\n",
       "      <td>NaN</td>\n",
       "      <td>0.348701</td>\n",
       "      <td>0.126607</td>\n",
       "      <td>0.001406</td>\n",
       "      <td>7006.621053</td>\n",
       "      <td>0.003144</td>\n",
       "      <td>74.045736</td>\n",
       "      <td>-0.818207</td>\n",
       "      <td>0.482754</td>\n",
       "      <td>-0.003578</td>\n",
       "      <td>0.818573</td>\n",
       "      <td>-0.999998</td>\n",
       "      <td>0.004574</td>\n",
       "      <td>-0.728759</td>\n",
       "      <td>0.202595</td>\n",
       "      <td>-0.817490</td>\n",
       "      <td>-0.203216</td>\n",
       "      <td>0.258964</td>\n",
       "      <td>0.195718</td>\n",
       "      <td>0.721903</td>\n",
       "      <td>-0.196008</td>\n",
       "      <td>-0.674979</td>\n",
       "      <td>1.0</td>\n",
       "      <td>2.0</td>\n",
       "      <td>646.743506</td>\n",
       "      <td>590.823004</td>\n",
       "      <td>650.513314</td>\n",
       "      <td>606.454793</td>\n",
       "      <td>-73.570690</td>\n",
       "      <td>-23.618769</td>\n",
       "      <td>0.029079</td>\n",
       "      <td>271.540424</td>\n",
       "      <td>1.141390e+05</td>\n",
       "      <td>4.378610e+16</td>\n",
       "      <td>3.526780</td>\n",
       "      <td>262.191819</td>\n",
       "      <td>56.070117</td>\n",
       "      <td>54082.067268</td>\n",
       "      <td>1.800959</td>\n",
       "      <td>46.595869</td>\n",
       "      <td>0.059672</td>\n",
       "      <td>57.966413</td>\n",
       "      <td>0.003753</td>\n",
       "      <td>0.164383</td>\n",
       "      <td>0.002933</td>\n",
       "      <td>0.386393</td>\n",
       "      <td>89.0</td>\n",
       "      <td>83.0</td>\n",
       "      <td>42.0</td>\n",
       "      <td>11.0</td>\n",
       "    </tr>\n",
       "    <tr>\n",
       "      <th>2</th>\n",
       "      <td>0</td>\n",
       "      <td>0.952193</td>\n",
       "      <td>5</td>\n",
       "      <td>-10.345631</td>\n",
       "      <td>-7.847406</td>\n",
       "      <td>8.932195</td>\n",
       "      <td>14475.0</td>\n",
       "      <td>13792.0</td>\n",
       "      <td>474.6</td>\n",
       "      <td>5796.2</td>\n",
       "      <td>-13256.1</td>\n",
       "      <td>-7.0</td>\n",
       "      <td>-12637.0</td>\n",
       "      <td>-5525.9</td>\n",
       "      <td>1.0</td>\n",
       "      <td>0.0</td>\n",
       "      <td>3.79</td>\n",
       "      <td>3.80</td>\n",
       "      <td>456</td>\n",
       "      <td>455</td>\n",
       "      <td>98.5</td>\n",
       "      <td>1.257</td>\n",
       "      <td>0.4020</td>\n",
       "      <td>0.013357</td>\n",
       "      <td>0.007057</td>\n",
       "      <td>0.000060</td>\n",
       "      <td>6996.920553</td>\n",
       "      <td>0.003996</td>\n",
       "      <td>97.806418</td>\n",
       "      <td>-0.109230</td>\n",
       "      <td>0.305189</td>\n",
       "      <td>0.043711</td>\n",
       "      <td>0.107079</td>\n",
       "      <td>-0.996235</td>\n",
       "      <td>-0.034287</td>\n",
       "      <td>-0.996674</td>\n",
       "      <td>0.033933</td>\n",
       "      <td>-0.308501</td>\n",
       "      <td>-0.030161</td>\n",
       "      <td>0.123760</td>\n",
       "      <td>0.019630</td>\n",
       "      <td>0.579274</td>\n",
       "      <td>-0.023726</td>\n",
       "      <td>-0.125737</td>\n",
       "      <td>UNKNOWN</td>\n",
       "      <td>180.0</td>\n",
       "      <td>2.0</td>\n",
       "      <td>15.85</td>\n",
       "      <td>15.85</td>\n",
       "      <td>15.0</td>\n",
       "      <td>15.0</td>\n",
       "      <td>100.0</td>\n",
       "      <td>2.360</td>\n",
       "      <td>NaN</td>\n",
       "      <td>0.348701</td>\n",
       "      <td>0.126607</td>\n",
       "      <td>0.001406</td>\n",
       "      <td>7006.623524</td>\n",
       "      <td>0.003144</td>\n",
       "      <td>74.045737</td>\n",
       "      <td>-0.817408</td>\n",
       "      <td>0.483828</td>\n",
       "      <td>-0.003742</td>\n",
       "      <td>0.817774</td>\n",
       "      <td>-0.999998</td>\n",
       "      <td>0.004738</td>\n",
       "      <td>-0.729083</td>\n",
       "      <td>0.201698</td>\n",
       "      <td>-0.817662</td>\n",
       "      <td>-0.202320</td>\n",
       "      <td>0.260092</td>\n",
       "      <td>0.195558</td>\n",
       "      <td>0.721854</td>\n",
       "      <td>-0.195849</td>\n",
       "      <td>-0.675347</td>\n",
       "      <td>1.0</td>\n",
       "      <td>2.0</td>\n",
       "      <td>646.745607</td>\n",
       "      <td>590.821499</td>\n",
       "      <td>650.515082</td>\n",
       "      <td>606.457965</td>\n",
       "      <td>-73.570088</td>\n",
       "      <td>-23.618769</td>\n",
       "      <td>0.029079</td>\n",
       "      <td>347.899292</td>\n",
       "      <td>4.696004e+04</td>\n",
       "      <td>4.369105e+16</td>\n",
       "      <td>3.362037</td>\n",
       "      <td>261.666544</td>\n",
       "      <td>37.497947</td>\n",
       "      <td>54027.391201</td>\n",
       "      <td>1.821940</td>\n",
       "      <td>46.592757</td>\n",
       "      <td>0.039258</td>\n",
       "      <td>57.907599</td>\n",
       "      <td>0.003576</td>\n",
       "      <td>0.164352</td>\n",
       "      <td>0.002967</td>\n",
       "      <td>0.386381</td>\n",
       "      <td>89.0</td>\n",
       "      <td>83.0</td>\n",
       "      <td>42.0</td>\n",
       "      <td>11.0</td>\n",
       "    </tr>\n",
       "    <tr>\n",
       "      <th>3</th>\n",
       "      <td>0</td>\n",
       "      <td>0.579669</td>\n",
       "      <td>5</td>\n",
       "      <td>-10.337809</td>\n",
       "      <td>-7.845880</td>\n",
       "      <td>8.913444</td>\n",
       "      <td>14579.0</td>\n",
       "      <td>13792.0</td>\n",
       "      <td>472.7</td>\n",
       "      <td>5838.9</td>\n",
       "      <td>-13350.7</td>\n",
       "      <td>-7.0</td>\n",
       "      <td>-12637.0</td>\n",
       "      <td>-5525.9</td>\n",
       "      <td>1.0</td>\n",
       "      <td>0.0</td>\n",
       "      <td>3.86</td>\n",
       "      <td>3.86</td>\n",
       "      <td>443</td>\n",
       "      <td>442</td>\n",
       "      <td>98.4</td>\n",
       "      <td>1.254</td>\n",
       "      <td>0.4020</td>\n",
       "      <td>0.013490</td>\n",
       "      <td>0.005480</td>\n",
       "      <td>0.000065</td>\n",
       "      <td>6996.920276</td>\n",
       "      <td>0.003997</td>\n",
       "      <td>97.806423</td>\n",
       "      <td>0.021588</td>\n",
       "      <td>0.423647</td>\n",
       "      <td>0.157544</td>\n",
       "      <td>-0.032072</td>\n",
       "      <td>-0.990913</td>\n",
       "      <td>-0.149998</td>\n",
       "      <td>-0.998856</td>\n",
       "      <td>-0.059398</td>\n",
       "      <td>-0.427166</td>\n",
       "      <td>0.072214</td>\n",
       "      <td>0.228051</td>\n",
       "      <td>0.039163</td>\n",
       "      <td>0.547564</td>\n",
       "      <td>-0.049976</td>\n",
       "      <td>-0.229497</td>\n",
       "      <td>UNKNOWN</td>\n",
       "      <td>180.0</td>\n",
       "      <td>2.0</td>\n",
       "      <td>15.85</td>\n",
       "      <td>15.85</td>\n",
       "      <td>15.0</td>\n",
       "      <td>15.0</td>\n",
       "      <td>100.0</td>\n",
       "      <td>2.360</td>\n",
       "      <td>NaN</td>\n",
       "      <td>0.348701</td>\n",
       "      <td>0.126607</td>\n",
       "      <td>0.001406</td>\n",
       "      <td>7006.622932</td>\n",
       "      <td>0.003144</td>\n",
       "      <td>74.045736</td>\n",
       "      <td>-0.817557</td>\n",
       "      <td>0.483678</td>\n",
       "      <td>-0.003760</td>\n",
       "      <td>0.817923</td>\n",
       "      <td>-0.999998</td>\n",
       "      <td>0.004755</td>\n",
       "      <td>-0.728092</td>\n",
       "      <td>0.200534</td>\n",
       "      <td>-0.817883</td>\n",
       "      <td>-0.201155</td>\n",
       "      <td>0.259681</td>\n",
       "      <td>0.195808</td>\n",
       "      <td>0.721874</td>\n",
       "      <td>-0.196097</td>\n",
       "      <td>-0.675656</td>\n",
       "      <td>1.0</td>\n",
       "      <td>2.0</td>\n",
       "      <td>646.747747</td>\n",
       "      <td>590.818806</td>\n",
       "      <td>650.515635</td>\n",
       "      <td>606.456229</td>\n",
       "      <td>-73.571021</td>\n",
       "      <td>-23.618769</td>\n",
       "      <td>0.029079</td>\n",
       "      <td>435.376626</td>\n",
       "      <td>1.245478e+04</td>\n",
       "      <td>4.382408e+16</td>\n",
       "      <td>3.075781</td>\n",
       "      <td>261.759718</td>\n",
       "      <td>22.232870</td>\n",
       "      <td>54107.605750</td>\n",
       "      <td>1.826767</td>\n",
       "      <td>46.597586</td>\n",
       "      <td>0.022066</td>\n",
       "      <td>57.993905</td>\n",
       "      <td>0.003298</td>\n",
       "      <td>0.164309</td>\n",
       "      <td>0.002918</td>\n",
       "      <td>0.386400</td>\n",
       "      <td>89.0</td>\n",
       "      <td>83.0</td>\n",
       "      <td>40.0</td>\n",
       "      <td>14.0</td>\n",
       "    </tr>\n",
       "    <tr>\n",
       "      <th>4</th>\n",
       "      <td>0</td>\n",
       "      <td>0.257806</td>\n",
       "      <td>5</td>\n",
       "      <td>-10.391260</td>\n",
       "      <td>-7.852942</td>\n",
       "      <td>9.036838</td>\n",
       "      <td>14510.0</td>\n",
       "      <td>13792.0</td>\n",
       "      <td>478.7</td>\n",
       "      <td>5811.1</td>\n",
       "      <td>-13288.0</td>\n",
       "      <td>-7.0</td>\n",
       "      <td>-12637.0</td>\n",
       "      <td>-5525.9</td>\n",
       "      <td>1.0</td>\n",
       "      <td>0.0</td>\n",
       "      <td>3.86</td>\n",
       "      <td>3.86</td>\n",
       "      <td>440</td>\n",
       "      <td>439</td>\n",
       "      <td>98.8</td>\n",
       "      <td>1.340</td>\n",
       "      <td>0.4020</td>\n",
       "      <td>0.013906</td>\n",
       "      <td>0.007339</td>\n",
       "      <td>0.000068</td>\n",
       "      <td>6996.920446</td>\n",
       "      <td>0.003996</td>\n",
       "      <td>97.806426</td>\n",
       "      <td>0.417865</td>\n",
       "      <td>0.406002</td>\n",
       "      <td>0.246911</td>\n",
       "      <td>-0.465256</td>\n",
       "      <td>-0.983144</td>\n",
       "      <td>-0.243006</td>\n",
       "      <td>-0.999749</td>\n",
       "      <td>-0.430895</td>\n",
       "      <td>-0.405723</td>\n",
       "      <td>0.479990</td>\n",
       "      <td>0.223469</td>\n",
       "      <td>0.118674</td>\n",
       "      <td>0.543475</td>\n",
       "      <td>-0.143542</td>\n",
       "      <td>-0.224060</td>\n",
       "      <td>UNKNOWN</td>\n",
       "      <td>180.0</td>\n",
       "      <td>2.0</td>\n",
       "      <td>15.85</td>\n",
       "      <td>15.85</td>\n",
       "      <td>15.0</td>\n",
       "      <td>15.0</td>\n",
       "      <td>100.0</td>\n",
       "      <td>2.360</td>\n",
       "      <td>NaN</td>\n",
       "      <td>0.348701</td>\n",
       "      <td>0.126607</td>\n",
       "      <td>0.001406</td>\n",
       "      <td>7006.626646</td>\n",
       "      <td>0.003144</td>\n",
       "      <td>74.045736</td>\n",
       "      <td>-0.815980</td>\n",
       "      <td>0.485794</td>\n",
       "      <td>-0.004081</td>\n",
       "      <td>0.816347</td>\n",
       "      <td>-0.999998</td>\n",
       "      <td>0.005077</td>\n",
       "      <td>-0.727257</td>\n",
       "      <td>0.196662</td>\n",
       "      <td>-0.818575</td>\n",
       "      <td>-0.197284</td>\n",
       "      <td>0.261753</td>\n",
       "      <td>0.195657</td>\n",
       "      <td>0.721794</td>\n",
       "      <td>-0.195947</td>\n",
       "      <td>-0.677041</td>\n",
       "      <td>1.0</td>\n",
       "      <td>2.0</td>\n",
       "      <td>646.745868</td>\n",
       "      <td>590.821024</td>\n",
       "      <td>650.519613</td>\n",
       "      <td>606.459678</td>\n",
       "      <td>-73.570409</td>\n",
       "      <td>-23.618769</td>\n",
       "      <td>0.029079</td>\n",
       "      <td>469.178802</td>\n",
       "      <td>7.827098e+03</td>\n",
       "      <td>4.374142e+16</td>\n",
       "      <td>3.392176</td>\n",
       "      <td>260.727425</td>\n",
       "      <td>16.110807</td>\n",
       "      <td>54063.675421</td>\n",
       "      <td>1.958295</td>\n",
       "      <td>46.594699</td>\n",
       "      <td>0.015075</td>\n",
       "      <td>57.946717</td>\n",
       "      <td>0.003670</td>\n",
       "      <td>0.164172</td>\n",
       "      <td>0.003220</td>\n",
       "      <td>0.386388</td>\n",
       "      <td>89.0</td>\n",
       "      <td>83.0</td>\n",
       "      <td>40.0</td>\n",
       "      <td>14.0</td>\n",
       "    </tr>\n",
       "    <tr>\n",
       "      <th>...</th>\n",
       "      <td>...</td>\n",
       "      <td>...</td>\n",
       "      <td>...</td>\n",
       "      <td>...</td>\n",
       "      <td>...</td>\n",
       "      <td>...</td>\n",
       "      <td>...</td>\n",
       "      <td>...</td>\n",
       "      <td>...</td>\n",
       "      <td>...</td>\n",
       "      <td>...</td>\n",
       "      <td>...</td>\n",
       "      <td>...</td>\n",
       "      <td>...</td>\n",
       "      <td>...</td>\n",
       "      <td>...</td>\n",
       "      <td>...</td>\n",
       "      <td>...</td>\n",
       "      <td>...</td>\n",
       "      <td>...</td>\n",
       "      <td>...</td>\n",
       "      <td>...</td>\n",
       "      <td>...</td>\n",
       "      <td>...</td>\n",
       "      <td>...</td>\n",
       "      <td>...</td>\n",
       "      <td>...</td>\n",
       "      <td>...</td>\n",
       "      <td>...</td>\n",
       "      <td>...</td>\n",
       "      <td>...</td>\n",
       "      <td>...</td>\n",
       "      <td>...</td>\n",
       "      <td>...</td>\n",
       "      <td>...</td>\n",
       "      <td>...</td>\n",
       "      <td>...</td>\n",
       "      <td>...</td>\n",
       "      <td>...</td>\n",
       "      <td>...</td>\n",
       "      <td>...</td>\n",
       "      <td>...</td>\n",
       "      <td>...</td>\n",
       "      <td>...</td>\n",
       "      <td>...</td>\n",
       "      <td>...</td>\n",
       "      <td>...</td>\n",
       "      <td>...</td>\n",
       "      <td>...</td>\n",
       "      <td>...</td>\n",
       "      <td>...</td>\n",
       "      <td>...</td>\n",
       "      <td>...</td>\n",
       "      <td>...</td>\n",
       "      <td>...</td>\n",
       "      <td>...</td>\n",
       "      <td>...</td>\n",
       "      <td>...</td>\n",
       "      <td>...</td>\n",
       "      <td>...</td>\n",
       "      <td>...</td>\n",
       "      <td>...</td>\n",
       "      <td>...</td>\n",
       "      <td>...</td>\n",
       "      <td>...</td>\n",
       "      <td>...</td>\n",
       "      <td>...</td>\n",
       "      <td>...</td>\n",
       "      <td>...</td>\n",
       "      <td>...</td>\n",
       "      <td>...</td>\n",
       "      <td>...</td>\n",
       "      <td>...</td>\n",
       "      <td>...</td>\n",
       "      <td>...</td>\n",
       "      <td>...</td>\n",
       "      <td>...</td>\n",
       "      <td>...</td>\n",
       "      <td>...</td>\n",
       "      <td>...</td>\n",
       "      <td>...</td>\n",
       "      <td>...</td>\n",
       "      <td>...</td>\n",
       "      <td>...</td>\n",
       "      <td>...</td>\n",
       "      <td>...</td>\n",
       "      <td>...</td>\n",
       "      <td>...</td>\n",
       "      <td>...</td>\n",
       "      <td>...</td>\n",
       "      <td>...</td>\n",
       "      <td>...</td>\n",
       "      <td>...</td>\n",
       "      <td>...</td>\n",
       "      <td>...</td>\n",
       "      <td>...</td>\n",
       "      <td>...</td>\n",
       "      <td>...</td>\n",
       "      <td>...</td>\n",
       "      <td>...</td>\n",
       "      <td>...</td>\n",
       "      <td>...</td>\n",
       "      <td>...</td>\n",
       "    </tr>\n",
       "    <tr>\n",
       "      <th>162629</th>\n",
       "      <td>13153</td>\n",
       "      <td>3.029751</td>\n",
       "      <td>1</td>\n",
       "      <td>-7.108630</td>\n",
       "      <td>-5.142668</td>\n",
       "      <td>7.561579</td>\n",
       "      <td>2307.0</td>\n",
       "      <td>14976.0</td>\n",
       "      <td>-472.1</td>\n",
       "      <td>-159.9</td>\n",
       "      <td>-2253.1</td>\n",
       "      <td>-5.6</td>\n",
       "      <td>-14937.0</td>\n",
       "      <td>1082.7</td>\n",
       "      <td>1.0</td>\n",
       "      <td>0.0</td>\n",
       "      <td>3.70</td>\n",
       "      <td>3.70</td>\n",
       "      <td>479</td>\n",
       "      <td>479</td>\n",
       "      <td>99.2</td>\n",
       "      <td>1.169</td>\n",
       "      <td>4.8957</td>\n",
       "      <td>0.015281</td>\n",
       "      <td>0.022419</td>\n",
       "      <td>0.000021</td>\n",
       "      <td>7067.383415</td>\n",
       "      <td>0.002064</td>\n",
       "      <td>98.103051</td>\n",
       "      <td>0.609054</td>\n",
       "      <td>-0.034608</td>\n",
       "      <td>-0.063409</td>\n",
       "      <td>-0.495263</td>\n",
       "      <td>-0.990310</td>\n",
       "      <td>0.055494</td>\n",
       "      <td>-0.999986</td>\n",
       "      <td>-0.612665</td>\n",
       "      <td>0.034441</td>\n",
       "      <td>0.499247</td>\n",
       "      <td>-0.062345</td>\n",
       "      <td>-0.097198</td>\n",
       "      <td>0.703044</td>\n",
       "      <td>0.090494</td>\n",
       "      <td>0.062454</td>\n",
       "      <td>UNKNOWN</td>\n",
       "      <td>180.0</td>\n",
       "      <td>2.0</td>\n",
       "      <td>28.89</td>\n",
       "      <td>28.89</td>\n",
       "      <td>17.0</td>\n",
       "      <td>15.0</td>\n",
       "      <td>88.2</td>\n",
       "      <td>1.888</td>\n",
       "      <td>NaN</td>\n",
       "      <td>1.001898</td>\n",
       "      <td>0.271941</td>\n",
       "      <td>0.000998</td>\n",
       "      <td>7115.923023</td>\n",
       "      <td>0.004958</td>\n",
       "      <td>86.483781</td>\n",
       "      <td>-0.538440</td>\n",
       "      <td>-0.717118</td>\n",
       "      <td>-0.031436</td>\n",
       "      <td>0.537872</td>\n",
       "      <td>-0.999999</td>\n",
       "      <td>0.031831</td>\n",
       "      <td>-0.664416</td>\n",
       "      <td>-0.272000</td>\n",
       "      <td>0.846199</td>\n",
       "      <td>0.272650</td>\n",
       "      <td>0.642434</td>\n",
       "      <td>0.060384</td>\n",
       "      <td>-0.965621</td>\n",
       "      <td>-0.060522</td>\n",
       "      <td>-0.786277</td>\n",
       "      <td>21.0</td>\n",
       "      <td>2.0</td>\n",
       "      <td>703.835613</td>\n",
       "      <td>674.657217</td>\n",
       "      <td>773.069958</td>\n",
       "      <td>702.502088</td>\n",
       "      <td>-55.780625</td>\n",
       "      <td>4.145802</td>\n",
       "      <td>0.021424</td>\n",
       "      <td>45.789081</td>\n",
       "      <td>3.003271e+06</td>\n",
       "      <td>6.721353e+16</td>\n",
       "      <td>10.891979</td>\n",
       "      <td>157.412198</td>\n",
       "      <td>74.181797</td>\n",
       "      <td>45931.949665</td>\n",
       "      <td>2.709753</td>\n",
       "      <td>86.823349</td>\n",
       "      <td>0.071060</td>\n",
       "      <td>48.480202</td>\n",
       "      <td>0.011479</td>\n",
       "      <td>0.145746</td>\n",
       "      <td>0.002764</td>\n",
       "      <td>0.231577</td>\n",
       "      <td>81.0</td>\n",
       "      <td>84.0</td>\n",
       "      <td>48.0</td>\n",
       "      <td>18.0</td>\n",
       "    </tr>\n",
       "    <tr>\n",
       "      <th>162630</th>\n",
       "      <td>13153</td>\n",
       "      <td>2.799253</td>\n",
       "      <td>1</td>\n",
       "      <td>-7.070070</td>\n",
       "      <td>-5.137869</td>\n",
       "      <td>7.471857</td>\n",
       "      <td>2254.0</td>\n",
       "      <td>14976.0</td>\n",
       "      <td>-469.7</td>\n",
       "      <td>-163.3</td>\n",
       "      <td>-2199.4</td>\n",
       "      <td>-5.6</td>\n",
       "      <td>-14937.0</td>\n",
       "      <td>1082.7</td>\n",
       "      <td>1.0</td>\n",
       "      <td>0.0</td>\n",
       "      <td>3.69</td>\n",
       "      <td>3.69</td>\n",
       "      <td>482</td>\n",
       "      <td>482</td>\n",
       "      <td>99.4</td>\n",
       "      <td>1.187</td>\n",
       "      <td>4.8957</td>\n",
       "      <td>0.012927</td>\n",
       "      <td>0.011325</td>\n",
       "      <td>0.000017</td>\n",
       "      <td>7067.382735</td>\n",
       "      <td>0.002064</td>\n",
       "      <td>98.103042</td>\n",
       "      <td>0.591057</td>\n",
       "      <td>0.123080</td>\n",
       "      <td>0.053630</td>\n",
       "      <td>-0.478028</td>\n",
       "      <td>-0.990605</td>\n",
       "      <td>-0.049440</td>\n",
       "      <td>-0.999984</td>\n",
       "      <td>-0.595015</td>\n",
       "      <td>-0.123415</td>\n",
       "      <td>0.482377</td>\n",
       "      <td>0.048059</td>\n",
       "      <td>-0.007804</td>\n",
       "      <td>0.664508</td>\n",
       "      <td>0.009096</td>\n",
       "      <td>-0.048085</td>\n",
       "      <td>UNKNOWN</td>\n",
       "      <td>180.0</td>\n",
       "      <td>2.0</td>\n",
       "      <td>28.89</td>\n",
       "      <td>28.89</td>\n",
       "      <td>17.0</td>\n",
       "      <td>15.0</td>\n",
       "      <td>88.2</td>\n",
       "      <td>1.888</td>\n",
       "      <td>NaN</td>\n",
       "      <td>1.001898</td>\n",
       "      <td>0.271941</td>\n",
       "      <td>0.000998</td>\n",
       "      <td>7115.919459</td>\n",
       "      <td>0.004958</td>\n",
       "      <td>86.483780</td>\n",
       "      <td>-0.540083</td>\n",
       "      <td>-0.716144</td>\n",
       "      <td>-0.031476</td>\n",
       "      <td>0.539516</td>\n",
       "      <td>-0.999999</td>\n",
       "      <td>0.031870</td>\n",
       "      <td>-0.663148</td>\n",
       "      <td>-0.271754</td>\n",
       "      <td>0.846275</td>\n",
       "      <td>0.272403</td>\n",
       "      <td>0.641449</td>\n",
       "      <td>0.060495</td>\n",
       "      <td>-0.965611</td>\n",
       "      <td>-0.060633</td>\n",
       "      <td>-0.786360</td>\n",
       "      <td>21.0</td>\n",
       "      <td>2.0</td>\n",
       "      <td>703.831301</td>\n",
       "      <td>674.660168</td>\n",
       "      <td>773.065324</td>\n",
       "      <td>702.499594</td>\n",
       "      <td>-55.783617</td>\n",
       "      <td>4.145802</td>\n",
       "      <td>0.021424</td>\n",
       "      <td>44.748673</td>\n",
       "      <td>1.659300e+06</td>\n",
       "      <td>6.741347e+16</td>\n",
       "      <td>9.428572</td>\n",
       "      <td>157.600032</td>\n",
       "      <td>66.593341</td>\n",
       "      <td>46012.313569</td>\n",
       "      <td>2.563598</td>\n",
       "      <td>86.811860</td>\n",
       "      <td>0.063959</td>\n",
       "      <td>48.565132</td>\n",
       "      <td>0.009935</td>\n",
       "      <td>0.145729</td>\n",
       "      <td>0.002678</td>\n",
       "      <td>0.231583</td>\n",
       "      <td>78.0</td>\n",
       "      <td>84.0</td>\n",
       "      <td>49.0</td>\n",
       "      <td>19.0</td>\n",
       "    </tr>\n",
       "    <tr>\n",
       "      <th>162631</th>\n",
       "      <td>13153</td>\n",
       "      <td>2.385399</td>\n",
       "      <td>1</td>\n",
       "      <td>-7.066209</td>\n",
       "      <td>-5.137034</td>\n",
       "      <td>7.463470</td>\n",
       "      <td>2259.0</td>\n",
       "      <td>14976.0</td>\n",
       "      <td>-469.3</td>\n",
       "      <td>-158.8</td>\n",
       "      <td>-2204.7</td>\n",
       "      <td>-5.6</td>\n",
       "      <td>-14937.0</td>\n",
       "      <td>1082.7</td>\n",
       "      <td>1.0</td>\n",
       "      <td>0.0</td>\n",
       "      <td>3.70</td>\n",
       "      <td>3.70</td>\n",
       "      <td>479</td>\n",
       "      <td>479</td>\n",
       "      <td>99.4</td>\n",
       "      <td>1.175</td>\n",
       "      <td>4.8957</td>\n",
       "      <td>0.011416</td>\n",
       "      <td>0.012109</td>\n",
       "      <td>0.000015</td>\n",
       "      <td>7067.383054</td>\n",
       "      <td>0.002064</td>\n",
       "      <td>98.103046</td>\n",
       "      <td>0.677376</td>\n",
       "      <td>0.055617</td>\n",
       "      <td>0.025961</td>\n",
       "      <td>-0.579211</td>\n",
       "      <td>-0.991510</td>\n",
       "      <td>-0.032178</td>\n",
       "      <td>-0.999986</td>\n",
       "      <td>-0.680635</td>\n",
       "      <td>-0.056051</td>\n",
       "      <td>0.582867</td>\n",
       "      <td>-0.003326</td>\n",
       "      <td>-0.029615</td>\n",
       "      <td>0.670487</td>\n",
       "      <td>0.023406</td>\n",
       "      <td>0.003180</td>\n",
       "      <td>UNKNOWN</td>\n",
       "      <td>180.0</td>\n",
       "      <td>2.0</td>\n",
       "      <td>28.89</td>\n",
       "      <td>28.89</td>\n",
       "      <td>17.0</td>\n",
       "      <td>15.0</td>\n",
       "      <td>88.2</td>\n",
       "      <td>1.888</td>\n",
       "      <td>NaN</td>\n",
       "      <td>1.001898</td>\n",
       "      <td>0.271941</td>\n",
       "      <td>0.000998</td>\n",
       "      <td>7115.920699</td>\n",
       "      <td>0.004958</td>\n",
       "      <td>86.483780</td>\n",
       "      <td>-0.539379</td>\n",
       "      <td>-0.716553</td>\n",
       "      <td>-0.031477</td>\n",
       "      <td>0.538812</td>\n",
       "      <td>-0.999999</td>\n",
       "      <td>0.031871</td>\n",
       "      <td>-0.663521</td>\n",
       "      <td>-0.272079</td>\n",
       "      <td>0.846203</td>\n",
       "      <td>0.272728</td>\n",
       "      <td>0.641860</td>\n",
       "      <td>0.060470</td>\n",
       "      <td>-0.965613</td>\n",
       "      <td>-0.060608</td>\n",
       "      <td>-0.786295</td>\n",
       "      <td>21.0</td>\n",
       "      <td>2.0</td>\n",
       "      <td>703.831938</td>\n",
       "      <td>674.660170</td>\n",
       "      <td>773.066604</td>\n",
       "      <td>702.500793</td>\n",
       "      <td>-55.783325</td>\n",
       "      <td>4.145802</td>\n",
       "      <td>0.021424</td>\n",
       "      <td>45.020671</td>\n",
       "      <td>1.113521e+06</td>\n",
       "      <td>6.737275e+16</td>\n",
       "      <td>9.004366</td>\n",
       "      <td>157.519300</td>\n",
       "      <td>63.188385</td>\n",
       "      <td>45995.488909</td>\n",
       "      <td>2.525359</td>\n",
       "      <td>86.813138</td>\n",
       "      <td>0.059657</td>\n",
       "      <td>48.547317</td>\n",
       "      <td>0.009491</td>\n",
       "      <td>0.145745</td>\n",
       "      <td>0.002632</td>\n",
       "      <td>0.231582</td>\n",
       "      <td>78.0</td>\n",
       "      <td>84.0</td>\n",
       "      <td>49.0</td>\n",
       "      <td>19.0</td>\n",
       "    </tr>\n",
       "    <tr>\n",
       "      <th>162632</th>\n",
       "      <td>13153</td>\n",
       "      <td>2.043339</td>\n",
       "      <td>1</td>\n",
       "      <td>-7.028307</td>\n",
       "      <td>-5.131297</td>\n",
       "      <td>7.378397</td>\n",
       "      <td>2257.0</td>\n",
       "      <td>14976.0</td>\n",
       "      <td>-465.2</td>\n",
       "      <td>-160.3</td>\n",
       "      <td>-2203.0</td>\n",
       "      <td>-5.6</td>\n",
       "      <td>-14937.0</td>\n",
       "      <td>1082.7</td>\n",
       "      <td>1.0</td>\n",
       "      <td>0.0</td>\n",
       "      <td>3.70</td>\n",
       "      <td>3.70</td>\n",
       "      <td>476</td>\n",
       "      <td>476</td>\n",
       "      <td>99.5</td>\n",
       "      <td>1.170</td>\n",
       "      <td>4.8957</td>\n",
       "      <td>0.009455</td>\n",
       "      <td>0.000052</td>\n",
       "      <td>0.000013</td>\n",
       "      <td>7067.383240</td>\n",
       "      <td>0.002063</td>\n",
       "      <td>98.103041</td>\n",
       "      <td>0.187454</td>\n",
       "      <td>0.251362</td>\n",
       "      <td>0.049235</td>\n",
       "      <td>-0.144822</td>\n",
       "      <td>-0.998222</td>\n",
       "      <td>-0.049582</td>\n",
       "      <td>-0.999870</td>\n",
       "      <td>-0.200730</td>\n",
       "      <td>-0.252490</td>\n",
       "      <td>0.158366</td>\n",
       "      <td>0.015642</td>\n",
       "      <td>-0.026169</td>\n",
       "      <td>0.667362</td>\n",
       "      <td>0.014905</td>\n",
       "      <td>-0.016406</td>\n",
       "      <td>UNKNOWN</td>\n",
       "      <td>180.0</td>\n",
       "      <td>2.0</td>\n",
       "      <td>28.89</td>\n",
       "      <td>28.89</td>\n",
       "      <td>17.0</td>\n",
       "      <td>15.0</td>\n",
       "      <td>88.2</td>\n",
       "      <td>1.888</td>\n",
       "      <td>NaN</td>\n",
       "      <td>1.001898</td>\n",
       "      <td>0.271941</td>\n",
       "      <td>0.000998</td>\n",
       "      <td>7115.921263</td>\n",
       "      <td>0.004958</td>\n",
       "      <td>86.483780</td>\n",
       "      <td>-0.539317</td>\n",
       "      <td>-0.716592</td>\n",
       "      <td>-0.031474</td>\n",
       "      <td>0.538750</td>\n",
       "      <td>-0.999999</td>\n",
       "      <td>0.031868</td>\n",
       "      <td>-0.663776</td>\n",
       "      <td>-0.271822</td>\n",
       "      <td>0.846259</td>\n",
       "      <td>0.272471</td>\n",
       "      <td>0.641902</td>\n",
       "      <td>0.060459</td>\n",
       "      <td>-0.965613</td>\n",
       "      <td>-0.060597</td>\n",
       "      <td>-0.786338</td>\n",
       "      <td>21.0</td>\n",
       "      <td>2.0</td>\n",
       "      <td>703.828530</td>\n",
       "      <td>674.663949</td>\n",
       "      <td>773.067633</td>\n",
       "      <td>702.500893</td>\n",
       "      <td>-55.783425</td>\n",
       "      <td>4.145802</td>\n",
       "      <td>0.021424</td>\n",
       "      <td>45.262300</td>\n",
       "      <td>4.830004e+04</td>\n",
       "      <td>6.735341e+16</td>\n",
       "      <td>2.475520</td>\n",
       "      <td>157.512031</td>\n",
       "      <td>37.849716</td>\n",
       "      <td>45989.150895</td>\n",
       "      <td>2.467095</td>\n",
       "      <td>86.812695</td>\n",
       "      <td>0.039351</td>\n",
       "      <td>48.540602</td>\n",
       "      <td>0.002612</td>\n",
       "      <td>0.145734</td>\n",
       "      <td>0.002631</td>\n",
       "      <td>0.231583</td>\n",
       "      <td>78.0</td>\n",
       "      <td>84.0</td>\n",
       "      <td>49.0</td>\n",
       "      <td>19.0</td>\n",
       "    </tr>\n",
       "    <tr>\n",
       "      <th>162633</th>\n",
       "      <td>13153</td>\n",
       "      <td>1.618095</td>\n",
       "      <td>1</td>\n",
       "      <td>-7.172372</td>\n",
       "      <td>-5.152181</td>\n",
       "      <td>7.705750</td>\n",
       "      <td>2185.0</td>\n",
       "      <td>14976.0</td>\n",
       "      <td>-479.6</td>\n",
       "      <td>-156.0</td>\n",
       "      <td>-2126.3</td>\n",
       "      <td>-5.6</td>\n",
       "      <td>-14937.0</td>\n",
       "      <td>1082.7</td>\n",
       "      <td>1.0</td>\n",
       "      <td>0.0</td>\n",
       "      <td>3.70</td>\n",
       "      <td>3.70</td>\n",
       "      <td>476</td>\n",
       "      <td>476</td>\n",
       "      <td>99.4</td>\n",
       "      <td>1.142</td>\n",
       "      <td>4.8957</td>\n",
       "      <td>0.006322</td>\n",
       "      <td>0.024437</td>\n",
       "      <td>0.000009</td>\n",
       "      <td>7067.382276</td>\n",
       "      <td>0.002065</td>\n",
       "      <td>98.103043</td>\n",
       "      <td>0.865302</td>\n",
       "      <td>-0.002622</td>\n",
       "      <td>-0.024899</td>\n",
       "      <td>-0.807270</td>\n",
       "      <td>-0.993624</td>\n",
       "      <td>0.012904</td>\n",
       "      <td>-0.999992</td>\n",
       "      <td>-0.866991</td>\n",
       "      <td>0.002176</td>\n",
       "      <td>0.809315</td>\n",
       "      <td>0.019767</td>\n",
       "      <td>-0.041085</td>\n",
       "      <td>0.616196</td>\n",
       "      <td>0.042833</td>\n",
       "      <td>-0.019714</td>\n",
       "      <td>UNKNOWN</td>\n",
       "      <td>180.0</td>\n",
       "      <td>2.0</td>\n",
       "      <td>28.89</td>\n",
       "      <td>28.89</td>\n",
       "      <td>17.0</td>\n",
       "      <td>15.0</td>\n",
       "      <td>88.2</td>\n",
       "      <td>1.888</td>\n",
       "      <td>NaN</td>\n",
       "      <td>1.001898</td>\n",
       "      <td>0.271941</td>\n",
       "      <td>0.000998</td>\n",
       "      <td>7115.915411</td>\n",
       "      <td>0.004958</td>\n",
       "      <td>86.483780</td>\n",
       "      <td>-0.541893</td>\n",
       "      <td>-0.715069</td>\n",
       "      <td>-0.031516</td>\n",
       "      <td>0.541329</td>\n",
       "      <td>-0.999999</td>\n",
       "      <td>0.031910</td>\n",
       "      <td>-0.661655</td>\n",
       "      <td>-0.271600</td>\n",
       "      <td>0.846336</td>\n",
       "      <td>0.272247</td>\n",
       "      <td>0.640355</td>\n",
       "      <td>0.060625</td>\n",
       "      <td>-0.965599</td>\n",
       "      <td>-0.060763</td>\n",
       "      <td>-0.786434</td>\n",
       "      <td>21.0</td>\n",
       "      <td>2.0</td>\n",
       "      <td>703.837233</td>\n",
       "      <td>674.653319</td>\n",
       "      <td>773.059801</td>\n",
       "      <td>702.497021</td>\n",
       "      <td>-55.787587</td>\n",
       "      <td>4.145802</td>\n",
       "      <td>0.021424</td>\n",
       "      <td>43.445526</td>\n",
       "      <td>3.608641e+05</td>\n",
       "      <td>6.767070e+16</td>\n",
       "      <td>9.006150</td>\n",
       "      <td>157.809030</td>\n",
       "      <td>53.696853</td>\n",
       "      <td>46114.618073</td>\n",
       "      <td>2.480696</td>\n",
       "      <td>86.796901</td>\n",
       "      <td>0.047452</td>\n",
       "      <td>48.673155</td>\n",
       "      <td>0.009494</td>\n",
       "      <td>0.145716</td>\n",
       "      <td>0.002693</td>\n",
       "      <td>0.231592</td>\n",
       "      <td>78.0</td>\n",
       "      <td>84.0</td>\n",
       "      <td>48.0</td>\n",
       "      <td>10.0</td>\n",
       "    </tr>\n",
       "  </tbody>\n",
       "</table>\n",
       "<p>162634 rows × 103 columns</p>\n",
       "</div>"
      ],
      "text/plain": [
       "        event_id  time_to_tca  mission_id       risk  max_risk_estimate  \\\n",
       "0              0     1.566798           5 -10.204955          -7.834756   \n",
       "1              0     1.207494           5 -10.355758          -7.848937   \n",
       "2              0     0.952193           5 -10.345631          -7.847406   \n",
       "3              0     0.579669           5 -10.337809          -7.845880   \n",
       "4              0     0.257806           5 -10.391260          -7.852942   \n",
       "...          ...          ...         ...        ...                ...   \n",
       "162629     13153     3.029751           1  -7.108630          -5.142668   \n",
       "162630     13153     2.799253           1  -7.070070          -5.137869   \n",
       "162631     13153     2.385399           1  -7.066209          -5.137034   \n",
       "162632     13153     2.043339           1  -7.028307          -5.131297   \n",
       "162633     13153     1.618095           1  -7.172372          -5.152181   \n",
       "\n",
       "        max_risk_scaling  miss_distance  relative_speed  relative_position_r  \\\n",
       "0               8.602101        14923.0         13792.0                453.8   \n",
       "1               8.956374        14544.0         13792.0                474.3   \n",
       "2               8.932195        14475.0         13792.0                474.6   \n",
       "3               8.913444        14579.0         13792.0                472.7   \n",
       "4               9.036838        14510.0         13792.0                478.7   \n",
       "...                  ...            ...             ...                  ...   \n",
       "162629          7.561579         2307.0         14976.0               -472.1   \n",
       "162630          7.471857         2254.0         14976.0               -469.7   \n",
       "162631          7.463470         2259.0         14976.0               -469.3   \n",
       "162632          7.378397         2257.0         14976.0               -465.2   \n",
       "162633          7.705750         2185.0         14976.0               -479.6   \n",
       "\n",
       "        relative_position_t  relative_position_n  relative_velocity_r  \\\n",
       "0                    5976.6             -13666.8                 -7.2   \n",
       "1                    5821.2             -13319.8                 -7.0   \n",
       "2                    5796.2             -13256.1                 -7.0   \n",
       "3                    5838.9             -13350.7                 -7.0   \n",
       "4                    5811.1             -13288.0                 -7.0   \n",
       "...                     ...                  ...                  ...   \n",
       "162629               -159.9              -2253.1                 -5.6   \n",
       "162630               -163.3              -2199.4                 -5.6   \n",
       "162631               -158.8              -2204.7                 -5.6   \n",
       "162632               -160.3              -2203.0                 -5.6   \n",
       "162633               -156.0              -2126.3                 -5.6   \n",
       "\n",
       "        relative_velocity_t  relative_velocity_n  t_time_lastob_start  \\\n",
       "0                  -12637.0              -5525.9                  1.0   \n",
       "1                  -12637.0              -5525.9                  1.0   \n",
       "2                  -12637.0              -5525.9                  1.0   \n",
       "3                  -12637.0              -5525.9                  1.0   \n",
       "4                  -12637.0              -5525.9                  1.0   \n",
       "...                     ...                  ...                  ...   \n",
       "162629             -14937.0               1082.7                  1.0   \n",
       "162630             -14937.0               1082.7                  1.0   \n",
       "162631             -14937.0               1082.7                  1.0   \n",
       "162632             -14937.0               1082.7                  1.0   \n",
       "162633             -14937.0               1082.7                  1.0   \n",
       "\n",
       "        t_time_lastob_end  t_recommended_od_span  t_actual_od_span  \\\n",
       "0                     0.0                   3.78              3.78   \n",
       "1                     0.0                   3.79              3.79   \n",
       "2                     0.0                   3.79              3.80   \n",
       "3                     0.0                   3.86              3.86   \n",
       "4                     0.0                   3.86              3.86   \n",
       "...                   ...                    ...               ...   \n",
       "162629                0.0                   3.70              3.70   \n",
       "162630                0.0                   3.69              3.69   \n",
       "162631                0.0                   3.70              3.70   \n",
       "162632                0.0                   3.70              3.70   \n",
       "162633                0.0                   3.70              3.70   \n",
       "\n",
       "        t_obs_available  t_obs_used  t_residuals_accepted  t_weighted_rms  \\\n",
       "0                   459         458                  98.9           1.265   \n",
       "1                   456         455                  98.5           1.270   \n",
       "2                   456         455                  98.5           1.257   \n",
       "3                   443         442                  98.4           1.254   \n",
       "4                   440         439                  98.8           1.340   \n",
       "...                 ...         ...                   ...             ...   \n",
       "162629              479         479                  99.2           1.169   \n",
       "162630              482         482                  99.4           1.187   \n",
       "162631              479         479                  99.4           1.175   \n",
       "162632              476         476                  99.5           1.170   \n",
       "162633              476         476                  99.4           1.142   \n",
       "\n",
       "        t_rcs_estimate  t_cd_area_over_mass  t_cr_area_over_mass    t_sedr  \\\n",
       "0               0.4020             0.013826             0.007173  0.000051   \n",
       "1               0.4020             0.013487             0.009139  0.000060   \n",
       "2               0.4020             0.013357             0.007057  0.000060   \n",
       "3               0.4020             0.013490             0.005480  0.000065   \n",
       "4               0.4020             0.013906             0.007339  0.000068   \n",
       "...                ...                  ...                  ...       ...   \n",
       "162629          4.8957             0.015281             0.022419  0.000021   \n",
       "162630          4.8957             0.012927             0.011325  0.000017   \n",
       "162631          4.8957             0.011416             0.012109  0.000015   \n",
       "162632          4.8957             0.009455             0.000052  0.000013   \n",
       "162633          4.8957             0.006322             0.024437  0.000009   \n",
       "\n",
       "          t_j2k_sma  t_j2k_ecc  t_j2k_inc    t_ct_r    t_cn_r    t_cn_t  \\\n",
       "0       6996.918867   0.003997  97.806412 -0.397969  0.292258  0.040799   \n",
       "1       6996.920255   0.003996  97.806420 -0.073137  0.297366  0.060541   \n",
       "2       6996.920553   0.003996  97.806418 -0.109230  0.305189  0.043711   \n",
       "3       6996.920276   0.003997  97.806423  0.021588  0.423647  0.157544   \n",
       "4       6996.920446   0.003996  97.806426  0.417865  0.406002  0.246911   \n",
       "...             ...        ...        ...       ...       ...       ...   \n",
       "162629  7067.383415   0.002064  98.103051  0.609054 -0.034608 -0.063409   \n",
       "162630  7067.382735   0.002064  98.103042  0.591057  0.123080  0.053630   \n",
       "162631  7067.383054   0.002064  98.103046  0.677376  0.055617  0.025961   \n",
       "162632  7067.383240   0.002063  98.103041  0.187454  0.251362  0.049235   \n",
       "162633  7067.382276   0.002065  98.103043  0.865302 -0.002622 -0.024899   \n",
       "\n",
       "        t_crdot_r  t_crdot_t  t_crdot_n  t_ctdot_r  t_ctdot_t  t_ctdot_n  \\\n",
       "0        0.394221  -0.999674  -0.038498  -0.981098   0.214612  -0.316493   \n",
       "1        0.069652  -0.998192  -0.052511  -0.994240  -0.029644  -0.302333   \n",
       "2        0.107079  -0.996235  -0.034287  -0.996674   0.033933  -0.308501   \n",
       "3       -0.032072  -0.990913  -0.149998  -0.998856  -0.059398  -0.427166   \n",
       "4       -0.465256  -0.983144  -0.243006  -0.999749  -0.430895  -0.405723   \n",
       "...           ...        ...        ...        ...        ...        ...   \n",
       "162629  -0.495263  -0.990310   0.055494  -0.999986  -0.612665   0.034441   \n",
       "162630  -0.478028  -0.990605  -0.049440  -0.999984  -0.595015  -0.123415   \n",
       "162631  -0.579211  -0.991510  -0.032178  -0.999986  -0.680635  -0.056051   \n",
       "162632  -0.144822  -0.998222  -0.049582  -0.999870  -0.200730  -0.252490   \n",
       "162633  -0.807270  -0.993624   0.012904  -0.999992  -0.866991   0.002176   \n",
       "\n",
       "        t_ctdot_rdot  t_cndot_r  t_cndot_t  t_cndot_n  t_cndot_rdot  \\\n",
       "0          -0.210247   0.170737  -0.001551   0.531593      0.002117   \n",
       "1           0.034030   0.179696   0.001552   0.561142     -0.005165   \n",
       "2          -0.030161   0.123760   0.019630   0.579274     -0.023726   \n",
       "3           0.072214   0.228051   0.039163   0.547564     -0.049976   \n",
       "4           0.479990   0.223469   0.118674   0.543475     -0.143542   \n",
       "...              ...        ...        ...        ...           ...   \n",
       "162629      0.499247  -0.062345  -0.097198   0.703044      0.090494   \n",
       "162630      0.482377   0.048059  -0.007804   0.664508      0.009096   \n",
       "162631      0.582867  -0.003326  -0.029615   0.670487      0.023406   \n",
       "162632      0.158366   0.015642  -0.026169   0.667362      0.014905   \n",
       "162633      0.809315   0.019767  -0.041085   0.616196      0.042833   \n",
       "\n",
       "        t_cndot_tdot c_object_type  c_time_lastob_start  c_time_lastob_end  \\\n",
       "0          -0.179278       UNKNOWN                180.0                2.0   \n",
       "1          -0.181036       UNKNOWN                180.0                2.0   \n",
       "2          -0.125737       UNKNOWN                180.0                2.0   \n",
       "3          -0.229497       UNKNOWN                180.0                2.0   \n",
       "4          -0.224060       UNKNOWN                180.0                2.0   \n",
       "...              ...           ...                  ...                ...   \n",
       "162629      0.062454       UNKNOWN                180.0                2.0   \n",
       "162630     -0.048085       UNKNOWN                180.0                2.0   \n",
       "162631      0.003180       UNKNOWN                180.0                2.0   \n",
       "162632     -0.016406       UNKNOWN                180.0                2.0   \n",
       "162633     -0.019714       UNKNOWN                180.0                2.0   \n",
       "\n",
       "        c_recommended_od_span  c_actual_od_span  c_obs_available  c_obs_used  \\\n",
       "0                       15.85             15.85             15.0        15.0   \n",
       "1                       15.85             15.85             15.0        15.0   \n",
       "2                       15.85             15.85             15.0        15.0   \n",
       "3                       15.85             15.85             15.0        15.0   \n",
       "4                       15.85             15.85             15.0        15.0   \n",
       "...                       ...               ...              ...         ...   \n",
       "162629                  28.89             28.89             17.0        15.0   \n",
       "162630                  28.89             28.89             17.0        15.0   \n",
       "162631                  28.89             28.89             17.0        15.0   \n",
       "162632                  28.89             28.89             17.0        15.0   \n",
       "162633                  28.89             28.89             17.0        15.0   \n",
       "\n",
       "        c_residuals_accepted  c_weighted_rms  c_rcs_estimate  \\\n",
       "0                      100.0           2.360             NaN   \n",
       "1                      100.0           2.360             NaN   \n",
       "2                      100.0           2.360             NaN   \n",
       "3                      100.0           2.360             NaN   \n",
       "4                      100.0           2.360             NaN   \n",
       "...                      ...             ...             ...   \n",
       "162629                  88.2           1.888             NaN   \n",
       "162630                  88.2           1.888             NaN   \n",
       "162631                  88.2           1.888             NaN   \n",
       "162632                  88.2           1.888             NaN   \n",
       "162633                  88.2           1.888             NaN   \n",
       "\n",
       "        c_cd_area_over_mass  c_cr_area_over_mass    c_sedr    c_j2k_sma  \\\n",
       "0                  0.348701             0.126607  0.001406  7006.607320   \n",
       "1                  0.348701             0.126607  0.001406  7006.621053   \n",
       "2                  0.348701             0.126607  0.001406  7006.623524   \n",
       "3                  0.348701             0.126607  0.001406  7006.622932   \n",
       "4                  0.348701             0.126607  0.001406  7006.626646   \n",
       "...                     ...                  ...       ...          ...   \n",
       "162629             1.001898             0.271941  0.000998  7115.923023   \n",
       "162630             1.001898             0.271941  0.000998  7115.919459   \n",
       "162631             1.001898             0.271941  0.000998  7115.920699   \n",
       "162632             1.001898             0.271941  0.000998  7115.921263   \n",
       "162633             1.001898             0.271941  0.000998  7115.915411   \n",
       "\n",
       "        c_j2k_ecc  c_j2k_inc    c_ct_r    c_cn_r    c_cn_t  c_crdot_r  \\\n",
       "0        0.003144  74.045735 -0.824859  0.473976 -0.002576   0.825216   \n",
       "1        0.003144  74.045736 -0.818207  0.482754 -0.003578   0.818573   \n",
       "2        0.003144  74.045737 -0.817408  0.483828 -0.003742   0.817774   \n",
       "3        0.003144  74.045736 -0.817557  0.483678 -0.003760   0.817923   \n",
       "4        0.003144  74.045736 -0.815980  0.485794 -0.004081   0.816347   \n",
       "...           ...        ...       ...       ...       ...        ...   \n",
       "162629   0.004958  86.483781 -0.538440 -0.717118 -0.031436   0.537872   \n",
       "162630   0.004958  86.483780 -0.540083 -0.716144 -0.031476   0.539516   \n",
       "162631   0.004958  86.483780 -0.539379 -0.716553 -0.031477   0.538812   \n",
       "162632   0.004958  86.483780 -0.539317 -0.716592 -0.031474   0.538750   \n",
       "162633   0.004958  86.483780 -0.541893 -0.715069 -0.031516   0.541329   \n",
       "\n",
       "        c_crdot_t  c_crdot_n  c_ctdot_r  c_ctdot_t  c_ctdot_n  c_ctdot_rdot  \\\n",
       "0       -0.999998   0.003565  -0.732954   0.220006  -0.814249     -0.220621   \n",
       "1       -0.999998   0.004574  -0.728759   0.202595  -0.817490     -0.203216   \n",
       "2       -0.999998   0.004738  -0.729083   0.201698  -0.817662     -0.202320   \n",
       "3       -0.999998   0.004755  -0.728092   0.200534  -0.817883     -0.201155   \n",
       "4       -0.999998   0.005077  -0.727257   0.196662  -0.818575     -0.197284   \n",
       "...           ...        ...        ...        ...        ...           ...   \n",
       "162629  -0.999999   0.031831  -0.664416  -0.272000   0.846199      0.272650   \n",
       "162630  -0.999999   0.031870  -0.663148  -0.271754   0.846275      0.272403   \n",
       "162631  -0.999999   0.031871  -0.663521  -0.272079   0.846203      0.272728   \n",
       "162632  -0.999999   0.031868  -0.663776  -0.271822   0.846259      0.272471   \n",
       "162633  -0.999999   0.031910  -0.661655  -0.271600   0.846336      0.272247   \n",
       "\n",
       "        c_cndot_r  c_cndot_t  c_cndot_n  c_cndot_rdot  c_cndot_tdot  t_span  \\\n",
       "0        0.249855   0.196620   0.722186     -0.196908     -0.668487     1.0   \n",
       "1        0.258964   0.195718   0.721903     -0.196008     -0.674979     1.0   \n",
       "2        0.260092   0.195558   0.721854     -0.195849     -0.675347     1.0   \n",
       "3        0.259681   0.195808   0.721874     -0.196097     -0.675656     1.0   \n",
       "4        0.261753   0.195657   0.721794     -0.195947     -0.677041     1.0   \n",
       "...           ...        ...        ...           ...           ...     ...   \n",
       "162629   0.642434   0.060384  -0.965621     -0.060522     -0.786277    21.0   \n",
       "162630   0.641449   0.060495  -0.965611     -0.060633     -0.786360    21.0   \n",
       "162631   0.641860   0.060470  -0.965613     -0.060608     -0.786295    21.0   \n",
       "162632   0.641902   0.060459  -0.965613     -0.060597     -0.786338    21.0   \n",
       "162633   0.640355   0.060625  -0.965599     -0.060763     -0.786434    21.0   \n",
       "\n",
       "        c_span     t_h_apo     t_h_per     c_h_apo     c_h_per  \\\n",
       "0          2.0  646.745439  590.818294  650.497251  606.443389   \n",
       "1          2.0  646.743506  590.823004  650.513314  606.454793   \n",
       "2          2.0  646.745607  590.821499  650.515082  606.457965   \n",
       "3          2.0  646.747747  590.818806  650.515635  606.456229   \n",
       "4          2.0  646.745868  590.821024  650.519613  606.459678   \n",
       "...        ...         ...         ...         ...         ...   \n",
       "162629     2.0  703.835613  674.657217  773.069958  702.502088   \n",
       "162630     2.0  703.831301  674.660168  773.065324  702.499594   \n",
       "162631     2.0  703.831938  674.660170  773.066604  702.500793   \n",
       "162632     2.0  703.828530  674.663949  773.067633  702.500893   \n",
       "162633     2.0  703.837233  674.653319  773.059801  702.497021   \n",
       "\n",
       "        geocentric_latitude    azimuth  elevation  mahalanobis_distance  \\\n",
       "0                -73.574095 -23.618769   0.029910            129.430951   \n",
       "1                -73.570690 -23.618769   0.029079            271.540424   \n",
       "2                -73.570088 -23.618769   0.029079            347.899292   \n",
       "3                -73.571021 -23.618769   0.029079            435.376626   \n",
       "4                -73.570409 -23.618769   0.029079            469.178802   \n",
       "...                     ...        ...        ...                   ...   \n",
       "162629           -55.780625   4.145802   0.021424             45.789081   \n",
       "162630           -55.783617   4.145802   0.021424             44.748673   \n",
       "162631           -55.783325   4.145802   0.021424             45.020671   \n",
       "162632           -55.783425   4.145802   0.021424             45.262300   \n",
       "162633           -55.787587   4.145802   0.021424             43.445526   \n",
       "\n",
       "        t_position_covariance_det  c_position_covariance_det  t_sigma_r  \\\n",
       "0                    7.373471e+05               4.429923e+16   4.057932   \n",
       "1                    1.141390e+05               4.378610e+16   3.526780   \n",
       "2                    4.696004e+04               4.369105e+16   3.362037   \n",
       "3                    1.245478e+04               4.382408e+16   3.075781   \n",
       "4                    7.827098e+03               4.374142e+16   3.392176   \n",
       "...                           ...                        ...        ...   \n",
       "162629               3.003271e+06               6.721353e+16  10.891979   \n",
       "162630               1.659300e+06               6.741347e+16   9.428572   \n",
       "162631               1.113521e+06               6.737275e+16   9.004366   \n",
       "162632               4.830004e+04               6.735341e+16   2.475520   \n",
       "162633               3.608641e+05               6.767070e+16   9.006150   \n",
       "\n",
       "         c_sigma_r   t_sigma_t     c_sigma_t  t_sigma_n  c_sigma_n  \\\n",
       "0       266.722309  137.617114  54366.864909   1.781418  46.612573   \n",
       "1       262.191819   56.070117  54082.067268   1.800959  46.595869   \n",
       "2       261.666544   37.497947  54027.391201   1.821940  46.592757   \n",
       "3       261.759718   22.232870  54107.605750   1.826767  46.597586   \n",
       "4       260.727425   16.110807  54063.675421   1.958295  46.594699   \n",
       "...            ...         ...           ...        ...        ...   \n",
       "162629  157.412198   74.181797  45931.949665   2.709753  86.823349   \n",
       "162630  157.600032   66.593341  46012.313569   2.563598  86.811860   \n",
       "162631  157.519300   63.188385  45995.488909   2.525359  86.813138   \n",
       "162632  157.512031   37.849716  45989.150895   2.467095  86.812695   \n",
       "162633  157.809030   53.696853  46114.618073   2.480696  86.796901   \n",
       "\n",
       "        t_sigma_rdot  c_sigma_rdot  t_sigma_tdot  c_sigma_tdot  t_sigma_ndot  \\\n",
       "0           0.147350     58.272095      0.004092      0.165044      0.002987   \n",
       "1           0.059672     57.966413      0.003753      0.164383      0.002933   \n",
       "2           0.039258     57.907599      0.003576      0.164352      0.002967   \n",
       "3           0.022066     57.993905      0.003298      0.164309      0.002918   \n",
       "4           0.015075     57.946717      0.003670      0.164172      0.003220   \n",
       "...              ...           ...           ...           ...           ...   \n",
       "162629      0.071060     48.480202      0.011479      0.145746      0.002764   \n",
       "162630      0.063959     48.565132      0.009935      0.145729      0.002678   \n",
       "162631      0.059657     48.547317      0.009491      0.145745      0.002632   \n",
       "162632      0.039351     48.540602      0.002612      0.145734      0.002631   \n",
       "162633      0.047452     48.673155      0.009494      0.145716      0.002693   \n",
       "\n",
       "        c_sigma_ndot   F10   F3M   SSN    AP  \n",
       "0           0.386462  89.0  83.0  42.0  11.0  \n",
       "1           0.386393  89.0  83.0  42.0  11.0  \n",
       "2           0.386381  89.0  83.0  42.0  11.0  \n",
       "3           0.386400  89.0  83.0  40.0  14.0  \n",
       "4           0.386388  89.0  83.0  40.0  14.0  \n",
       "...              ...   ...   ...   ...   ...  \n",
       "162629      0.231577  81.0  84.0  48.0  18.0  \n",
       "162630      0.231583  78.0  84.0  49.0  19.0  \n",
       "162631      0.231582  78.0  84.0  49.0  19.0  \n",
       "162632      0.231583  78.0  84.0  49.0  19.0  \n",
       "162633      0.231592  78.0  84.0  48.0  10.0  \n",
       "\n",
       "[162634 rows x 103 columns]"
      ]
     },
     "execution_count": 150,
     "metadata": {
      "tags": []
     },
     "output_type": "execute_result"
    }
   ],
   "source": [
    "import io\n",
    "df = pd.read_csv(io.BytesIO(uploaded['train_data.csv']))\n",
    "df"
   ]
  },
  {
   "cell_type": "code",
   "execution_count": 151,
   "metadata": {
    "colab": {
     "base_uri": "https://localhost:8080/",
     "height": 346
    },
    "colab_type": "code",
    "id": "a66w9g4XPv3H",
    "outputId": "81ea59ba-ac7a-4b89-d169-b9d44f599855"
   },
   "outputs": [
    {
     "name": "stdout",
     "output_type": "stream",
     "text": [
      "WARNING:tensorflow:Unresolved object in checkpoint: (root).optimizer.iter\n",
      "WARNING:tensorflow:Unresolved object in checkpoint: (root).optimizer.beta_1\n",
      "WARNING:tensorflow:Unresolved object in checkpoint: (root).optimizer.beta_2\n",
      "WARNING:tensorflow:Unresolved object in checkpoint: (root).optimizer.decay\n",
      "WARNING:tensorflow:Unresolved object in checkpoint: (root).optimizer.learning_rate\n",
      "WARNING:tensorflow:Unresolved object in checkpoint: (root).optimizer's state 'm' for (root).layer_with_weights-1.kernel\n",
      "WARNING:tensorflow:Unresolved object in checkpoint: (root).optimizer's state 'm' for (root).layer_with_weights-1.bias\n",
      "WARNING:tensorflow:Unresolved object in checkpoint: (root).optimizer's state 'm' for (root).layer_with_weights-0.cell.kernel\n",
      "WARNING:tensorflow:Unresolved object in checkpoint: (root).optimizer's state 'm' for (root).layer_with_weights-0.cell.recurrent_kernel\n",
      "WARNING:tensorflow:Unresolved object in checkpoint: (root).optimizer's state 'm' for (root).layer_with_weights-0.cell.bias\n",
      "WARNING:tensorflow:Unresolved object in checkpoint: (root).optimizer's state 'v' for (root).layer_with_weights-1.kernel\n",
      "WARNING:tensorflow:Unresolved object in checkpoint: (root).optimizer's state 'v' for (root).layer_with_weights-1.bias\n",
      "WARNING:tensorflow:Unresolved object in checkpoint: (root).optimizer's state 'v' for (root).layer_with_weights-0.cell.kernel\n",
      "WARNING:tensorflow:Unresolved object in checkpoint: (root).optimizer's state 'v' for (root).layer_with_weights-0.cell.recurrent_kernel\n",
      "WARNING:tensorflow:Unresolved object in checkpoint: (root).optimizer's state 'v' for (root).layer_with_weights-0.cell.bias\n",
      "WARNING:tensorflow:A checkpoint was restored (e.g. tf.train.Checkpoint.restore or tf.keras.Model.load_weights) but not all checkpointed values were used. See above for specific issues. Use expect_partial() on the load status object, e.g. tf.train.Checkpoint.restore(...).expect_partial(), to silence these warnings, or use assert_consumed() to make the check explicit. See https://www.tensorflow.org/alpha/guide/checkpoints#loading_mechanics for details.\n",
      "(7311, 17, 124) (7311, 1)\n"
     ]
    }
   ],
   "source": [
    "#Dropping first the empty column and then rows with NaNs\n",
    "df = df.drop(\"c_rcs_estimate\", axis=1)\n",
    "df = df.dropna(how='any')\n",
    "\n",
    "#Filtering events with len=1 or min_tca > 2 or max_tca < 2\n",
    "def conditions(event):\n",
    "    x = event[\"time_to_tca\"].values\n",
    "    return ((x.min()<2.0) & (x.max()>2.0) & (x.shape[0]>1))\n",
    "df = df.groupby('event_id').filter(conditions)\n",
    "\n",
    "#OHE for c_object_type (5 categories) -> 5 new features\n",
    "df[\"mission_id\"] = df[\"mission_id\"].astype('category')\n",
    "df[\"c_object_type\"] = df[\"c_object_type\"].astype('category')\n",
    "df = pd.get_dummies(df)\n",
    "\n",
    "#Getting y as 1D-array\n",
    "y = df.groupby([\"event_id\"])[\"risk\"].apply(lambda x: x.iloc[-1]).values.reshape(-1, 1)\n",
    "\n",
    "#Scaling y\n",
    "_ = y_scaler.fit(df[\"risk\"].values.reshape(-1, 1)) #using the whole risk feature to scale the target 'y'\n",
    "y = y_scaler.transform(y)\n",
    "\n",
    "#Getting X as df (dropping rows with tca < 2) \n",
    "df = df.loc[df[\"time_to_tca\"]>2]\n",
    "\n",
    "#Adding feature 'event_length' for counting how many instances each event has\n",
    "df[\"event_length\"] = df.groupby('event_id')['event_id'].transform('value_counts')\n",
    "\n",
    "#Scaling X\n",
    "df = pd.DataFrame(X_scaler.fit_transform(df), columns=df.columns)\n",
    "\n",
    "#Transforming X into a 3D-array\n",
    "events = df[\"event_id\"].nunique() #rows\n",
    "features = len(df.columns) #columns\n",
    "\n",
    "X = np.zeros((events,timestep,features))\n",
    "X.fill(fill_X)\n",
    "\n",
    "i = 0\n",
    "def df_to_3darray(event):\n",
    "    global X, i\n",
    "    #Transforming an event to time series (1,timesteps, columns)\n",
    "    row = event.values.reshape(1,event.shape[0],event.shape[1])\n",
    "    #Condition is needed to slice arrays correctly\n",
    "    #Condition -> is timestep greater than the event's time series length? \n",
    "    if(timestep>=row.shape[1]):\n",
    "        X[i:i+1,-row.shape[1]:,:] = row\n",
    "    else:\n",
    "        X[i:i+1,:,:] = row[:,-timestep:,:]\n",
    "    #index to iterate over X array\n",
    "    i = i + 1\n",
    "    #dataframe remains intact, while X array has been filled.\n",
    "    return event\n",
    "\n",
    "df.groupby(\"event_id\").apply(df_to_3darray)\n",
    "\n",
    "#Dropping event_id to remove noise\n",
    "X = X[:,:,1:]\n",
    "\n",
    "#TODO: Padding with specific values column-wise instead of zeros.\n",
    "#TODO: Separating time dependent and independent feature in 2 X arrays\n",
    "\n",
    "print(X.shape, y.shape)"
   ]
  },
  {
   "cell_type": "code",
   "execution_count": 152,
   "metadata": {
    "colab": {
     "base_uri": "https://localhost:8080/",
     "height": 72
    },
    "colab_type": "code",
    "id": "vD9Xxhn1Pv3K",
    "outputId": "e6f9512e-93ee-4b99-fc44-26ae3ff3f152"
   },
   "outputs": [
    {
     "name": "stdout",
     "output_type": "stream",
     "text": [
      "TRAIN 799.0, 4112.0, 0.194\n",
      "VAL   267.0, 1371.0, 0.195\n",
      "TEST  356.0, 1828.0, 0.195\n"
     ]
    }
   ],
   "source": [
    "#computing scaled threshold \n",
    "th = np.array([threshold_for_classification]).reshape(-1,1)\n",
    "th = y_scaler.transform(th)\n",
    "threshold_scaled = th[0,0]\n",
    "\n",
    "#Splitting arrays\n",
    "y_boolean = (y > threshold_scaled).reshape(-1,1)\n",
    "X_train, X_test, y_train_numeric, y_test_numeric = train_test_split(X, y, \n",
    "                                                    stratify=y_boolean, \n",
    "                                                    shuffle=True,\n",
    "                                                    random_state=seed,\n",
    "                                                    test_size = test_split\n",
    "                                                  )\n",
    "\n",
    "y_train_boolean = (y_train_numeric > threshold_scaled).reshape(-1,1)\n",
    "X_train, X_val, y_train_numeric, y_val_numeric = train_test_split(X_train, y_train_numeric, \n",
    "                                                    stratify=y_train_boolean, \n",
    "                                                    shuffle=True,\n",
    "                                                    random_state=seed,\n",
    "                                                    test_size = val_split\n",
    "                                                  )\n",
    "#transforming it into a classification task -> y_train, y_test boolean\n",
    "y_train = (y_train_numeric > threshold_scaled).reshape(-1,1)\n",
    "y_val = (y_val_numeric > threshold_scaled).reshape(-1,1)\n",
    "y_test = (y_test_numeric > threshold_scaled).reshape(-1,1)\n",
    "\n",
    "#Percentage of high risks in train\n",
    "print(\"TRAIN {:0.1f}, {:0.1f}, {:0.3f}\".format(np.sum(y_train), y_train.shape[0], np.sum(y_train)/y_train.shape[0]))\n",
    "#Percentage of high risks in val\n",
    "print(\"VAL   {:0.1f}, {:0.1f}, {:0.3f}\".format(np.sum(y_val), y_val.shape[0], np.sum(y_val)/y_val.shape[0]))\n",
    "#Percentage of high risks in test\n",
    "print(\"TEST  {:0.1f}, {:0.1f}, {:0.3f}\".format(np.sum(y_test), y_test.shape[0], np.sum(y_test)/y_test.shape[0]))"
   ]
  },
  {
   "cell_type": "code",
   "execution_count": 0,
   "metadata": {
    "colab": {},
    "colab_type": "code",
    "id": "lB8y4uNAPv3N"
   },
   "outputs": [],
   "source": [
    "# Model activation selu\n",
    "def build_model(hp):\n",
    "\n",
    "    model = Sequential()\n",
    "\n",
    "    model.add(Input(batch_shape=(None, timestep, X_train.shape[2])))\n",
    "\n",
    "    for i in range(hp.Int('n_layers', 1, 3)):\n",
    "        model.add(LSTM(hp.Int(f'lstm_{i}_units',min_value=4,max_value=128,step=4),\n",
    "                       stateful=False,\n",
    "                       dropout=hp.Float(f'lstm_{i}_dp', min_value=0.,max_value=0.4,step=0.1),\n",
    "                       recurrent_dropout=hp.Float(f'lstm_{i}_rdp',min_value=0.,max_value=0.6,step=0.1),\n",
    "                       return_sequences=True))\n",
    "\n",
    "    model.add(LSTM(hp.Int(f'lstm_last_units',min_value=4,max_value=128,step=4),\n",
    "                   stateful=False,\n",
    "                   dropout=hp.Float(f'lstm_last_dp',min_value=0.,max_value=0.4,step=0.1),\n",
    "                   recurrent_dropout=hp.Float(f'lstm_last_rdp',min_value=0.,max_value=0.6,step=0.1),\n",
    "                   return_sequences=False))\n",
    "\n",
    "    model.add(Dense(units = 1, activation='sigmoid'))\n",
    "\n",
    "    model.compile(loss='binary_crossentropy',\n",
    "                  optimizer=optimizers.Adam(hp.Choice('learning_rate', [2e-3, 1e-3, 5e-4])),\n",
    "                  metrics=['accuracy'])\n",
    "\n",
    "    return model"
   ]
  },
  {
   "cell_type": "code",
   "execution_count": 154,
   "metadata": {
    "colab": {
     "base_uri": "https://localhost:8080/",
     "height": 1000
    },
    "colab_type": "code",
    "id": "dTXA_sEbczQE",
    "outputId": "52fde968-6196-4fba-e8b2-51c940557b5d"
   },
   "outputs": [
    {
     "data": {
      "text/html": [
       "<span style=\"color:#4527A0\"><h1 style=\"font-size:18px\">Search space summary</h1></span>"
      ],
      "text/plain": [
       "<IPython.core.display.HTML object>"
      ]
     },
     "metadata": {
      "tags": []
     },
     "output_type": "display_data"
    },
    {
     "data": {
      "text/html": [
       "<span style=\"color:cyan\"> |-Default search space size: 8</span>"
      ],
      "text/plain": [
       "<IPython.core.display.HTML object>"
      ]
     },
     "metadata": {
      "tags": []
     },
     "output_type": "display_data"
    },
    {
     "data": {
      "text/html": [
       "<span style=\"color:#7E57C2\"><h2 style=\"font-size:16px\">n_layers (Int)</h2></span>"
      ],
      "text/plain": [
       "<IPython.core.display.HTML object>"
      ]
     },
     "metadata": {
      "tags": []
     },
     "output_type": "display_data"
    },
    {
     "data": {
      "text/html": [
       "<span style=\"color:cyan\"> |-default: None</span>"
      ],
      "text/plain": [
       "<IPython.core.display.HTML object>"
      ]
     },
     "metadata": {
      "tags": []
     },
     "output_type": "display_data"
    },
    {
     "data": {
      "text/html": [
       "<span style=\"color:blue\"> |-max_value: 3</span>"
      ],
      "text/plain": [
       "<IPython.core.display.HTML object>"
      ]
     },
     "metadata": {
      "tags": []
     },
     "output_type": "display_data"
    },
    {
     "data": {
      "text/html": [
       "<span style=\"color:cyan\"> |-min_value: 1</span>"
      ],
      "text/plain": [
       "<IPython.core.display.HTML object>"
      ]
     },
     "metadata": {
      "tags": []
     },
     "output_type": "display_data"
    },
    {
     "data": {
      "text/html": [
       "<span style=\"color:blue\"> |-sampling: None</span>"
      ],
      "text/plain": [
       "<IPython.core.display.HTML object>"
      ]
     },
     "metadata": {
      "tags": []
     },
     "output_type": "display_data"
    },
    {
     "data": {
      "text/html": [
       "<span style=\"color:cyan\"> |-step: 1</span>"
      ],
      "text/plain": [
       "<IPython.core.display.HTML object>"
      ]
     },
     "metadata": {
      "tags": []
     },
     "output_type": "display_data"
    },
    {
     "data": {
      "text/html": [
       "<span style=\"color:#7E57C2\"><h2 style=\"font-size:16px\">lstm_0_units (Int)</h2></span>"
      ],
      "text/plain": [
       "<IPython.core.display.HTML object>"
      ]
     },
     "metadata": {
      "tags": []
     },
     "output_type": "display_data"
    },
    {
     "data": {
      "text/html": [
       "<span style=\"color:cyan\"> |-default: None</span>"
      ],
      "text/plain": [
       "<IPython.core.display.HTML object>"
      ]
     },
     "metadata": {
      "tags": []
     },
     "output_type": "display_data"
    },
    {
     "data": {
      "text/html": [
       "<span style=\"color:blue\"> |-max_value: 128</span>"
      ],
      "text/plain": [
       "<IPython.core.display.HTML object>"
      ]
     },
     "metadata": {
      "tags": []
     },
     "output_type": "display_data"
    },
    {
     "data": {
      "text/html": [
       "<span style=\"color:cyan\"> |-min_value: 4</span>"
      ],
      "text/plain": [
       "<IPython.core.display.HTML object>"
      ]
     },
     "metadata": {
      "tags": []
     },
     "output_type": "display_data"
    },
    {
     "data": {
      "text/html": [
       "<span style=\"color:blue\"> |-sampling: None</span>"
      ],
      "text/plain": [
       "<IPython.core.display.HTML object>"
      ]
     },
     "metadata": {
      "tags": []
     },
     "output_type": "display_data"
    },
    {
     "data": {
      "text/html": [
       "<span style=\"color:cyan\"> |-step: 4</span>"
      ],
      "text/plain": [
       "<IPython.core.display.HTML object>"
      ]
     },
     "metadata": {
      "tags": []
     },
     "output_type": "display_data"
    },
    {
     "data": {
      "text/html": [
       "<span style=\"color:#7E57C2\"><h2 style=\"font-size:16px\">lstm_0_dp (Float)</h2></span>"
      ],
      "text/plain": [
       "<IPython.core.display.HTML object>"
      ]
     },
     "metadata": {
      "tags": []
     },
     "output_type": "display_data"
    },
    {
     "data": {
      "text/html": [
       "<span style=\"color:cyan\"> |-default: 0.0</span>"
      ],
      "text/plain": [
       "<IPython.core.display.HTML object>"
      ]
     },
     "metadata": {
      "tags": []
     },
     "output_type": "display_data"
    },
    {
     "data": {
      "text/html": [
       "<span style=\"color:blue\"> |-max_value: 0.4</span>"
      ],
      "text/plain": [
       "<IPython.core.display.HTML object>"
      ]
     },
     "metadata": {
      "tags": []
     },
     "output_type": "display_data"
    },
    {
     "data": {
      "text/html": [
       "<span style=\"color:cyan\"> |-min_value: 0.0</span>"
      ],
      "text/plain": [
       "<IPython.core.display.HTML object>"
      ]
     },
     "metadata": {
      "tags": []
     },
     "output_type": "display_data"
    },
    {
     "data": {
      "text/html": [
       "<span style=\"color:blue\"> |-sampling: None</span>"
      ],
      "text/plain": [
       "<IPython.core.display.HTML object>"
      ]
     },
     "metadata": {
      "tags": []
     },
     "output_type": "display_data"
    },
    {
     "data": {
      "text/html": [
       "<span style=\"color:cyan\"> |-step: 0.1</span>"
      ],
      "text/plain": [
       "<IPython.core.display.HTML object>"
      ]
     },
     "metadata": {
      "tags": []
     },
     "output_type": "display_data"
    },
    {
     "data": {
      "text/html": [
       "<span style=\"color:#7E57C2\"><h2 style=\"font-size:16px\">lstm_0_rdp (Float)</h2></span>"
      ],
      "text/plain": [
       "<IPython.core.display.HTML object>"
      ]
     },
     "metadata": {
      "tags": []
     },
     "output_type": "display_data"
    },
    {
     "data": {
      "text/html": [
       "<span style=\"color:cyan\"> |-default: 0.0</span>"
      ],
      "text/plain": [
       "<IPython.core.display.HTML object>"
      ]
     },
     "metadata": {
      "tags": []
     },
     "output_type": "display_data"
    },
    {
     "data": {
      "text/html": [
       "<span style=\"color:blue\"> |-max_value: 0.6</span>"
      ],
      "text/plain": [
       "<IPython.core.display.HTML object>"
      ]
     },
     "metadata": {
      "tags": []
     },
     "output_type": "display_data"
    },
    {
     "data": {
      "text/html": [
       "<span style=\"color:cyan\"> |-min_value: 0.0</span>"
      ],
      "text/plain": [
       "<IPython.core.display.HTML object>"
      ]
     },
     "metadata": {
      "tags": []
     },
     "output_type": "display_data"
    },
    {
     "data": {
      "text/html": [
       "<span style=\"color:blue\"> |-sampling: None</span>"
      ],
      "text/plain": [
       "<IPython.core.display.HTML object>"
      ]
     },
     "metadata": {
      "tags": []
     },
     "output_type": "display_data"
    },
    {
     "data": {
      "text/html": [
       "<span style=\"color:cyan\"> |-step: 0.1</span>"
      ],
      "text/plain": [
       "<IPython.core.display.HTML object>"
      ]
     },
     "metadata": {
      "tags": []
     },
     "output_type": "display_data"
    },
    {
     "data": {
      "text/html": [
       "<span style=\"color:#7E57C2\"><h2 style=\"font-size:16px\">lstm_last_units (Int)</h2></span>"
      ],
      "text/plain": [
       "<IPython.core.display.HTML object>"
      ]
     },
     "metadata": {
      "tags": []
     },
     "output_type": "display_data"
    },
    {
     "data": {
      "text/html": [
       "<span style=\"color:cyan\"> |-default: None</span>"
      ],
      "text/plain": [
       "<IPython.core.display.HTML object>"
      ]
     },
     "metadata": {
      "tags": []
     },
     "output_type": "display_data"
    },
    {
     "data": {
      "text/html": [
       "<span style=\"color:blue\"> |-max_value: 128</span>"
      ],
      "text/plain": [
       "<IPython.core.display.HTML object>"
      ]
     },
     "metadata": {
      "tags": []
     },
     "output_type": "display_data"
    },
    {
     "data": {
      "text/html": [
       "<span style=\"color:cyan\"> |-min_value: 4</span>"
      ],
      "text/plain": [
       "<IPython.core.display.HTML object>"
      ]
     },
     "metadata": {
      "tags": []
     },
     "output_type": "display_data"
    },
    {
     "data": {
      "text/html": [
       "<span style=\"color:blue\"> |-sampling: None</span>"
      ],
      "text/plain": [
       "<IPython.core.display.HTML object>"
      ]
     },
     "metadata": {
      "tags": []
     },
     "output_type": "display_data"
    },
    {
     "data": {
      "text/html": [
       "<span style=\"color:cyan\"> |-step: 4</span>"
      ],
      "text/plain": [
       "<IPython.core.display.HTML object>"
      ]
     },
     "metadata": {
      "tags": []
     },
     "output_type": "display_data"
    },
    {
     "data": {
      "text/html": [
       "<span style=\"color:#7E57C2\"><h2 style=\"font-size:16px\">lstm_last_dp (Float)</h2></span>"
      ],
      "text/plain": [
       "<IPython.core.display.HTML object>"
      ]
     },
     "metadata": {
      "tags": []
     },
     "output_type": "display_data"
    },
    {
     "data": {
      "text/html": [
       "<span style=\"color:cyan\"> |-default: 0.0</span>"
      ],
      "text/plain": [
       "<IPython.core.display.HTML object>"
      ]
     },
     "metadata": {
      "tags": []
     },
     "output_type": "display_data"
    },
    {
     "data": {
      "text/html": [
       "<span style=\"color:blue\"> |-max_value: 0.4</span>"
      ],
      "text/plain": [
       "<IPython.core.display.HTML object>"
      ]
     },
     "metadata": {
      "tags": []
     },
     "output_type": "display_data"
    },
    {
     "data": {
      "text/html": [
       "<span style=\"color:cyan\"> |-min_value: 0.0</span>"
      ],
      "text/plain": [
       "<IPython.core.display.HTML object>"
      ]
     },
     "metadata": {
      "tags": []
     },
     "output_type": "display_data"
    },
    {
     "data": {
      "text/html": [
       "<span style=\"color:blue\"> |-sampling: None</span>"
      ],
      "text/plain": [
       "<IPython.core.display.HTML object>"
      ]
     },
     "metadata": {
      "tags": []
     },
     "output_type": "display_data"
    },
    {
     "data": {
      "text/html": [
       "<span style=\"color:cyan\"> |-step: 0.1</span>"
      ],
      "text/plain": [
       "<IPython.core.display.HTML object>"
      ]
     },
     "metadata": {
      "tags": []
     },
     "output_type": "display_data"
    },
    {
     "data": {
      "text/html": [
       "<span style=\"color:#7E57C2\"><h2 style=\"font-size:16px\">lstm_last_rdp (Float)</h2></span>"
      ],
      "text/plain": [
       "<IPython.core.display.HTML object>"
      ]
     },
     "metadata": {
      "tags": []
     },
     "output_type": "display_data"
    },
    {
     "data": {
      "text/html": [
       "<span style=\"color:cyan\"> |-default: 0.0</span>"
      ],
      "text/plain": [
       "<IPython.core.display.HTML object>"
      ]
     },
     "metadata": {
      "tags": []
     },
     "output_type": "display_data"
    },
    {
     "data": {
      "text/html": [
       "<span style=\"color:blue\"> |-max_value: 0.6</span>"
      ],
      "text/plain": [
       "<IPython.core.display.HTML object>"
      ]
     },
     "metadata": {
      "tags": []
     },
     "output_type": "display_data"
    },
    {
     "data": {
      "text/html": [
       "<span style=\"color:cyan\"> |-min_value: 0.0</span>"
      ],
      "text/plain": [
       "<IPython.core.display.HTML object>"
      ]
     },
     "metadata": {
      "tags": []
     },
     "output_type": "display_data"
    },
    {
     "data": {
      "text/html": [
       "<span style=\"color:blue\"> |-sampling: None</span>"
      ],
      "text/plain": [
       "<IPython.core.display.HTML object>"
      ]
     },
     "metadata": {
      "tags": []
     },
     "output_type": "display_data"
    },
    {
     "data": {
      "text/html": [
       "<span style=\"color:cyan\"> |-step: 0.1</span>"
      ],
      "text/plain": [
       "<IPython.core.display.HTML object>"
      ]
     },
     "metadata": {
      "tags": []
     },
     "output_type": "display_data"
    },
    {
     "data": {
      "text/html": [
       "<span style=\"color:#7E57C2\"><h2 style=\"font-size:16px\">learning_rate (Choice)</h2></span>"
      ],
      "text/plain": [
       "<IPython.core.display.HTML object>"
      ]
     },
     "metadata": {
      "tags": []
     },
     "output_type": "display_data"
    },
    {
     "data": {
      "text/html": [
       "<span style=\"color:cyan\"> |-default: 0.002</span>"
      ],
      "text/plain": [
       "<IPython.core.display.HTML object>"
      ]
     },
     "metadata": {
      "tags": []
     },
     "output_type": "display_data"
    },
    {
     "data": {
      "text/html": [
       "<span style=\"color:blue\"> |-ordered: True</span>"
      ],
      "text/plain": [
       "<IPython.core.display.HTML object>"
      ]
     },
     "metadata": {
      "tags": []
     },
     "output_type": "display_data"
    },
    {
     "data": {
      "text/html": [
       "<span style=\"color:cyan\"> |-values: [0.002, 0.001, 0.0005]</span>"
      ],
      "text/plain": [
       "<IPython.core.display.HTML object>"
      ]
     },
     "metadata": {
      "tags": []
     },
     "output_type": "display_data"
    }
   ],
   "source": [
    "import time\n",
    "\n",
    "LOG_DIR = f\"{int(time.time())}\"\n",
    "\n",
    "tuner = RandomSearch(build_model,\n",
    "                     objective='val_acc',\n",
    "                     max_trials=15,  # how many model variations to test?\n",
    "                     executions_per_trial=1,  # how many trials per variation? (same model could perform differently)\n",
    "                     directory=LOG_DIR)\n",
    "\n",
    "tuner.search_space_summary()"
   ]
  },
  {
   "cell_type": "code",
   "execution_count": 155,
   "metadata": {
    "colab": {
     "base_uri": "https://localhost:8080/",
     "height": 1000
    },
    "colab_type": "code",
    "id": "HShwu3HDdBX0",
    "outputId": "82102721-6caa-4878-b74a-a5a43ad49b03"
   },
   "outputs": [
    {
     "name": "stdout",
     "output_type": "stream",
     "text": [
      "Train on 4112 samples, validate on 1371 samples\n",
      "Epoch 1/20\n",
      "4112/4112 - 6s - loss: 0.5196 - acc: 0.7896 - val_loss: 0.4850 - val_acc: 0.8053\n",
      "Epoch 2/20\n",
      "4112/4112 - 4s - loss: 0.4790 - acc: 0.8059 - val_loss: 0.4703 - val_acc: 0.8053\n",
      "Epoch 3/20\n",
      "4112/4112 - 4s - loss: 0.4590 - acc: 0.8067 - val_loss: 0.4408 - val_acc: 0.8067\n",
      "Epoch 4/20\n",
      "4112/4112 - 4s - loss: 0.4455 - acc: 0.8103 - val_loss: 0.4296 - val_acc: 0.8067\n",
      "Epoch 5/20\n",
      "4112/4112 - 4s - loss: 0.4323 - acc: 0.8101 - val_loss: 0.4045 - val_acc: 0.8067\n",
      "Epoch 6/20\n",
      "4112/4112 - 4s - loss: 0.4213 - acc: 0.8096 - val_loss: 0.4008 - val_acc: 0.8206\n",
      "Epoch 7/20\n",
      "4112/4112 - 4s - loss: 0.4129 - acc: 0.8154 - val_loss: 0.3849 - val_acc: 0.8198\n",
      "Epoch 8/20\n",
      "4112/4112 - 4s - loss: 0.4042 - acc: 0.8137 - val_loss: 0.3836 - val_acc: 0.8096\n",
      "Epoch 9/20\n",
      "4112/4112 - 4s - loss: 0.3971 - acc: 0.8183 - val_loss: 0.3777 - val_acc: 0.8096\n",
      "Epoch 10/20\n",
      "4112/4112 - 4s - loss: 0.3869 - acc: 0.8208 - val_loss: 0.3702 - val_acc: 0.8279\n",
      "Epoch 11/20\n",
      "4112/4112 - 4s - loss: 0.3872 - acc: 0.8161 - val_loss: 0.3623 - val_acc: 0.8293\n",
      "Epoch 12/20\n",
      "4112/4112 - 4s - loss: 0.3777 - acc: 0.8198 - val_loss: 0.3592 - val_acc: 0.8264\n",
      "Epoch 13/20\n",
      "4112/4112 - 4s - loss: 0.3857 - acc: 0.8213 - val_loss: 0.3529 - val_acc: 0.8301\n",
      "Epoch 14/20\n",
      "4112/4112 - 4s - loss: 0.3771 - acc: 0.8242 - val_loss: 0.3517 - val_acc: 0.8403\n",
      "Epoch 15/20\n",
      "4112/4112 - 4s - loss: 0.3700 - acc: 0.8271 - val_loss: 0.3445 - val_acc: 0.8373\n",
      "Epoch 16/20\n",
      "4112/4112 - 4s - loss: 0.3614 - acc: 0.8286 - val_loss: 0.3396 - val_acc: 0.8344\n",
      "Epoch 17/20\n",
      "4112/4112 - 4s - loss: 0.3681 - acc: 0.8251 - val_loss: 0.3360 - val_acc: 0.8395\n",
      "Epoch 18/20\n",
      "4112/4112 - 4s - loss: 0.3683 - acc: 0.8227 - val_loss: 0.3422 - val_acc: 0.8352\n",
      "Epoch 19/20\n",
      "4112/4112 - 4s - loss: 0.3580 - acc: 0.8307 - val_loss: 0.3328 - val_acc: 0.8373\n",
      "Epoch 20/20\n",
      "4112/4112 - 4s - loss: 0.3512 - acc: 0.8259 - val_loss: 0.3402 - val_acc: 0.8337\n"
     ]
    },
    {
     "data": {
      "text/html": [
       "<span style=\"color:#4527A0\"><h1 style=\"font-size:18px\">Trial complete</h1></span>"
      ],
      "text/plain": [
       "<IPython.core.display.HTML object>"
      ]
     },
     "metadata": {
      "tags": []
     },
     "output_type": "display_data"
    },
    {
     "data": {
      "text/html": [
       "<span style=\"color:#4527A0\"><h1 style=\"font-size:18px\">Trial summary</h1></span>"
      ],
      "text/plain": [
       "<IPython.core.display.HTML object>"
      ]
     },
     "metadata": {
      "tags": []
     },
     "output_type": "display_data"
    },
    {
     "data": {
      "text/html": [
       "<span style=\"color:#7E57C2\"><h2 style=\"font-size:16px\">Hp values:</h2></span>"
      ],
      "text/plain": [
       "<IPython.core.display.HTML object>"
      ]
     },
     "metadata": {
      "tags": []
     },
     "output_type": "display_data"
    },
    {
     "data": {
      "text/html": [
       "<span style=\"color:cyan\"> |-learning_rate: 0.001</span>"
      ],
      "text/plain": [
       "<IPython.core.display.HTML object>"
      ]
     },
     "metadata": {
      "tags": []
     },
     "output_type": "display_data"
    },
    {
     "data": {
      "text/html": [
       "<span style=\"color:blue\"> |-lstm_0_dp: 0.4</span>"
      ],
      "text/plain": [
       "<IPython.core.display.HTML object>"
      ]
     },
     "metadata": {
      "tags": []
     },
     "output_type": "display_data"
    },
    {
     "data": {
      "text/html": [
       "<span style=\"color:cyan\"> |-lstm_0_rdp: 0.5</span>"
      ],
      "text/plain": [
       "<IPython.core.display.HTML object>"
      ]
     },
     "metadata": {
      "tags": []
     },
     "output_type": "display_data"
    },
    {
     "data": {
      "text/html": [
       "<span style=\"color:blue\"> |-lstm_0_units: 52</span>"
      ],
      "text/plain": [
       "<IPython.core.display.HTML object>"
      ]
     },
     "metadata": {
      "tags": []
     },
     "output_type": "display_data"
    },
    {
     "data": {
      "text/html": [
       "<span style=\"color:cyan\"> |-lstm_1_dp: 0.0</span>"
      ],
      "text/plain": [
       "<IPython.core.display.HTML object>"
      ]
     },
     "metadata": {
      "tags": []
     },
     "output_type": "display_data"
    },
    {
     "data": {
      "text/html": [
       "<span style=\"color:blue\"> |-lstm_1_rdp: 0.0</span>"
      ],
      "text/plain": [
       "<IPython.core.display.HTML object>"
      ]
     },
     "metadata": {
      "tags": []
     },
     "output_type": "display_data"
    },
    {
     "data": {
      "text/html": [
       "<span style=\"color:cyan\"> |-lstm_1_units: 4</span>"
      ],
      "text/plain": [
       "<IPython.core.display.HTML object>"
      ]
     },
     "metadata": {
      "tags": []
     },
     "output_type": "display_data"
    },
    {
     "data": {
      "text/html": [
       "<span style=\"color:blue\"> |-lstm_last_dp: 0.2</span>"
      ],
      "text/plain": [
       "<IPython.core.display.HTML object>"
      ]
     },
     "metadata": {
      "tags": []
     },
     "output_type": "display_data"
    },
    {
     "data": {
      "text/html": [
       "<span style=\"color:cyan\"> |-lstm_last_rdp: 0.1</span>"
      ],
      "text/plain": [
       "<IPython.core.display.HTML object>"
      ]
     },
     "metadata": {
      "tags": []
     },
     "output_type": "display_data"
    },
    {
     "data": {
      "text/html": [
       "<span style=\"color:blue\"> |-lstm_last_units: 52</span>"
      ],
      "text/plain": [
       "<IPython.core.display.HTML object>"
      ]
     },
     "metadata": {
      "tags": []
     },
     "output_type": "display_data"
    },
    {
     "data": {
      "text/html": [
       "<span style=\"color:cyan\"> |-n_layers: 2</span>"
      ],
      "text/plain": [
       "<IPython.core.display.HTML object>"
      ]
     },
     "metadata": {
      "tags": []
     },
     "output_type": "display_data"
    },
    {
     "data": {
      "text/html": [
       "<span style=\"color:cyan\"> |-Score: 0.8402625918388367</span>"
      ],
      "text/plain": [
       "<IPython.core.display.HTML object>"
      ]
     },
     "metadata": {
      "tags": []
     },
     "output_type": "display_data"
    },
    {
     "data": {
      "text/html": [
       "<span style=\"color:cyan\"> |-Best step: 0</span>"
      ],
      "text/plain": [
       "<IPython.core.display.HTML object>"
      ]
     },
     "metadata": {
      "tags": []
     },
     "output_type": "display_data"
    },
    {
     "name": "stdout",
     "output_type": "stream",
     "text": [
      "Train on 4112 samples, validate on 1371 samples\n",
      "Epoch 1/20\n",
      "4112/4112 - 10s - loss: 0.4887 - acc: 0.8008 - val_loss: 0.4462 - val_acc: 0.8067\n",
      "Epoch 2/20\n",
      "4112/4112 - 8s - loss: 0.4463 - acc: 0.8123 - val_loss: 0.4054 - val_acc: 0.8169\n",
      "Epoch 3/20\n",
      "4112/4112 - 7s - loss: 0.4214 - acc: 0.8067 - val_loss: 0.3854 - val_acc: 0.8264\n",
      "Epoch 4/20\n",
      "4112/4112 - 8s - loss: 0.4061 - acc: 0.8171 - val_loss: 0.3801 - val_acc: 0.8169\n",
      "Epoch 5/20\n",
      "4112/4112 - 8s - loss: 0.3843 - acc: 0.8273 - val_loss: 0.3672 - val_acc: 0.8213\n",
      "Epoch 6/20\n",
      "4112/4112 - 8s - loss: 0.3768 - acc: 0.8200 - val_loss: 0.3616 - val_acc: 0.8388\n",
      "Epoch 7/20\n",
      "4112/4112 - 8s - loss: 0.3734 - acc: 0.8261 - val_loss: 0.3668 - val_acc: 0.8271\n",
      "Epoch 8/20\n",
      "4112/4112 - 8s - loss: 0.3733 - acc: 0.8210 - val_loss: 0.3455 - val_acc: 0.8366\n",
      "Epoch 9/20\n",
      "4112/4112 - 8s - loss: 0.3565 - acc: 0.8324 - val_loss: 0.3393 - val_acc: 0.8366\n",
      "Epoch 10/20\n",
      "4112/4112 - 8s - loss: 0.3555 - acc: 0.8322 - val_loss: 0.3400 - val_acc: 0.8395\n",
      "Epoch 11/20\n",
      "4112/4112 - 8s - loss: 0.3506 - acc: 0.8397 - val_loss: 0.3588 - val_acc: 0.8410\n",
      "Epoch 12/20\n",
      "4112/4112 - 8s - loss: 0.3522 - acc: 0.8366 - val_loss: 0.3423 - val_acc: 0.8403\n",
      "Epoch 13/20\n",
      "4112/4112 - 8s - loss: 0.3441 - acc: 0.8358 - val_loss: 0.3210 - val_acc: 0.8425\n",
      "Epoch 14/20\n",
      "4112/4112 - 8s - loss: 0.3404 - acc: 0.8395 - val_loss: 0.3247 - val_acc: 0.8373\n",
      "Epoch 15/20\n",
      "4112/4112 - 8s - loss: 0.3367 - acc: 0.8371 - val_loss: 0.3293 - val_acc: 0.8286\n",
      "Epoch 16/20\n",
      "4112/4112 - 8s - loss: 0.3282 - acc: 0.8395 - val_loss: 0.3185 - val_acc: 0.8381\n",
      "Epoch 17/20\n",
      "4112/4112 - 7s - loss: 0.3355 - acc: 0.8334 - val_loss: 0.3125 - val_acc: 0.8468\n",
      "Epoch 18/20\n",
      "4112/4112 - 8s - loss: 0.3282 - acc: 0.8368 - val_loss: 0.3158 - val_acc: 0.8388\n",
      "Epoch 19/20\n",
      "4112/4112 - 8s - loss: 0.3260 - acc: 0.8405 - val_loss: 0.3205 - val_acc: 0.8271\n",
      "Epoch 20/20\n",
      "4112/4112 - 7s - loss: 0.3207 - acc: 0.8439 - val_loss: 0.3201 - val_acc: 0.8432\n"
     ]
    },
    {
     "data": {
      "text/html": [
       "<span style=\"color:#4527A0\"><h1 style=\"font-size:18px\">Trial complete</h1></span>"
      ],
      "text/plain": [
       "<IPython.core.display.HTML object>"
      ]
     },
     "metadata": {
      "tags": []
     },
     "output_type": "display_data"
    },
    {
     "data": {
      "text/html": [
       "<span style=\"color:#4527A0\"><h1 style=\"font-size:18px\">Trial summary</h1></span>"
      ],
      "text/plain": [
       "<IPython.core.display.HTML object>"
      ]
     },
     "metadata": {
      "tags": []
     },
     "output_type": "display_data"
    },
    {
     "data": {
      "text/html": [
       "<span style=\"color:#7E57C2\"><h2 style=\"font-size:16px\">Hp values:</h2></span>"
      ],
      "text/plain": [
       "<IPython.core.display.HTML object>"
      ]
     },
     "metadata": {
      "tags": []
     },
     "output_type": "display_data"
    },
    {
     "data": {
      "text/html": [
       "<span style=\"color:cyan\"> |-learning_rate: 0.002</span>"
      ],
      "text/plain": [
       "<IPython.core.display.HTML object>"
      ]
     },
     "metadata": {
      "tags": []
     },
     "output_type": "display_data"
    },
    {
     "data": {
      "text/html": [
       "<span style=\"color:blue\"> |-lstm_0_dp: 0.2</span>"
      ],
      "text/plain": [
       "<IPython.core.display.HTML object>"
      ]
     },
     "metadata": {
      "tags": []
     },
     "output_type": "display_data"
    },
    {
     "data": {
      "text/html": [
       "<span style=\"color:cyan\"> |-lstm_0_rdp: 0.30000000000000004</span>"
      ],
      "text/plain": [
       "<IPython.core.display.HTML object>"
      ]
     },
     "metadata": {
      "tags": []
     },
     "output_type": "display_data"
    },
    {
     "data": {
      "text/html": [
       "<span style=\"color:blue\"> |-lstm_0_units: 20</span>"
      ],
      "text/plain": [
       "<IPython.core.display.HTML object>"
      ]
     },
     "metadata": {
      "tags": []
     },
     "output_type": "display_data"
    },
    {
     "data": {
      "text/html": [
       "<span style=\"color:cyan\"> |-lstm_1_dp: 0.30000000000000004</span>"
      ],
      "text/plain": [
       "<IPython.core.display.HTML object>"
      ]
     },
     "metadata": {
      "tags": []
     },
     "output_type": "display_data"
    },
    {
     "data": {
      "text/html": [
       "<span style=\"color:blue\"> |-lstm_1_rdp: 0.6000000000000001</span>"
      ],
      "text/plain": [
       "<IPython.core.display.HTML object>"
      ]
     },
     "metadata": {
      "tags": []
     },
     "output_type": "display_data"
    },
    {
     "data": {
      "text/html": [
       "<span style=\"color:cyan\"> |-lstm_1_units: 128</span>"
      ],
      "text/plain": [
       "<IPython.core.display.HTML object>"
      ]
     },
     "metadata": {
      "tags": []
     },
     "output_type": "display_data"
    },
    {
     "data": {
      "text/html": [
       "<span style=\"color:blue\"> |-lstm_last_dp: 0.1</span>"
      ],
      "text/plain": [
       "<IPython.core.display.HTML object>"
      ]
     },
     "metadata": {
      "tags": []
     },
     "output_type": "display_data"
    },
    {
     "data": {
      "text/html": [
       "<span style=\"color:cyan\"> |-lstm_last_rdp: 0.5</span>"
      ],
      "text/plain": [
       "<IPython.core.display.HTML object>"
      ]
     },
     "metadata": {
      "tags": []
     },
     "output_type": "display_data"
    },
    {
     "data": {
      "text/html": [
       "<span style=\"color:blue\"> |-lstm_last_units: 92</span>"
      ],
      "text/plain": [
       "<IPython.core.display.HTML object>"
      ]
     },
     "metadata": {
      "tags": []
     },
     "output_type": "display_data"
    },
    {
     "data": {
      "text/html": [
       "<span style=\"color:cyan\"> |-n_layers: 2</span>"
      ],
      "text/plain": [
       "<IPython.core.display.HTML object>"
      ]
     },
     "metadata": {
      "tags": []
     },
     "output_type": "display_data"
    },
    {
     "data": {
      "text/html": [
       "<span style=\"color:cyan\"> |-Score: 0.8468271493911743</span>"
      ],
      "text/plain": [
       "<IPython.core.display.HTML object>"
      ]
     },
     "metadata": {
      "tags": []
     },
     "output_type": "display_data"
    },
    {
     "data": {
      "text/html": [
       "<span style=\"color:cyan\"> |-Best step: 0</span>"
      ],
      "text/plain": [
       "<IPython.core.display.HTML object>"
      ]
     },
     "metadata": {
      "tags": []
     },
     "output_type": "display_data"
    },
    {
     "name": "stdout",
     "output_type": "stream",
     "text": [
      "Train on 4112 samples, validate on 1371 samples\n",
      "Epoch 1/20\n",
      "4112/4112 - 12s - loss: 0.4573 - acc: 0.7979 - val_loss: 0.4242 - val_acc: 0.8067\n",
      "Epoch 2/20\n",
      "4112/4112 - 9s - loss: 0.4147 - acc: 0.8137 - val_loss: 0.3916 - val_acc: 0.8082\n",
      "Epoch 3/20\n",
      "4112/4112 - 9s - loss: 0.3794 - acc: 0.8220 - val_loss: 0.3511 - val_acc: 0.8344\n",
      "Epoch 4/20\n",
      "4112/4112 - 9s - loss: 0.3617 - acc: 0.8266 - val_loss: 0.3438 - val_acc: 0.8344\n",
      "Epoch 5/20\n",
      "4112/4112 - 9s - loss: 0.3476 - acc: 0.8320 - val_loss: 0.3337 - val_acc: 0.8373\n",
      "Epoch 6/20\n",
      "4112/4112 - 9s - loss: 0.3332 - acc: 0.8344 - val_loss: 0.3284 - val_acc: 0.8308\n",
      "Epoch 7/20\n",
      "4112/4112 - 9s - loss: 0.3335 - acc: 0.8412 - val_loss: 0.3260 - val_acc: 0.8432\n",
      "Epoch 8/20\n",
      "4112/4112 - 9s - loss: 0.3345 - acc: 0.8410 - val_loss: 0.3114 - val_acc: 0.8432\n",
      "Epoch 9/20\n",
      "4112/4112 - 9s - loss: 0.3116 - acc: 0.8468 - val_loss: 0.3106 - val_acc: 0.8439\n",
      "Epoch 10/20\n",
      "4112/4112 - 9s - loss: 0.3228 - acc: 0.8446 - val_loss: 0.3076 - val_acc: 0.8410\n",
      "Epoch 11/20\n",
      "4112/4112 - 9s - loss: 0.3093 - acc: 0.8504 - val_loss: 0.3112 - val_acc: 0.8373\n",
      "Epoch 12/20\n",
      "4112/4112 - 9s - loss: 0.3117 - acc: 0.8497 - val_loss: 0.3045 - val_acc: 0.8454\n",
      "Epoch 13/20\n",
      "4112/4112 - 9s - loss: 0.3065 - acc: 0.8524 - val_loss: 0.3267 - val_acc: 0.8359\n",
      "Epoch 14/20\n",
      "4112/4112 - 9s - loss: 0.3034 - acc: 0.8534 - val_loss: 0.3250 - val_acc: 0.8388\n",
      "Epoch 15/20\n",
      "4112/4112 - 9s - loss: 0.3062 - acc: 0.8509 - val_loss: 0.3102 - val_acc: 0.8476\n",
      "Epoch 16/20\n",
      "4112/4112 - 9s - loss: 0.2993 - acc: 0.8558 - val_loss: 0.3054 - val_acc: 0.8461\n",
      "Epoch 17/20\n",
      "4112/4112 - 9s - loss: 0.2892 - acc: 0.8631 - val_loss: 0.3068 - val_acc: 0.8497\n",
      "Epoch 18/20\n",
      "4112/4112 - 9s - loss: 0.2969 - acc: 0.8541 - val_loss: 0.3080 - val_acc: 0.8483\n",
      "Epoch 19/20\n",
      "4112/4112 - 9s - loss: 0.2953 - acc: 0.8599 - val_loss: 0.3232 - val_acc: 0.8454\n",
      "Epoch 20/20\n",
      "4112/4112 - 9s - loss: 0.2875 - acc: 0.8575 - val_loss: 0.3175 - val_acc: 0.8352\n"
     ]
    },
    {
     "data": {
      "text/html": [
       "<span style=\"color:#4527A0\"><h1 style=\"font-size:18px\">Trial complete</h1></span>"
      ],
      "text/plain": [
       "<IPython.core.display.HTML object>"
      ]
     },
     "metadata": {
      "tags": []
     },
     "output_type": "display_data"
    },
    {
     "data": {
      "text/html": [
       "<span style=\"color:#4527A0\"><h1 style=\"font-size:18px\">Trial summary</h1></span>"
      ],
      "text/plain": [
       "<IPython.core.display.HTML object>"
      ]
     },
     "metadata": {
      "tags": []
     },
     "output_type": "display_data"
    },
    {
     "data": {
      "text/html": [
       "<span style=\"color:#7E57C2\"><h2 style=\"font-size:16px\">Hp values:</h2></span>"
      ],
      "text/plain": [
       "<IPython.core.display.HTML object>"
      ]
     },
     "metadata": {
      "tags": []
     },
     "output_type": "display_data"
    },
    {
     "data": {
      "text/html": [
       "<span style=\"color:cyan\"> |-learning_rate: 0.002</span>"
      ],
      "text/plain": [
       "<IPython.core.display.HTML object>"
      ]
     },
     "metadata": {
      "tags": []
     },
     "output_type": "display_data"
    },
    {
     "data": {
      "text/html": [
       "<span style=\"color:blue\"> |-lstm_0_dp: 0.1</span>"
      ],
      "text/plain": [
       "<IPython.core.display.HTML object>"
      ]
     },
     "metadata": {
      "tags": []
     },
     "output_type": "display_data"
    },
    {
     "data": {
      "text/html": [
       "<span style=\"color:cyan\"> |-lstm_0_rdp: 0.1</span>"
      ],
      "text/plain": [
       "<IPython.core.display.HTML object>"
      ]
     },
     "metadata": {
      "tags": []
     },
     "output_type": "display_data"
    },
    {
     "data": {
      "text/html": [
       "<span style=\"color:blue\"> |-lstm_0_units: 108</span>"
      ],
      "text/plain": [
       "<IPython.core.display.HTML object>"
      ]
     },
     "metadata": {
      "tags": []
     },
     "output_type": "display_data"
    },
    {
     "data": {
      "text/html": [
       "<span style=\"color:cyan\"> |-lstm_1_dp: 0.1</span>"
      ],
      "text/plain": [
       "<IPython.core.display.HTML object>"
      ]
     },
     "metadata": {
      "tags": []
     },
     "output_type": "display_data"
    },
    {
     "data": {
      "text/html": [
       "<span style=\"color:blue\"> |-lstm_1_rdp: 0.30000000000000004</span>"
      ],
      "text/plain": [
       "<IPython.core.display.HTML object>"
      ]
     },
     "metadata": {
      "tags": []
     },
     "output_type": "display_data"
    },
    {
     "data": {
      "text/html": [
       "<span style=\"color:cyan\"> |-lstm_1_units: 128</span>"
      ],
      "text/plain": [
       "<IPython.core.display.HTML object>"
      ]
     },
     "metadata": {
      "tags": []
     },
     "output_type": "display_data"
    },
    {
     "data": {
      "text/html": [
       "<span style=\"color:blue\"> |-lstm_last_dp: 0.0</span>"
      ],
      "text/plain": [
       "<IPython.core.display.HTML object>"
      ]
     },
     "metadata": {
      "tags": []
     },
     "output_type": "display_data"
    },
    {
     "data": {
      "text/html": [
       "<span style=\"color:cyan\"> |-lstm_last_rdp: 0.4</span>"
      ],
      "text/plain": [
       "<IPython.core.display.HTML object>"
      ]
     },
     "metadata": {
      "tags": []
     },
     "output_type": "display_data"
    },
    {
     "data": {
      "text/html": [
       "<span style=\"color:blue\"> |-lstm_last_units: 64</span>"
      ],
      "text/plain": [
       "<IPython.core.display.HTML object>"
      ]
     },
     "metadata": {
      "tags": []
     },
     "output_type": "display_data"
    },
    {
     "data": {
      "text/html": [
       "<span style=\"color:cyan\"> |-n_layers: 2</span>"
      ],
      "text/plain": [
       "<IPython.core.display.HTML object>"
      ]
     },
     "metadata": {
      "tags": []
     },
     "output_type": "display_data"
    },
    {
     "data": {
      "text/html": [
       "<span style=\"color:cyan\"> |-Score: 0.8497447371482849</span>"
      ],
      "text/plain": [
       "<IPython.core.display.HTML object>"
      ]
     },
     "metadata": {
      "tags": []
     },
     "output_type": "display_data"
    },
    {
     "data": {
      "text/html": [
       "<span style=\"color:cyan\"> |-Best step: 0</span>"
      ],
      "text/plain": [
       "<IPython.core.display.HTML object>"
      ]
     },
     "metadata": {
      "tags": []
     },
     "output_type": "display_data"
    },
    {
     "name": "stdout",
     "output_type": "stream",
     "text": [
      "Train on 4112 samples, validate on 1371 samples\n",
      "Epoch 1/20\n",
      "4112/4112 - 10s - loss: 0.4868 - acc: 0.7974 - val_loss: 0.4574 - val_acc: 0.8096\n",
      "Epoch 2/20\n",
      "4112/4112 - 8s - loss: 0.4315 - acc: 0.8108 - val_loss: 0.4075 - val_acc: 0.8140\n",
      "Epoch 3/20\n",
      "4112/4112 - 8s - loss: 0.4039 - acc: 0.8137 - val_loss: 0.3815 - val_acc: 0.8242\n",
      "Epoch 4/20\n",
      "4112/4112 - 8s - loss: 0.3836 - acc: 0.8188 - val_loss: 0.3876 - val_acc: 0.8315\n",
      "Epoch 5/20\n",
      "4112/4112 - 8s - loss: 0.3773 - acc: 0.8237 - val_loss: 0.3512 - val_acc: 0.8249\n",
      "Epoch 6/20\n",
      "4112/4112 - 8s - loss: 0.3601 - acc: 0.8286 - val_loss: 0.3535 - val_acc: 0.8352\n",
      "Epoch 7/20\n",
      "4112/4112 - 8s - loss: 0.3489 - acc: 0.8290 - val_loss: 0.3294 - val_acc: 0.8395\n",
      "Epoch 8/20\n",
      "4112/4112 - 8s - loss: 0.3438 - acc: 0.8405 - val_loss: 0.3254 - val_acc: 0.8395\n",
      "Epoch 9/20\n",
      "4112/4112 - 8s - loss: 0.3315 - acc: 0.8439 - val_loss: 0.3240 - val_acc: 0.8359\n",
      "Epoch 10/20\n",
      "4112/4112 - 8s - loss: 0.3289 - acc: 0.8410 - val_loss: 0.3112 - val_acc: 0.8446\n",
      "Epoch 11/20\n",
      "4112/4112 - 8s - loss: 0.3211 - acc: 0.8431 - val_loss: 0.3160 - val_acc: 0.8483\n",
      "Epoch 12/20\n",
      "4112/4112 - 8s - loss: 0.3160 - acc: 0.8446 - val_loss: 0.3217 - val_acc: 0.8388\n",
      "Epoch 13/20\n",
      "4112/4112 - 8s - loss: 0.3185 - acc: 0.8407 - val_loss: 0.3126 - val_acc: 0.8395\n",
      "Epoch 14/20\n",
      "4112/4112 - 8s - loss: 0.3055 - acc: 0.8541 - val_loss: 0.3097 - val_acc: 0.8468\n",
      "Epoch 15/20\n",
      "4112/4112 - 8s - loss: 0.3115 - acc: 0.8480 - val_loss: 0.3111 - val_acc: 0.8417\n",
      "Epoch 16/20\n",
      "4112/4112 - 8s - loss: 0.3130 - acc: 0.8463 - val_loss: 0.3055 - val_acc: 0.8476\n",
      "Epoch 17/20\n",
      "4112/4112 - 8s - loss: 0.3047 - acc: 0.8536 - val_loss: 0.3052 - val_acc: 0.8534\n",
      "Epoch 18/20\n",
      "4112/4112 - 8s - loss: 0.3013 - acc: 0.8514 - val_loss: 0.3049 - val_acc: 0.8527\n",
      "Epoch 19/20\n",
      "4112/4112 - 8s - loss: 0.3013 - acc: 0.8512 - val_loss: 0.3053 - val_acc: 0.8461\n",
      "Epoch 20/20\n",
      "4112/4112 - 8s - loss: 0.2986 - acc: 0.8560 - val_loss: 0.3160 - val_acc: 0.8373\n"
     ]
    },
    {
     "data": {
      "text/html": [
       "<span style=\"color:#4527A0\"><h1 style=\"font-size:18px\">Trial complete</h1></span>"
      ],
      "text/plain": [
       "<IPython.core.display.HTML object>"
      ]
     },
     "metadata": {
      "tags": []
     },
     "output_type": "display_data"
    },
    {
     "data": {
      "text/html": [
       "<span style=\"color:#4527A0\"><h1 style=\"font-size:18px\">Trial summary</h1></span>"
      ],
      "text/plain": [
       "<IPython.core.display.HTML object>"
      ]
     },
     "metadata": {
      "tags": []
     },
     "output_type": "display_data"
    },
    {
     "data": {
      "text/html": [
       "<span style=\"color:#7E57C2\"><h2 style=\"font-size:16px\">Hp values:</h2></span>"
      ],
      "text/plain": [
       "<IPython.core.display.HTML object>"
      ]
     },
     "metadata": {
      "tags": []
     },
     "output_type": "display_data"
    },
    {
     "data": {
      "text/html": [
       "<span style=\"color:cyan\"> |-learning_rate: 0.001</span>"
      ],
      "text/plain": [
       "<IPython.core.display.HTML object>"
      ]
     },
     "metadata": {
      "tags": []
     },
     "output_type": "display_data"
    },
    {
     "data": {
      "text/html": [
       "<span style=\"color:blue\"> |-lstm_0_dp: 0.1</span>"
      ],
      "text/plain": [
       "<IPython.core.display.HTML object>"
      ]
     },
     "metadata": {
      "tags": []
     },
     "output_type": "display_data"
    },
    {
     "data": {
      "text/html": [
       "<span style=\"color:cyan\"> |-lstm_0_rdp: 0.0</span>"
      ],
      "text/plain": [
       "<IPython.core.display.HTML object>"
      ]
     },
     "metadata": {
      "tags": []
     },
     "output_type": "display_data"
    },
    {
     "data": {
      "text/html": [
       "<span style=\"color:blue\"> |-lstm_0_units: 84</span>"
      ],
      "text/plain": [
       "<IPython.core.display.HTML object>"
      ]
     },
     "metadata": {
      "tags": []
     },
     "output_type": "display_data"
    },
    {
     "data": {
      "text/html": [
       "<span style=\"color:cyan\"> |-lstm_1_dp: 0.0</span>"
      ],
      "text/plain": [
       "<IPython.core.display.HTML object>"
      ]
     },
     "metadata": {
      "tags": []
     },
     "output_type": "display_data"
    },
    {
     "data": {
      "text/html": [
       "<span style=\"color:blue\"> |-lstm_1_rdp: 0.4</span>"
      ],
      "text/plain": [
       "<IPython.core.display.HTML object>"
      ]
     },
     "metadata": {
      "tags": []
     },
     "output_type": "display_data"
    },
    {
     "data": {
      "text/html": [
       "<span style=\"color:cyan\"> |-lstm_1_units: 128</span>"
      ],
      "text/plain": [
       "<IPython.core.display.HTML object>"
      ]
     },
     "metadata": {
      "tags": []
     },
     "output_type": "display_data"
    },
    {
     "data": {
      "text/html": [
       "<span style=\"color:blue\"> |-lstm_last_dp: 0.30000000000000004</span>"
      ],
      "text/plain": [
       "<IPython.core.display.HTML object>"
      ]
     },
     "metadata": {
      "tags": []
     },
     "output_type": "display_data"
    },
    {
     "data": {
      "text/html": [
       "<span style=\"color:cyan\"> |-lstm_last_rdp: 0.6000000000000001</span>"
      ],
      "text/plain": [
       "<IPython.core.display.HTML object>"
      ]
     },
     "metadata": {
      "tags": []
     },
     "output_type": "display_data"
    },
    {
     "data": {
      "text/html": [
       "<span style=\"color:blue\"> |-lstm_last_units: 56</span>"
      ],
      "text/plain": [
       "<IPython.core.display.HTML object>"
      ]
     },
     "metadata": {
      "tags": []
     },
     "output_type": "display_data"
    },
    {
     "data": {
      "text/html": [
       "<span style=\"color:cyan\"> |-n_layers: 2</span>"
      ],
      "text/plain": [
       "<IPython.core.display.HTML object>"
      ]
     },
     "metadata": {
      "tags": []
     },
     "output_type": "display_data"
    },
    {
     "data": {
      "text/html": [
       "<span style=\"color:cyan\"> |-Score: 0.853391706943512</span>"
      ],
      "text/plain": [
       "<IPython.core.display.HTML object>"
      ]
     },
     "metadata": {
      "tags": []
     },
     "output_type": "display_data"
    },
    {
     "data": {
      "text/html": [
       "<span style=\"color:cyan\"> |-Best step: 0</span>"
      ],
      "text/plain": [
       "<IPython.core.display.HTML object>"
      ]
     },
     "metadata": {
      "tags": []
     },
     "output_type": "display_data"
    },
    {
     "name": "stdout",
     "output_type": "stream",
     "text": [
      "Train on 4112 samples, validate on 1371 samples\n",
      "Epoch 1/20\n",
      "4112/4112 - 6s - loss: 0.5778 - acc: 0.7850 - val_loss: 0.4946 - val_acc: 0.8053\n",
      "Epoch 2/20\n",
      "4112/4112 - 3s - loss: 0.4851 - acc: 0.8057 - val_loss: 0.4876 - val_acc: 0.8053\n",
      "Epoch 3/20\n",
      "4112/4112 - 3s - loss: 0.4856 - acc: 0.8064 - val_loss: 0.4843 - val_acc: 0.8053\n",
      "Epoch 4/20\n",
      "4112/4112 - 3s - loss: 0.4824 - acc: 0.8067 - val_loss: 0.4845 - val_acc: 0.8053\n",
      "Epoch 5/20\n",
      "4112/4112 - 3s - loss: 0.4797 - acc: 0.8059 - val_loss: 0.4784 - val_acc: 0.8060\n",
      "Epoch 6/20\n",
      "4112/4112 - 3s - loss: 0.4749 - acc: 0.8071 - val_loss: 0.4729 - val_acc: 0.8067\n",
      "Epoch 7/20\n",
      "4112/4112 - 3s - loss: 0.4685 - acc: 0.8069 - val_loss: 0.4640 - val_acc: 0.8067\n",
      "Epoch 8/20\n",
      "4112/4112 - 3s - loss: 0.4572 - acc: 0.8074 - val_loss: 0.4505 - val_acc: 0.8067\n",
      "Epoch 9/20\n",
      "4112/4112 - 3s - loss: 0.4500 - acc: 0.8071 - val_loss: 0.4435 - val_acc: 0.8067\n",
      "Epoch 10/20\n",
      "4112/4112 - 3s - loss: 0.4474 - acc: 0.8081 - val_loss: 0.4447 - val_acc: 0.8067\n",
      "Epoch 11/20\n",
      "4112/4112 - 3s - loss: 0.4421 - acc: 0.8093 - val_loss: 0.4344 - val_acc: 0.8067\n",
      "Epoch 12/20\n",
      "4112/4112 - 3s - loss: 0.4365 - acc: 0.8079 - val_loss: 0.4356 - val_acc: 0.8067\n",
      "Epoch 13/20\n",
      "4112/4112 - 3s - loss: 0.4379 - acc: 0.8079 - val_loss: 0.4260 - val_acc: 0.8067\n",
      "Epoch 14/20\n",
      "4112/4112 - 3s - loss: 0.4308 - acc: 0.8091 - val_loss: 0.4208 - val_acc: 0.8067\n",
      "Epoch 15/20\n",
      "4112/4112 - 3s - loss: 0.4286 - acc: 0.8096 - val_loss: 0.4143 - val_acc: 0.8067\n",
      "Epoch 16/20\n",
      "4112/4112 - 3s - loss: 0.4219 - acc: 0.8103 - val_loss: 0.4114 - val_acc: 0.8074\n",
      "Epoch 17/20\n",
      "4112/4112 - 3s - loss: 0.4159 - acc: 0.8113 - val_loss: 0.4057 - val_acc: 0.8074\n",
      "Epoch 18/20\n",
      "4112/4112 - 3s - loss: 0.4100 - acc: 0.8161 - val_loss: 0.4055 - val_acc: 0.8096\n",
      "Epoch 19/20\n",
      "4112/4112 - 3s - loss: 0.4062 - acc: 0.8188 - val_loss: 0.3963 - val_acc: 0.8125\n",
      "Epoch 20/20\n",
      "4112/4112 - 3s - loss: 0.4070 - acc: 0.8142 - val_loss: 0.4021 - val_acc: 0.8096\n"
     ]
    },
    {
     "data": {
      "text/html": [
       "<span style=\"color:#4527A0\"><h1 style=\"font-size:18px\">Trial complete</h1></span>"
      ],
      "text/plain": [
       "<IPython.core.display.HTML object>"
      ]
     },
     "metadata": {
      "tags": []
     },
     "output_type": "display_data"
    },
    {
     "data": {
      "text/html": [
       "<span style=\"color:#4527A0\"><h1 style=\"font-size:18px\">Trial summary</h1></span>"
      ],
      "text/plain": [
       "<IPython.core.display.HTML object>"
      ]
     },
     "metadata": {
      "tags": []
     },
     "output_type": "display_data"
    },
    {
     "data": {
      "text/html": [
       "<span style=\"color:#7E57C2\"><h2 style=\"font-size:16px\">Hp values:</h2></span>"
      ],
      "text/plain": [
       "<IPython.core.display.HTML object>"
      ]
     },
     "metadata": {
      "tags": []
     },
     "output_type": "display_data"
    },
    {
     "data": {
      "text/html": [
       "<span style=\"color:cyan\"> |-learning_rate: 0.0005</span>"
      ],
      "text/plain": [
       "<IPython.core.display.HTML object>"
      ]
     },
     "metadata": {
      "tags": []
     },
     "output_type": "display_data"
    },
    {
     "data": {
      "text/html": [
       "<span style=\"color:blue\"> |-lstm_0_dp: 0.30000000000000004</span>"
      ],
      "text/plain": [
       "<IPython.core.display.HTML object>"
      ]
     },
     "metadata": {
      "tags": []
     },
     "output_type": "display_data"
    },
    {
     "data": {
      "text/html": [
       "<span style=\"color:cyan\"> |-lstm_0_rdp: 0.4</span>"
      ],
      "text/plain": [
       "<IPython.core.display.HTML object>"
      ]
     },
     "metadata": {
      "tags": []
     },
     "output_type": "display_data"
    },
    {
     "data": {
      "text/html": [
       "<span style=\"color:blue\"> |-lstm_0_units: 4</span>"
      ],
      "text/plain": [
       "<IPython.core.display.HTML object>"
      ]
     },
     "metadata": {
      "tags": []
     },
     "output_type": "display_data"
    },
    {
     "data": {
      "text/html": [
       "<span style=\"color:cyan\"> |-lstm_1_dp: 0.0</span>"
      ],
      "text/plain": [
       "<IPython.core.display.HTML object>"
      ]
     },
     "metadata": {
      "tags": []
     },
     "output_type": "display_data"
    },
    {
     "data": {
      "text/html": [
       "<span style=\"color:blue\"> |-lstm_1_rdp: 0.1</span>"
      ],
      "text/plain": [
       "<IPython.core.display.HTML object>"
      ]
     },
     "metadata": {
      "tags": []
     },
     "output_type": "display_data"
    },
    {
     "data": {
      "text/html": [
       "<span style=\"color:cyan\"> |-lstm_1_units: 16</span>"
      ],
      "text/plain": [
       "<IPython.core.display.HTML object>"
      ]
     },
     "metadata": {
      "tags": []
     },
     "output_type": "display_data"
    },
    {
     "data": {
      "text/html": [
       "<span style=\"color:blue\"> |-lstm_last_dp: 0.2</span>"
      ],
      "text/plain": [
       "<IPython.core.display.HTML object>"
      ]
     },
     "metadata": {
      "tags": []
     },
     "output_type": "display_data"
    },
    {
     "data": {
      "text/html": [
       "<span style=\"color:cyan\"> |-lstm_last_rdp: 0.30000000000000004</span>"
      ],
      "text/plain": [
       "<IPython.core.display.HTML object>"
      ]
     },
     "metadata": {
      "tags": []
     },
     "output_type": "display_data"
    },
    {
     "data": {
      "text/html": [
       "<span style=\"color:blue\"> |-lstm_last_units: 28</span>"
      ],
      "text/plain": [
       "<IPython.core.display.HTML object>"
      ]
     },
     "metadata": {
      "tags": []
     },
     "output_type": "display_data"
    },
    {
     "data": {
      "text/html": [
       "<span style=\"color:cyan\"> |-n_layers: 2</span>"
      ],
      "text/plain": [
       "<IPython.core.display.HTML object>"
      ]
     },
     "metadata": {
      "tags": []
     },
     "output_type": "display_data"
    },
    {
     "data": {
      "text/html": [
       "<span style=\"color:cyan\"> |-Score: 0.8125455975532532</span>"
      ],
      "text/plain": [
       "<IPython.core.display.HTML object>"
      ]
     },
     "metadata": {
      "tags": []
     },
     "output_type": "display_data"
    },
    {
     "data": {
      "text/html": [
       "<span style=\"color:cyan\"> |-Best step: 0</span>"
      ],
      "text/plain": [
       "<IPython.core.display.HTML object>"
      ]
     },
     "metadata": {
      "tags": []
     },
     "output_type": "display_data"
    },
    {
     "name": "stdout",
     "output_type": "stream",
     "text": [
      "Train on 4112 samples, validate on 1371 samples\n",
      "Epoch 1/20\n",
      "4112/4112 - 10s - loss: 0.4869 - acc: 0.8018 - val_loss: 0.4594 - val_acc: 0.8067\n",
      "Epoch 2/20\n",
      "4112/4112 - 8s - loss: 0.4587 - acc: 0.8081 - val_loss: 0.4430 - val_acc: 0.8074\n",
      "Epoch 3/20\n",
      "4112/4112 - 8s - loss: 0.4418 - acc: 0.8069 - val_loss: 0.4263 - val_acc: 0.8082\n",
      "Epoch 4/20\n",
      "4112/4112 - 8s - loss: 0.4276 - acc: 0.8098 - val_loss: 0.4052 - val_acc: 0.8074\n",
      "Epoch 5/20\n",
      "4112/4112 - 8s - loss: 0.4120 - acc: 0.8137 - val_loss: 0.4217 - val_acc: 0.8140\n",
      "Epoch 6/20\n",
      "4112/4112 - 8s - loss: 0.4040 - acc: 0.8157 - val_loss: 0.3759 - val_acc: 0.8249\n",
      "Epoch 7/20\n",
      "4112/4112 - 8s - loss: 0.3974 - acc: 0.8188 - val_loss: 0.3658 - val_acc: 0.8344\n",
      "Epoch 8/20\n",
      "4112/4112 - 8s - loss: 0.3846 - acc: 0.8200 - val_loss: 0.3594 - val_acc: 0.8271\n",
      "Epoch 9/20\n",
      "4112/4112 - 8s - loss: 0.3746 - acc: 0.8351 - val_loss: 0.3426 - val_acc: 0.8337\n",
      "Epoch 10/20\n",
      "4112/4112 - 8s - loss: 0.3718 - acc: 0.8290 - val_loss: 0.3548 - val_acc: 0.8286\n",
      "Epoch 11/20\n",
      "4112/4112 - 8s - loss: 0.3653 - acc: 0.8315 - val_loss: 0.3489 - val_acc: 0.8344\n",
      "Epoch 12/20\n",
      "4112/4112 - 8s - loss: 0.3507 - acc: 0.8295 - val_loss: 0.3269 - val_acc: 0.8359\n",
      "Epoch 13/20\n",
      "4112/4112 - 8s - loss: 0.3488 - acc: 0.8366 - val_loss: 0.3226 - val_acc: 0.8373\n",
      "Epoch 14/20\n",
      "4112/4112 - 8s - loss: 0.3495 - acc: 0.8327 - val_loss: 0.3294 - val_acc: 0.8322\n",
      "Epoch 15/20\n",
      "4112/4112 - 8s - loss: 0.3453 - acc: 0.8298 - val_loss: 0.3220 - val_acc: 0.8417\n",
      "Epoch 16/20\n",
      "4112/4112 - 8s - loss: 0.3444 - acc: 0.8329 - val_loss: 0.3191 - val_acc: 0.8373\n",
      "Epoch 17/20\n",
      "4112/4112 - 8s - loss: 0.3321 - acc: 0.8375 - val_loss: 0.3128 - val_acc: 0.8446\n",
      "Epoch 18/20\n",
      "4112/4112 - 8s - loss: 0.3326 - acc: 0.8393 - val_loss: 0.3108 - val_acc: 0.8439\n",
      "Epoch 19/20\n",
      "4112/4112 - 8s - loss: 0.3275 - acc: 0.8402 - val_loss: 0.3173 - val_acc: 0.8381\n",
      "Epoch 20/20\n",
      "4112/4112 - 8s - loss: 0.3293 - acc: 0.8414 - val_loss: 0.3066 - val_acc: 0.8490\n"
     ]
    },
    {
     "data": {
      "text/html": [
       "<span style=\"color:#4527A0\"><h1 style=\"font-size:18px\">Trial complete</h1></span>"
      ],
      "text/plain": [
       "<IPython.core.display.HTML object>"
      ]
     },
     "metadata": {
      "tags": []
     },
     "output_type": "display_data"
    },
    {
     "data": {
      "text/html": [
       "<span style=\"color:#4527A0\"><h1 style=\"font-size:18px\">Trial summary</h1></span>"
      ],
      "text/plain": [
       "<IPython.core.display.HTML object>"
      ]
     },
     "metadata": {
      "tags": []
     },
     "output_type": "display_data"
    },
    {
     "data": {
      "text/html": [
       "<span style=\"color:#7E57C2\"><h2 style=\"font-size:16px\">Hp values:</h2></span>"
      ],
      "text/plain": [
       "<IPython.core.display.HTML object>"
      ]
     },
     "metadata": {
      "tags": []
     },
     "output_type": "display_data"
    },
    {
     "data": {
      "text/html": [
       "<span style=\"color:cyan\"> |-learning_rate: 0.001</span>"
      ],
      "text/plain": [
       "<IPython.core.display.HTML object>"
      ]
     },
     "metadata": {
      "tags": []
     },
     "output_type": "display_data"
    },
    {
     "data": {
      "text/html": [
       "<span style=\"color:blue\"> |-lstm_0_dp: 0.30000000000000004</span>"
      ],
      "text/plain": [
       "<IPython.core.display.HTML object>"
      ]
     },
     "metadata": {
      "tags": []
     },
     "output_type": "display_data"
    },
    {
     "data": {
      "text/html": [
       "<span style=\"color:cyan\"> |-lstm_0_rdp: 0.4</span>"
      ],
      "text/plain": [
       "<IPython.core.display.HTML object>"
      ]
     },
     "metadata": {
      "tags": []
     },
     "output_type": "display_data"
    },
    {
     "data": {
      "text/html": [
       "<span style=\"color:blue\"> |-lstm_0_units: 112</span>"
      ],
      "text/plain": [
       "<IPython.core.display.HTML object>"
      ]
     },
     "metadata": {
      "tags": []
     },
     "output_type": "display_data"
    },
    {
     "data": {
      "text/html": [
       "<span style=\"color:cyan\"> |-lstm_1_dp: 0.4</span>"
      ],
      "text/plain": [
       "<IPython.core.display.HTML object>"
      ]
     },
     "metadata": {
      "tags": []
     },
     "output_type": "display_data"
    },
    {
     "data": {
      "text/html": [
       "<span style=\"color:blue\"> |-lstm_1_rdp: 0.4</span>"
      ],
      "text/plain": [
       "<IPython.core.display.HTML object>"
      ]
     },
     "metadata": {
      "tags": []
     },
     "output_type": "display_data"
    },
    {
     "data": {
      "text/html": [
       "<span style=\"color:cyan\"> |-lstm_1_units: 76</span>"
      ],
      "text/plain": [
       "<IPython.core.display.HTML object>"
      ]
     },
     "metadata": {
      "tags": []
     },
     "output_type": "display_data"
    },
    {
     "data": {
      "text/html": [
       "<span style=\"color:blue\"> |-lstm_last_dp: 0.4</span>"
      ],
      "text/plain": [
       "<IPython.core.display.HTML object>"
      ]
     },
     "metadata": {
      "tags": []
     },
     "output_type": "display_data"
    },
    {
     "data": {
      "text/html": [
       "<span style=\"color:cyan\"> |-lstm_last_rdp: 0.0</span>"
      ],
      "text/plain": [
       "<IPython.core.display.HTML object>"
      ]
     },
     "metadata": {
      "tags": []
     },
     "output_type": "display_data"
    },
    {
     "data": {
      "text/html": [
       "<span style=\"color:blue\"> |-lstm_last_units: 80</span>"
      ],
      "text/plain": [
       "<IPython.core.display.HTML object>"
      ]
     },
     "metadata": {
      "tags": []
     },
     "output_type": "display_data"
    },
    {
     "data": {
      "text/html": [
       "<span style=\"color:cyan\"> |-n_layers: 2</span>"
      ],
      "text/plain": [
       "<IPython.core.display.HTML object>"
      ]
     },
     "metadata": {
      "tags": []
     },
     "output_type": "display_data"
    },
    {
     "data": {
      "text/html": [
       "<span style=\"color:cyan\"> |-Score: 0.8490152955055237</span>"
      ],
      "text/plain": [
       "<IPython.core.display.HTML object>"
      ]
     },
     "metadata": {
      "tags": []
     },
     "output_type": "display_data"
    },
    {
     "data": {
      "text/html": [
       "<span style=\"color:cyan\"> |-Best step: 0</span>"
      ],
      "text/plain": [
       "<IPython.core.display.HTML object>"
      ]
     },
     "metadata": {
      "tags": []
     },
     "output_type": "display_data"
    },
    {
     "name": "stdout",
     "output_type": "stream",
     "text": [
      "Train on 4112 samples, validate on 1371 samples\n",
      "Epoch 1/20\n",
      "4112/4112 - 10s - loss: 0.4901 - acc: 0.8018 - val_loss: 0.4508 - val_acc: 0.8067\n",
      "Epoch 2/20\n",
      "4112/4112 - 7s - loss: 0.4420 - acc: 0.8130 - val_loss: 0.4205 - val_acc: 0.8147\n",
      "Epoch 3/20\n",
      "4112/4112 - 7s - loss: 0.4164 - acc: 0.8174 - val_loss: 0.4148 - val_acc: 0.8067\n",
      "Epoch 4/20\n",
      "4112/4112 - 7s - loss: 0.4023 - acc: 0.8169 - val_loss: 0.3862 - val_acc: 0.8308\n",
      "Epoch 5/20\n",
      "4112/4112 - 7s - loss: 0.3868 - acc: 0.8249 - val_loss: 0.3663 - val_acc: 0.8373\n",
      "Epoch 6/20\n",
      "4112/4112 - 7s - loss: 0.3787 - acc: 0.8239 - val_loss: 0.3561 - val_acc: 0.8410\n",
      "Epoch 7/20\n",
      "4112/4112 - 7s - loss: 0.3714 - acc: 0.8249 - val_loss: 0.3512 - val_acc: 0.8366\n",
      "Epoch 8/20\n",
      "4112/4112 - 7s - loss: 0.3588 - acc: 0.8371 - val_loss: 0.3387 - val_acc: 0.8359\n",
      "Epoch 9/20\n",
      "4112/4112 - 7s - loss: 0.3529 - acc: 0.8356 - val_loss: 0.3319 - val_acc: 0.8344\n",
      "Epoch 10/20\n",
      "4112/4112 - 7s - loss: 0.3526 - acc: 0.8356 - val_loss: 0.3350 - val_acc: 0.8366\n",
      "Epoch 11/20\n",
      "4112/4112 - 7s - loss: 0.3502 - acc: 0.8271 - val_loss: 0.3287 - val_acc: 0.8388\n",
      "Epoch 12/20\n",
      "4112/4112 - 7s - loss: 0.3414 - acc: 0.8371 - val_loss: 0.3449 - val_acc: 0.8359\n",
      "Epoch 13/20\n",
      "4112/4112 - 7s - loss: 0.3369 - acc: 0.8383 - val_loss: 0.3251 - val_acc: 0.8337\n",
      "Epoch 14/20\n",
      "4112/4112 - 7s - loss: 0.3322 - acc: 0.8393 - val_loss: 0.3152 - val_acc: 0.8388\n",
      "Epoch 15/20\n",
      "4112/4112 - 7s - loss: 0.3292 - acc: 0.8337 - val_loss: 0.3109 - val_acc: 0.8410\n",
      "Epoch 16/20\n",
      "4112/4112 - 7s - loss: 0.3289 - acc: 0.8390 - val_loss: 0.3214 - val_acc: 0.8315\n",
      "Epoch 17/20\n",
      "4112/4112 - 7s - loss: 0.3258 - acc: 0.8453 - val_loss: 0.3137 - val_acc: 0.8476\n",
      "Epoch 18/20\n",
      "4112/4112 - 7s - loss: 0.3185 - acc: 0.8492 - val_loss: 0.3112 - val_acc: 0.8476\n",
      "Epoch 19/20\n",
      "4112/4112 - 7s - loss: 0.3095 - acc: 0.8456 - val_loss: 0.3109 - val_acc: 0.8454\n",
      "Epoch 20/20\n",
      "4112/4112 - 7s - loss: 0.3116 - acc: 0.8495 - val_loss: 0.3114 - val_acc: 0.8461\n"
     ]
    },
    {
     "data": {
      "text/html": [
       "<span style=\"color:#4527A0\"><h1 style=\"font-size:18px\">Trial complete</h1></span>"
      ],
      "text/plain": [
       "<IPython.core.display.HTML object>"
      ]
     },
     "metadata": {
      "tags": []
     },
     "output_type": "display_data"
    },
    {
     "data": {
      "text/html": [
       "<span style=\"color:#4527A0\"><h1 style=\"font-size:18px\">Trial summary</h1></span>"
      ],
      "text/plain": [
       "<IPython.core.display.HTML object>"
      ]
     },
     "metadata": {
      "tags": []
     },
     "output_type": "display_data"
    },
    {
     "data": {
      "text/html": [
       "<span style=\"color:#7E57C2\"><h2 style=\"font-size:16px\">Hp values:</h2></span>"
      ],
      "text/plain": [
       "<IPython.core.display.HTML object>"
      ]
     },
     "metadata": {
      "tags": []
     },
     "output_type": "display_data"
    },
    {
     "data": {
      "text/html": [
       "<span style=\"color:cyan\"> |-learning_rate: 0.001</span>"
      ],
      "text/plain": [
       "<IPython.core.display.HTML object>"
      ]
     },
     "metadata": {
      "tags": []
     },
     "output_type": "display_data"
    },
    {
     "data": {
      "text/html": [
       "<span style=\"color:blue\"> |-lstm_0_dp: 0.1</span>"
      ],
      "text/plain": [
       "<IPython.core.display.HTML object>"
      ]
     },
     "metadata": {
      "tags": []
     },
     "output_type": "display_data"
    },
    {
     "data": {
      "text/html": [
       "<span style=\"color:cyan\"> |-lstm_0_rdp: 0.6000000000000001</span>"
      ],
      "text/plain": [
       "<IPython.core.display.HTML object>"
      ]
     },
     "metadata": {
      "tags": []
     },
     "output_type": "display_data"
    },
    {
     "data": {
      "text/html": [
       "<span style=\"color:blue\"> |-lstm_0_units: 40</span>"
      ],
      "text/plain": [
       "<IPython.core.display.HTML object>"
      ]
     },
     "metadata": {
      "tags": []
     },
     "output_type": "display_data"
    },
    {
     "data": {
      "text/html": [
       "<span style=\"color:cyan\"> |-lstm_1_dp: 0.1</span>"
      ],
      "text/plain": [
       "<IPython.core.display.HTML object>"
      ]
     },
     "metadata": {
      "tags": []
     },
     "output_type": "display_data"
    },
    {
     "data": {
      "text/html": [
       "<span style=\"color:blue\"> |-lstm_1_rdp: 0.30000000000000004</span>"
      ],
      "text/plain": [
       "<IPython.core.display.HTML object>"
      ]
     },
     "metadata": {
      "tags": []
     },
     "output_type": "display_data"
    },
    {
     "data": {
      "text/html": [
       "<span style=\"color:cyan\"> |-lstm_1_units: 108</span>"
      ],
      "text/plain": [
       "<IPython.core.display.HTML object>"
      ]
     },
     "metadata": {
      "tags": []
     },
     "output_type": "display_data"
    },
    {
     "data": {
      "text/html": [
       "<span style=\"color:blue\"> |-lstm_last_dp: 0.2</span>"
      ],
      "text/plain": [
       "<IPython.core.display.HTML object>"
      ]
     },
     "metadata": {
      "tags": []
     },
     "output_type": "display_data"
    },
    {
     "data": {
      "text/html": [
       "<span style=\"color:cyan\"> |-lstm_last_rdp: 0.30000000000000004</span>"
      ],
      "text/plain": [
       "<IPython.core.display.HTML object>"
      ]
     },
     "metadata": {
      "tags": []
     },
     "output_type": "display_data"
    },
    {
     "data": {
      "text/html": [
       "<span style=\"color:blue\"> |-lstm_last_units: 104</span>"
      ],
      "text/plain": [
       "<IPython.core.display.HTML object>"
      ]
     },
     "metadata": {
      "tags": []
     },
     "output_type": "display_data"
    },
    {
     "data": {
      "text/html": [
       "<span style=\"color:cyan\"> |-n_layers: 2</span>"
      ],
      "text/plain": [
       "<IPython.core.display.HTML object>"
      ]
     },
     "metadata": {
      "tags": []
     },
     "output_type": "display_data"
    },
    {
     "data": {
      "text/html": [
       "<span style=\"color:cyan\"> |-Score: 0.8475565314292908</span>"
      ],
      "text/plain": [
       "<IPython.core.display.HTML object>"
      ]
     },
     "metadata": {
      "tags": []
     },
     "output_type": "display_data"
    },
    {
     "data": {
      "text/html": [
       "<span style=\"color:cyan\"> |-Best step: 0</span>"
      ],
      "text/plain": [
       "<IPython.core.display.HTML object>"
      ]
     },
     "metadata": {
      "tags": []
     },
     "output_type": "display_data"
    },
    {
     "name": "stdout",
     "output_type": "stream",
     "text": [
      "Train on 4112 samples, validate on 1371 samples\n",
      "Epoch 1/20\n",
      "4112/4112 - 10s - loss: 0.4974 - acc: 0.8008 - val_loss: 0.4514 - val_acc: 0.8053\n",
      "Epoch 2/20\n",
      "4112/4112 - 7s - loss: 0.4530 - acc: 0.8071 - val_loss: 0.4374 - val_acc: 0.8060\n",
      "Epoch 3/20\n",
      "4112/4112 - 7s - loss: 0.4255 - acc: 0.8120 - val_loss: 0.4145 - val_acc: 0.8067\n",
      "Epoch 4/20\n",
      "4112/4112 - 7s - loss: 0.4042 - acc: 0.8130 - val_loss: 0.3882 - val_acc: 0.8147\n",
      "Epoch 5/20\n",
      "4112/4112 - 7s - loss: 0.4032 - acc: 0.8123 - val_loss: 0.3744 - val_acc: 0.8177\n",
      "Epoch 6/20\n",
      "4112/4112 - 8s - loss: 0.3844 - acc: 0.8179 - val_loss: 0.3558 - val_acc: 0.8279\n",
      "Epoch 7/20\n",
      "4112/4112 - 8s - loss: 0.3786 - acc: 0.8176 - val_loss: 0.3558 - val_acc: 0.8293\n",
      "Epoch 8/20\n",
      "4112/4112 - 7s - loss: 0.3637 - acc: 0.8315 - val_loss: 0.3577 - val_acc: 0.8235\n",
      "Epoch 9/20\n",
      "4112/4112 - 7s - loss: 0.3477 - acc: 0.8281 - val_loss: 0.3328 - val_acc: 0.8359\n",
      "Epoch 10/20\n",
      "4112/4112 - 8s - loss: 0.3492 - acc: 0.8334 - val_loss: 0.3247 - val_acc: 0.8381\n",
      "Epoch 11/20\n",
      "4112/4112 - 8s - loss: 0.3406 - acc: 0.8320 - val_loss: 0.3203 - val_acc: 0.8395\n",
      "Epoch 12/20\n",
      "4112/4112 - 8s - loss: 0.3288 - acc: 0.8468 - val_loss: 0.3170 - val_acc: 0.8461\n",
      "Epoch 13/20\n",
      "4112/4112 - 8s - loss: 0.3234 - acc: 0.8439 - val_loss: 0.3176 - val_acc: 0.8476\n",
      "Epoch 14/20\n",
      "4112/4112 - 8s - loss: 0.3227 - acc: 0.8393 - val_loss: 0.3263 - val_acc: 0.8432\n",
      "Epoch 15/20\n",
      "4112/4112 - 7s - loss: 0.3181 - acc: 0.8434 - val_loss: 0.3133 - val_acc: 0.8490\n",
      "Epoch 16/20\n",
      "4112/4112 - 8s - loss: 0.3189 - acc: 0.8429 - val_loss: 0.3163 - val_acc: 0.8403\n",
      "Epoch 17/20\n",
      "4112/4112 - 8s - loss: 0.3125 - acc: 0.8456 - val_loss: 0.3170 - val_acc: 0.8410\n",
      "Epoch 18/20\n",
      "4112/4112 - 8s - loss: 0.3041 - acc: 0.8512 - val_loss: 0.3049 - val_acc: 0.8563\n",
      "Epoch 19/20\n",
      "4112/4112 - 7s - loss: 0.3085 - acc: 0.8502 - val_loss: 0.3130 - val_acc: 0.8534\n",
      "Epoch 20/20\n",
      "4112/4112 - 7s - loss: 0.3050 - acc: 0.8570 - val_loss: 0.3109 - val_acc: 0.8483\n"
     ]
    },
    {
     "data": {
      "text/html": [
       "<span style=\"color:#4527A0\"><h1 style=\"font-size:18px\">Trial complete</h1></span>"
      ],
      "text/plain": [
       "<IPython.core.display.HTML object>"
      ]
     },
     "metadata": {
      "tags": []
     },
     "output_type": "display_data"
    },
    {
     "data": {
      "text/html": [
       "<span style=\"color:#4527A0\"><h1 style=\"font-size:18px\">Trial summary</h1></span>"
      ],
      "text/plain": [
       "<IPython.core.display.HTML object>"
      ]
     },
     "metadata": {
      "tags": []
     },
     "output_type": "display_data"
    },
    {
     "data": {
      "text/html": [
       "<span style=\"color:#7E57C2\"><h2 style=\"font-size:16px\">Hp values:</h2></span>"
      ],
      "text/plain": [
       "<IPython.core.display.HTML object>"
      ]
     },
     "metadata": {
      "tags": []
     },
     "output_type": "display_data"
    },
    {
     "data": {
      "text/html": [
       "<span style=\"color:cyan\"> |-learning_rate: 0.001</span>"
      ],
      "text/plain": [
       "<IPython.core.display.HTML object>"
      ]
     },
     "metadata": {
      "tags": []
     },
     "output_type": "display_data"
    },
    {
     "data": {
      "text/html": [
       "<span style=\"color:blue\"> |-lstm_0_dp: 0.1</span>"
      ],
      "text/plain": [
       "<IPython.core.display.HTML object>"
      ]
     },
     "metadata": {
      "tags": []
     },
     "output_type": "display_data"
    },
    {
     "data": {
      "text/html": [
       "<span style=\"color:cyan\"> |-lstm_0_rdp: 0.2</span>"
      ],
      "text/plain": [
       "<IPython.core.display.HTML object>"
      ]
     },
     "metadata": {
      "tags": []
     },
     "output_type": "display_data"
    },
    {
     "data": {
      "text/html": [
       "<span style=\"color:blue\"> |-lstm_0_units: 116</span>"
      ],
      "text/plain": [
       "<IPython.core.display.HTML object>"
      ]
     },
     "metadata": {
      "tags": []
     },
     "output_type": "display_data"
    },
    {
     "data": {
      "text/html": [
       "<span style=\"color:cyan\"> |-lstm_1_dp: 0.1</span>"
      ],
      "text/plain": [
       "<IPython.core.display.HTML object>"
      ]
     },
     "metadata": {
      "tags": []
     },
     "output_type": "display_data"
    },
    {
     "data": {
      "text/html": [
       "<span style=\"color:blue\"> |-lstm_1_rdp: 0.30000000000000004</span>"
      ],
      "text/plain": [
       "<IPython.core.display.HTML object>"
      ]
     },
     "metadata": {
      "tags": []
     },
     "output_type": "display_data"
    },
    {
     "data": {
      "text/html": [
       "<span style=\"color:cyan\"> |-lstm_1_units: 8</span>"
      ],
      "text/plain": [
       "<IPython.core.display.HTML object>"
      ]
     },
     "metadata": {
      "tags": []
     },
     "output_type": "display_data"
    },
    {
     "data": {
      "text/html": [
       "<span style=\"color:blue\"> |-lstm_last_dp: 0.2</span>"
      ],
      "text/plain": [
       "<IPython.core.display.HTML object>"
      ]
     },
     "metadata": {
      "tags": []
     },
     "output_type": "display_data"
    },
    {
     "data": {
      "text/html": [
       "<span style=\"color:cyan\"> |-lstm_last_rdp: 0.0</span>"
      ],
      "text/plain": [
       "<IPython.core.display.HTML object>"
      ]
     },
     "metadata": {
      "tags": []
     },
     "output_type": "display_data"
    },
    {
     "data": {
      "text/html": [
       "<span style=\"color:blue\"> |-lstm_last_units: 124</span>"
      ],
      "text/plain": [
       "<IPython.core.display.HTML object>"
      ]
     },
     "metadata": {
      "tags": []
     },
     "output_type": "display_data"
    },
    {
     "data": {
      "text/html": [
       "<span style=\"color:cyan\"> |-n_layers: 2</span>"
      ],
      "text/plain": [
       "<IPython.core.display.HTML object>"
      ]
     },
     "metadata": {
      "tags": []
     },
     "output_type": "display_data"
    },
    {
     "data": {
      "text/html": [
       "<span style=\"color:cyan\"> |-Score: 0.8563092350959778</span>"
      ],
      "text/plain": [
       "<IPython.core.display.HTML object>"
      ]
     },
     "metadata": {
      "tags": []
     },
     "output_type": "display_data"
    },
    {
     "data": {
      "text/html": [
       "<span style=\"color:cyan\"> |-Best step: 0</span>"
      ],
      "text/plain": [
       "<IPython.core.display.HTML object>"
      ]
     },
     "metadata": {
      "tags": []
     },
     "output_type": "display_data"
    },
    {
     "name": "stdout",
     "output_type": "stream",
     "text": [
      "Train on 4112 samples, validate on 1371 samples\n",
      "Epoch 1/20\n",
      "4112/4112 - 7s - loss: 0.5257 - acc: 0.8003 - val_loss: 0.4859 - val_acc: 0.8053\n",
      "Epoch 2/20\n",
      "4112/4112 - 4s - loss: 0.4819 - acc: 0.8057 - val_loss: 0.4774 - val_acc: 0.8053\n",
      "Epoch 3/20\n",
      "4112/4112 - 4s - loss: 0.4692 - acc: 0.8052 - val_loss: 0.4593 - val_acc: 0.8074\n",
      "Epoch 4/20\n",
      "4112/4112 - 4s - loss: 0.4558 - acc: 0.8093 - val_loss: 0.4619 - val_acc: 0.8067\n",
      "Epoch 5/20\n",
      "4112/4112 - 4s - loss: 0.4484 - acc: 0.8089 - val_loss: 0.4357 - val_acc: 0.8074\n",
      "Epoch 6/20\n",
      "4112/4112 - 4s - loss: 0.4429 - acc: 0.8125 - val_loss: 0.4282 - val_acc: 0.8060\n",
      "Epoch 7/20\n",
      "4112/4112 - 4s - loss: 0.4260 - acc: 0.8125 - val_loss: 0.4124 - val_acc: 0.8096\n",
      "Epoch 8/20\n",
      "4112/4112 - 4s - loss: 0.4200 - acc: 0.8176 - val_loss: 0.4315 - val_acc: 0.8096\n",
      "Epoch 9/20\n",
      "4112/4112 - 4s - loss: 0.4184 - acc: 0.8118 - val_loss: 0.4081 - val_acc: 0.8125\n",
      "Epoch 10/20\n",
      "4112/4112 - 4s - loss: 0.4097 - acc: 0.8188 - val_loss: 0.3938 - val_acc: 0.8279\n",
      "Epoch 11/20\n",
      "4112/4112 - 4s - loss: 0.4111 - acc: 0.8135 - val_loss: 0.4002 - val_acc: 0.8177\n",
      "Epoch 12/20\n",
      "4112/4112 - 4s - loss: 0.3997 - acc: 0.8157 - val_loss: 0.3877 - val_acc: 0.8235\n",
      "Epoch 13/20\n",
      "4112/4112 - 4s - loss: 0.3979 - acc: 0.8222 - val_loss: 0.3822 - val_acc: 0.8249\n",
      "Epoch 14/20\n",
      "4112/4112 - 4s - loss: 0.3958 - acc: 0.8188 - val_loss: 0.3940 - val_acc: 0.8228\n",
      "Epoch 15/20\n",
      "4112/4112 - 4s - loss: 0.3897 - acc: 0.8288 - val_loss: 0.3800 - val_acc: 0.8249\n",
      "Epoch 16/20\n",
      "4112/4112 - 4s - loss: 0.3900 - acc: 0.8239 - val_loss: 0.3733 - val_acc: 0.8286\n",
      "Epoch 17/20\n",
      "4112/4112 - 4s - loss: 0.3841 - acc: 0.8307 - val_loss: 0.3784 - val_acc: 0.8228\n",
      "Epoch 18/20\n",
      "4112/4112 - 4s - loss: 0.3772 - acc: 0.8300 - val_loss: 0.3612 - val_acc: 0.8257\n",
      "Epoch 19/20\n",
      "4112/4112 - 4s - loss: 0.3794 - acc: 0.8247 - val_loss: 0.3792 - val_acc: 0.8271\n",
      "Epoch 20/20\n",
      "4112/4112 - 4s - loss: 0.3785 - acc: 0.8196 - val_loss: 0.3722 - val_acc: 0.8359\n"
     ]
    },
    {
     "data": {
      "text/html": [
       "<span style=\"color:#4527A0\"><h1 style=\"font-size:18px\">Trial complete</h1></span>"
      ],
      "text/plain": [
       "<IPython.core.display.HTML object>"
      ]
     },
     "metadata": {
      "tags": []
     },
     "output_type": "display_data"
    },
    {
     "data": {
      "text/html": [
       "<span style=\"color:#4527A0\"><h1 style=\"font-size:18px\">Trial summary</h1></span>"
      ],
      "text/plain": [
       "<IPython.core.display.HTML object>"
      ]
     },
     "metadata": {
      "tags": []
     },
     "output_type": "display_data"
    },
    {
     "data": {
      "text/html": [
       "<span style=\"color:#7E57C2\"><h2 style=\"font-size:16px\">Hp values:</h2></span>"
      ],
      "text/plain": [
       "<IPython.core.display.HTML object>"
      ]
     },
     "metadata": {
      "tags": []
     },
     "output_type": "display_data"
    },
    {
     "data": {
      "text/html": [
       "<span style=\"color:cyan\"> |-learning_rate: 0.0005</span>"
      ],
      "text/plain": [
       "<IPython.core.display.HTML object>"
      ]
     },
     "metadata": {
      "tags": []
     },
     "output_type": "display_data"
    },
    {
     "data": {
      "text/html": [
       "<span style=\"color:blue\"> |-lstm_0_dp: 0.30000000000000004</span>"
      ],
      "text/plain": [
       "<IPython.core.display.HTML object>"
      ]
     },
     "metadata": {
      "tags": []
     },
     "output_type": "display_data"
    },
    {
     "data": {
      "text/html": [
       "<span style=\"color:cyan\"> |-lstm_0_rdp: 0.1</span>"
      ],
      "text/plain": [
       "<IPython.core.display.HTML object>"
      ]
     },
     "metadata": {
      "tags": []
     },
     "output_type": "display_data"
    },
    {
     "data": {
      "text/html": [
       "<span style=\"color:blue\"> |-lstm_0_units: 32</span>"
      ],
      "text/plain": [
       "<IPython.core.display.HTML object>"
      ]
     },
     "metadata": {
      "tags": []
     },
     "output_type": "display_data"
    },
    {
     "data": {
      "text/html": [
       "<span style=\"color:cyan\"> |-lstm_1_dp: 0.1</span>"
      ],
      "text/plain": [
       "<IPython.core.display.HTML object>"
      ]
     },
     "metadata": {
      "tags": []
     },
     "output_type": "display_data"
    },
    {
     "data": {
      "text/html": [
       "<span style=\"color:blue\"> |-lstm_1_rdp: 0.30000000000000004</span>"
      ],
      "text/plain": [
       "<IPython.core.display.HTML object>"
      ]
     },
     "metadata": {
      "tags": []
     },
     "output_type": "display_data"
    },
    {
     "data": {
      "text/html": [
       "<span style=\"color:cyan\"> |-lstm_1_units: 60</span>"
      ],
      "text/plain": [
       "<IPython.core.display.HTML object>"
      ]
     },
     "metadata": {
      "tags": []
     },
     "output_type": "display_data"
    },
    {
     "data": {
      "text/html": [
       "<span style=\"color:blue\"> |-lstm_last_dp: 0.1</span>"
      ],
      "text/plain": [
       "<IPython.core.display.HTML object>"
      ]
     },
     "metadata": {
      "tags": []
     },
     "output_type": "display_data"
    },
    {
     "data": {
      "text/html": [
       "<span style=\"color:cyan\"> |-lstm_last_rdp: 0.4</span>"
      ],
      "text/plain": [
       "<IPython.core.display.HTML object>"
      ]
     },
     "metadata": {
      "tags": []
     },
     "output_type": "display_data"
    },
    {
     "data": {
      "text/html": [
       "<span style=\"color:blue\"> |-lstm_last_units: 4</span>"
      ],
      "text/plain": [
       "<IPython.core.display.HTML object>"
      ]
     },
     "metadata": {
      "tags": []
     },
     "output_type": "display_data"
    },
    {
     "data": {
      "text/html": [
       "<span style=\"color:cyan\"> |-n_layers: 2</span>"
      ],
      "text/plain": [
       "<IPython.core.display.HTML object>"
      ]
     },
     "metadata": {
      "tags": []
     },
     "output_type": "display_data"
    },
    {
     "data": {
      "text/html": [
       "<span style=\"color:cyan\"> |-Score: 0.8358862400054932</span>"
      ],
      "text/plain": [
       "<IPython.core.display.HTML object>"
      ]
     },
     "metadata": {
      "tags": []
     },
     "output_type": "display_data"
    },
    {
     "data": {
      "text/html": [
       "<span style=\"color:cyan\"> |-Best step: 0</span>"
      ],
      "text/plain": [
       "<IPython.core.display.HTML object>"
      ]
     },
     "metadata": {
      "tags": []
     },
     "output_type": "display_data"
    },
    {
     "name": "stdout",
     "output_type": "stream",
     "text": [
      "Train on 4112 samples, validate on 1371 samples\n",
      "Epoch 1/20\n",
      "4112/4112 - 11s - loss: 0.4902 - acc: 0.7972 - val_loss: 0.4571 - val_acc: 0.8067\n",
      "Epoch 2/20\n",
      "4112/4112 - 9s - loss: 0.4484 - acc: 0.8076 - val_loss: 0.4435 - val_acc: 0.8074\n",
      "Epoch 3/20\n",
      "4112/4112 - 9s - loss: 0.4305 - acc: 0.8067 - val_loss: 0.4230 - val_acc: 0.8096\n",
      "Epoch 4/20\n",
      "4112/4112 - 8s - loss: 0.4183 - acc: 0.8125 - val_loss: 0.4136 - val_acc: 0.8096\n",
      "Epoch 5/20\n",
      "4112/4112 - 9s - loss: 0.4036 - acc: 0.8164 - val_loss: 0.3975 - val_acc: 0.8206\n",
      "Epoch 6/20\n",
      "4112/4112 - 9s - loss: 0.3945 - acc: 0.8186 - val_loss: 0.3804 - val_acc: 0.8242\n",
      "Epoch 7/20\n",
      "4112/4112 - 9s - loss: 0.3849 - acc: 0.8191 - val_loss: 0.3708 - val_acc: 0.8228\n",
      "Epoch 8/20\n",
      "4112/4112 - 9s - loss: 0.3822 - acc: 0.8174 - val_loss: 0.3650 - val_acc: 0.8235\n",
      "Epoch 9/20\n",
      "4112/4112 - 9s - loss: 0.3712 - acc: 0.8210 - val_loss: 0.3608 - val_acc: 0.8330\n",
      "Epoch 10/20\n",
      "4112/4112 - 9s - loss: 0.3727 - acc: 0.8268 - val_loss: 0.3508 - val_acc: 0.8330\n",
      "Epoch 11/20\n",
      "4112/4112 - 9s - loss: 0.3674 - acc: 0.8232 - val_loss: 0.3580 - val_acc: 0.8198\n",
      "Epoch 12/20\n",
      "4112/4112 - 9s - loss: 0.3594 - acc: 0.8315 - val_loss: 0.3368 - val_acc: 0.8286\n",
      "Epoch 13/20\n",
      "4112/4112 - 9s - loss: 0.3510 - acc: 0.8339 - val_loss: 0.3394 - val_acc: 0.8315\n",
      "Epoch 14/20\n",
      "4112/4112 - 9s - loss: 0.3485 - acc: 0.8305 - val_loss: 0.3377 - val_acc: 0.8308\n",
      "Epoch 15/20\n",
      "4112/4112 - 9s - loss: 0.3396 - acc: 0.8339 - val_loss: 0.3232 - val_acc: 0.8359\n",
      "Epoch 16/20\n",
      "4112/4112 - 9s - loss: 0.3357 - acc: 0.8417 - val_loss: 0.3223 - val_acc: 0.8359\n",
      "Epoch 17/20\n",
      "4112/4112 - 9s - loss: 0.3278 - acc: 0.8444 - val_loss: 0.3153 - val_acc: 0.8425\n",
      "Epoch 18/20\n",
      "4112/4112 - 9s - loss: 0.3410 - acc: 0.8371 - val_loss: 0.3308 - val_acc: 0.8373\n",
      "Epoch 19/20\n",
      "4112/4112 - 9s - loss: 0.3283 - acc: 0.8431 - val_loss: 0.3341 - val_acc: 0.8395\n",
      "Epoch 20/20\n",
      "4112/4112 - 9s - loss: 0.3248 - acc: 0.8393 - val_loss: 0.3145 - val_acc: 0.8454\n"
     ]
    },
    {
     "data": {
      "text/html": [
       "<span style=\"color:#4527A0\"><h1 style=\"font-size:18px\">Trial complete</h1></span>"
      ],
      "text/plain": [
       "<IPython.core.display.HTML object>"
      ]
     },
     "metadata": {
      "tags": []
     },
     "output_type": "display_data"
    },
    {
     "data": {
      "text/html": [
       "<span style=\"color:#4527A0\"><h1 style=\"font-size:18px\">Trial summary</h1></span>"
      ],
      "text/plain": [
       "<IPython.core.display.HTML object>"
      ]
     },
     "metadata": {
      "tags": []
     },
     "output_type": "display_data"
    },
    {
     "data": {
      "text/html": [
       "<span style=\"color:#7E57C2\"><h2 style=\"font-size:16px\">Hp values:</h2></span>"
      ],
      "text/plain": [
       "<IPython.core.display.HTML object>"
      ]
     },
     "metadata": {
      "tags": []
     },
     "output_type": "display_data"
    },
    {
     "data": {
      "text/html": [
       "<span style=\"color:cyan\"> |-learning_rate: 0.0005</span>"
      ],
      "text/plain": [
       "<IPython.core.display.HTML object>"
      ]
     },
     "metadata": {
      "tags": []
     },
     "output_type": "display_data"
    },
    {
     "data": {
      "text/html": [
       "<span style=\"color:blue\"> |-lstm_0_dp: 0.1</span>"
      ],
      "text/plain": [
       "<IPython.core.display.HTML object>"
      ]
     },
     "metadata": {
      "tags": []
     },
     "output_type": "display_data"
    },
    {
     "data": {
      "text/html": [
       "<span style=\"color:cyan\"> |-lstm_0_rdp: 0.6000000000000001</span>"
      ],
      "text/plain": [
       "<IPython.core.display.HTML object>"
      ]
     },
     "metadata": {
      "tags": []
     },
     "output_type": "display_data"
    },
    {
     "data": {
      "text/html": [
       "<span style=\"color:blue\"> |-lstm_0_units: 84</span>"
      ],
      "text/plain": [
       "<IPython.core.display.HTML object>"
      ]
     },
     "metadata": {
      "tags": []
     },
     "output_type": "display_data"
    },
    {
     "data": {
      "text/html": [
       "<span style=\"color:cyan\"> |-lstm_1_dp: 0.2</span>"
      ],
      "text/plain": [
       "<IPython.core.display.HTML object>"
      ]
     },
     "metadata": {
      "tags": []
     },
     "output_type": "display_data"
    },
    {
     "data": {
      "text/html": [
       "<span style=\"color:blue\"> |-lstm_1_rdp: 0.5</span>"
      ],
      "text/plain": [
       "<IPython.core.display.HTML object>"
      ]
     },
     "metadata": {
      "tags": []
     },
     "output_type": "display_data"
    },
    {
     "data": {
      "text/html": [
       "<span style=\"color:cyan\"> |-lstm_1_units: 104</span>"
      ],
      "text/plain": [
       "<IPython.core.display.HTML object>"
      ]
     },
     "metadata": {
      "tags": []
     },
     "output_type": "display_data"
    },
    {
     "data": {
      "text/html": [
       "<span style=\"color:blue\"> |-lstm_last_dp: 0.1</span>"
      ],
      "text/plain": [
       "<IPython.core.display.HTML object>"
      ]
     },
     "metadata": {
      "tags": []
     },
     "output_type": "display_data"
    },
    {
     "data": {
      "text/html": [
       "<span style=\"color:cyan\"> |-lstm_last_rdp: 0.0</span>"
      ],
      "text/plain": [
       "<IPython.core.display.HTML object>"
      ]
     },
     "metadata": {
      "tags": []
     },
     "output_type": "display_data"
    },
    {
     "data": {
      "text/html": [
       "<span style=\"color:blue\"> |-lstm_last_units: 108</span>"
      ],
      "text/plain": [
       "<IPython.core.display.HTML object>"
      ]
     },
     "metadata": {
      "tags": []
     },
     "output_type": "display_data"
    },
    {
     "data": {
      "text/html": [
       "<span style=\"color:cyan\"> |-n_layers: 2</span>"
      ],
      "text/plain": [
       "<IPython.core.display.HTML object>"
      ]
     },
     "metadata": {
      "tags": []
     },
     "output_type": "display_data"
    },
    {
     "data": {
      "text/html": [
       "<span style=\"color:cyan\"> |-Score: 0.8453683257102966</span>"
      ],
      "text/plain": [
       "<IPython.core.display.HTML object>"
      ]
     },
     "metadata": {
      "tags": []
     },
     "output_type": "display_data"
    },
    {
     "data": {
      "text/html": [
       "<span style=\"color:cyan\"> |-Best step: 0</span>"
      ],
      "text/plain": [
       "<IPython.core.display.HTML object>"
      ]
     },
     "metadata": {
      "tags": []
     },
     "output_type": "display_data"
    },
    {
     "name": "stdout",
     "output_type": "stream",
     "text": [
      "Train on 4112 samples, validate on 1371 samples\n",
      "Epoch 1/20\n",
      "4112/4112 - 9s - loss: 0.4997 - acc: 0.7964 - val_loss: 0.4681 - val_acc: 0.8053\n",
      "Epoch 2/20\n",
      "4112/4112 - 6s - loss: 0.4548 - acc: 0.8079 - val_loss: 0.4356 - val_acc: 0.8140\n",
      "Epoch 3/20\n",
      "4112/4112 - 6s - loss: 0.4347 - acc: 0.8115 - val_loss: 0.4525 - val_acc: 0.8082\n",
      "Epoch 4/20\n",
      "4112/4112 - 6s - loss: 0.4242 - acc: 0.8130 - val_loss: 0.4200 - val_acc: 0.8096\n",
      "Epoch 5/20\n",
      "4112/4112 - 6s - loss: 0.4074 - acc: 0.8186 - val_loss: 0.3927 - val_acc: 0.8206\n",
      "Epoch 6/20\n",
      "4112/4112 - 6s - loss: 0.4040 - acc: 0.8152 - val_loss: 0.4227 - val_acc: 0.8089\n",
      "Epoch 7/20\n",
      "4112/4112 - 6s - loss: 0.3934 - acc: 0.8210 - val_loss: 0.3766 - val_acc: 0.8257\n",
      "Epoch 8/20\n",
      "4112/4112 - 6s - loss: 0.3891 - acc: 0.8198 - val_loss: 0.3744 - val_acc: 0.8315\n",
      "Epoch 9/20\n",
      "4112/4112 - 6s - loss: 0.3837 - acc: 0.8186 - val_loss: 0.3638 - val_acc: 0.8352\n",
      "Epoch 10/20\n",
      "4112/4112 - 6s - loss: 0.3751 - acc: 0.8242 - val_loss: 0.3699 - val_acc: 0.8279\n",
      "Epoch 11/20\n",
      "4112/4112 - 6s - loss: 0.3712 - acc: 0.8196 - val_loss: 0.3645 - val_acc: 0.8308\n",
      "Epoch 12/20\n",
      "4112/4112 - 6s - loss: 0.3688 - acc: 0.8271 - val_loss: 0.3462 - val_acc: 0.8352\n",
      "Epoch 13/20\n",
      "4112/4112 - 6s - loss: 0.3537 - acc: 0.8366 - val_loss: 0.3906 - val_acc: 0.8206\n",
      "Epoch 14/20\n",
      "4112/4112 - 6s - loss: 0.3630 - acc: 0.8247 - val_loss: 0.3395 - val_acc: 0.8344\n",
      "Epoch 15/20\n",
      "4112/4112 - 6s - loss: 0.3593 - acc: 0.8320 - val_loss: 0.3315 - val_acc: 0.8330\n",
      "Epoch 16/20\n",
      "4112/4112 - 6s - loss: 0.3496 - acc: 0.8334 - val_loss: 0.3358 - val_acc: 0.8359\n",
      "Epoch 17/20\n",
      "4112/4112 - 6s - loss: 0.3440 - acc: 0.8349 - val_loss: 0.3348 - val_acc: 0.8366\n",
      "Epoch 18/20\n",
      "4112/4112 - 6s - loss: 0.3454 - acc: 0.8414 - val_loss: 0.3238 - val_acc: 0.8395\n",
      "Epoch 19/20\n",
      "4112/4112 - 6s - loss: 0.3380 - acc: 0.8368 - val_loss: 0.3332 - val_acc: 0.8286\n",
      "Epoch 20/20\n",
      "4112/4112 - 6s - loss: 0.3361 - acc: 0.8407 - val_loss: 0.3518 - val_acc: 0.8279\n"
     ]
    },
    {
     "data": {
      "text/html": [
       "<span style=\"color:#4527A0\"><h1 style=\"font-size:18px\">Trial complete</h1></span>"
      ],
      "text/plain": [
       "<IPython.core.display.HTML object>"
      ]
     },
     "metadata": {
      "tags": []
     },
     "output_type": "display_data"
    },
    {
     "data": {
      "text/html": [
       "<span style=\"color:#4527A0\"><h1 style=\"font-size:18px\">Trial summary</h1></span>"
      ],
      "text/plain": [
       "<IPython.core.display.HTML object>"
      ]
     },
     "metadata": {
      "tags": []
     },
     "output_type": "display_data"
    },
    {
     "data": {
      "text/html": [
       "<span style=\"color:#7E57C2\"><h2 style=\"font-size:16px\">Hp values:</h2></span>"
      ],
      "text/plain": [
       "<IPython.core.display.HTML object>"
      ]
     },
     "metadata": {
      "tags": []
     },
     "output_type": "display_data"
    },
    {
     "data": {
      "text/html": [
       "<span style=\"color:cyan\"> |-learning_rate: 0.0005</span>"
      ],
      "text/plain": [
       "<IPython.core.display.HTML object>"
      ]
     },
     "metadata": {
      "tags": []
     },
     "output_type": "display_data"
    },
    {
     "data": {
      "text/html": [
       "<span style=\"color:blue\"> |-lstm_0_dp: 0.1</span>"
      ],
      "text/plain": [
       "<IPython.core.display.HTML object>"
      ]
     },
     "metadata": {
      "tags": []
     },
     "output_type": "display_data"
    },
    {
     "data": {
      "text/html": [
       "<span style=\"color:cyan\"> |-lstm_0_rdp: 0.5</span>"
      ],
      "text/plain": [
       "<IPython.core.display.HTML object>"
      ]
     },
     "metadata": {
      "tags": []
     },
     "output_type": "display_data"
    },
    {
     "data": {
      "text/html": [
       "<span style=\"color:blue\"> |-lstm_0_units: 96</span>"
      ],
      "text/plain": [
       "<IPython.core.display.HTML object>"
      ]
     },
     "metadata": {
      "tags": []
     },
     "output_type": "display_data"
    },
    {
     "data": {
      "text/html": [
       "<span style=\"color:cyan\"> |-lstm_1_dp: 0.2</span>"
      ],
      "text/plain": [
       "<IPython.core.display.HTML object>"
      ]
     },
     "metadata": {
      "tags": []
     },
     "output_type": "display_data"
    },
    {
     "data": {
      "text/html": [
       "<span style=\"color:blue\"> |-lstm_1_rdp: 0.6000000000000001</span>"
      ],
      "text/plain": [
       "<IPython.core.display.HTML object>"
      ]
     },
     "metadata": {
      "tags": []
     },
     "output_type": "display_data"
    },
    {
     "data": {
      "text/html": [
       "<span style=\"color:cyan\"> |-lstm_1_units: 64</span>"
      ],
      "text/plain": [
       "<IPython.core.display.HTML object>"
      ]
     },
     "metadata": {
      "tags": []
     },
     "output_type": "display_data"
    },
    {
     "data": {
      "text/html": [
       "<span style=\"color:blue\"> |-lstm_last_dp: 0.30000000000000004</span>"
      ],
      "text/plain": [
       "<IPython.core.display.HTML object>"
      ]
     },
     "metadata": {
      "tags": []
     },
     "output_type": "display_data"
    },
    {
     "data": {
      "text/html": [
       "<span style=\"color:cyan\"> |-lstm_last_rdp: 0.4</span>"
      ],
      "text/plain": [
       "<IPython.core.display.HTML object>"
      ]
     },
     "metadata": {
      "tags": []
     },
     "output_type": "display_data"
    },
    {
     "data": {
      "text/html": [
       "<span style=\"color:blue\"> |-lstm_last_units: 64</span>"
      ],
      "text/plain": [
       "<IPython.core.display.HTML object>"
      ]
     },
     "metadata": {
      "tags": []
     },
     "output_type": "display_data"
    },
    {
     "data": {
      "text/html": [
       "<span style=\"color:cyan\"> |-n_layers: 2</span>"
      ],
      "text/plain": [
       "<IPython.core.display.HTML object>"
      ]
     },
     "metadata": {
      "tags": []
     },
     "output_type": "display_data"
    },
    {
     "data": {
      "text/html": [
       "<span style=\"color:cyan\"> |-Score: 0.8395332098007202</span>"
      ],
      "text/plain": [
       "<IPython.core.display.HTML object>"
      ]
     },
     "metadata": {
      "tags": []
     },
     "output_type": "display_data"
    },
    {
     "data": {
      "text/html": [
       "<span style=\"color:cyan\"> |-Best step: 0</span>"
      ],
      "text/plain": [
       "<IPython.core.display.HTML object>"
      ]
     },
     "metadata": {
      "tags": []
     },
     "output_type": "display_data"
    },
    {
     "name": "stdout",
     "output_type": "stream",
     "text": [
      "Train on 4112 samples, validate on 1371 samples\n",
      "Epoch 1/20\n",
      "4112/4112 - 9s - loss: 0.4841 - acc: 0.7974 - val_loss: 0.4389 - val_acc: 0.8067\n",
      "Epoch 2/20\n",
      "4112/4112 - 7s - loss: 0.4309 - acc: 0.8071 - val_loss: 0.3969 - val_acc: 0.8162\n",
      "Epoch 3/20\n",
      "4112/4112 - 7s - loss: 0.4052 - acc: 0.8120 - val_loss: 0.4091 - val_acc: 0.8082\n",
      "Epoch 4/20\n",
      "4112/4112 - 7s - loss: 0.3908 - acc: 0.8120 - val_loss: 0.4112 - val_acc: 0.8177\n",
      "Epoch 5/20\n",
      "4112/4112 - 7s - loss: 0.3921 - acc: 0.8217 - val_loss: 0.3627 - val_acc: 0.8359\n",
      "Epoch 6/20\n",
      "4112/4112 - 7s - loss: 0.3702 - acc: 0.8247 - val_loss: 0.3513 - val_acc: 0.8425\n",
      "Epoch 7/20\n",
      "4112/4112 - 7s - loss: 0.3601 - acc: 0.8278 - val_loss: 0.3421 - val_acc: 0.8366\n",
      "Epoch 8/20\n",
      "4112/4112 - 7s - loss: 0.3531 - acc: 0.8327 - val_loss: 0.3353 - val_acc: 0.8395\n",
      "Epoch 9/20\n",
      "4112/4112 - 7s - loss: 0.3530 - acc: 0.8317 - val_loss: 0.3360 - val_acc: 0.8395\n",
      "Epoch 10/20\n",
      "4112/4112 - 7s - loss: 0.3369 - acc: 0.8373 - val_loss: 0.3115 - val_acc: 0.8366\n",
      "Epoch 11/20\n",
      "4112/4112 - 7s - loss: 0.3343 - acc: 0.8373 - val_loss: 0.3147 - val_acc: 0.8432\n",
      "Epoch 12/20\n",
      "4112/4112 - 7s - loss: 0.3393 - acc: 0.8283 - val_loss: 0.3331 - val_acc: 0.8337\n",
      "Epoch 13/20\n",
      "4112/4112 - 7s - loss: 0.3242 - acc: 0.8383 - val_loss: 0.3196 - val_acc: 0.8403\n",
      "Epoch 14/20\n",
      "4112/4112 - 7s - loss: 0.3292 - acc: 0.8344 - val_loss: 0.3412 - val_acc: 0.8279\n",
      "Epoch 15/20\n",
      "4112/4112 - 7s - loss: 0.3262 - acc: 0.8417 - val_loss: 0.3111 - val_acc: 0.8425\n",
      "Epoch 16/20\n",
      "4112/4112 - 7s - loss: 0.3192 - acc: 0.8475 - val_loss: 0.3159 - val_acc: 0.8446\n",
      "Epoch 17/20\n",
      "4112/4112 - 7s - loss: 0.3234 - acc: 0.8393 - val_loss: 0.3176 - val_acc: 0.8410\n",
      "Epoch 18/20\n",
      "4112/4112 - 7s - loss: 0.3240 - acc: 0.8414 - val_loss: 0.3059 - val_acc: 0.8490\n",
      "Epoch 19/20\n",
      "4112/4112 - 7s - loss: 0.3128 - acc: 0.8431 - val_loss: 0.3038 - val_acc: 0.8425\n",
      "Epoch 20/20\n",
      "4112/4112 - 7s - loss: 0.3101 - acc: 0.8461 - val_loss: 0.3056 - val_acc: 0.8483\n"
     ]
    },
    {
     "data": {
      "text/html": [
       "<span style=\"color:#4527A0\"><h1 style=\"font-size:18px\">Trial complete</h1></span>"
      ],
      "text/plain": [
       "<IPython.core.display.HTML object>"
      ]
     },
     "metadata": {
      "tags": []
     },
     "output_type": "display_data"
    },
    {
     "data": {
      "text/html": [
       "<span style=\"color:#4527A0\"><h1 style=\"font-size:18px\">Trial summary</h1></span>"
      ],
      "text/plain": [
       "<IPython.core.display.HTML object>"
      ]
     },
     "metadata": {
      "tags": []
     },
     "output_type": "display_data"
    },
    {
     "data": {
      "text/html": [
       "<span style=\"color:#7E57C2\"><h2 style=\"font-size:16px\">Hp values:</h2></span>"
      ],
      "text/plain": [
       "<IPython.core.display.HTML object>"
      ]
     },
     "metadata": {
      "tags": []
     },
     "output_type": "display_data"
    },
    {
     "data": {
      "text/html": [
       "<span style=\"color:cyan\"> |-learning_rate: 0.002</span>"
      ],
      "text/plain": [
       "<IPython.core.display.HTML object>"
      ]
     },
     "metadata": {
      "tags": []
     },
     "output_type": "display_data"
    },
    {
     "data": {
      "text/html": [
       "<span style=\"color:blue\"> |-lstm_0_dp: 0.30000000000000004</span>"
      ],
      "text/plain": [
       "<IPython.core.display.HTML object>"
      ]
     },
     "metadata": {
      "tags": []
     },
     "output_type": "display_data"
    },
    {
     "data": {
      "text/html": [
       "<span style=\"color:cyan\"> |-lstm_0_rdp: 0.2</span>"
      ],
      "text/plain": [
       "<IPython.core.display.HTML object>"
      ]
     },
     "metadata": {
      "tags": []
     },
     "output_type": "display_data"
    },
    {
     "data": {
      "text/html": [
       "<span style=\"color:blue\"> |-lstm_0_units: 88</span>"
      ],
      "text/plain": [
       "<IPython.core.display.HTML object>"
      ]
     },
     "metadata": {
      "tags": []
     },
     "output_type": "display_data"
    },
    {
     "data": {
      "text/html": [
       "<span style=\"color:cyan\"> |-lstm_1_dp: 0.1</span>"
      ],
      "text/plain": [
       "<IPython.core.display.HTML object>"
      ]
     },
     "metadata": {
      "tags": []
     },
     "output_type": "display_data"
    },
    {
     "data": {
      "text/html": [
       "<span style=\"color:blue\"> |-lstm_1_rdp: 0.6000000000000001</span>"
      ],
      "text/plain": [
       "<IPython.core.display.HTML object>"
      ]
     },
     "metadata": {
      "tags": []
     },
     "output_type": "display_data"
    },
    {
     "data": {
      "text/html": [
       "<span style=\"color:cyan\"> |-lstm_1_units: 104</span>"
      ],
      "text/plain": [
       "<IPython.core.display.HTML object>"
      ]
     },
     "metadata": {
      "tags": []
     },
     "output_type": "display_data"
    },
    {
     "data": {
      "text/html": [
       "<span style=\"color:blue\"> |-lstm_last_dp: 0.2</span>"
      ],
      "text/plain": [
       "<IPython.core.display.HTML object>"
      ]
     },
     "metadata": {
      "tags": []
     },
     "output_type": "display_data"
    },
    {
     "data": {
      "text/html": [
       "<span style=\"color:cyan\"> |-lstm_last_rdp: 0.6000000000000001</span>"
      ],
      "text/plain": [
       "<IPython.core.display.HTML object>"
      ]
     },
     "metadata": {
      "tags": []
     },
     "output_type": "display_data"
    },
    {
     "data": {
      "text/html": [
       "<span style=\"color:blue\"> |-lstm_last_units: 20</span>"
      ],
      "text/plain": [
       "<IPython.core.display.HTML object>"
      ]
     },
     "metadata": {
      "tags": []
     },
     "output_type": "display_data"
    },
    {
     "data": {
      "text/html": [
       "<span style=\"color:cyan\"> |-n_layers: 2</span>"
      ],
      "text/plain": [
       "<IPython.core.display.HTML object>"
      ]
     },
     "metadata": {
      "tags": []
     },
     "output_type": "display_data"
    },
    {
     "data": {
      "text/html": [
       "<span style=\"color:cyan\"> |-Score: 0.8490152955055237</span>"
      ],
      "text/plain": [
       "<IPython.core.display.HTML object>"
      ]
     },
     "metadata": {
      "tags": []
     },
     "output_type": "display_data"
    },
    {
     "data": {
      "text/html": [
       "<span style=\"color:cyan\"> |-Best step: 0</span>"
      ],
      "text/plain": [
       "<IPython.core.display.HTML object>"
      ]
     },
     "metadata": {
      "tags": []
     },
     "output_type": "display_data"
    },
    {
     "name": "stdout",
     "output_type": "stream",
     "text": [
      "Train on 4112 samples, validate on 1371 samples\n",
      "Epoch 1/20\n",
      "4112/4112 - 7s - loss: 0.4652 - acc: 0.8006 - val_loss: 0.4150 - val_acc: 0.8104\n",
      "Epoch 2/20\n",
      "4112/4112 - 6s - loss: 0.4090 - acc: 0.8186 - val_loss: 0.3926 - val_acc: 0.8213\n",
      "Epoch 3/20\n",
      "4112/4112 - 6s - loss: 0.3960 - acc: 0.8213 - val_loss: 0.3791 - val_acc: 0.8257\n",
      "Epoch 4/20\n",
      "4112/4112 - 6s - loss: 0.3777 - acc: 0.8220 - val_loss: 0.3607 - val_acc: 0.8344\n",
      "Epoch 5/20\n",
      "4112/4112 - 6s - loss: 0.3708 - acc: 0.8286 - val_loss: 0.3496 - val_acc: 0.8366\n",
      "Epoch 6/20\n",
      "4112/4112 - 6s - loss: 0.3643 - acc: 0.8288 - val_loss: 0.3504 - val_acc: 0.8322\n",
      "Epoch 7/20\n",
      "4112/4112 - 6s - loss: 0.3553 - acc: 0.8307 - val_loss: 0.3296 - val_acc: 0.8359\n",
      "Epoch 8/20\n",
      "4112/4112 - 6s - loss: 0.3432 - acc: 0.8383 - val_loss: 0.3438 - val_acc: 0.8344\n",
      "Epoch 9/20\n",
      "4112/4112 - 6s - loss: 0.3442 - acc: 0.8429 - val_loss: 0.3287 - val_acc: 0.8410\n",
      "Epoch 10/20\n",
      "4112/4112 - 6s - loss: 0.3415 - acc: 0.8427 - val_loss: 0.3236 - val_acc: 0.8446\n",
      "Epoch 11/20\n",
      "4112/4112 - 6s - loss: 0.3299 - acc: 0.8444 - val_loss: 0.3250 - val_acc: 0.8388\n",
      "Epoch 12/20\n",
      "4112/4112 - 6s - loss: 0.3229 - acc: 0.8470 - val_loss: 0.3193 - val_acc: 0.8381\n",
      "Epoch 13/20\n",
      "4112/4112 - 6s - loss: 0.3249 - acc: 0.8463 - val_loss: 0.3197 - val_acc: 0.8410\n",
      "Epoch 14/20\n",
      "4112/4112 - 6s - loss: 0.3229 - acc: 0.8456 - val_loss: 0.3263 - val_acc: 0.8373\n",
      "Epoch 15/20\n",
      "4112/4112 - 6s - loss: 0.3199 - acc: 0.8448 - val_loss: 0.3124 - val_acc: 0.8425\n",
      "Epoch 16/20\n",
      "4112/4112 - 6s - loss: 0.3151 - acc: 0.8492 - val_loss: 0.3238 - val_acc: 0.8373\n",
      "Epoch 17/20\n",
      "4112/4112 - 6s - loss: 0.3188 - acc: 0.8458 - val_loss: 0.3101 - val_acc: 0.8476\n",
      "Epoch 18/20\n",
      "4112/4112 - 6s - loss: 0.3130 - acc: 0.8429 - val_loss: 0.3172 - val_acc: 0.8446\n",
      "Epoch 19/20\n",
      "4112/4112 - 6s - loss: 0.3100 - acc: 0.8500 - val_loss: 0.3093 - val_acc: 0.8432\n",
      "Epoch 20/20\n",
      "4112/4112 - 6s - loss: 0.3029 - acc: 0.8597 - val_loss: 0.3107 - val_acc: 0.8497\n"
     ]
    },
    {
     "data": {
      "text/html": [
       "<span style=\"color:#4527A0\"><h1 style=\"font-size:18px\">Trial complete</h1></span>"
      ],
      "text/plain": [
       "<IPython.core.display.HTML object>"
      ]
     },
     "metadata": {
      "tags": []
     },
     "output_type": "display_data"
    },
    {
     "data": {
      "text/html": [
       "<span style=\"color:#4527A0\"><h1 style=\"font-size:18px\">Trial summary</h1></span>"
      ],
      "text/plain": [
       "<IPython.core.display.HTML object>"
      ]
     },
     "metadata": {
      "tags": []
     },
     "output_type": "display_data"
    },
    {
     "data": {
      "text/html": [
       "<span style=\"color:#7E57C2\"><h2 style=\"font-size:16px\">Hp values:</h2></span>"
      ],
      "text/plain": [
       "<IPython.core.display.HTML object>"
      ]
     },
     "metadata": {
      "tags": []
     },
     "output_type": "display_data"
    },
    {
     "data": {
      "text/html": [
       "<span style=\"color:cyan\"> |-learning_rate: 0.001</span>"
      ],
      "text/plain": [
       "<IPython.core.display.HTML object>"
      ]
     },
     "metadata": {
      "tags": []
     },
     "output_type": "display_data"
    },
    {
     "data": {
      "text/html": [
       "<span style=\"color:blue\"> |-lstm_0_dp: 0.1</span>"
      ],
      "text/plain": [
       "<IPython.core.display.HTML object>"
      ]
     },
     "metadata": {
      "tags": []
     },
     "output_type": "display_data"
    },
    {
     "data": {
      "text/html": [
       "<span style=\"color:cyan\"> |-lstm_0_rdp: 0.5</span>"
      ],
      "text/plain": [
       "<IPython.core.display.HTML object>"
      ]
     },
     "metadata": {
      "tags": []
     },
     "output_type": "display_data"
    },
    {
     "data": {
      "text/html": [
       "<span style=\"color:blue\"> |-lstm_0_units: 120</span>"
      ],
      "text/plain": [
       "<IPython.core.display.HTML object>"
      ]
     },
     "metadata": {
      "tags": []
     },
     "output_type": "display_data"
    },
    {
     "data": {
      "text/html": [
       "<span style=\"color:cyan\"> |-lstm_1_dp: 0.2</span>"
      ],
      "text/plain": [
       "<IPython.core.display.HTML object>"
      ]
     },
     "metadata": {
      "tags": []
     },
     "output_type": "display_data"
    },
    {
     "data": {
      "text/html": [
       "<span style=\"color:blue\"> |-lstm_1_rdp: 0.30000000000000004</span>"
      ],
      "text/plain": [
       "<IPython.core.display.HTML object>"
      ]
     },
     "metadata": {
      "tags": []
     },
     "output_type": "display_data"
    },
    {
     "data": {
      "text/html": [
       "<span style=\"color:cyan\"> |-lstm_1_units: 104</span>"
      ],
      "text/plain": [
       "<IPython.core.display.HTML object>"
      ]
     },
     "metadata": {
      "tags": []
     },
     "output_type": "display_data"
    },
    {
     "data": {
      "text/html": [
       "<span style=\"color:blue\"> |-lstm_last_dp: 0.1</span>"
      ],
      "text/plain": [
       "<IPython.core.display.HTML object>"
      ]
     },
     "metadata": {
      "tags": []
     },
     "output_type": "display_data"
    },
    {
     "data": {
      "text/html": [
       "<span style=\"color:cyan\"> |-lstm_last_rdp: 0.5</span>"
      ],
      "text/plain": [
       "<IPython.core.display.HTML object>"
      ]
     },
     "metadata": {
      "tags": []
     },
     "output_type": "display_data"
    },
    {
     "data": {
      "text/html": [
       "<span style=\"color:blue\"> |-lstm_last_units: 60</span>"
      ],
      "text/plain": [
       "<IPython.core.display.HTML object>"
      ]
     },
     "metadata": {
      "tags": []
     },
     "output_type": "display_data"
    },
    {
     "data": {
      "text/html": [
       "<span style=\"color:cyan\"> |-n_layers: 1</span>"
      ],
      "text/plain": [
       "<IPython.core.display.HTML object>"
      ]
     },
     "metadata": {
      "tags": []
     },
     "output_type": "display_data"
    },
    {
     "data": {
      "text/html": [
       "<span style=\"color:cyan\"> |-Score: 0.8497447371482849</span>"
      ],
      "text/plain": [
       "<IPython.core.display.HTML object>"
      ]
     },
     "metadata": {
      "tags": []
     },
     "output_type": "display_data"
    },
    {
     "data": {
      "text/html": [
       "<span style=\"color:cyan\"> |-Best step: 0</span>"
      ],
      "text/plain": [
       "<IPython.core.display.HTML object>"
      ]
     },
     "metadata": {
      "tags": []
     },
     "output_type": "display_data"
    },
    {
     "name": "stdout",
     "output_type": "stream",
     "text": [
      "Train on 4112 samples, validate on 1371 samples\n",
      "Epoch 1/20\n",
      "4112/4112 - 8s - loss: 0.4878 - acc: 0.7989 - val_loss: 0.4567 - val_acc: 0.8067\n",
      "Epoch 2/20\n",
      "4112/4112 - 5s - loss: 0.4452 - acc: 0.8103 - val_loss: 0.4225 - val_acc: 0.8133\n",
      "Epoch 3/20\n",
      "4112/4112 - 5s - loss: 0.4199 - acc: 0.8149 - val_loss: 0.4009 - val_acc: 0.8191\n",
      "Epoch 4/20\n",
      "4112/4112 - 5s - loss: 0.4080 - acc: 0.8166 - val_loss: 0.3876 - val_acc: 0.8111\n",
      "Epoch 5/20\n",
      "4112/4112 - 5s - loss: 0.3904 - acc: 0.8234 - val_loss: 0.3701 - val_acc: 0.8352\n",
      "Epoch 6/20\n",
      "4112/4112 - 5s - loss: 0.3881 - acc: 0.8230 - val_loss: 0.3600 - val_acc: 0.8366\n",
      "Epoch 7/20\n",
      "4112/4112 - 5s - loss: 0.3721 - acc: 0.8225 - val_loss: 0.3505 - val_acc: 0.8381\n",
      "Epoch 8/20\n",
      "4112/4112 - 5s - loss: 0.3703 - acc: 0.8247 - val_loss: 0.3431 - val_acc: 0.8395\n",
      "Epoch 9/20\n",
      "4112/4112 - 5s - loss: 0.3576 - acc: 0.8290 - val_loss: 0.3523 - val_acc: 0.8403\n",
      "Epoch 10/20\n",
      "4112/4112 - 5s - loss: 0.3557 - acc: 0.8303 - val_loss: 0.3355 - val_acc: 0.8381\n",
      "Epoch 11/20\n",
      "4112/4112 - 5s - loss: 0.3467 - acc: 0.8344 - val_loss: 0.3243 - val_acc: 0.8337\n",
      "Epoch 12/20\n",
      "4112/4112 - 5s - loss: 0.3438 - acc: 0.8356 - val_loss: 0.3195 - val_acc: 0.8381\n",
      "Epoch 13/20\n",
      "4112/4112 - 5s - loss: 0.3383 - acc: 0.8375 - val_loss: 0.3134 - val_acc: 0.8425\n",
      "Epoch 14/20\n",
      "4112/4112 - 5s - loss: 0.3474 - acc: 0.8332 - val_loss: 0.3147 - val_acc: 0.8366\n",
      "Epoch 15/20\n",
      "4112/4112 - 5s - loss: 0.3375 - acc: 0.8354 - val_loss: 0.3133 - val_acc: 0.8446\n",
      "Epoch 16/20\n",
      "4112/4112 - 5s - loss: 0.3248 - acc: 0.8424 - val_loss: 0.3074 - val_acc: 0.8476\n",
      "Epoch 17/20\n",
      "4112/4112 - 5s - loss: 0.3247 - acc: 0.8436 - val_loss: 0.3248 - val_acc: 0.8322\n",
      "Epoch 18/20\n",
      "4112/4112 - 5s - loss: 0.3201 - acc: 0.8439 - val_loss: 0.3173 - val_acc: 0.8446\n",
      "Epoch 19/20\n",
      "4112/4112 - 5s - loss: 0.3199 - acc: 0.8465 - val_loss: 0.3270 - val_acc: 0.8388\n",
      "Epoch 20/20\n",
      "4112/4112 - 5s - loss: 0.3229 - acc: 0.8446 - val_loss: 0.3106 - val_acc: 0.8417\n"
     ]
    },
    {
     "data": {
      "text/html": [
       "<span style=\"color:#4527A0\"><h1 style=\"font-size:18px\">Trial complete</h1></span>"
      ],
      "text/plain": [
       "<IPython.core.display.HTML object>"
      ]
     },
     "metadata": {
      "tags": []
     },
     "output_type": "display_data"
    },
    {
     "data": {
      "text/html": [
       "<span style=\"color:#4527A0\"><h1 style=\"font-size:18px\">Trial summary</h1></span>"
      ],
      "text/plain": [
       "<IPython.core.display.HTML object>"
      ]
     },
     "metadata": {
      "tags": []
     },
     "output_type": "display_data"
    },
    {
     "data": {
      "text/html": [
       "<span style=\"color:#7E57C2\"><h2 style=\"font-size:16px\">Hp values:</h2></span>"
      ],
      "text/plain": [
       "<IPython.core.display.HTML object>"
      ]
     },
     "metadata": {
      "tags": []
     },
     "output_type": "display_data"
    },
    {
     "data": {
      "text/html": [
       "<span style=\"color:cyan\"> |-learning_rate: 0.001</span>"
      ],
      "text/plain": [
       "<IPython.core.display.HTML object>"
      ]
     },
     "metadata": {
      "tags": []
     },
     "output_type": "display_data"
    },
    {
     "data": {
      "text/html": [
       "<span style=\"color:blue\"> |-lstm_0_dp: 0.1</span>"
      ],
      "text/plain": [
       "<IPython.core.display.HTML object>"
      ]
     },
     "metadata": {
      "tags": []
     },
     "output_type": "display_data"
    },
    {
     "data": {
      "text/html": [
       "<span style=\"color:cyan\"> |-lstm_0_rdp: 0.5</span>"
      ],
      "text/plain": [
       "<IPython.core.display.HTML object>"
      ]
     },
     "metadata": {
      "tags": []
     },
     "output_type": "display_data"
    },
    {
     "data": {
      "text/html": [
       "<span style=\"color:blue\"> |-lstm_0_units: 64</span>"
      ],
      "text/plain": [
       "<IPython.core.display.HTML object>"
      ]
     },
     "metadata": {
      "tags": []
     },
     "output_type": "display_data"
    },
    {
     "data": {
      "text/html": [
       "<span style=\"color:cyan\"> |-lstm_1_dp: 0.4</span>"
      ],
      "text/plain": [
       "<IPython.core.display.HTML object>"
      ]
     },
     "metadata": {
      "tags": []
     },
     "output_type": "display_data"
    },
    {
     "data": {
      "text/html": [
       "<span style=\"color:blue\"> |-lstm_1_rdp: 0.30000000000000004</span>"
      ],
      "text/plain": [
       "<IPython.core.display.HTML object>"
      ]
     },
     "metadata": {
      "tags": []
     },
     "output_type": "display_data"
    },
    {
     "data": {
      "text/html": [
       "<span style=\"color:cyan\"> |-lstm_1_units: 44</span>"
      ],
      "text/plain": [
       "<IPython.core.display.HTML object>"
      ]
     },
     "metadata": {
      "tags": []
     },
     "output_type": "display_data"
    },
    {
     "data": {
      "text/html": [
       "<span style=\"color:blue\"> |-lstm_last_dp: 0.1</span>"
      ],
      "text/plain": [
       "<IPython.core.display.HTML object>"
      ]
     },
     "metadata": {
      "tags": []
     },
     "output_type": "display_data"
    },
    {
     "data": {
      "text/html": [
       "<span style=\"color:cyan\"> |-lstm_last_rdp: 0.4</span>"
      ],
      "text/plain": [
       "<IPython.core.display.HTML object>"
      ]
     },
     "metadata": {
      "tags": []
     },
     "output_type": "display_data"
    },
    {
     "data": {
      "text/html": [
       "<span style=\"color:blue\"> |-lstm_last_units: 68</span>"
      ],
      "text/plain": [
       "<IPython.core.display.HTML object>"
      ]
     },
     "metadata": {
      "tags": []
     },
     "output_type": "display_data"
    },
    {
     "data": {
      "text/html": [
       "<span style=\"color:cyan\"> |-n_layers: 2</span>"
      ],
      "text/plain": [
       "<IPython.core.display.HTML object>"
      ]
     },
     "metadata": {
      "tags": []
     },
     "output_type": "display_data"
    },
    {
     "data": {
      "text/html": [
       "<span style=\"color:cyan\"> |-Score: 0.8475565314292908</span>"
      ],
      "text/plain": [
       "<IPython.core.display.HTML object>"
      ]
     },
     "metadata": {
      "tags": []
     },
     "output_type": "display_data"
    },
    {
     "data": {
      "text/html": [
       "<span style=\"color:cyan\"> |-Best step: 0</span>"
      ],
      "text/plain": [
       "<IPython.core.display.HTML object>"
      ]
     },
     "metadata": {
      "tags": []
     },
     "output_type": "display_data"
    },
    {
     "name": "stdout",
     "output_type": "stream",
     "text": [
      "Train on 4112 samples, validate on 1371 samples\n",
      "Epoch 1/20\n",
      "4112/4112 - 4s - loss: 0.4740 - acc: 0.7974 - val_loss: 0.4191 - val_acc: 0.8067\n",
      "Epoch 2/20\n",
      "4112/4112 - 2s - loss: 0.4137 - acc: 0.8157 - val_loss: 0.3843 - val_acc: 0.8293\n",
      "Epoch 3/20\n",
      "4112/4112 - 3s - loss: 0.3877 - acc: 0.8268 - val_loss: 0.3683 - val_acc: 0.8352\n",
      "Epoch 4/20\n",
      "4112/4112 - 2s - loss: 0.3686 - acc: 0.8295 - val_loss: 0.3507 - val_acc: 0.8395\n",
      "Epoch 5/20\n",
      "4112/4112 - 2s - loss: 0.3634 - acc: 0.8380 - val_loss: 0.3556 - val_acc: 0.8417\n",
      "Epoch 6/20\n",
      "4112/4112 - 2s - loss: 0.3561 - acc: 0.8373 - val_loss: 0.3368 - val_acc: 0.8373\n",
      "Epoch 7/20\n",
      "4112/4112 - 2s - loss: 0.3453 - acc: 0.8339 - val_loss: 0.3369 - val_acc: 0.8352\n",
      "Epoch 8/20\n",
      "4112/4112 - 2s - loss: 0.3420 - acc: 0.8424 - val_loss: 0.3391 - val_acc: 0.8381\n",
      "Epoch 9/20\n",
      "4112/4112 - 2s - loss: 0.3357 - acc: 0.8375 - val_loss: 0.3427 - val_acc: 0.8373\n",
      "Epoch 10/20\n",
      "4112/4112 - 2s - loss: 0.3340 - acc: 0.8441 - val_loss: 0.3229 - val_acc: 0.8417\n",
      "Epoch 11/20\n",
      "4112/4112 - 2s - loss: 0.3291 - acc: 0.8436 - val_loss: 0.3124 - val_acc: 0.8410\n",
      "Epoch 12/20\n",
      "4112/4112 - 2s - loss: 0.3239 - acc: 0.8431 - val_loss: 0.3104 - val_acc: 0.8439\n",
      "Epoch 13/20\n",
      "4112/4112 - 2s - loss: 0.3176 - acc: 0.8424 - val_loss: 0.3199 - val_acc: 0.8425\n",
      "Epoch 14/20\n",
      "4112/4112 - 2s - loss: 0.3181 - acc: 0.8470 - val_loss: 0.3171 - val_acc: 0.8439\n",
      "Epoch 15/20\n",
      "4112/4112 - 2s - loss: 0.3140 - acc: 0.8475 - val_loss: 0.3158 - val_acc: 0.8388\n",
      "Epoch 16/20\n",
      "4112/4112 - 2s - loss: 0.3093 - acc: 0.8475 - val_loss: 0.3071 - val_acc: 0.8468\n",
      "Epoch 17/20\n",
      "4112/4112 - 2s - loss: 0.3068 - acc: 0.8534 - val_loss: 0.3072 - val_acc: 0.8446\n",
      "Epoch 18/20\n",
      "4112/4112 - 2s - loss: 0.3129 - acc: 0.8468 - val_loss: 0.3134 - val_acc: 0.8439\n",
      "Epoch 19/20\n",
      "4112/4112 - 2s - loss: 0.3046 - acc: 0.8519 - val_loss: 0.3087 - val_acc: 0.8505\n",
      "Epoch 20/20\n",
      "4112/4112 - 2s - loss: 0.3065 - acc: 0.8509 - val_loss: 0.3195 - val_acc: 0.8352\n"
     ]
    },
    {
     "data": {
      "text/html": [
       "<span style=\"color:#4527A0\"><h1 style=\"font-size:18px\">Trial complete</h1></span>"
      ],
      "text/plain": [
       "<IPython.core.display.HTML object>"
      ]
     },
     "metadata": {
      "tags": []
     },
     "output_type": "display_data"
    },
    {
     "data": {
      "text/html": [
       "<span style=\"color:#4527A0\"><h1 style=\"font-size:18px\">Trial summary</h1></span>"
      ],
      "text/plain": [
       "<IPython.core.display.HTML object>"
      ]
     },
     "metadata": {
      "tags": []
     },
     "output_type": "display_data"
    },
    {
     "data": {
      "text/html": [
       "<span style=\"color:#7E57C2\"><h2 style=\"font-size:16px\">Hp values:</h2></span>"
      ],
      "text/plain": [
       "<IPython.core.display.HTML object>"
      ]
     },
     "metadata": {
      "tags": []
     },
     "output_type": "display_data"
    },
    {
     "data": {
      "text/html": [
       "<span style=\"color:cyan\"> |-learning_rate: 0.002</span>"
      ],
      "text/plain": [
       "<IPython.core.display.HTML object>"
      ]
     },
     "metadata": {
      "tags": []
     },
     "output_type": "display_data"
    },
    {
     "data": {
      "text/html": [
       "<span style=\"color:blue\"> |-lstm_0_dp: 0.2</span>"
      ],
      "text/plain": [
       "<IPython.core.display.HTML object>"
      ]
     },
     "metadata": {
      "tags": []
     },
     "output_type": "display_data"
    },
    {
     "data": {
      "text/html": [
       "<span style=\"color:cyan\"> |-lstm_0_rdp: 0.2</span>"
      ],
      "text/plain": [
       "<IPython.core.display.HTML object>"
      ]
     },
     "metadata": {
      "tags": []
     },
     "output_type": "display_data"
    },
    {
     "data": {
      "text/html": [
       "<span style=\"color:blue\"> |-lstm_0_units: 48</span>"
      ],
      "text/plain": [
       "<IPython.core.display.HTML object>"
      ]
     },
     "metadata": {
      "tags": []
     },
     "output_type": "display_data"
    },
    {
     "data": {
      "text/html": [
       "<span style=\"color:cyan\"> |-lstm_1_dp: 0.30000000000000004</span>"
      ],
      "text/plain": [
       "<IPython.core.display.HTML object>"
      ]
     },
     "metadata": {
      "tags": []
     },
     "output_type": "display_data"
    },
    {
     "data": {
      "text/html": [
       "<span style=\"color:blue\"> |-lstm_1_rdp: 0.1</span>"
      ],
      "text/plain": [
       "<IPython.core.display.HTML object>"
      ]
     },
     "metadata": {
      "tags": []
     },
     "output_type": "display_data"
    },
    {
     "data": {
      "text/html": [
       "<span style=\"color:cyan\"> |-lstm_1_units: 64</span>"
      ],
      "text/plain": [
       "<IPython.core.display.HTML object>"
      ]
     },
     "metadata": {
      "tags": []
     },
     "output_type": "display_data"
    },
    {
     "data": {
      "text/html": [
       "<span style=\"color:blue\"> |-lstm_last_dp: 0.0</span>"
      ],
      "text/plain": [
       "<IPython.core.display.HTML object>"
      ]
     },
     "metadata": {
      "tags": []
     },
     "output_type": "display_data"
    },
    {
     "data": {
      "text/html": [
       "<span style=\"color:cyan\"> |-lstm_last_rdp: 0.30000000000000004</span>"
      ],
      "text/plain": [
       "<IPython.core.display.HTML object>"
      ]
     },
     "metadata": {
      "tags": []
     },
     "output_type": "display_data"
    },
    {
     "data": {
      "text/html": [
       "<span style=\"color:blue\"> |-lstm_last_units: 8</span>"
      ],
      "text/plain": [
       "<IPython.core.display.HTML object>"
      ]
     },
     "metadata": {
      "tags": []
     },
     "output_type": "display_data"
    },
    {
     "data": {
      "text/html": [
       "<span style=\"color:cyan\"> |-n_layers: 1</span>"
      ],
      "text/plain": [
       "<IPython.core.display.HTML object>"
      ]
     },
     "metadata": {
      "tags": []
     },
     "output_type": "display_data"
    },
    {
     "data": {
      "text/html": [
       "<span style=\"color:cyan\"> |-Score: 0.8504741191864014</span>"
      ],
      "text/plain": [
       "<IPython.core.display.HTML object>"
      ]
     },
     "metadata": {
      "tags": []
     },
     "output_type": "display_data"
    },
    {
     "data": {
      "text/html": [
       "<span style=\"color:cyan\"> |-Best step: 0</span>"
      ],
      "text/plain": [
       "<IPython.core.display.HTML object>"
      ]
     },
     "metadata": {
      "tags": []
     },
     "output_type": "display_data"
    },
    {
     "name": "stdout",
     "output_type": "stream",
     "text": [
      "INFO:tensorflow:Oracle triggered exit\n"
     ]
    }
   ],
   "source": [
    "tuner.search(x=X_train,\n",
    "             y=y_train,\n",
    "             verbose=2, # just slapping this here bc jupyter notebook. The console out was getting messy.\n",
    "             epochs=epochs,\n",
    "             batch_size=batch,\n",
    "             #callbacks=[tensorboard],  # if you have callbacks like tensorboard, they go here.\n",
    "             validation_data=(X_val, y_val))"
   ]
  },
  {
   "cell_type": "code",
   "execution_count": 156,
   "metadata": {
    "colab": {
     "base_uri": "https://localhost:8080/",
     "height": 789
    },
    "colab_type": "code",
    "id": "xLcnFYkJiA82",
    "outputId": "64aa10f4-159c-4a41-b33a-a5a5a9e91bc5"
   },
   "outputs": [
    {
     "data": {
      "text/html": [
       "<span style=\"color:#4527A0\"><h1 style=\"font-size:18px\">Results summary</h1></span>"
      ],
      "text/plain": [
       "<IPython.core.display.HTML object>"
      ]
     },
     "metadata": {
      "tags": []
     },
     "output_type": "display_data"
    },
    {
     "data": {
      "text/html": [
       "<span style=\"color:cyan\"> |-Results in 1578165893/untitled_project</span>"
      ],
      "text/plain": [
       "<IPython.core.display.HTML object>"
      ]
     },
     "metadata": {
      "tags": []
     },
     "output_type": "display_data"
    },
    {
     "data": {
      "text/html": [
       "<span style=\"color:cyan\"> |-Showing 10 best trials</span>"
      ],
      "text/plain": [
       "<IPython.core.display.HTML object>"
      ]
     },
     "metadata": {
      "tags": []
     },
     "output_type": "display_data"
    },
    {
     "data": {
      "text/html": [
       "<span style=\"color:cyan\"> |-Objective: Objective(name='val_acc', direction='max') Score: 0.8563092350959778</span>"
      ],
      "text/plain": [
       "<IPython.core.display.HTML object>"
      ]
     },
     "metadata": {
      "tags": []
     },
     "output_type": "display_data"
    },
    {
     "data": {
      "text/html": [
       "<span style=\"color:cyan\"> |-Objective: Objective(name='val_acc', direction='max') Score: 0.853391706943512</span>"
      ],
      "text/plain": [
       "<IPython.core.display.HTML object>"
      ]
     },
     "metadata": {
      "tags": []
     },
     "output_type": "display_data"
    },
    {
     "data": {
      "text/html": [
       "<span style=\"color:cyan\"> |-Objective: Objective(name='val_acc', direction='max') Score: 0.8504741191864014</span>"
      ],
      "text/plain": [
       "<IPython.core.display.HTML object>"
      ]
     },
     "metadata": {
      "tags": []
     },
     "output_type": "display_data"
    },
    {
     "data": {
      "text/html": [
       "<span style=\"color:cyan\"> |-Objective: Objective(name='val_acc', direction='max') Score: 0.8497447371482849</span>"
      ],
      "text/plain": [
       "<IPython.core.display.HTML object>"
      ]
     },
     "metadata": {
      "tags": []
     },
     "output_type": "display_data"
    },
    {
     "data": {
      "text/html": [
       "<span style=\"color:cyan\"> |-Objective: Objective(name='val_acc', direction='max') Score: 0.8497447371482849</span>"
      ],
      "text/plain": [
       "<IPython.core.display.HTML object>"
      ]
     },
     "metadata": {
      "tags": []
     },
     "output_type": "display_data"
    },
    {
     "data": {
      "text/html": [
       "<span style=\"color:cyan\"> |-Objective: Objective(name='val_acc', direction='max') Score: 0.8490152955055237</span>"
      ],
      "text/plain": [
       "<IPython.core.display.HTML object>"
      ]
     },
     "metadata": {
      "tags": []
     },
     "output_type": "display_data"
    },
    {
     "data": {
      "text/html": [
       "<span style=\"color:cyan\"> |-Objective: Objective(name='val_acc', direction='max') Score: 0.8490152955055237</span>"
      ],
      "text/plain": [
       "<IPython.core.display.HTML object>"
      ]
     },
     "metadata": {
      "tags": []
     },
     "output_type": "display_data"
    },
    {
     "data": {
      "text/html": [
       "<span style=\"color:cyan\"> |-Objective: Objective(name='val_acc', direction='max') Score: 0.8475565314292908</span>"
      ],
      "text/plain": [
       "<IPython.core.display.HTML object>"
      ]
     },
     "metadata": {
      "tags": []
     },
     "output_type": "display_data"
    },
    {
     "data": {
      "text/html": [
       "<span style=\"color:cyan\"> |-Objective: Objective(name='val_acc', direction='max') Score: 0.8475565314292908</span>"
      ],
      "text/plain": [
       "<IPython.core.display.HTML object>"
      ]
     },
     "metadata": {
      "tags": []
     },
     "output_type": "display_data"
    },
    {
     "data": {
      "text/html": [
       "<span style=\"color:cyan\"> |-Objective: Objective(name='val_acc', direction='max') Score: 0.8468271493911743</span>"
      ],
      "text/plain": [
       "<IPython.core.display.HTML object>"
      ]
     },
     "metadata": {
      "tags": []
     },
     "output_type": "display_data"
    },
    {
     "name": "stdout",
     "output_type": "stream",
     "text": [
      "None\n",
      "Best Hyperparameters\n",
      "n_layers 2\n",
      "lstm_0_units 116\n",
      "lstm_0_dp 0.1\n",
      "lstm_0_rdp 0.2\n",
      "lstm_last_units 124\n",
      "lstm_last_dp 0.2\n",
      "lstm_last_rdp 0.0\n",
      "learning_rate 0.001\n",
      "lstm_1_units 8\n",
      "lstm_1_dp 0.1\n",
      "lstm_1_rdp 0.30000000000000004\n",
      "Model: \"sequential\"\n",
      "_________________________________________________________________\n",
      "Layer (type)                 Output Shape              Param #   \n",
      "=================================================================\n",
      "lstm (LSTM)                  (None, 17, 116)           111824    \n",
      "_________________________________________________________________\n",
      "lstm_1 (LSTM)                (None, 17, 8)             4000      \n",
      "_________________________________________________________________\n",
      "lstm_2 (LSTM)                (None, 124)               65968     \n",
      "_________________________________________________________________\n",
      "dense (Dense)                (None, 1)                 125       \n",
      "=================================================================\n",
      "Total params: 181,917\n",
      "Trainable params: 181,917\n",
      "Non-trainable params: 0\n",
      "_________________________________________________________________\n"
     ]
    }
   ],
   "source": [
    "print(tuner.results_summary())\n",
    "\n",
    "print('Best Hyperparameters')\n",
    "hyperarameters_best = tuner.get_best_hyperparameters()[0].values\n",
    "for (key, value) in hyperarameters_best.items():\n",
    "    print (key, value)\n",
    "\n",
    "best_model = tuner.get_best_models()[0]\n",
    "best_model.summary()"
   ]
  },
  {
   "cell_type": "code",
   "execution_count": 157,
   "metadata": {
    "colab": {
     "base_uri": "https://localhost:8080/",
     "height": 585
    },
    "colab_type": "code",
    "id": "WOVo5TiFPv3S",
    "outputId": "8a0aa55a-0563-489f-fa6c-3e412f8a11db"
   },
   "outputs": [
    {
     "data": {
      "image/png": "[encoded data removed]",
      "text/plain": [
       "<Figure size 432x288 with 1 Axes>"
      ]
     },
     "metadata": {
      "tags": []
     },
     "output_type": "display_data"
    },
    {
     "data": {
      "image/png": "[encoded data removed]",
      "text/plain": [
       "<Figure size 432x288 with 1 Axes>"
      ]
     },
     "metadata": {
      "tags": []
     },
     "output_type": "display_data"
    }
   ],
   "source": [
    "sns.set()\n",
    "\n",
    "for graph in ['loss', 'acc']:\n",
    "    \n",
    "    plt.plot(model_history[graph], linewidth=2, label='Train')\n",
    "    plt.plot(model_history['val_'+graph], linewidth=2, label='Valid')\n",
    "    \n",
    "    plt.legend(loc='upper right')\n",
    "    plt.title('Model '+graph)\n",
    "    plt.ylabel(graph)\n",
    "    plt.xlabel('Epoch')\n",
    "    \n",
    "    plt.show()"
   ]
  },
  {
   "cell_type": "code",
   "execution_count": 168,
   "metadata": {
    "colab": {
     "base_uri": "https://localhost:8080/",
     "height": 1000
    },
    "colab_type": "code",
    "id": "8nE187ZaPv3U",
    "outputId": "b49bf4dc-23ee-43a9-f9ad-ab9364d29c61"
   },
   "outputs": [
    {
     "data": {
      "image/png": "[encoded data removed]",
      "text/plain": [
       "<Figure size 432x288 with 1 Axes>"
      ]
     },
     "metadata": {
      "tags": []
     },
     "output_type": "display_data"
    },
    {
     "name": "stdout",
     "output_type": "stream",
     "text": [
      "LSTM model: 2.193, 0.532, 0.242\n"
     ]
    },
    {
     "data": {
      "image/png": "[encoded data removed]",
      "text/plain": [
       "<Figure size 432x288 with 2 Axes>"
      ]
     },
     "metadata": {
      "tags": []
     },
     "output_type": "display_data"
    },
    {
     "name": "stdout",
     "output_type": "stream",
     "text": [
      "Constant prediction: 13.123, 0.588, 0.045\n"
     ]
    },
    {
     "data": {
      "image/png": "[encoded data removed]",
      "text/plain": [
       "<Figure size 432x288 with 2 Axes>"
      ]
     },
     "metadata": {
      "tags": []
     },
     "output_type": "display_data"
    },
    {
     "name": "stdout",
     "output_type": "stream",
     "text": [
      "Predicting last value: 1.318, 0.571, 0.433\n"
     ]
    },
    {
     "data": {
      "image/png": "[encoded data removed]",
      "text/plain": [
       "<Figure size 432x288 with 2 Axes>"
      ]
     },
     "metadata": {
      "tags": []
     },
     "output_type": "display_data"
    }
   ],
   "source": [
    "#Model Evaluation\n",
    "high_risk_real_value = -5.0\n",
    "low_risk_real_value  = -6.0001\n",
    "classification_threshold = 0.561\n",
    "\n",
    "def evaluate(name, y_pred):\n",
    "    \n",
    "    #rescaling data\n",
    "    y_test_scaled = y_scaler.inverse_transform(y_test_numeric)\n",
    "    \n",
    "    #getting numeric predictions from boolean predictions\n",
    "    y_pred_numeric = np.zeros((y_pred.shape[0],y_pred.shape[1]))\n",
    "    y_pred_numeric[y_pred==True] = high_risk_real_value\n",
    "    y_pred_numeric[y_pred==False] = low_risk_real_value\n",
    "    \n",
    "    #getting predictions greater than -6.0 in real data (y_test_scaled)\n",
    "    y_pred_mse = y_pred_numeric[np.where(y_test_scaled >= -6.0)]\n",
    "    y_test_mse = y_test_scaled[np.where(y_test_scaled >= -6.0)]\n",
    "    \n",
    "    mse = mean_squared_error(y_test_mse, y_pred_mse)\n",
    "    \n",
    "    y_real_bool = (y_test_scaled >= -6.0).reshape(-1,1)\n",
    "    \n",
    "    f_beta = fbeta_score(y_real_bool, y_pred, 2)\n",
    "    score = mse / f_beta\n",
    "    print(name, \"{:0.3f}, {:0.3f}, {:0.3f}\".format(score, mse, f_beta))\n",
    "        \n",
    "    hm = sns.heatmap(confusion_matrix(y_real_bool, y_pred), annot=True, cmap=\"Blues\", fmt='d')# font size\n",
    "    bottom, top = hm.get_ylim()\n",
    "    hm.set_ylim(bottom + 0.5, top - 0.5)\n",
    "    plt.show()\n",
    "\n",
    "#Predicting with model\n",
    "y_model = best_model.predict(X_test, batch_size=batch)\n",
    "plt.hist(y_model, bins=30)\n",
    "plt.show()\n",
    "y_model = (y_model > classification_threshold).reshape(-1,1)\n",
    "evaluate(\"LSTM model:\", y_model)\n",
    "\n",
    "#Predicting -5 always\n",
    "y_constant = np.ones((y_test.shape[0],y_test.shape[1]), dtype=bool)\n",
    "evaluate(\"Constant prediction:\", y_constant)\n",
    "\n",
    "#Predicting last value\n",
    "y_last = X_test[:,-1,1]\n",
    "tmp = np.array([-6]).reshape(-1,1)\n",
    "tmp = y_scaler.transform(tmp)\n",
    "tmp = tmp[0,0]\n",
    "y_last = (y_last > tmp).reshape(-1,1)\n",
    "evaluate(\"Predicting last value:\", y_last)"
   ]
  },
  {
   "cell_type": "code",
   "execution_count": 140,
   "metadata": {
    "colab": {
     "base_uri": "https://localhost:8080/",
     "height": 286
    },
    "colab_type": "code",
    "id": "WPqmNwHKPv3X",
    "outputId": "ad5b2a23-c09c-4890-e826-7b2b790f1eba"
   },
   "outputs": [
    {
     "name": "stdout",
     "output_type": "stream",
     "text": [
      "Predicting last value: 17.412, 7.540, 0.433\n"
     ]
    },
    {
     "data": {
      "image/png": "[encoded data removed]",
      "text/plain": [
       "<Figure size 432x288 with 2 Axes>"
      ]
     },
     "metadata": {
      "tags": []
     },
     "output_type": "display_data"
    }
   ],
   "source": [
    "#Predicting last value\n",
    "def recurrent_evaluate(name, y_pred):\n",
    "    \n",
    "    #Scaling both real predicted\n",
    "    y_pred_scaled = y_scaler.inverse_transform(y_pred)\n",
    "    y_real_scaled = y_scaler.inverse_transform(y_test_numeric)\n",
    "    \n",
    "    #boolean data\n",
    "    y_pred_bool = (y_pred_scaled >= -6.0).reshape(-1,1)\n",
    "    y_real_bool = (y_real_scaled >= -6.0).reshape(-1,1)\n",
    "    f_beta = fbeta_score(y_real_bool, y_pred_bool, 2)\n",
    "    \n",
    "    #getting predictions greater than -6.0 in real data (y_real_scaled)\n",
    "    y_pred_mse = y_pred_scaled[np.where(y_real_scaled >= -6.0)]\n",
    "    y_real_mse = y_real_scaled[np.where(y_real_scaled >= -6.0)]\n",
    "    mse = mean_squared_error(y_real_mse, y_pred_mse)\n",
    "    \n",
    "    #F-beta score\n",
    "    score = mse / f_beta\n",
    "    print(name, \"{:0.3f}, {:0.3f}, {:0.3f}\".format(score, mse, f_beta))\n",
    "        \n",
    "    #Confusion matrix\n",
    "    hm = sns.heatmap(confusion_matrix(y_real_bool, y_pred_bool), annot=True, cmap=\"Blues\", fmt='d')# font size\n",
    "    bottom, top = hm.get_ylim()\n",
    "    hm.set_ylim(bottom + 0.5, top - 0.5)\n",
    "    plt.show()\n",
    "\n",
    "    \n",
    "y_last = X_test[:,-1,1].reshape(-1,1)\n",
    "y_bool_2 = recurrent_evaluate(\"Predicting last value:\", y_last)"
   ]
  }
 ],
 "metadata": {
  "colab": {
   "name": "Classification RNN - Data v1 - COLAB - Keras Autotuner.ipynb",
   "provenance": []
  },
  "kernelspec": {
   "display_name": "Python 3",
   "language": "python",
   "name": "python3"
  },
  "language_info": {
   "codemirror_mode": {
    "name": "ipython",
    "version": 3
   },
   "file_extension": ".py",
   "mimetype": "text/x-python",
   "name": "python",
   "nbconvert_exporter": "python",
   "pygments_lexer": "ipython3",
   "version": "3.7.4"
  }
 },
 "nbformat": 4,
 "nbformat_minor": 1
}
