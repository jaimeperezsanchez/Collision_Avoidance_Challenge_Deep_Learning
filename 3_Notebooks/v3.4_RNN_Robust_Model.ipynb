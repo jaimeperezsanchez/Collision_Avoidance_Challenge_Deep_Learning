{
 "cells": [
  {
   "cell_type": "code",
   "execution_count": 63,
   "metadata": {},
   "outputs": [],
   "source": [
    "import pandas as pd\n",
    "pd.set_option('display.max_columns', None)\n",
    "pd.set_option('display.max_rows', 100)\n",
    "import numpy as np\n",
    "import missingno\n",
    "\n",
    "from IPython.display import display\n",
    "\n",
    "import matplotlib.pyplot as plt\n",
    "%matplotlib inline\n",
    "import seaborn as sns\n",
    "import plotly.express as px\n",
    "\n",
    "from sklearn.model_selection import train_test_split\n",
    "from sklearn.metrics import mean_squared_error, fbeta_score, confusion_matrix, classification_report\n",
    "from sklearn.preprocessing import StandardScaler, MinMaxScaler\n",
    "from sklearn.decomposition import PCA\n",
    "from sklearn.manifold import TSNE\n",
    "from category_encoders import BinaryEncoder\n",
    "\n",
    "import tensorflow\n",
    "from tensorflow.keras import optimizers, Sequential\n",
    "from tensorflow.keras.models import Model\n",
    "from tensorflow.keras.utils import plot_model\n",
    "from tensorflow.keras.layers import Dense, LSTM, RepeatVector, TimeDistributed, Input, BatchNormalization\n",
    "from tensorflow.keras.callbacks import ModelCheckpoint, TensorBoard\n",
    "from tensorflow.keras.regularizers import L1L2"
   ]
  },
  {
   "cell_type": "code",
   "execution_count": 131,
   "metadata": {},
   "outputs": [],
   "source": [
    "df = pd.read_csv(\"train_data.csv\")\n",
    "timestep = 17 #from 1 to 23 (17 with the current NaN strategy)\n",
    "threshold_for_classification = -8\n",
    "X_scaler = MinMaxScaler()\n",
    "y_scaler = MinMaxScaler()\n",
    "fill_X = -0.01\n",
    "seed = 11\n",
    "\n",
    "#RNN hiperparameter\n",
    "epochs = 75\n",
    "batch = 64\n",
    "val_split = 0.25\n",
    "test_split = 0.25\n",
    "lr = 0.0001\n",
    "adam = optimizers.Nadam() #(lr)\n",
    "class_weight = {True:  5.,\n",
    "                False: 1.}\n",
    "verbose = 1"
   ]
  },
  {
   "cell_type": "code",
   "execution_count": 132,
   "metadata": {},
   "outputs": [
    {
     "name": "stdout",
     "output_type": "stream",
     "text": [
      "(7311, 17, 124) (7311, 1)\n"
     ]
    }
   ],
   "source": [
    "#Dropping first the empty column and then rows with NaNs\n",
    "df = df.drop(\"c_rcs_estimate\", axis=1)\n",
    "df = df.dropna(how='any')\n",
    "\n",
    "#Filtering events with len=1 or min_tca > 2 or max_tca < 2\n",
    "def conditions(event):\n",
    "    x = event[\"time_to_tca\"].values\n",
    "    return ((x.min()<2.0) & (x.max()>2.0) & (x.shape[0]>1))\n",
    "df = df.groupby('event_id').filter(conditions)\n",
    "\n",
    "#OHE for c_object_type (5 categories) -> 5 new features\n",
    "df[\"mission_id\"] = df[\"mission_id\"].astype('category')\n",
    "df[\"c_object_type\"] = df[\"c_object_type\"].astype('category')\n",
    "df = pd.get_dummies(df)\n",
    "\n",
    "#Getting y as 1D-array\n",
    "y = df.groupby([\"event_id\"])[\"risk\"].apply(lambda x: x.iloc[-1]).values.reshape(-1, 1)\n",
    "\n",
    "#Scaling y\n",
    "_ = y_scaler.fit(df[\"risk\"].values.reshape(-1, 1)) #using the whole risk feature to scale the target 'y'\n",
    "y = y_scaler.transform(y)\n",
    "\n",
    "#Getting X as df (dropping rows with tca < 2) \n",
    "df = df.loc[df[\"time_to_tca\"]>2]\n",
    "\n",
    "#Adding feature 'event_length' for counting how many instances each event has\n",
    "df[\"event_length\"] = df.groupby('event_id')['event_id'].transform('value_counts')\n",
    "\n",
    "#Scaling X\n",
    "df = pd.DataFrame(X_scaler.fit_transform(df), columns=df.columns)\n",
    "\n",
    "#Transforming X into a 3D-array\n",
    "events = df[\"event_id\"].nunique() #rows\n",
    "features = len(df.columns) #columns\n",
    "\n",
    "X = np.zeros((events,timestep,features))\n",
    "X.fill(fill_X)\n",
    "\n",
    "i = 0\n",
    "def df_to_3darray(event):\n",
    "    global X, i\n",
    "    #Transforming an event to time series (1,timesteps, columns)\n",
    "    row = event.values.reshape(1,event.shape[0],event.shape[1])\n",
    "    #Condition is needed to slice arrays correctly\n",
    "    #Condition -> is timestep greater than the event's time series length? \n",
    "    if(timestep>=row.shape[1]):\n",
    "        X[i:i+1,-row.shape[1]:,:] = row\n",
    "    else:\n",
    "        X[i:i+1,:,:] = row[:,-timestep:,:]\n",
    "    #index to iterate over X array\n",
    "    i = i + 1\n",
    "    #dataframe remains intact, while X array has been filled.\n",
    "    return event\n",
    "\n",
    "df.groupby(\"event_id\").apply(df_to_3darray)\n",
    "\n",
    "#Dropping event_id to remove noise\n",
    "X = X[:,:,1:]\n",
    "\n",
    "#TODO: Padding with specific values column-wise instead of zeros.\n",
    "#TODO: Separating time dependent and independent feature in 2 X arrays\n",
    "\n",
    "print(X.shape, y.shape)"
   ]
  },
  {
   "cell_type": "code",
   "execution_count": 133,
   "metadata": {},
   "outputs": [
    {
     "name": "stdout",
     "output_type": "stream",
     "text": [
      "TRAIN 199.0, 4112.0, 0.048\n",
      "VAL   66.0, 1371.0, 0.048\n",
      "TEST  88.0, 1828.0, 0.048\n"
     ]
    }
   ],
   "source": [
    "#computing scaled threshold \n",
    "th = np.array([threshold_for_classification]).reshape(-1,1)\n",
    "th = y_scaler.transform(th)\n",
    "threshold_scaled = th[0,0]\n",
    "\n",
    "#Splitting arrays\n",
    "y_boolean = (y > threshold_scaled).reshape(-1,1)\n",
    "X_train, X_test, y_train_numeric, y_test_numeric = train_test_split(X, y, \n",
    "                                                    stratify=y_boolean, \n",
    "                                                    shuffle=True,\n",
    "                                                    random_state=seed,\n",
    "                                                    test_size = test_split\n",
    "                                                  )\n",
    "\n",
    "y_train_boolean = (y_train_numeric > threshold_scaled).reshape(-1,1)\n",
    "X_train, X_val, y_train_numeric, y_val_numeric = train_test_split(X_train, y_train_numeric, \n",
    "                                                    stratify=y_train_boolean, \n",
    "                                                    shuffle=True,\n",
    "                                                    random_state=seed,\n",
    "                                                    test_size = val_split\n",
    "                                                  )\n",
    "#transforming it into a classification task -> y_train, y_test boolean\n",
    "y_train = (y_train_numeric > threshold_scaled).reshape(-1,1)\n",
    "y_val = (y_val_numeric > threshold_scaled).reshape(-1,1)\n",
    "y_test = (y_test_numeric > threshold_scaled).reshape(-1,1)\n",
    "\n",
    "#Percentage of high risks in train\n",
    "print(\"TRAIN {:0.1f}, {:0.1f}, {:0.3f}\".format(np.sum(y_train), y_train.shape[0], np.sum(y_train)/y_train.shape[0]))\n",
    "#Percentage of high risks in val\n",
    "print(\"VAL   {:0.1f}, {:0.1f}, {:0.3f}\".format(np.sum(y_val), y_val.shape[0], np.sum(y_val)/y_val.shape[0]))\n",
    "#Percentage of high risks in test\n",
    "print(\"TEST  {:0.1f}, {:0.1f}, {:0.3f}\".format(np.sum(y_test), y_test.shape[0], np.sum(y_test)/y_test.shape[0]))"
   ]
  },
  {
   "cell_type": "code",
   "execution_count": 134,
   "metadata": {},
   "outputs": [
    {
     "name": "stdout",
     "output_type": "stream",
     "text": [
      "Model: \"model_10\"\n",
      "_________________________________________________________________\n",
      "Layer (type)                 Output Shape              Param #   \n",
      "=================================================================\n",
      "input_11 (InputLayer)        [(64, 17, 124)]           0         \n",
      "_________________________________________________________________\n",
      "lstm_28 (LSTM)               (64, 17, 32)              20096     \n",
      "_________________________________________________________________\n",
      "batch_normalization_24 (Batc (64, 17, 32)              128       \n",
      "_________________________________________________________________\n",
      "lstm_29 (LSTM)               (64, 17, 16)              3136      \n",
      "_________________________________________________________________\n",
      "batch_normalization_25 (Batc (64, 17, 16)              64        \n",
      "_________________________________________________________________\n",
      "lstm_30 (LSTM)               (64, 8)                   800       \n",
      "_________________________________________________________________\n",
      "batch_normalization_26 (Batc (64, 8)                   32        \n",
      "_________________________________________________________________\n",
      "dense_10 (Dense)             (64, 1)                   9         \n",
      "=================================================================\n",
      "Total params: 24,265\n",
      "Trainable params: 24,153\n",
      "Non-trainable params: 112\n",
      "_________________________________________________________________\n"
     ]
    }
   ],
   "source": [
    "# Model activation selu\n",
    "input_tensor = Input(batch_shape=(batch, timestep, X_train.shape[2]))\n",
    "rnn_1 = LSTM(32, stateful=False, dropout=0.15, recurrent_dropout=0.3, return_sequences=True, kernel_regularizer=L1L2(l1=0.0, l2=0.01))(input_tensor)\n",
    "batch_1 = BatchNormalization()(rnn_1)\n",
    "rnn_2 = LSTM(16, stateful=False, dropout=0.15, recurrent_dropout=0.3, return_sequences=True, kernel_regularizer=L1L2(l1=0.0, l2=0.01))(batch_1)\n",
    "batch_2 = BatchNormalization()(rnn_2)\n",
    "rnn_3 = LSTM(8, stateful=False, dropout=0.15, recurrent_dropout=0.3, return_sequences=False, kernel_regularizer=L1L2(l1=0.0, l2=0.01))(batch_2)\n",
    "batch_3 = BatchNormalization()(rnn_3)\n",
    "output_tensor = Dense(units = 1, activation='sigmoid')(batch_3)\n",
    "\n",
    "model = Model(inputs=input_tensor,\n",
    "              outputs= output_tensor)\n",
    "\n",
    "model.compile(loss='binary_crossentropy',\n",
    "              optimizer=adam,\n",
    "              metrics=['accuracy'])\n",
    "\n",
    "model.summary()"
   ]
  },
  {
   "cell_type": "code",
   "execution_count": 135,
   "metadata": {
    "scrolled": true
   },
   "outputs": [
    {
     "name": "stdout",
     "output_type": "stream",
     "text": [
      "Train on 4112 samples, validate on 1371 samples\n",
      "Epoch 1/75\n",
      "4112/4112 [==============================] - 7s 2ms/sample - loss: 2.4701 - accuracy: 0.5367 - val_loss: 2.0337 - val_accuracy: 0.9460\n",
      "Epoch 2/75\n",
      "4112/4112 [==============================] - 3s 634us/sample - loss: 1.8125 - accuracy: 0.6654 - val_loss: 1.5759 - val_accuracy: 0.9519\n",
      "Epoch 3/75\n",
      "4112/4112 [==============================] - 3s 631us/sample - loss: 1.4554 - accuracy: 0.7777 - val_loss: 1.2783 - val_accuracy: 0.9519\n",
      "Epoch 4/75\n",
      "4112/4112 [==============================] - 3s 638us/sample - loss: 1.2277 - accuracy: 0.8303 - val_loss: 1.0723 - val_accuracy: 0.9519\n",
      "Epoch 5/75\n",
      "4112/4112 [==============================] - 3s 633us/sample - loss: 1.0529 - accuracy: 0.8502 - val_loss: 0.9243 - val_accuracy: 0.9526\n",
      "Epoch 6/75\n",
      "4112/4112 [==============================] - 3s 655us/sample - loss: 0.9455 - accuracy: 0.8782 - val_loss: 0.8318 - val_accuracy: 0.9227\n",
      "Epoch 7/75\n",
      "4112/4112 [==============================] - 3s 667us/sample - loss: 0.8698 - accuracy: 0.8823 - val_loss: 0.7819 - val_accuracy: 0.9489\n",
      "Epoch 8/75\n",
      "4112/4112 [==============================] - 3s 647us/sample - loss: 0.7866 - accuracy: 0.8964 - val_loss: 0.7174 - val_accuracy: 0.9497\n",
      "Epoch 9/75\n",
      "4112/4112 [==============================] - 3s 650us/sample - loss: 0.7245 - accuracy: 0.9064 - val_loss: 0.6798 - val_accuracy: 0.9511\n",
      "Epoch 10/75\n",
      "4112/4112 [==============================] - 3s 648us/sample - loss: 0.6947 - accuracy: 0.9105 - val_loss: 0.6206 - val_accuracy: 0.9453\n",
      "Epoch 11/75\n",
      "4112/4112 [==============================] - 3s 642us/sample - loss: 0.6663 - accuracy: 0.8911 - val_loss: 0.5901 - val_accuracy: 0.9380\n",
      "Epoch 12/75\n",
      "4112/4112 [==============================] - 3s 657us/sample - loss: 0.6242 - accuracy: 0.8983 - val_loss: 0.5687 - val_accuracy: 0.9468\n",
      "Epoch 13/75\n",
      "4112/4112 [==============================] - 3s 631us/sample - loss: 0.5991 - accuracy: 0.9059 - val_loss: 0.5882 - val_accuracy: 0.9519\n",
      "Epoch 14/75\n",
      "4112/4112 [==============================] - 3s 632us/sample - loss: 0.5809 - accuracy: 0.9069 - val_loss: 0.5360 - val_accuracy: 0.9198\n",
      "Epoch 15/75\n",
      "4112/4112 [==============================] - 3s 643us/sample - loss: 0.5787 - accuracy: 0.8979 - val_loss: 0.5303 - val_accuracy: 0.9336\n",
      "Epoch 16/75\n",
      "4112/4112 [==============================] - 3s 663us/sample - loss: 0.5692 - accuracy: 0.9098 - val_loss: 0.5127 - val_accuracy: 0.9300\n",
      "Epoch 17/75\n",
      "4112/4112 [==============================] - 3s 641us/sample - loss: 0.5483 - accuracy: 0.8969 - val_loss: 0.5118 - val_accuracy: 0.9234\n",
      "Epoch 18/75\n",
      "4112/4112 [==============================] - 3s 636us/sample - loss: 0.5409 - accuracy: 0.8993 - val_loss: 0.5101 - val_accuracy: 0.8848\n",
      "Epoch 19/75\n",
      "4112/4112 [==============================] - 3s 639us/sample - loss: 0.5248 - accuracy: 0.9066 - val_loss: 0.4984 - val_accuracy: 0.9416\n",
      "Epoch 20/75\n",
      "4112/4112 [==============================] - 3s 649us/sample - loss: 0.5198 - accuracy: 0.9042 - val_loss: 0.4805 - val_accuracy: 0.9066\n",
      "Epoch 21/75\n",
      "4112/4112 [==============================] - 3s 648us/sample - loss: 0.5202 - accuracy: 0.9098 - val_loss: 0.4820 - val_accuracy: 0.9358\n",
      "Epoch 22/75\n",
      "4112/4112 [==============================] - 3s 661us/sample - loss: 0.5030 - accuracy: 0.9107 - val_loss: 0.4932 - val_accuracy: 0.9373\n",
      "Epoch 23/75\n",
      "4112/4112 [==============================] - 3s 668us/sample - loss: 0.4967 - accuracy: 0.9008 - val_loss: 0.4507 - val_accuracy: 0.9220\n",
      "Epoch 24/75\n",
      "4112/4112 [==============================] - 3s 651us/sample - loss: 0.4672 - accuracy: 0.9110 - val_loss: 0.4505 - val_accuracy: 0.9365\n",
      "Epoch 25/75\n",
      "4112/4112 [==============================] - 3s 662us/sample - loss: 0.4834 - accuracy: 0.9052 - val_loss: 0.4493 - val_accuracy: 0.9314\n",
      "Epoch 26/75\n",
      "4112/4112 [==============================] - 3s 661us/sample - loss: 0.4998 - accuracy: 0.9088 - val_loss: 0.4452 - val_accuracy: 0.9402\n",
      "Epoch 27/75\n",
      "4112/4112 [==============================] - 3s 681us/sample - loss: 0.4644 - accuracy: 0.9117 - val_loss: 0.4204 - val_accuracy: 0.8913\n",
      "Epoch 28/75\n",
      "4112/4112 [==============================] - 3s 662us/sample - loss: 0.4530 - accuracy: 0.9110 - val_loss: 0.4782 - val_accuracy: 0.9504\n",
      "Epoch 29/75\n",
      "4112/4112 [==============================] - 3s 665us/sample - loss: 0.4683 - accuracy: 0.9190 - val_loss: 0.4106 - val_accuracy: 0.9387\n",
      "Epoch 30/75\n",
      "4112/4112 [==============================] - 3s 686us/sample - loss: 0.4470 - accuracy: 0.9146 - val_loss: 0.4681 - val_accuracy: 0.9497\n",
      "Epoch 31/75\n",
      "4112/4112 [==============================] - 3s 692us/sample - loss: 0.4662 - accuracy: 0.9151 - val_loss: 0.4094 - val_accuracy: 0.9052\n",
      "Epoch 32/75\n",
      "4112/4112 [==============================] - 3s 676us/sample - loss: 0.4674 - accuracy: 0.9193 - val_loss: 0.3904 - val_accuracy: 0.9336\n",
      "Epoch 33/75\n",
      "4112/4112 [==============================] - 3s 672us/sample - loss: 0.4493 - accuracy: 0.9083 - val_loss: 0.4852 - val_accuracy: 0.9482\n",
      "Epoch 34/75\n",
      "4112/4112 [==============================] - 3s 706us/sample - loss: 0.4502 - accuracy: 0.9064 - val_loss: 0.3985 - val_accuracy: 0.9234\n",
      "Epoch 35/75\n",
      "4112/4112 [==============================] - 3s 754us/sample - loss: 0.4659 - accuracy: 0.9056 - val_loss: 0.4323 - val_accuracy: 0.8855\n",
      "Epoch 36/75\n",
      "4112/4112 [==============================] - 3s 693us/sample - loss: 0.4527 - accuracy: 0.9061 - val_loss: 0.3980 - val_accuracy: 0.9059\n",
      "Epoch 37/75\n",
      "4112/4112 [==============================] - 3s 680us/sample - loss: 0.4297 - accuracy: 0.9125 - val_loss: 0.4249 - val_accuracy: 0.9380\n",
      "Epoch 38/75\n",
      "4112/4112 [==============================] - 3s 674us/sample - loss: 0.4205 - accuracy: 0.9159 - val_loss: 0.4048 - val_accuracy: 0.8957\n",
      "Epoch 39/75\n",
      "4112/4112 [==============================] - 3s 695us/sample - loss: 0.4363 - accuracy: 0.9095 - val_loss: 0.3958 - val_accuracy: 0.8986\n",
      "Epoch 40/75\n",
      "4112/4112 [==============================] - 3s 684us/sample - loss: 0.4345 - accuracy: 0.9142 - val_loss: 0.4029 - val_accuracy: 0.9431\n",
      "Epoch 41/75\n",
      "4112/4112 [==============================] - 3s 689us/sample - loss: 0.4025 - accuracy: 0.9144 - val_loss: 0.3844 - val_accuracy: 0.9416\n",
      "Epoch 42/75\n",
      "4112/4112 [==============================] - 3s 729us/sample - loss: 0.4129 - accuracy: 0.9093 - val_loss: 0.4328 - val_accuracy: 0.9468\n",
      "Epoch 43/75\n",
      "4112/4112 [==============================] - 3s 754us/sample - loss: 0.4145 - accuracy: 0.9151 - val_loss: 0.3751 - val_accuracy: 0.9468\n",
      "Epoch 44/75\n",
      "4112/4112 [==============================] - 3s 675us/sample - loss: 0.4300 - accuracy: 0.9171 - val_loss: 0.4215 - val_accuracy: 0.9263\n",
      "Epoch 45/75\n",
      "4112/4112 [==============================] - 3s 659us/sample - loss: 0.3991 - accuracy: 0.9166 - val_loss: 0.3868 - val_accuracy: 0.9285\n",
      "Epoch 46/75\n",
      "4112/4112 [==============================] - 3s 671us/sample - loss: 0.4104 - accuracy: 0.9061 - val_loss: 0.3737 - val_accuracy: 0.9402\n",
      "Epoch 47/75\n",
      "4112/4112 [==============================] - 3s 675us/sample - loss: 0.4140 - accuracy: 0.9129 - val_loss: 0.4919 - val_accuracy: 0.9504\n",
      "Epoch 48/75\n",
      "4112/4112 [==============================] - 3s 690us/sample - loss: 0.4186 - accuracy: 0.9073 - val_loss: 0.3771 - val_accuracy: 0.9468\n",
      "Epoch 49/75\n",
      "4112/4112 [==============================] - 3s 665us/sample - loss: 0.4122 - accuracy: 0.9144 - val_loss: 0.3892 - val_accuracy: 0.9066\n",
      "Epoch 50/75\n",
      "4112/4112 [==============================] - 3s 652us/sample - loss: 0.4256 - accuracy: 0.9183 - val_loss: 0.3593 - val_accuracy: 0.9336\n",
      "Epoch 51/75\n",
      "4112/4112 [==============================] - 3s 684us/sample - loss: 0.4305 - accuracy: 0.9115 - val_loss: 0.3625 - val_accuracy: 0.9387\n",
      "Epoch 52/75\n",
      "4112/4112 [==============================] - 3s 657us/sample - loss: 0.3926 - accuracy: 0.9239 - val_loss: 0.4599 - val_accuracy: 0.9453\n",
      "Epoch 53/75\n",
      "4112/4112 [==============================] - 3s 671us/sample - loss: 0.4078 - accuracy: 0.9159 - val_loss: 0.3529 - val_accuracy: 0.9023\n",
      "Epoch 54/75\n",
      "4112/4112 [==============================] - 3s 660us/sample - loss: 0.3725 - accuracy: 0.9159 - val_loss: 0.3665 - val_accuracy: 0.9402\n",
      "Epoch 55/75\n",
      "4112/4112 [==============================] - 3s 661us/sample - loss: 0.3915 - accuracy: 0.9154 - val_loss: 0.3497 - val_accuracy: 0.9387\n"
     ]
    },
    {
     "name": "stdout",
     "output_type": "stream",
     "text": [
      "Epoch 56/75\n",
      "4112/4112 [==============================] - 3s 700us/sample - loss: 0.4057 - accuracy: 0.9159 - val_loss: 0.3512 - val_accuracy: 0.9402\n",
      "Epoch 57/75\n",
      "4112/4112 [==============================] - 3s 672us/sample - loss: 0.3941 - accuracy: 0.9200 - val_loss: 0.3682 - val_accuracy: 0.9395\n",
      "Epoch 58/75\n",
      "4112/4112 [==============================] - 3s 674us/sample - loss: 0.3904 - accuracy: 0.9256 - val_loss: 0.4486 - val_accuracy: 0.9460\n",
      "Epoch 59/75\n",
      "4112/4112 [==============================] - 3s 766us/sample - loss: 0.3942 - accuracy: 0.9139 - val_loss: 0.3548 - val_accuracy: 0.9329\n",
      "Epoch 60/75\n",
      "4112/4112 [==============================] - 3s 709us/sample - loss: 0.4084 - accuracy: 0.9134 - val_loss: 0.3720 - val_accuracy: 0.9336\n",
      "Epoch 61/75\n",
      "4112/4112 [==============================] - 3s 707us/sample - loss: 0.3694 - accuracy: 0.9146 - val_loss: 0.3951 - val_accuracy: 0.9475\n",
      "Epoch 62/75\n",
      "4112/4112 [==============================] - 3s 710us/sample - loss: 0.3785 - accuracy: 0.9217 - val_loss: 0.4658 - val_accuracy: 0.9526\n",
      "Epoch 63/75\n",
      "4112/4112 [==============================] - 3s 664us/sample - loss: 0.4061 - accuracy: 0.9178 - val_loss: 0.3565 - val_accuracy: 0.9278\n",
      "Epoch 64/75\n",
      "4112/4112 [==============================] - 3s 642us/sample - loss: 0.3991 - accuracy: 0.9151 - val_loss: 0.3659 - val_accuracy: 0.8745\n",
      "Epoch 65/75\n",
      "4112/4112 [==============================] - 3s 669us/sample - loss: 0.3989 - accuracy: 0.9185 - val_loss: 0.3546 - val_accuracy: 0.9431\n",
      "Epoch 66/75\n",
      "4112/4112 [==============================] - 3s 675us/sample - loss: 0.3693 - accuracy: 0.9185 - val_loss: 0.3388 - val_accuracy: 0.8950\n",
      "Epoch 67/75\n",
      "4112/4112 [==============================] - 3s 667us/sample - loss: 0.3858 - accuracy: 0.9146 - val_loss: 0.4490 - val_accuracy: 0.9540\n",
      "Epoch 68/75\n",
      "4112/4112 [==============================] - 3s 701us/sample - loss: 0.3903 - accuracy: 0.9222 - val_loss: 0.3293 - val_accuracy: 0.9300\n",
      "Epoch 69/75\n",
      "4112/4112 [==============================] - 3s 681us/sample - loss: 0.3865 - accuracy: 0.9059 - val_loss: 0.3713 - val_accuracy: 0.9482\n",
      "Epoch 70/75\n",
      "4112/4112 [==============================] - 3s 690us/sample - loss: 0.3767 - accuracy: 0.9156 - val_loss: 0.4107 - val_accuracy: 0.9395\n",
      "Epoch 71/75\n",
      "4112/4112 [==============================] - 3s 698us/sample - loss: 0.3981 - accuracy: 0.9120 - val_loss: 0.4329 - val_accuracy: 0.9497\n",
      "Epoch 72/75\n",
      "4112/4112 [==============================] - 3s 659us/sample - loss: 0.3928 - accuracy: 0.9107 - val_loss: 0.3519 - val_accuracy: 0.8891\n",
      "Epoch 73/75\n",
      "4112/4112 [==============================] - 3s 657us/sample - loss: 0.3953 - accuracy: 0.9122 - val_loss: 0.3734 - val_accuracy: 0.9110\n",
      "Epoch 74/75\n",
      "4112/4112 [==============================] - 3s 668us/sample - loss: 0.3847 - accuracy: 0.9122 - val_loss: 0.4118 - val_accuracy: 0.9475\n",
      "Epoch 75/75\n",
      "4112/4112 [==============================] - 3s 662us/sample - loss: 0.3975 - accuracy: 0.9171 - val_loss: 0.3351 - val_accuracy: 0.9416\n"
     ]
    }
   ],
   "source": [
    "model_history = model.fit(X_train, y_train, \n",
    "                          epochs=epochs, \n",
    "                          batch_size=batch, \n",
    "                          #shuffle=True, #OJO\n",
    "                          validation_data=(X_val, y_val),\n",
    "                          verbose=verbose,\n",
    "                          class_weight=class_weight\n",
    "                         ).history"
   ]
  },
  {
   "cell_type": "code",
   "execution_count": 139,
   "metadata": {},
   "outputs": [
    {
     "data": {
      "image/png": "[encoded data removed]",
      "text/plain": [
       "<Figure size 432x288 with 1 Axes>"
      ]
     },
     "metadata": {},
     "output_type": "display_data"
    },
    {
     "data": {
      "image/png": "[encoded data removed]",
      "text/plain": [
       "<Figure size 432x288 with 1 Axes>"
      ]
     },
     "metadata": {},
     "output_type": "display_data"
    }
   ],
   "source": [
    "sns.set()\n",
    "\n",
    "for graph in ['loss', 'accuracy']:\n",
    "    \n",
    "    plt.plot(model_history[graph], linewidth=2, label='Train')\n",
    "    plt.plot(model_history['val_'+graph], linewidth=2, label='Valid')\n",
    "    \n",
    "    plt.legend(loc='upper left')\n",
    "    plt.title('Model '+graph)\n",
    "    plt.ylabel(graph)\n",
    "    plt.xlabel('Epoch')\n",
    "    \n",
    "    plt.show()"
   ]
  },
  {
   "cell_type": "code",
   "execution_count": 146,
   "metadata": {},
   "outputs": [
    {
     "data": {
      "image/png": "[encoded data removed]",
      "text/plain": [
       "<Figure size 432x288 with 1 Axes>"
      ]
     },
     "metadata": {},
     "output_type": "display_data"
    },
    {
     "name": "stdout",
     "output_type": "stream",
     "text": [
      "LSTM model: 1.375, 0.491, 0.357\n"
     ]
    },
    {
     "data": {
      "image/png": "[encoded data removed]",
      "text/plain": [
       "<Figure size 432x288 with 2 Axes>"
      ]
     },
     "metadata": {},
     "output_type": "display_data"
    },
    {
     "name": "stdout",
     "output_type": "stream",
     "text": [
      "Constant prediction: 9.958, 0.344, 0.035\n"
     ]
    },
    {
     "data": {
      "image/png": "[encoded data removed]",
      "text/plain": [
       "<Figure size 432x288 with 2 Axes>"
      ]
     },
     "metadata": {},
     "output_type": "display_data"
    },
    {
     "name": "stdout",
     "output_type": "stream",
     "text": [
      "Predicting last value: 1.223, 0.527, 0.431\n"
     ]
    },
    {
     "data": {
      "image/png": "[encoded data removed]",
      "text/plain": [
       "<Figure size 432x288 with 2 Axes>"
      ]
     },
     "metadata": {},
     "output_type": "display_data"
    }
   ],
   "source": [
    "#Model Evaluation\n",
    "high_risk_real_value = -5.0\n",
    "low_risk_real_value  = -6.0001\n",
    "classification_threshold = 0.51\n",
    "\n",
    "def evaluate(name, y_pred):\n",
    "    \n",
    "    #rescaling data\n",
    "    y_test_scaled = y_scaler.inverse_transform(y_test_numeric)\n",
    "    \n",
    "    #getting numeric predictions from boolean predictions\n",
    "    y_pred_numeric = np.zeros((y_pred.shape[0],y_pred.shape[1]))\n",
    "    y_pred_numeric[y_pred==True] = high_risk_real_value\n",
    "    y_pred_numeric[y_pred==False] = low_risk_real_value\n",
    "    \n",
    "    #getting predictions greater than -6.0 in real data (y_test_scaled)\n",
    "    y_pred_mse = y_pred_numeric[np.where(y_test_scaled >= -6.0)]\n",
    "    y_test_mse = y_test_scaled[np.where(y_test_scaled >= -6.0)]\n",
    "    \n",
    "    mse = mean_squared_error(y_test_mse, y_pred_mse)\n",
    "    \n",
    "    y_real_bool = (y_test_scaled >= -6.0).reshape(-1,1)\n",
    "    \n",
    "    f_beta = fbeta_score(y_real_bool, y_pred, 2)\n",
    "    score = mse / f_beta\n",
    "    print(name, \"{:0.3f}, {:0.3f}, {:0.3f}\".format(score, mse, f_beta))\n",
    "        \n",
    "    hm = sns.heatmap(confusion_matrix(y_real_bool, y_pred), annot=True, cmap=\"Blues\", fmt='d')# font size\n",
    "    bottom, top = hm.get_ylim()\n",
    "    hm.set_ylim(bottom + 0.5, top - 0.5)\n",
    "    plt.show()\n",
    "\n",
    "#Predicting with model\n",
    "y_model = model.predict(X_test, batch_size=batch)\n",
    "plt.hist(y_model, bins=30)\n",
    "plt.show()\n",
    "y_model = (y_model > classification_threshold).reshape(-1,1)\n",
    "evaluate(\"LSTM model:\", y_model)\n",
    "\n",
    "#Predicting -5 always\n",
    "y_constant = np.ones((y_test.shape[0],y_test.shape[1]), dtype=bool)\n",
    "evaluate(\"Constant prediction:\", y_constant)\n",
    "\n",
    "#Predicting last value\n",
    "y_last = X_test[:,-1,1]\n",
    "tmp = np.array([-6]).reshape(-1,1)\n",
    "tmp = y_scaler.transform(tmp)\n",
    "tmp = tmp[0,0]\n",
    "y_last = (y_last > tmp).reshape(-1,1)\n",
    "evaluate(\"Predicting last value:\", y_last)"
   ]
  },
  {
   "cell_type": "code",
   "execution_count": 138,
   "metadata": {},
   "outputs": [
    {
     "name": "stdout",
     "output_type": "stream",
     "text": [
      "Predicting last value: 23.351, 10.065, 0.431\n"
     ]
    },
    {
     "data": {
      "image/png": "[encoded data removed]",
      "text/plain": [
       "<Figure size 432x288 with 2 Axes>"
      ]
     },
     "metadata": {},
     "output_type": "display_data"
    }
   ],
   "source": [
    "#Predicting last value\n",
    "def recurrent_evaluate(name, y_pred):\n",
    "    \n",
    "    #Scaling both real predicted\n",
    "    y_pred_scaled = y_scaler.inverse_transform(y_pred)\n",
    "    y_real_scaled = y_scaler.inverse_transform(y_test_numeric)\n",
    "    \n",
    "    #boolean data\n",
    "    y_pred_bool = (y_pred_scaled >= -6.0).reshape(-1,1)\n",
    "    y_real_bool = (y_real_scaled >= -6.0).reshape(-1,1)\n",
    "    f_beta = fbeta_score(y_real_bool, y_pred_bool, 2)\n",
    "    \n",
    "    #getting predictions greater than -6.0 in real data (y_real_scaled)\n",
    "    y_pred_mse = y_pred_scaled[np.where(y_real_scaled >= -6.0)]\n",
    "    y_real_mse = y_real_scaled[np.where(y_real_scaled >= -6.0)]\n",
    "    mse = mean_squared_error(y_real_mse, y_pred_mse)\n",
    "    \n",
    "    #F-beta score\n",
    "    score = mse / f_beta\n",
    "    print(name, \"{:0.3f}, {:0.3f}, {:0.3f}\".format(score, mse, f_beta))\n",
    "        \n",
    "    #Confusion matrix\n",
    "    hm = sns.heatmap(confusion_matrix(y_real_bool, y_pred_bool), annot=True, cmap=\"Blues\", fmt='d')# font size\n",
    "    bottom, top = hm.get_ylim()\n",
    "    hm.set_ylim(bottom + 0.5, top - 0.5)\n",
    "    plt.show()\n",
    "\n",
    "    \n",
    "y_last = X_test[:,-1,1].reshape(-1,1)\n",
    "y_bool_2 = recurrent_evaluate(\"Predicting last value:\", y_last)"
   ]
  },
  {
   "cell_type": "code",
   "execution_count": null,
   "metadata": {},
   "outputs": [],
   "source": []
  },
  {
   "cell_type": "code",
   "execution_count": null,
   "metadata": {},
   "outputs": [],
   "source": []
  }
 ],
 "metadata": {
  "kernelspec": {
   "display_name": "Python 3",
   "language": "python",
   "name": "python3"
  },
  "language_info": {
   "codemirror_mode": {
    "name": "ipython",
    "version": 3
   },
   "file_extension": ".py",
   "mimetype": "text/x-python",
   "name": "python",
   "nbconvert_exporter": "python",
   "pygments_lexer": "ipython3",
   "version": "3.7.4"
  }
 },
 "nbformat": 4,
 "nbformat_minor": 2
}
