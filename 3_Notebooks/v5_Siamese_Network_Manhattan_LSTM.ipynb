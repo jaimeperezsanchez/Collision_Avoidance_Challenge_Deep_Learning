{
 "cells": [
  {
   "cell_type": "markdown",
   "metadata": {},
   "source": [
    "https://towardsdatascience.com/predictive-maintenance-with-lstm-siamese-network-51ee7df29767\n",
    "\n",
    "https://medium.com/mlreview/implementing-malstm-on-kaggles-quora-question-pairs-competition-8b31b0b16a07\n",
    "\n",
    "https://github.com/likejazz/Siamese-LSTM"
   ]
  },
  {
   "cell_type": "code",
   "execution_count": 1,
   "metadata": {},
   "outputs": [],
   "source": [
    "import pandas as pd\n",
    "pd.set_option('display.max_columns', None)\n",
    "pd.set_option('display.max_rows', 100)\n",
    "import numpy as np\n",
    "import missingno\n",
    "import time\n",
    "\n",
    "from IPython import display\n",
    "\n",
    "import matplotlib.pyplot as plt\n",
    "%matplotlib inline\n",
    "import seaborn as sns\n",
    "import plotly.express as px\n",
    "\n",
    "from sklearn.model_selection import train_test_split\n",
    "from sklearn.metrics import mean_squared_error, fbeta_score, confusion_matrix, classification_report\n",
    "from sklearn.preprocessing import StandardScaler, MinMaxScaler\n",
    "from sklearn.decomposition import PCA\n",
    "from sklearn.manifold import TSNE\n",
    "from category_encoders import BinaryEncoder\n",
    "\n",
    "import tensorflow\n",
    "from tensorflow.keras import optimizers, Sequential\n",
    "from tensorflow.keras.models import Model\n",
    "from tensorflow.keras.utils import plot_model\n",
    "from tensorflow.keras.layers import Dense, LSTM, RepeatVector, TimeDistributed, Input, Lambda, BatchNormalization\n",
    "from tensorflow.keras.callbacks import ModelCheckpoint, TensorBoard\n",
    "\n",
    "import tensorflow.keras.backend as K"
   ]
  },
  {
   "cell_type": "code",
   "execution_count": 2,
   "metadata": {},
   "outputs": [],
   "source": [
    "df = pd.read_csv(\"train_data.csv\")\n",
    "\n",
    "timestep = 17 #from 1 to 23 (17 with the current NaN strategy)\n",
    "threshold_for_classification = -7.\n",
    "fill_X = 1.1\n",
    "X_scaler = MinMaxScaler()\n",
    "y_scaler = MinMaxScaler()\n",
    "seed = 11\n",
    "\n",
    "#RNN hiperparameter\n",
    "epochs = 20\n",
    "batch = 512\n",
    "val_split = 0.25\n",
    "test_split = 0.25\n",
    "shuffle = True\n",
    "loss = 'binary_crossentropy'\n",
    "optimizer = optimizers.Nadam(learning_rate=0.0005, clipnorm=1.) #(learning_rate=0.002)\n",
    "class_weight = {True:  1.,\n",
    "                False: 0.05}\n",
    "verbose = 1"
   ]
  },
  {
   "cell_type": "code",
   "execution_count": 3,
   "metadata": {},
   "outputs": [
    {
     "name": "stdout",
     "output_type": "stream",
     "text": [
      "(7311, 17, 124) (7311, 1)\n"
     ]
    }
   ],
   "source": [
    "#Dropping first the empty column and then rows with NaNs\n",
    "df = df.drop(\"c_rcs_estimate\", axis=1)\n",
    "df = df.dropna(how='any')\n",
    "\n",
    "#Filtering events with len=1 or min_tca > 2 or max_tca < 2\n",
    "def conditions(event):\n",
    "    x = event[\"time_to_tca\"].values\n",
    "    return ((x.min()<2.0) & (x.max()>2.0))\n",
    "df = df.groupby('event_id').filter(conditions)\n",
    "\n",
    "#OHE for c_object_type (5 categories) -> 5 new features\n",
    "df[\"mission_id\"] = df[\"mission_id\"].astype('category')\n",
    "df[\"c_object_type\"] = df[\"c_object_type\"].astype('category')\n",
    "df = pd.get_dummies(df)\n",
    "\n",
    "#Getting y as 1D-array\n",
    "y = df.groupby([\"event_id\"])[\"risk\"].apply(lambda x: x.iloc[-1]).values.reshape(-1, 1)\n",
    "\n",
    "#Scaling y\n",
    "_ = y_scaler.fit(df[\"risk\"].values.reshape(-1, 1)) #using the whole risk feature to scale the target 'y'\n",
    "y = y_scaler.transform(y)\n",
    "\n",
    "#Getting X as df (dropping rows with tca < 2) \n",
    "df = df.loc[df[\"time_to_tca\"]>2]\n",
    "\n",
    "#Adding feature 'event_length' for counting how many instances each event has\n",
    "df[\"event_length\"] = df.groupby('event_id')['event_id'].transform('value_counts')\n",
    "\n",
    "#Scaling X\n",
    "df = pd.DataFrame(X_scaler.fit_transform(df), columns=df.columns)\n",
    "\n",
    "#Transforming X into a 3D-array\n",
    "events = df[\"event_id\"].nunique() #rows\n",
    "features = len(df.columns) #columns\n",
    "\n",
    "X = np.zeros((events,timestep,features))\n",
    "X.fill(fill_X)\n",
    "\n",
    "i = 0\n",
    "def df_to_3darray(event):\n",
    "    global X, i\n",
    "    #Transforming an event to time series (1,timesteps, columns)\n",
    "    row = event.values.reshape(1,event.shape[0],event.shape[1])\n",
    "    #Condition is needed to slice arrays correctly\n",
    "    #Condition -> is timestep greater than the event's time series length? \n",
    "    if(timestep>=row.shape[1]):\n",
    "        X[i:i+1,-row.shape[1]:,:] = row\n",
    "    else:\n",
    "        X[i:i+1,:,:] = row[:,-timestep:,:]\n",
    "    #index to iterate over X array\n",
    "    i = i + 1\n",
    "    #dataframe remains intact, while X array has been filled.\n",
    "    return event\n",
    "\n",
    "df.groupby(\"event_id\").apply(df_to_3darray)\n",
    "\n",
    "#Dropping event_id to remove noise\n",
    "X = X[:,:,1:]\n",
    "\n",
    "#TODO: Padding with specific values column-wise instead of zeros.\n",
    "#TODO: Separating time dependent and independent feature in 2 X arrays\n",
    "\n",
    "print(X.shape, y.shape)"
   ]
  },
  {
   "cell_type": "code",
   "execution_count": 4,
   "metadata": {},
   "outputs": [
    {
     "name": "stdout",
     "output_type": "stream",
     "text": [
      "TRAIN 117.0, 4112.0, 0.028\n",
      "VAL   39.0, 1371.0, 0.028\n",
      "TEST  52.0, 1828.0, 0.028\n"
     ]
    }
   ],
   "source": [
    "#computing scaled threshold \n",
    "th = np.array([threshold_for_classification]).reshape(-1,1)\n",
    "th = y_scaler.transform(th)\n",
    "threshold_scaled = th[0,0]\n",
    "\n",
    "#Splitting arrays\n",
    "y_boolean = (y > threshold_scaled).reshape(-1,1)\n",
    "X_train, X_test, y_train_numeric, y_test_numeric = train_test_split(X, y, \n",
    "                                                    stratify=y_boolean, \n",
    "                                                    shuffle=True,\n",
    "                                                    random_state=seed,\n",
    "                                                    test_size = test_split\n",
    "                                                  )\n",
    "\n",
    "y_train_boolean = (y_train_numeric > threshold_scaled).reshape(-1,1)\n",
    "X_train, X_val, y_train_numeric, y_val_numeric = train_test_split(X_train, y_train_numeric, \n",
    "                                                    stratify=y_train_boolean, \n",
    "                                                    shuffle=True,\n",
    "                                                    random_state=seed,\n",
    "                                                    test_size = val_split\n",
    "                                                  )\n",
    "#transforming it into a classification task -> y_train, y_test boolean\n",
    "y_train = (y_train_numeric > threshold_scaled).reshape(-1,1)\n",
    "y_val = (y_val_numeric > threshold_scaled).reshape(-1,1)\n",
    "y_test = (y_test_numeric > threshold_scaled).reshape(-1,1)\n",
    "\n",
    "#Percentage of high risks in train\n",
    "print(\"TRAIN {:0.1f}, {:0.1f}, {:0.3f}\".format(np.sum(y_train), y_train.shape[0], np.sum(y_train)/y_train.shape[0]))\n",
    "#Percentage of high risks in val\n",
    "print(\"VAL   {:0.1f}, {:0.1f}, {:0.3f}\".format(np.sum(y_val), y_val.shape[0], np.sum(y_val)/y_val.shape[0]))\n",
    "#Percentage of high risks in test\n",
    "print(\"TEST  {:0.1f}, {:0.1f}, {:0.3f}\".format(np.sum(y_test), y_test.shape[0], np.sum(y_test)/y_test.shape[0]))"
   ]
  },
  {
   "cell_type": "code",
   "execution_count": 5,
   "metadata": {},
   "outputs": [
    {
     "name": "stdout",
     "output_type": "stream",
     "text": [
      "Train: Left 54756, Right 54756, y 54756\n",
      "Valid: Left 6084, Right 6084, y 6084\n"
     ]
    }
   ],
   "source": [
    "#Sampling pairs\n",
    "\n",
    "def get_samples(X, y):\n",
    "    \n",
    "    #Initializing input and output arrays\n",
    "    \n",
    "    X_true = X[np.where(y==True)[0],:,:]\n",
    "    X_false = X[np.where(y==False)[0],:,:]\n",
    "    X_quarter = X_true.shape[0]*X_true.shape[0]\n",
    "    \n",
    "    X_left = np.zeros((X_quarter*4, X_true.shape[1], X_true.shape[2]))\n",
    "    X_right = np.zeros((X_quarter*4, X_true.shape[1], X_true.shape[2]))\n",
    "    y_pairs = np.zeros((X_quarter*4,1))\n",
    "        \n",
    "    # First 1/4 -> Left: X_true Right: X_true y: True\n",
    "    \n",
    "    l = X_true.shape[0]\n",
    "    \n",
    "    for i in range(l):\n",
    "        for j in range(l):\n",
    "            X_left[j+i*l] = X_true[i]\n",
    "            X_right[j+i*l] = X_true[j]\n",
    "        \n",
    "    # Second 1/4 -> Left: X_false Right: X_false y: True\n",
    "    \n",
    "    idx_left = np.random.randint(X_false.shape[0], size=X_quarter)\n",
    "    idx_right = np.random.randint(X_false.shape[0], size=X_quarter)\n",
    "    \n",
    "    X_left[X_quarter:X_quarter*2] = X_false[idx_left]\n",
    "    X_right[X_quarter:X_quarter*2] = X_false[idx_right]\n",
    "        \n",
    "    # Third 1/4 ->  Left: X_true Right: X_false y: False\n",
    "    # Fourth 1/4 -> Left: X_false Right: X_true y: False\n",
    "    \n",
    "    l = X_true.shape[0] #length of the slice and the loop so l*l = 1/4\n",
    "    o_2 = X_quarter*2 #offset for third 1/4\n",
    "    o_3 = X_quarter*3 #offset for fourth 1/4\n",
    "    \n",
    "    for i in range(l):\n",
    "        \n",
    "        # Third 1/4\n",
    "        \n",
    "        idx = np.random.randint(X_false.shape[0], size=l)\n",
    "        X_true_element = X_true[i].reshape(1, X_true.shape[1], X_true.shape[2])\n",
    "        \n",
    "        X_left[o_2+i*l:o_2+(i+1)*l] = np.repeat(X_true_element, l, axis=0)\n",
    "        X_right[o_2+i*l:o_2+(i+1)*l] = X_false[idx]\n",
    "        \n",
    "        # Fourth 1/4\n",
    "        \n",
    "        idx = np.random.randint(X_false.shape[0], size=l)\n",
    "\n",
    "        X_left[o_3+i*l:o_3+(i+1)*l] = X_false[idx]\n",
    "        X_right[o_3+i*l:o_3+(i+1)*l] = np.repeat(X_true_element, l, axis=0)\n",
    "\n",
    "    #Filling y_pairs\n",
    "    \n",
    "    y_pairs[:X_quarter*2] = True\n",
    "    y_pairs[X_quarter*2:] = False\n",
    "        \n",
    "    #Shuffling X and y together\n",
    "    \n",
    "    shuffle_idx = np.random.permutation(X_left.shape[0])\n",
    "    X_left = X_left[shuffle_idx]\n",
    "    X_right = X_right[shuffle_idx]\n",
    "    y_pairs = y_pairs[shuffle_idx]\n",
    "        \n",
    "    return X_left, X_right, y_pairs\n",
    "\n",
    "X_train_left, X_train_right, y_train_pairs = get_samples(X_train, y_train)\n",
    "X_val_left, X_val_right, y_val_pairs = get_samples(X_val, y_val)\n",
    "print(\"Train: Left {:0.0f}, Right {:0.0f}, y {:0.0f}\".format(X_train_left.shape[0], X_train_right.shape[0], y_train_pairs.shape[0]))\n",
    "print(\"Valid: Left {:0.0f}, Right {:0.0f}, y {:0.0f}\".format(X_val_left.shape[0], X_val_right.shape[0], y_val_pairs.shape[0]))"
   ]
  },
  {
   "cell_type": "code",
   "execution_count": 6,
   "metadata": {},
   "outputs": [
    {
     "name": "stdout",
     "output_type": "stream",
     "text": [
      "Model: \"model\"\n",
      "__________________________________________________________________________________________________\n",
      "Layer (type)                    Output Shape         Param #     Connected to                     \n",
      "==================================================================================================\n",
      "input_1 (InputLayer)            [(None, 17, 124)]    0                                            \n",
      "__________________________________________________________________________________________________\n",
      "input_2 (InputLayer)            [(None, 17, 124)]    0                                            \n",
      "__________________________________________________________________________________________________\n",
      "sequential (Sequential)         (None, 16)           23360       input_1[0][0]                    \n",
      "                                                                 input_2[0][0]                    \n",
      "__________________________________________________________________________________________________\n",
      "lambda (Lambda)                 (None, 1)            0           sequential[1][0]                 \n",
      "                                                                 sequential[2][0]                 \n",
      "==================================================================================================\n",
      "Total params: 23,360\n",
      "Trainable params: 23,296\n",
      "Non-trainable params: 64\n",
      "__________________________________________________________________________________________________\n"
     ]
    }
   ],
   "source": [
    "# Defining Manhattan distance\n",
    "\n",
    "def exponent_neg_manhattan_distance(left, right):\n",
    "    return K.exp(-K.sum(K.abs(left-right), axis=1, keepdims=True))\n",
    "\n",
    "# Siamese Model\n",
    "\n",
    "left_input = Input((timestep, X_train_left.shape[2]))\n",
    "right_input = Input((timestep, X_train_right.shape[2]))\n",
    "\n",
    "shared_lstm = Sequential([LSTM(32, stateful=False, dropout=0.25,\n",
    "                               recurrent_dropout=0.5, return_sequences=True,\n",
    "                               input_shape=(timestep, X_train_left.shape[2])),\n",
    "                          BatchNormalization(),\n",
    "                          LSTM(16, stateful=False, dropout=0.25,\n",
    "                               recurrent_dropout=0.5, return_sequences=False),\n",
    "                        ])\n",
    "\n",
    "left_output = shared_lstm(left_input)\n",
    "right_output = shared_lstm(right_input)\n",
    "\n",
    "malstm_distance = Lambda(function=lambda x: exponent_neg_manhattan_distance(x[0], x[1]),\n",
    "                         output_shape=lambda x: (x[0][0], 1))([left_output, right_output])\n",
    "\n",
    "model = Model([left_input, right_input],\n",
    "              [malstm_distance])\n",
    "\n",
    "model.compile(loss=loss,\n",
    "              optimizer=optimizer,\n",
    "              metrics=['accuracy'])\n",
    "\n",
    "model.summary()"
   ]
  },
  {
   "cell_type": "code",
   "execution_count": 7,
   "metadata": {
    "scrolled": true
   },
   "outputs": [
    {
     "name": "stdout",
     "output_type": "stream",
     "text": [
      "Train on 54756 samples, validate on 6084 samples\n",
      "Epoch 1/20\n",
      "54756/54756 [==============================] - 14s 254us/sample - loss: 1.6457 - accuracy: 0.5001 - val_loss: 0.8095 - val_accuracy: 0.5038\n",
      "Epoch 2/20\n",
      "54756/54756 [==============================] - 9s 164us/sample - loss: 0.7561 - accuracy: 0.5020 - val_loss: 0.8691 - val_accuracy: 0.5008\n",
      "Epoch 3/20\n",
      "54756/54756 [==============================] - 10s 174us/sample - loss: 0.7249 - accuracy: 0.5006 - val_loss: 0.8947 - val_accuracy: 0.4998\n",
      "Epoch 4/20\n",
      "54756/54756 [==============================] - 10s 175us/sample - loss: 0.7182 - accuracy: 0.5019 - val_loss: 0.8249 - val_accuracy: 0.4997\n",
      "Epoch 5/20\n",
      "54756/54756 [==============================] - 9s 168us/sample - loss: 0.7032 - accuracy: 0.5282 - val_loss: 0.7113 - val_accuracy: 0.5293\n",
      "Epoch 6/20\n",
      "54756/54756 [==============================] - 10s 186us/sample - loss: 0.6806 - accuracy: 0.5751 - val_loss: 0.6401 - val_accuracy: 0.6409\n",
      "Epoch 7/20\n",
      "54756/54756 [==============================] - 9s 173us/sample - loss: 0.6532 - accuracy: 0.6202 - val_loss: 0.6000 - val_accuracy: 0.7036\n",
      "Epoch 8/20\n",
      "54756/54756 [==============================] - 9s 172us/sample - loss: 0.6378 - accuracy: 0.6456 - val_loss: 0.5746 - val_accuracy: 0.7419\n",
      "Epoch 9/20\n",
      "54756/54756 [==============================] - 9s 159us/sample - loss: 0.6250 - accuracy: 0.6608 - val_loss: 0.5613 - val_accuracy: 0.7608\n",
      "Epoch 10/20\n",
      "54756/54756 [==============================] - 9s 164us/sample - loss: 0.6186 - accuracy: 0.6682 - val_loss: 0.5489 - val_accuracy: 0.7727\n",
      "Epoch 11/20\n",
      "54756/54756 [==============================] - 10s 179us/sample - loss: 0.6131 - accuracy: 0.6748 - val_loss: 0.5412 - val_accuracy: 0.7760\n",
      "Epoch 12/20\n",
      "54756/54756 [==============================] - 9s 167us/sample - loss: 0.6095 - accuracy: 0.6789 - val_loss: 0.5412 - val_accuracy: 0.7765\n",
      "Epoch 13/20\n",
      "54756/54756 [==============================] - 9s 166us/sample - loss: 0.6057 - accuracy: 0.6828 - val_loss: 0.5342 - val_accuracy: 0.7817\n",
      "Epoch 14/20\n",
      "54756/54756 [==============================] - 9s 160us/sample - loss: 0.6033 - accuracy: 0.6844 - val_loss: 0.5340 - val_accuracy: 0.7822\n",
      "Epoch 15/20\n",
      "54756/54756 [==============================] - 9s 163us/sample - loss: 0.5987 - accuracy: 0.6891 - val_loss: 0.5242 - val_accuracy: 0.7886\n",
      "Epoch 16/20\n",
      "54756/54756 [==============================] - 9s 164us/sample - loss: 0.5919 - accuracy: 0.6934 - val_loss: 0.5194 - val_accuracy: 0.7837\n",
      "Epoch 17/20\n",
      "54756/54756 [==============================] - 9s 171us/sample - loss: 0.5862 - accuracy: 0.7000 - val_loss: 0.5180 - val_accuracy: 0.7865\n",
      "Epoch 18/20\n",
      "54756/54756 [==============================] - 9s 160us/sample - loss: 0.5777 - accuracy: 0.7034 - val_loss: 0.5042 - val_accuracy: 0.7890\n",
      "Epoch 19/20\n",
      "54756/54756 [==============================] - 9s 166us/sample - loss: 0.5653 - accuracy: 0.7130 - val_loss: 0.5092 - val_accuracy: 0.7878\n",
      "Epoch 20/20\n",
      "54756/54756 [==============================] - 9s 157us/sample - loss: 0.5535 - accuracy: 0.7226 - val_loss: 0.4968 - val_accuracy: 0.7980\n"
     ]
    }
   ],
   "source": [
    "model_history = model.fit([X_train_left, X_train_right], y_train_pairs,\n",
    "                          epochs=epochs, \n",
    "                          batch_size=batch, \n",
    "                          shuffle=shuffle,\n",
    "                          validation_data=([X_val_left, X_val_right], y_val_pairs),\n",
    "                          verbose=verbose,\n",
    "                          #class_weight=class_weight\n",
    "                         ).history"
   ]
  },
  {
   "cell_type": "code",
   "execution_count": 8,
   "metadata": {},
   "outputs": [
    {
     "data": {
      "image/png": "[encoded data removed]",
      "text/plain": [
       "<Figure size 432x288 with 1 Axes>"
      ]
     },
     "metadata": {},
     "output_type": "display_data"
    },
    {
     "data": {
      "image/png": "[encoded data removed]",
      "text/plain": [
       "<Figure size 432x288 with 1 Axes>"
      ]
     },
     "metadata": {},
     "output_type": "display_data"
    }
   ],
   "source": [
    "sns.set()\n",
    "\n",
    "for graph in ['loss', 'accuracy']:\n",
    "    \n",
    "    plt.plot(model_history[graph], linewidth=2, label='Train')\n",
    "    plt.plot(model_history['val_'+graph], linewidth=2, label='Valid')\n",
    "    \n",
    "    plt.legend(loc='upper right')\n",
    "    plt.title('Model '+graph)\n",
    "    plt.ylabel(graph)\n",
    "    plt.xlabel('Epoch')\n",
    "    \n",
    "    plt.show()"
   ]
  },
  {
   "cell_type": "code",
   "execution_count": 10,
   "metadata": {},
   "outputs": [],
   "source": [
    "ratio_true_false = 1\n",
    "event_threshold = 0.5\n",
    "\n",
    "def get_siamese_ypred(X_train, X_test, y_train, y_test):\n",
    "    \n",
    "    X_true = X_train[np.where(y_train==True)[0],:,:]\n",
    "    X_false = X_train[np.where(y_train==False)[0],:,:]\n",
    "    idx = np.random.randint(X_false.shape[0], size=X_true.shape[0]*ratio_true_false)\n",
    "    X_false = X_false[idx]\n",
    "    X_train = np.concatenate((X_false,X_true), axis=0)\n",
    "    \n",
    "    y_pred = np.zeros((X_test.shape[0],1))\n",
    "    \n",
    "    for i, event in enumerate(X_test):\n",
    "        \n",
    "        event = event.reshape(1, event.shape[0], event.shape[1])\n",
    "        event_array = np.repeat(event, X_train.shape[0], axis=0)\n",
    "        \n",
    "        y_event = model.predict([X_train, event_array], batch_size=batch)\n",
    "        \n",
    "        y_event_false = y_event[:X_false.shape[0]]\n",
    "        y_event_false[y_event_false>=event_threshold] = False # \n",
    "        y_event_false[y_event_false<event_threshold] = True # if similarity with a false event is below threshold it is a true event\n",
    "        \n",
    "        y_event_true = y_event[X_false.shape[0]:]\n",
    "        y_event_true[y_event_true>=event_threshold] = True # \n",
    "        y_event_true[y_event_true<event_threshold] = False # if similarity with a true event is below threshold it is a false event\n",
    "        \n",
    "        y_event = np.concatenate((y_event_false,y_event_true), axis=0)\n",
    "        \n",
    "        y_pred[i] = np.sum(y_event)/y_event.shape[0]\n",
    "        \n",
    "        #print(y_pred[i])\n",
    "        #plt.hist(y_event, bins=30)\n",
    "        #plt.show()\n",
    "        #display.display(plt.gcf())\n",
    "        #display.clear_output(wait=True)\n",
    "        #time.sleep(1)\n",
    "        \n",
    "        del y_event\n",
    "        \n",
    "    return y_pred\n",
    "    \n",
    "        \n",
    "y_pred_siamese = get_siamese_ypred(X_val, X_test, y_val, y_test) #cambiado train val"
   ]
  },
  {
   "cell_type": "code",
   "execution_count": 21,
   "metadata": {},
   "outputs": [
    {
     "data": {
      "image/png": "[encoded data removed]",
      "text/plain": [
       "<Figure size 432x288 with 1 Axes>"
      ]
     },
     "metadata": {},
     "output_type": "display_data"
    },
    {
     "name": "stdout",
     "output_type": "stream",
     "text": [
      "Siamese model: 1.535, 0.266, 0.173\n"
     ]
    },
    {
     "data": {
      "image/png": "[encoded data removed]",
      "text/plain": [
       "<Figure size 432x288 with 2 Axes>"
      ]
     },
     "metadata": {},
     "output_type": "display_data"
    }
   ],
   "source": [
    "#Model Evaluation\n",
    "high_risk_real_value = -5.0\n",
    "low_risk_real_value  = -6.0001\n",
    "classification_threshold = 0.935\n",
    "\n",
    "def evaluate(name, y_pred):\n",
    "    \n",
    "    y_pred = (y_pred >= classification_threshold).reshape(-1,1)\n",
    "    \n",
    "    #rescaling data\n",
    "    y_test_scaled = y_scaler.inverse_transform(y_test_numeric)\n",
    "    \n",
    "    #getting numeric predictions from boolean predictions\n",
    "    y_pred_numeric = np.zeros((y_pred.shape[0],y_pred.shape[1]))\n",
    "    y_pred_numeric[y_pred==True] = high_risk_real_value\n",
    "    y_pred_numeric[y_pred==False] = low_risk_real_value\n",
    "    \n",
    "    #getting predictions greater than -6.0 in real data (y_test_scaled)\n",
    "    y_pred_mse = y_pred_numeric[np.where(y_test_scaled >= -6.0)]\n",
    "    y_test_mse = y_test_scaled[np.where(y_test_scaled >= -6.0)]\n",
    "    \n",
    "    mse = mean_squared_error(y_test_mse, y_pred_mse)\n",
    "    \n",
    "    y_real_bool = (y_test_scaled >= -6.0).reshape(-1,1)\n",
    "    \n",
    "    f_beta = fbeta_score(y_real_bool, y_pred, 2)\n",
    "    score = mse / f_beta\n",
    "    print(name, \"{:0.3f}, {:0.3f}, {:0.3f}\".format(score, mse, f_beta))\n",
    "        \n",
    "    hm = sns.heatmap(confusion_matrix(y_real_bool, y_pred), annot=True, cmap=\"Blues\", fmt='d')# font size\n",
    "    bottom, top = hm.get_ylim()\n",
    "    hm.set_ylim(bottom + 0.5, top - 0.5)\n",
    "    plt.show()\n",
    "\n",
    "#Predicting with model\n",
    "plt.hist(y_pred_siamese, bins=30)\n",
    "plt.show()\n",
    "evaluate(\"Siamese model:\", y_pred_siamese)"
   ]
  },
  {
   "cell_type": "code",
   "execution_count": 22,
   "metadata": {},
   "outputs": [
    {
     "name": "stdout",
     "output_type": "stream",
     "text": [
      "Constant prediction: 6.375, 0.253, 0.040\n"
     ]
    },
    {
     "data": {
      "image/png": "[encoded data removed]",
      "text/plain": [
       "<Figure size 432x288 with 2 Axes>"
      ]
     },
     "metadata": {},
     "output_type": "display_data"
    },
    {
     "name": "stdout",
     "output_type": "stream",
     "text": [
      "Predicting last value: 0.429, 0.221, 0.516\n"
     ]
    },
    {
     "data": {
      "image/png": "[encoded data removed]",
      "text/plain": [
       "<Figure size 432x288 with 2 Axes>"
      ]
     },
     "metadata": {},
     "output_type": "display_data"
    }
   ],
   "source": [
    "#Model Evaluation\n",
    "high_risk_real_value = -5.0\n",
    "low_risk_real_value  = -6.0001\n",
    "\n",
    "def evaluate(name, y_pred):\n",
    "    \n",
    "    #rescaling data\n",
    "    y_test_scaled = y_scaler.inverse_transform(y_test_numeric)\n",
    "    \n",
    "    #getting numeric predictions from boolean predictions\n",
    "    y_pred_numeric = np.zeros((y_pred.shape[0],y_pred.shape[1]))\n",
    "    y_pred_numeric[y_pred==True] = high_risk_real_value\n",
    "    y_pred_numeric[y_pred==False] = low_risk_real_value\n",
    "    \n",
    "    #getting predictions greater than -6.0 in real data (y_test_scaled)\n",
    "    y_pred_mse = y_pred_numeric[np.where(y_test_scaled >= -6.0)]\n",
    "    y_test_mse = y_test_scaled[np.where(y_test_scaled >= -6.0)]\n",
    "    \n",
    "    mse = mean_squared_error(y_test_mse, y_pred_mse)\n",
    "    \n",
    "    y_real_bool = (y_test_scaled >= -6.0).reshape(-1,1)\n",
    "    \n",
    "    f_beta = fbeta_score(y_real_bool, y_pred, 2)\n",
    "    score = mse / f_beta\n",
    "    print(name, \"{:0.3f}, {:0.3f}, {:0.3f}\".format(score, mse, f_beta))\n",
    "        \n",
    "    hm = sns.heatmap(confusion_matrix(y_real_bool, y_pred), annot=True, cmap=\"Blues\", fmt='d')# font size\n",
    "    bottom, top = hm.get_ylim()\n",
    "    hm.set_ylim(bottom + 0.5, top - 0.5)\n",
    "    plt.show()\n",
    "\n",
    "#Predicting -5 always\n",
    "y_constant = np.ones((y_test.shape[0],y_test.shape[1]), dtype=bool)\n",
    "evaluate(\"Constant prediction:\", y_constant)\n",
    "\n",
    "#Predicting last value\n",
    "y_last = X_test[:,-1,1]\n",
    "tmp = np.array([-6]).reshape(-1,1)\n",
    "tmp = y_scaler.transform(tmp)\n",
    "tmp = tmp[0,0]\n",
    "y_last = (y_last > tmp).reshape(-1,1)\n",
    "evaluate(\"Predicting last value:\", y_last)"
   ]
  },
  {
   "cell_type": "code",
   "execution_count": 23,
   "metadata": {},
   "outputs": [
    {
     "name": "stdout",
     "output_type": "stream",
     "text": [
      "Predicting last value: 15.978, 8.243, 0.516\n"
     ]
    },
    {
     "data": {
      "image/png": "[encoded data removed]",
      "text/plain": [
       "<Figure size 432x288 with 2 Axes>"
      ]
     },
     "metadata": {},
     "output_type": "display_data"
    }
   ],
   "source": [
    "#Predicting last value\n",
    "def recurrent_evaluate(name, y_pred):\n",
    "    \n",
    "    #Scaling both real predicted\n",
    "    y_pred_scaled = y_scaler.inverse_transform(y_pred)\n",
    "    y_real_scaled = y_scaler.inverse_transform(y_test_numeric)\n",
    "    \n",
    "    #boolean data\n",
    "    y_pred_bool = (y_pred_scaled >= -6.0).reshape(-1,1)\n",
    "    y_real_bool = (y_real_scaled >= -6.0).reshape(-1,1)\n",
    "    f_beta = fbeta_score(y_real_bool, y_pred_bool, 2)\n",
    "    \n",
    "    #getting predictions greater than -6.0 in real data (y_real_scaled)\n",
    "    y_pred_mse = y_pred_scaled[np.where(y_real_scaled >= -6.0)]\n",
    "    y_real_mse = y_real_scaled[np.where(y_real_scaled >= -6.0)]\n",
    "    mse = mean_squared_error(y_real_mse, y_pred_mse)\n",
    "    \n",
    "    #F-beta score\n",
    "    score = mse / f_beta\n",
    "    print(name, \"{:0.3f}, {:0.3f}, {:0.3f}\".format(score, mse, f_beta))\n",
    "        \n",
    "    #Confusion matrix\n",
    "    hm = sns.heatmap(confusion_matrix(y_real_bool, y_pred_bool), annot=True, cmap=\"Blues\", fmt='d')# font size\n",
    "    bottom, top = hm.get_ylim()\n",
    "    hm.set_ylim(bottom + 0.5, top - 0.5)\n",
    "    plt.show()\n",
    "\n",
    "    \n",
    "y_last = X_test[:,-1,1].reshape(-1,1)\n",
    "y_bool_2 = recurrent_evaluate(\"Predicting last value:\", y_last)"
   ]
  },
  {
   "cell_type": "markdown",
   "metadata": {},
   "source": [
    "# EXTRA"
   ]
  },
  {
   "cell_type": "code",
   "execution_count": null,
   "metadata": {},
   "outputs": [],
   "source": [
    "# From low to high risk\n",
    "'''\n",
    "low_to_high = []\n",
    "for event, risk in zip(X,y):\n",
    "    if(event[-1,1]<threshold_scaled and risk>=threshold_scaled):\n",
    "        low_to_high.append(True)\n",
    "    else:\n",
    "        low_to_high.append(False)\n",
    "y = np.array(low_to_high).reshape(-1,1)\n",
    "'''"
   ]
  },
  {
   "cell_type": "code",
   "execution_count": null,
   "metadata": {},
   "outputs": [],
   "source": [
    "#Sampling pairs\n",
    "'''\n",
    "def get_samples(X, y, n_pairs):\n",
    "    \n",
    "    X_true = X[np.where(y==True)[0],:,:]\n",
    "    X_false = X[np.where(y==False)[0],:,:]\n",
    "    print(X_true.shape, X_false.shape)\n",
    "    \n",
    "    idx_false = np.random.randint(X_false.shape[0], size=X_true.shape[0])\n",
    "    X_false = X[idx_false,:,:]\n",
    "    print(X_true.shape, X_false.shape)\n",
    "    \n",
    "    X_sample = np.concatenate((X_true, X_false), axis=0)\n",
    "    print(X_sample.shape)\n",
    "    \n",
    "    idx_left = np.random.randint(X_sample.shape[0], size=X_sample.shape[0]*100)\n",
    "    idx_right = np.random.randint(X_sample.shape[0], size=X_sample.shape[0]*100)\n",
    "    X_left = X_sample[idx_left,:,:]\n",
    "    X_right = X_sample[idx_right,:,:]\n",
    "    \n",
    "    high_cond = X_sample.shape[0] // 2\n",
    "    idx_left_high = (idx_left < high_cond)\n",
    "    idx_right_high = (idx_right < high_cond)\n",
    "    y = (idx_left_high==idx_right_high).reshape(-1,1)\n",
    "    print(np.sum(y),y.shape[0])\n",
    "        \n",
    "    return X_left, X_right, y\n",
    "'''"
   ]
  }
 ],
 "metadata": {
  "kernelspec": {
   "display_name": "Python 3",
   "language": "python",
   "name": "python3"
  },
  "language_info": {
   "codemirror_mode": {
    "name": "ipython",
    "version": 3
   },
   "file_extension": ".py",
   "mimetype": "text/x-python",
   "name": "python",
   "nbconvert_exporter": "python",
   "pygments_lexer": "ipython3",
   "version": "3.7.4"
  }
 },
 "nbformat": 4,
 "nbformat_minor": 2
}
