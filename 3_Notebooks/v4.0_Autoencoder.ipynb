{
 "cells": [
  {
   "cell_type": "code",
   "execution_count": 1,
   "metadata": {},
   "outputs": [],
   "source": [
    "import pandas as pd\n",
    "pd.set_option('display.max_columns', None)\n",
    "pd.set_option('display.max_rows', 100)\n",
    "import numpy as np\n",
    "import missingno\n",
    "\n",
    "from IPython.display import display\n",
    "\n",
    "import matplotlib.pyplot as plt\n",
    "%matplotlib inline\n",
    "import seaborn as sns\n",
    "import plotly.express as px\n",
    "sns.set(color_codes=True)\n",
    "\n",
    "from sklearn.preprocessing import StandardScaler, MinMaxScaler\n",
    "from sklearn.decomposition import PCA\n",
    "from sklearn.manifold import TSNE\n",
    "from category_encoders import BinaryEncoder\n",
    "\n",
    "import tensorflow\n",
    "from tensorflow.keras import optimizers, Sequential\n",
    "from tensorflow.keras.models import Model\n",
    "from tensorflow.keras.utils import plot_model\n",
    "from tensorflow.keras.layers import Input, Dense, Layer, InputSpec, Dropout\n",
    "from tensorflow.keras.layers import Dense, LSTM, RepeatVector, TimeDistributed\n",
    "from tensorflow.keras.callbacks import ModelCheckpoint, TensorBoard\n",
    "from tensorflow.keras.constraints import UnitNorm, Constraint"
   ]
  },
  {
   "cell_type": "code",
   "execution_count": 2,
   "metadata": {},
   "outputs": [],
   "source": [
    "df = pd.read_csv(\"train_data.csv\")\n",
    "timestep = 17 #from 1 to 23 (17 with the current NaN strategy)\n",
    "fill_X = -0.1\n",
    "threshold_train = -29.9\n",
    "X_scaler = StandardScaler()"
   ]
  },
  {
   "cell_type": "code",
   "execution_count": 3,
   "metadata": {},
   "outputs": [
    {
     "name": "stdout",
     "output_type": "stream",
     "text": [
      "(5890, 17, 3) (1421, 17, 3)\n"
     ]
    }
   ],
   "source": [
    "#Dropping first the empty column and then rows with NaNs\n",
    "df = df.drop(\"c_rcs_estimate\", axis=1)\n",
    "df = df.dropna(how='any')\n",
    "\n",
    "#Filtering events with len=1 or min_tca > 2 or max_tca < 2\n",
    "def conditions(event):\n",
    "    x = event[\"time_to_tca\"].values\n",
    "    return ((x.min()<2.0) & (x.max()>2.0) & (x.shape[0]>1))\n",
    "df = df.groupby('event_id').filter(conditions)\n",
    "\n",
    "#OHE for c_object_type (5 categories) -> 5 new features\n",
    "df = pd.get_dummies(df)\n",
    "\n",
    "#Binary encoder for mission_id (19 categories) -> 5 new features\n",
    "encoder = BinaryEncoder(cols=['mission_id'], drop_invariant=True)\n",
    "df = encoder.fit_transform(df)\n",
    "\n",
    "#Fitting the scaler X\n",
    "X_scaler = X_scaler.fit(df)\n",
    "\n",
    "#Getting train and test dataframe\n",
    "df[\"last_value\"] = df.groupby([\"event_id\"])[\"risk\"].transform(lambda x: x.iloc[-1])\n",
    "df_train = df.loc[df[\"last_value\"]<threshold_train]\n",
    "df_test = df.loc[df[\"last_value\"]>=threshold_train]\n",
    "\n",
    "#Dropping feature for slice\n",
    "df_train = df_train.drop(labels=['last_value'], axis=1)\n",
    "df_test = df_test.drop(labels=['last_value'], axis=1)\n",
    "\n",
    "#Getting X as df (dropping rows with tca < 2) \n",
    "df_train = df_train.loc[df_train[\"time_to_tca\"]>2]\n",
    "df_test = df_test.loc[df_test[\"time_to_tca\"]>2]\n",
    "\n",
    "#Scaling the dataset\n",
    "df_train = pd.DataFrame(X_scaler.fit_transform(df_train), columns=df_train.columns)\n",
    "df_test = pd.DataFrame(X_scaler.fit_transform(df_test), columns=df_test.columns)\n",
    "\n",
    "def df_to_time_series(df):\n",
    "\n",
    "    #Adding feature 'event_length' for counting how many instances each event has\n",
    "    df[\"event_length\"] = df.groupby('event_id')['event_id'].transform('value_counts')\n",
    "    \n",
    "    #Transforming X into a 3D-array\n",
    "    events = df[\"event_id\"].nunique() #rows\n",
    "    features = len(df.columns) #columns\n",
    "    X = np.zeros((events,timestep,features))\n",
    "    X.fill(fill_X)\n",
    "    i = 0\n",
    "    \n",
    "    def df_to_3darray(event, X, i):\n",
    "        #Transforming an event to time series (1,timesteps, columns)\n",
    "        row = event.values.reshape(1,event.shape[0],event.shape[1])\n",
    "        #Condition is needed to slice arrays correctly\n",
    "        #Condition -> is timestep greater than the event's time series length? \n",
    "        if(timestep>=row.shape[1]):\n",
    "            X[i:i+1,-row.shape[1]:,:] = row\n",
    "        else:\n",
    "            X[i:i+1,:,:] = row[:,-timestep:,:]\n",
    "        #index to iterate over X array\n",
    "        i = i + 1\n",
    "        #dataframe remains intact, while X array has been filled.\n",
    "        return event\n",
    "\n",
    "    df.groupby(\"event_id\").apply(df_to_3darray, X=X, i=i)\n",
    "\n",
    "    #Dropping event_id to remove noise\n",
    "    X = X[:,:,1:]\n",
    "        \n",
    "    #time_to_tca 0 mission_id 1:5 risk 6\n",
    "    \n",
    "    return X\n",
    "\n",
    "X_train = df_to_time_series(df_train)\n",
    "X_test = df_to_time_series(df_test)\n",
    "\n",
    "print(X_train.shape, X_test.shape)"
   ]
  },
  {
   "cell_type": "code",
   "execution_count": 4,
   "metadata": {},
   "outputs": [
    {
     "name": "stdout",
     "output_type": "stream",
     "text": [
      "Model: \"sequential\"\n",
      "_________________________________________________________________\n",
      "Layer (type)                 Output Shape              Param #   \n",
      "=================================================================\n",
      "lstm (LSTM)                  (None, 17, 32)            4608      \n",
      "_________________________________________________________________\n",
      "dropout (Dropout)            (None, 17, 32)            0         \n",
      "_________________________________________________________________\n",
      "lstm_1 (LSTM)                (None, 16)                3136      \n",
      "_________________________________________________________________\n",
      "repeat_vector (RepeatVector) (None, 17, 16)            0         \n",
      "_________________________________________________________________\n",
      "lstm_2 (LSTM)                (None, 17, 16)            2112      \n",
      "_________________________________________________________________\n",
      "dropout_1 (Dropout)          (None, 17, 16)            0         \n",
      "_________________________________________________________________\n",
      "lstm_3 (LSTM)                (None, 17, 32)            6272      \n",
      "_________________________________________________________________\n",
      "time_distributed (TimeDistri (None, 17, 3)             99        \n",
      "=================================================================\n",
      "Total params: 16,227\n",
      "Trainable params: 16,227\n",
      "Non-trainable params: 0\n",
      "_________________________________________________________________\n"
     ]
    }
   ],
   "source": [
    "lstm_autoencoder = Sequential()\n",
    "# Encoder\n",
    "lstm_autoencoder.add(LSTM(32, activation='selu', stateful=False, \n",
    "                          input_shape=(timestep, X_train.shape[2]), return_sequences=True))\n",
    "lstm_autoencoder.add(Dropout(0.1))\n",
    "lstm_autoencoder.add(LSTM(16, activation='selu', stateful=False, return_sequences=False))\n",
    "lstm_autoencoder.add(RepeatVector(timestep))\n",
    "# Decoder\n",
    "lstm_autoencoder.add(LSTM(16, activation='selu', stateful=False, return_sequences=True))\n",
    "lstm_autoencoder.add(Dropout(0.1))\n",
    "lstm_autoencoder.add(LSTM(32, activation='selu', stateful=False, return_sequences=True))\n",
    "lstm_autoencoder.add(TimeDistributed(Dense(X_train.shape[2])))\n",
    "\n",
    "lstm_autoencoder.summary()\n",
    "\n",
    "# encoder: kernel_constraint=UnitNorm(axis=0)"
   ]
  },
  {
   "cell_type": "code",
   "execution_count": 5,
   "metadata": {
    "scrolled": true
   },
   "outputs": [
    {
     "name": "stdout",
     "output_type": "stream",
     "text": [
      "Train on 4123 samples, validate on 1767 samples\n",
      "Epoch 1/30\n",
      "4123/4123 [==============================] - 8s 2ms/sample - loss: 0.0269 - val_loss: 0.0015\n",
      "Epoch 2/30\n",
      "4123/4123 [==============================] - 3s 798us/sample - loss: 0.0208 - val_loss: 0.0012\n",
      "Epoch 3/30\n",
      "4123/4123 [==============================] - 3s 786us/sample - loss: 0.0174 - val_loss: 9.4355e-04\n",
      "Epoch 4/30\n",
      "4123/4123 [==============================] - 3s 790us/sample - loss: 0.0163 - val_loss: 7.9871e-04\n",
      "Epoch 5/30\n",
      "4123/4123 [==============================] - 3s 778us/sample - loss: 0.0150 - val_loss: 6.7431e-04\n",
      "Epoch 6/30\n",
      "4123/4123 [==============================] - 3s 761us/sample - loss: 0.0131 - val_loss: 5.9480e-04\n",
      "Epoch 7/30\n",
      "4123/4123 [==============================] - 3s 759us/sample - loss: 0.0129 - val_loss: 5.6265e-04\n",
      "Epoch 8/30\n",
      "4123/4123 [==============================] - 3s 765us/sample - loss: 0.0093 - val_loss: 4.7072e-04\n",
      "Epoch 9/30\n",
      "4123/4123 [==============================] - 3s 760us/sample - loss: 0.0068 - val_loss: 4.1851e-04\n",
      "Epoch 10/30\n",
      "4123/4123 [==============================] - 3s 766us/sample - loss: 0.0062 - val_loss: 3.7989e-04\n",
      "Epoch 11/30\n",
      "4123/4123 [==============================] - 3s 778us/sample - loss: 0.0059 - val_loss: 3.4076e-04\n",
      "Epoch 12/30\n",
      "4123/4123 [==============================] - 3s 754us/sample - loss: 0.0052 - val_loss: 3.1470e-04\n",
      "Epoch 13/30\n",
      "4123/4123 [==============================] - 3s 765us/sample - loss: 0.0039 - val_loss: 2.9046e-04\n",
      "Epoch 14/30\n",
      "4123/4123 [==============================] - 3s 762us/sample - loss: 0.0042 - val_loss: 2.6031e-04\n",
      "Epoch 15/30\n",
      "4123/4123 [==============================] - 3s 766us/sample - loss: 0.0049 - val_loss: 2.4240e-04\n",
      "Epoch 16/30\n",
      "4123/4123 [==============================] - 3s 781us/sample - loss: 0.0040 - val_loss: 2.1782e-04\n",
      "Epoch 17/30\n",
      "4123/4123 [==============================] - 3s 768us/sample - loss: 0.0041 - val_loss: 2.0736e-04\n",
      "Epoch 18/30\n",
      "4123/4123 [==============================] - 3s 756us/sample - loss: 0.0033 - val_loss: 1.8235e-04\n",
      "Epoch 19/30\n",
      "4123/4123 [==============================] - 3s 762us/sample - loss: 0.0035 - val_loss: 1.7943e-04\n",
      "Epoch 20/30\n",
      "4123/4123 [==============================] - 3s 760us/sample - loss: 0.0029 - val_loss: 1.6402e-04\n",
      "Epoch 21/30\n",
      "4123/4123 [==============================] - 3s 772us/sample - loss: 0.0032 - val_loss: 1.4668e-04\n",
      "Epoch 22/30\n",
      "4123/4123 [==============================] - 3s 766us/sample - loss: 0.0029 - val_loss: 1.4481e-04\n",
      "Epoch 23/30\n",
      "4123/4123 [==============================] - 3s 778us/sample - loss: 0.0030 - val_loss: 1.2930e-04\n",
      "Epoch 24/30\n",
      "4123/4123 [==============================] - 3s 782us/sample - loss: 0.0037 - val_loss: 1.2553e-04\n",
      "Epoch 25/30\n",
      "4123/4123 [==============================] - 3s 779us/sample - loss: 0.0021 - val_loss: 1.1366e-04\n",
      "Epoch 26/30\n",
      "4123/4123 [==============================] - 3s 783us/sample - loss: 0.0035 - val_loss: 1.0228e-04\n",
      "Epoch 27/30\n",
      "4123/4123 [==============================] - 3s 768us/sample - loss: 0.0032 - val_loss: 9.9328e-05\n",
      "Epoch 28/30\n",
      "4123/4123 [==============================] - 3s 768us/sample - loss: 0.0029 - val_loss: 9.2146e-05\n",
      "Epoch 29/30\n",
      "4123/4123 [==============================] - 3s 770us/sample - loss: 0.0025 - val_loss: 8.7668e-05\n",
      "Epoch 30/30\n",
      "4123/4123 [==============================] - 3s 784us/sample - loss: 0.0031 - val_loss: 8.0503e-05\n"
     ]
    }
   ],
   "source": [
    "epochs = 30\n",
    "batch = 64\n",
    "lr = 0.0001\n",
    "\n",
    "adam = optimizers.Adam(lr)\n",
    "lstm_autoencoder.compile(loss='mse', optimizer=adam)\n",
    "\n",
    "#cp = ModelCheckpoint(filepath=\"lstm_autoencoder_classifier.h5\", save_best_only=True,verbose=1)\n",
    "\n",
    "lstm_autoencoder_history = lstm_autoencoder.fit(X_train, X_train, \n",
    "                                                epochs=epochs, \n",
    "                                                batch_size=batch, \n",
    "                                                shuffle=True, #OJO\n",
    "                                                validation_split=0.3,\n",
    "                                                verbose=1).history"
   ]
  },
  {
   "cell_type": "code",
   "execution_count": 6,
   "metadata": {},
   "outputs": [
    {
     "data": {
      "image/png": "[encoded data removed]",
      "text/plain": [
       "<Figure size 432x288 with 1 Axes>"
      ]
     },
     "metadata": {
      "needs_background": "light"
     },
     "output_type": "display_data"
    }
   ],
   "source": [
    "plt.plot(lstm_autoencoder_history['loss'], linewidth=2, label='Train')\n",
    "plt.plot(lstm_autoencoder_history['val_loss'], linewidth=2, label='Valid')\n",
    "plt.legend(loc='upper right')\n",
    "plt.title('Model loss')\n",
    "plt.ylabel('Loss')\n",
    "plt.xlabel('Epoch')\n",
    "plt.show()"
   ]
  },
  {
   "cell_type": "code",
   "execution_count": 12,
   "metadata": {},
   "outputs": [
    {
     "name": "stdout",
     "output_type": "stream",
     "text": [
      "(5890,)\n"
     ]
    },
    {
     "data": {
      "image/png": "[encoded data removed]",
      "text/plain": [
       "<Figure size 1200x1200 with 1 Axes>"
      ]
     },
     "metadata": {
      "needs_background": "light"
     },
     "output_type": "display_data"
    },
    {
     "name": "stdout",
     "output_type": "stream",
     "text": [
      "(1421,)\n"
     ]
    },
    {
     "data": {
      "image/png": "[encoded data removed]",
      "text/plain": [
       "<Figure size 1200x1200 with 1 Axes>"
      ]
     },
     "metadata": {
      "needs_background": "light"
     },
     "output_type": "display_data"
    }
   ],
   "source": [
    "def predict_(X):\n",
    "    \n",
    "    X_pred = lstm_autoencoder.predict(X, batch_size=batch)\n",
    "\n",
    "    X = X.reshape(X.shape[0]*X.shape[1],X.shape[2])\n",
    "    X_pred = X_pred.reshape(X_pred.shape[0]*X_pred.shape[1],X_pred.shape[2])\n",
    "\n",
    "    #X = X.astype(np.float64)\n",
    "    #X_pred = X_pred.astype(np.float64)\n",
    "    \n",
    "    #X = X_scaler.inverse_transform(X)\n",
    "    #X_pred = X_scaler.inverse_transform(X_pred)\n",
    "    \n",
    "    X = X[::timestep,6:7]\n",
    "    X_pred = X_pred[::timestep,6:7]\n",
    "    \n",
    "    mse = np.mean(np.power(X-X_pred, 2), axis=1)\n",
    "    \n",
    "    print(mse.shape)\n",
    "    \n",
    "    plt.figure(figsize=(15, 15), dpi=80)\n",
    "    sns.distplot(mse)\n",
    "    #plt.xlim(0, 0.1)\n",
    "    plt.show()\n",
    "    \n",
    "    return mse\n",
    "\n",
    "mse_train = predict_(X_train)\n",
    "mse_test = predict_(X_test)"
   ]
  },
  {
   "cell_type": "code",
   "execution_count": 13,
   "metadata": {},
   "outputs": [
    {
     "data": {
      "text/plain": [
       "0.0007037297677691766"
      ]
     },
     "execution_count": 13,
     "metadata": {},
     "output_type": "execute_result"
    }
   ],
   "source": [
    "len(mse_test[(mse_test>mse_train.max())])/len(mse_test)\n"
   ]
  },
  {
   "cell_type": "code",
   "execution_count": 14,
   "metadata": {},
   "outputs": [
    {
     "data": {
      "text/plain": [
       "1"
      ]
     },
     "execution_count": 14,
     "metadata": {},
     "output_type": "execute_result"
    }
   ],
   "source": [
    "len(mse_test[(mse_test>mse_train.max())])"
   ]
  },
  {
   "cell_type": "code",
   "execution_count": 15,
   "metadata": {},
   "outputs": [
    {
     "data": {
      "text/plain": [
       "DescribeResult(nobs=1421, minmax=(0.0008365849474402357, 4.673260797358563), mean=0.0041247089533593935, variance=0.015363510218666918, skewness=37.65635011821189, kurtosis=1416.0007042253533)"
      ]
     },
     "execution_count": 15,
     "metadata": {},
     "output_type": "execute_result"
    }
   ],
   "source": [
    "from scipy import stats\n",
    "stats.describe(mse_test)"
   ]
  },
  {
   "cell_type": "code",
   "execution_count": 16,
   "metadata": {},
   "outputs": [
    {
     "data": {
      "text/plain": [
       "DescribeResult(nobs=5890, minmax=(0.0008365849474402357, 0.05797625216050747), mean=0.0008462860795412648, variance=5.543194514776471e-07, skewness=76.7267891274497, kurtosis=5885.0001698081205)"
      ]
     },
     "execution_count": 16,
     "metadata": {},
     "output_type": "execute_result"
    }
   ],
   "source": [
    "stats.describe(mse_train)"
   ]
  },
  {
   "cell_type": "code",
   "execution_count": null,
   "metadata": {},
   "outputs": [],
   "source": []
  },
  {
   "cell_type": "code",
   "execution_count": null,
   "metadata": {},
   "outputs": [],
   "source": []
  }
 ],
 "metadata": {
  "kernelspec": {
   "display_name": "Python 3",
   "language": "python",
   "name": "python3"
  },
  "language_info": {
   "codemirror_mode": {
    "name": "ipython",
    "version": 3
   },
   "file_extension": ".py",
   "mimetype": "text/x-python",
   "name": "python",
   "nbconvert_exporter": "python",
   "pygments_lexer": "ipython3",
   "version": "3.7.4"
  }
 },
 "nbformat": 4,
 "nbformat_minor": 2
}
