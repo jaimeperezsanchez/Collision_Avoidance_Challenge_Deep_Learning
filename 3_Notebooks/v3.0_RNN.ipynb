{
 "cells": [
  {
   "cell_type": "code",
   "execution_count": 7,
   "metadata": {},
   "outputs": [],
   "source": [
    "import pandas as pd\n",
    "pd.set_option('display.max_columns', None)\n",
    "pd.set_option('display.max_rows', 100)\n",
    "import numpy as np\n",
    "import missingno\n",
    "\n",
    "from IPython.display import display\n",
    "\n",
    "import matplotlib.pyplot as plt\n",
    "%matplotlib inline\n",
    "import seaborn as sns\n",
    "import plotly.express as px\n",
    "\n",
    "from sklearn.model_selection import train_test_split\n",
    "from sklearn.metrics import mean_squared_error, fbeta_score, confusion_matrix, classification_report\n",
    "from sklearn.preprocessing import StandardScaler, MinMaxScaler\n",
    "from sklearn.decomposition import PCA\n",
    "from sklearn.manifold import TSNE\n",
    "from category_encoders import BinaryEncoder\n",
    "\n",
    "import tensorflow\n",
    "from tensorflow.keras import optimizers, Sequential\n",
    "from tensorflow.keras.models import Model\n",
    "from tensorflow.keras.utils import plot_model\n",
    "from tensorflow.keras.layers import Dense, LSTM, RepeatVector, TimeDistributed, Input\n",
    "from tensorflow.keras.callbacks import ModelCheckpoint, TensorBoard"
   ]
  },
  {
   "cell_type": "code",
   "execution_count": 8,
   "metadata": {},
   "outputs": [],
   "source": [
    "df = pd.read_csv(\"train_data.csv\")\n",
    "timestep_X = 5 #from 1 to 17 -> lower values give more data\n",
    "timestep_y = 1 #timestep to predict\n",
    "threshold_for_classification = -29.99\n",
    "fill_X = -0.1\n",
    "X_scaler = MinMaxScaler()\n",
    "y_scaler = MinMaxScaler()\n",
    "seed = 11"
   ]
  },
  {
   "cell_type": "code",
   "execution_count": 9,
   "metadata": {},
   "outputs": [
    {
     "name": "stdout",
     "output_type": "stream",
     "text": [
      "(83670, 5, 124) (83670, 1)\n"
     ]
    }
   ],
   "source": [
    "#Dropping first the empty column and then rows with NaNs\n",
    "df = df.drop(\"c_rcs_estimate\", axis=1)\n",
    "df = df.dropna(how='any')\n",
    "\n",
    "#Filtering events with len=1 or min_tca > 2 or max_tca < 2\n",
    "def conditions(event):\n",
    "    x = event[\"time_to_tca\"].values\n",
    "    return ((x.min()<2.0) & (x.max()>2.0))\n",
    "\n",
    "df = df.groupby('event_id').filter(conditions)\n",
    "\n",
    "#OHE for c_object_type (5 categories) -> 5 new features\n",
    "df[\"mission_id\"] = df[\"mission_id\"].astype('category')\n",
    "df[\"c_object_type\"] = df[\"c_object_type\"].astype('category')\n",
    "df = pd.get_dummies(df)\n",
    "\n",
    "#Adding feature 'event_length' for counting how many instances each event has\n",
    "df[\"event_length\"] = df.groupby('event_id')['event_id'].transform('value_counts')\n",
    "\n",
    "#Scaling data\n",
    "_ = y_scaler.fit(df[\"risk\"].values.reshape(-1, 1)) #for later use for scaling prediction\n",
    "df = pd.DataFrame(X_scaler.fit_transform(df), columns=df.columns)\n",
    "\n",
    "#Transforming dataframe into a 3D-array with overlapping windows\n",
    "data = []\n",
    "timestep = timestep_X + timestep_y\n",
    "def df_to_3darray(event):\n",
    "    global data\n",
    "    event = event.values\n",
    "    if(timestep>=event.shape[0]):\n",
    "        pad_shape = timestep + 1\n",
    "        pad_event = np.zeros((pad_shape,event.shape[1]))\n",
    "        pad_event.fill(fill_X)\n",
    "        pad_event[-event.shape[0]:,:] = event\n",
    "        event = pad_event\n",
    "    for i in range(event.shape[0]-timestep):\n",
    "        data.append(event[i:i+timestep,:])\n",
    "    return event\n",
    "\n",
    "df.groupby(\"event_id\").apply(df_to_3darray)\n",
    "data = np.array(data)\n",
    "\n",
    "#Dividing X and y\n",
    "target_feture = list(df.columns).index(\"risk\")\n",
    "X, y = data[:,:timestep_X,:], data[:,timestep_X:,target_feture]\n",
    "\n",
    "#Dropping event_id to remove noise\n",
    "X = X[:,:,1:]\n",
    "\n",
    "#TODO: Padding with specific values column-wise instead of fixed number.\n",
    "#TODO: Separating time dependent and independent feature in 2 X arrays\n",
    "\n",
    "print(X.shape, y.shape)"
   ]
  },
  {
   "cell_type": "code",
   "execution_count": 10,
   "metadata": {},
   "outputs": [
    {
     "name": "stdout",
     "output_type": "stream",
     "text": [
      "High risk: 0.48\n"
     ]
    }
   ],
   "source": [
    "#computing scaled threshold \n",
    "th = np.array([threshold_for_classification]).reshape(-1,1)\n",
    "th = y_scaler.transform(th)\n",
    "threshold_scaled = th[0,0]\n",
    "\n",
    "#y boolean for splitting\n",
    "y_boolean = (y > threshold_scaled).reshape(-1,1)\n",
    "\n",
    "#Splitting arrays\n",
    "X_train, X_test, y_train_numeric, y_test_numeric = train_test_split(X, y, \n",
    "                                                    stratify=y_boolean, \n",
    "                                                    shuffle=True,\n",
    "                                                    random_state=seed,\n",
    "                                                    test_size = 0.1\n",
    "                                                  )\n",
    "\n",
    "#transforming it into a classification task -> y_train, y_test boolean\n",
    "y_train = (y_train_numeric > threshold_scaled).reshape(-1,1)\n",
    "y_test = (y_test_numeric > threshold_scaled).reshape(-1,1)\n",
    "\n",
    "#percentage of high risk\n",
    "print(\"High risk: {:0.2f}\".format(np.sum(y_test)/y_test.shape[0]))"
   ]
  },
  {
   "cell_type": "code",
   "execution_count": 11,
   "metadata": {},
   "outputs": [
    {
     "name": "stdout",
     "output_type": "stream",
     "text": [
      "Model: \"model_2\"\n",
      "_________________________________________________________________\n",
      "Layer (type)                 Output Shape              Param #   \n",
      "=================================================================\n",
      "input_3 (InputLayer)         [(None, 5, 124)]          0         \n",
      "_________________________________________________________________\n",
      "lstm_4 (LSTM)                (None, 5, 32)             20096     \n",
      "_________________________________________________________________\n",
      "lstm_5 (LSTM)                (None, 16)                3136      \n",
      "_________________________________________________________________\n",
      "dense_2 (Dense)              (None, 1)                 17        \n",
      "=================================================================\n",
      "Total params: 23,249\n",
      "Trainable params: 23,249\n",
      "Non-trainable params: 0\n",
      "_________________________________________________________________\n"
     ]
    }
   ],
   "source": [
    "#hiperparameter\n",
    "epochs = 30\n",
    "batch = 64\n",
    "val_split = 0.3\n",
    "lr = 0.0001\n",
    "adam = optimizers.Adam(lr)\n",
    "#class_weight = {True: 1.,\n",
    "#                False: 50.}\n",
    "verbose = 1\n",
    "\n",
    "\n",
    "# Model activation selu\n",
    "input_tensor = Input(batch_shape=(None, timestep_X, X_train.shape[2]))\n",
    "rnn_1 = LSTM(32, stateful=False, dropout=0.1, return_sequences=True)(input_tensor)\n",
    "rnn_2 = LSTM(16, stateful=False, dropout=0.1, return_sequences=False)(rnn_1)\n",
    "output_tensor = Dense(units = 1, activation='sigmoid')(rnn_2)\n",
    "\n",
    "model = Model(inputs=input_tensor,\n",
    "              outputs= output_tensor)\n",
    "\n",
    "model.compile(loss='binary_crossentropy',\n",
    "              optimizer=adam,\n",
    "              metrics=['accuracy'])\n",
    "\n",
    "model.summary()"
   ]
  },
  {
   "cell_type": "code",
   "execution_count": 12,
   "metadata": {
    "scrolled": false
   },
   "outputs": [
    {
     "name": "stdout",
     "output_type": "stream",
     "text": [
      "Train on 52712 samples, validate on 22591 samples\n",
      "Epoch 1/30\n",
      "52712/52712 [==============================] - 8s 156us/sample - loss: 0.5079 - accuracy: 0.7597 - val_loss: 0.3744 - val_accuracy: 0.8397\n",
      "Epoch 2/30\n",
      "52712/52712 [==============================] - 5s 85us/sample - loss: 0.3691 - accuracy: 0.8412 - val_loss: 0.3245 - val_accuracy: 0.8648\n",
      "Epoch 3/30\n",
      "52712/52712 [==============================] - 8s 144us/sample - loss: 0.3282 - accuracy: 0.8636 - val_loss: 0.2965 - val_accuracy: 0.8798\n",
      "Epoch 4/30\n",
      "52712/52712 [==============================] - 4s 81us/sample - loss: 0.3047 - accuracy: 0.8768 - val_loss: 0.2759 - val_accuracy: 0.8910\n",
      "Epoch 5/30\n",
      "52712/52712 [==============================] - 8s 153us/sample - loss: 0.2884 - accuracy: 0.8863 - val_loss: 0.2639 - val_accuracy: 0.8977\n",
      "Epoch 6/30\n",
      "52712/52712 [==============================] - 4s 79us/sample - loss: 0.2797 - accuracy: 0.8897 - val_loss: 0.2559 - val_accuracy: 0.9031\n",
      "Epoch 7/30\n",
      "52712/52712 [==============================] - 4s 75us/sample - loss: 0.2720 - accuracy: 0.8951 - val_loss: 0.2506 - val_accuracy: 0.9074\n",
      "Epoch 8/30\n",
      "52712/52712 [==============================] - 4s 75us/sample - loss: 0.2689 - accuracy: 0.8973 - val_loss: 0.2471 - val_accuracy: 0.9125\n",
      "Epoch 9/30\n",
      "52712/52712 [==============================] - 6s 123us/sample - loss: 0.2642 - accuracy: 0.8993 - val_loss: 0.2468 - val_accuracy: 0.9123\n",
      "Epoch 10/30\n",
      "52712/52712 [==============================] - 5s 86us/sample - loss: 0.2618 - accuracy: 0.9015 - val_loss: 0.2426 - val_accuracy: 0.9129\n",
      "Epoch 11/30\n",
      "52712/52712 [==============================] - 4s 74us/sample - loss: 0.2602 - accuracy: 0.9018 - val_loss: 0.2394 - val_accuracy: 0.9149\n",
      "Epoch 12/30\n",
      "52712/52712 [==============================] - 4s 75us/sample - loss: 0.2585 - accuracy: 0.9040 - val_loss: 0.2372 - val_accuracy: 0.9157\n",
      "Epoch 13/30\n",
      "52712/52712 [==============================] - 4s 75us/sample - loss: 0.2563 - accuracy: 0.9035 - val_loss: 0.2368 - val_accuracy: 0.9162\n",
      "Epoch 14/30\n",
      "52712/52712 [==============================] - 4s 81us/sample - loss: 0.2539 - accuracy: 0.9049 - val_loss: 0.2355 - val_accuracy: 0.9165\n",
      "Epoch 15/30\n",
      "52712/52712 [==============================] - 4s 84us/sample - loss: 0.2546 - accuracy: 0.9050 - val_loss: 0.2364 - val_accuracy: 0.9158\n",
      "Epoch 16/30\n",
      "52712/52712 [==============================] - 5s 101us/sample - loss: 0.2528 - accuracy: 0.9055 - val_loss: 0.2333 - val_accuracy: 0.9179\n",
      "Epoch 17/30\n",
      "52712/52712 [==============================] - 6s 122us/sample - loss: 0.2498 - accuracy: 0.9066 - val_loss: 0.2318 - val_accuracy: 0.9186\n",
      "Epoch 18/30\n",
      "52712/52712 [==============================] - 5s 88us/sample - loss: 0.2492 - accuracy: 0.9075 - val_loss: 0.2297 - val_accuracy: 0.9194\n",
      "Epoch 19/30\n",
      "52712/52712 [==============================] - 8s 148us/sample - loss: 0.2480 - accuracy: 0.9063 - val_loss: 0.2294 - val_accuracy: 0.9204\n",
      "Epoch 20/30\n",
      "52712/52712 [==============================] - 7s 128us/sample - loss: 0.2465 - accuracy: 0.9085 - val_loss: 0.2294 - val_accuracy: 0.9194\n",
      "Epoch 21/30\n",
      "52712/52712 [==============================] - 4s 82us/sample - loss: 0.2469 - accuracy: 0.9084 - val_loss: 0.2264 - val_accuracy: 0.9206\n",
      "Epoch 22/30\n",
      "52712/52712 [==============================] - 5s 101us/sample - loss: 0.2442 - accuracy: 0.9090 - val_loss: 0.2258 - val_accuracy: 0.9208\n",
      "Epoch 23/30\n",
      "52712/52712 [==============================] - 4s 80us/sample - loss: 0.2434 - accuracy: 0.9097 - val_loss: 0.2241 - val_accuracy: 0.9217\n",
      "Epoch 24/30\n",
      "52712/52712 [==============================] - 5s 98us/sample - loss: 0.2431 - accuracy: 0.9102 - val_loss: 0.2235 - val_accuracy: 0.9220\n",
      "Epoch 25/30\n",
      "52712/52712 [==============================] - 5s 94us/sample - loss: 0.2430 - accuracy: 0.9100 - val_loss: 0.2259 - val_accuracy: 0.9207\n",
      "Epoch 26/30\n",
      "52712/52712 [==============================] - 6s 113us/sample - loss: 0.2409 - accuracy: 0.9102 - val_loss: 0.2228 - val_accuracy: 0.9217\n",
      "Epoch 27/30\n",
      "52712/52712 [==============================] - 6s 106us/sample - loss: 0.2429 - accuracy: 0.9098 - val_loss: 0.2224 - val_accuracy: 0.9226\n",
      "Epoch 28/30\n",
      "52712/52712 [==============================] - 7s 136us/sample - loss: 0.2387 - accuracy: 0.9110 - val_loss: 0.2231 - val_accuracy: 0.9217\n",
      "Epoch 29/30\n",
      "52712/52712 [==============================] - 5s 92us/sample - loss: 0.2377 - accuracy: 0.9121 - val_loss: 0.2203 - val_accuracy: 0.9224\n",
      "Epoch 30/30\n",
      "52712/52712 [==============================] - 8s 158us/sample - loss: 0.2391 - accuracy: 0.9113 - val_loss: 0.2203 - val_accuracy: 0.9226\n"
     ]
    }
   ],
   "source": [
    "model_history = model.fit(X_train, y_train, \n",
    "                          epochs=epochs, \n",
    "                          batch_size=batch, \n",
    "                          #shuffle=True, #OJO\n",
    "                          validation_split=val_split,\n",
    "                          verbose=verbose,\n",
    "                          #class_weight=class_weight\n",
    "                         ).history"
   ]
  },
  {
   "cell_type": "code",
   "execution_count": 13,
   "metadata": {},
   "outputs": [
    {
     "data": {
      "image/png": "[encoded data removed]",
      "text/plain": [
       "<Figure size 432x288 with 1 Axes>"
      ]
     },
     "metadata": {
      "needs_background": "light"
     },
     "output_type": "display_data"
    }
   ],
   "source": [
    "plt.plot(model_history['loss'], linewidth=2, label='Train')\n",
    "plt.plot(model_history['val_loss'], linewidth=2, label='Valid')\n",
    "plt.legend(loc='upper right')\n",
    "plt.title('Model loss')\n",
    "plt.ylabel('Loss')\n",
    "plt.xlabel('Epoch')\n",
    "plt.show()"
   ]
  },
  {
   "cell_type": "code",
   "execution_count": 15,
   "metadata": {},
   "outputs": [
    {
     "name": "stdout",
     "output_type": "stream",
     "text": [
      "1.62, 1.54, 0.95\n"
     ]
    },
    {
     "data": {
      "image/png": "[encoded data removed]",
      "text/plain": [
       "<Figure size 432x288 with 2 Axes>"
      ]
     },
     "metadata": {
      "needs_background": "light"
     },
     "output_type": "display_data"
    },
    {
     "name": "stdout",
     "output_type": "stream",
     "text": [
      "1.87, 1.54, 0.82\n"
     ]
    },
    {
     "data": {
      "image/png": "[encoded data removed]",
      "text/plain": [
       "<Figure size 432x288 with 2 Axes>"
      ]
     },
     "metadata": {
      "needs_background": "light"
     },
     "output_type": "display_data"
    },
    {
     "name": "stdout",
     "output_type": "stream",
     "text": [
      "1.61, 1.54, 0.96\n"
     ]
    },
    {
     "data": {
      "image/png": "[encoded data removed]",
      "text/plain": [
       "<Figure size 432x288 with 2 Axes>"
      ]
     },
     "metadata": {
      "needs_background": "light"
     },
     "output_type": "display_data"
    }
   ],
   "source": [
    "#Model Evaluation\n",
    "high_risk_real_value = -5.0\n",
    "low_risk_real_value  = -6.1\n",
    "classification_threshold = 0.25\n",
    "\n",
    "def evaluate(y_pred):\n",
    "    \n",
    "    #getting numeric predictions from boolean predictions\n",
    "    y_pred_numeric = np.zeros((y_pred.shape[0],y_pred.shape[1]))\n",
    "    y_pred_numeric[y_pred==True] = low_risk_real_value\n",
    "    y_pred_numeric[y_pred==False] = high_risk_real_value\n",
    "    \n",
    "    #getting predictions greater than -6.0 in real data (y_test_scaled)\n",
    "    y_test_scaled = y_scaler.inverse_transform(y_test_numeric)\n",
    "    y_test_mse = y_test_scaled[np.where(y_test_scaled >= -6.0)]\n",
    "    y_pred_mse = y_pred_numeric[np.where(y_test_scaled >= -6.0)]\n",
    "    \n",
    "    mse = mean_squared_error(y_test_mse, y_pred_mse)\n",
    "    f_beta = fbeta_score(y_test, y_pred, 2)\n",
    "    score = mse / f_beta\n",
    "    print(\"{:0.2f}, {:0.2f}, {:0.2f}\".format(score, mse, f_beta))\n",
    "        \n",
    "    hm = sns.heatmap(confusion_matrix(y_test, y_pred), annot=True, cmap=\"Blues\", fmt='d')# font size\n",
    "    bottom, top = hm.get_ylim()\n",
    "    hm.set_ylim(bottom + 0.5, top - 0.5)\n",
    "    plt.show()\n",
    "\n",
    "#Predicting with model\n",
    "y_model = model.predict(X_test, batch_size=batch)\n",
    "y_model = (y_model > classification_threshold).reshape(-1,1)\n",
    "evaluate(y_model)\n",
    "\n",
    "#Predicting -5 always\n",
    "y_constant = np.ones((y_test.shape[0],y_test.shape[1]), dtype=bool)\n",
    "evaluate(y_constant)\n",
    "\n",
    "#Predicting last value\n",
    "y_last = X_test[:,-1,1]\n",
    "y_last = (y_last > threshold_scaled).reshape(-1,1)\n",
    "evaluate(y_last)"
   ]
  },
  {
   "cell_type": "code",
   "execution_count": null,
   "metadata": {},
   "outputs": [],
   "source": []
  }
 ],
 "metadata": {
  "kernelspec": {
   "display_name": "Python 3",
   "language": "python",
   "name": "python3"
  },
  "language_info": {
   "codemirror_mode": {
    "name": "ipython",
    "version": 3
   },
   "file_extension": ".py",
   "mimetype": "text/x-python",
   "name": "python",
   "nbconvert_exporter": "python",
   "pygments_lexer": "ipython3",
   "version": "3.7.4"
  }
 },
 "nbformat": 4,
 "nbformat_minor": 2
}
